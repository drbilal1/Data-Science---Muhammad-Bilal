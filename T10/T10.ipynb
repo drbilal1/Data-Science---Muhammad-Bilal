{
  "nbformat": 4,
  "nbformat_minor": 0,
  "metadata": {
    "colab": {
      "provenance": []
    },
    "kernelspec": {
      "name": "python3",
      "display_name": "Python 3"
    },
    "language_info": {
      "name": "python"
    }
  },
  "cells": [
    {
      "cell_type": "code",
      "source": [
        "import numpy as np"
      ],
      "metadata": {
        "id": "AMrlQwzQDQYb"
      },
      "execution_count": 2,
      "outputs": []
    },
    {
      "cell_type": "markdown",
      "source": [
        "Create a 1D NumPy array containing the integers from 0 to 9."
      ],
      "metadata": {
        "id": "qXrA-W-lDGer"
      }
    },
    {
      "cell_type": "code",
      "execution_count": 3,
      "metadata": {
        "id": "LDsjmyhLv-5A",
        "colab": {
          "base_uri": "https://localhost:8080/"
        },
        "outputId": "30bdf154-8cdc-4585-865c-8440da28e1dd"
      },
      "outputs": [
        {
          "output_type": "stream",
          "name": "stdout",
          "text": [
            "1D Array: [0 1 2 3 4 5 6 7 8 9]\n"
          ]
        }
      ],
      "source": [
        "array_1d = np.arange(10)\n",
        "print(\"1D Array:\", array_1d)"
      ]
    },
    {
      "cell_type": "code",
      "source": [
        "array_1d = np.array([0, 1, 2, 3, 4, 5, 6, 7, 8, 9])\n",
        "print(\"1D Array:\", array_1d)\n"
      ],
      "metadata": {
        "colab": {
          "base_uri": "https://localhost:8080/"
        },
        "id": "eMBEMfBwCvJi",
        "outputId": "57df6805-5dee-4c63-d6ef-8b40877dee29"
      },
      "execution_count": 4,
      "outputs": [
        {
          "output_type": "stream",
          "name": "stdout",
          "text": [
            "1D Array: [0 1 2 3 4 5 6 7 8 9]\n"
          ]
        }
      ]
    },
    {
      "cell_type": "markdown",
      "source": [
        "Create a 2D NumPy array (3x3) containing random integers between 1 and 20."
      ],
      "metadata": {
        "id": "-he3PRoMKY2g"
      }
    },
    {
      "cell_type": "code",
      "source": [
        "array_2d = np.random.randint(1, 21, size=(3, 3))\n",
        "print(\"2D Array (3x3) with random integers (1-20):\\n\", array_2d)"
      ],
      "metadata": {
        "colab": {
          "base_uri": "https://localhost:8080/"
        },
        "id": "XMes1U78DL1r",
        "outputId": "859b89fc-ba41-4fe2-ee92-ac21faef6f45"
      },
      "execution_count": 5,
      "outputs": [
        {
          "output_type": "stream",
          "name": "stdout",
          "text": [
            "2D Array (3x3) with random integers (1-20):\n",
            " [[ 4  5 16]\n",
            " [ 6  4  3]\n",
            " [ 9 20  3]]\n"
          ]
        }
      ]
    },
    {
      "cell_type": "markdown",
      "source": [
        "Create a 3D NumPy array with dimensions (2, 3, 4) filled with ones."
      ],
      "metadata": {
        "id": "iIoDKWV5Khg_"
      }
    },
    {
      "cell_type": "code",
      "source": [
        "array_3d = np.ones((2, 3, 4))\n",
        "print(\"3D Array (2,3,4) filled with ones:\\n\", array_3d)"
      ],
      "metadata": {
        "colab": {
          "base_uri": "https://localhost:8080/"
        },
        "id": "GfLCLOJJDjTT",
        "outputId": "4164b595-f04d-4d8d-de8c-2135b4f404d4"
      },
      "execution_count": 8,
      "outputs": [
        {
          "output_type": "stream",
          "name": "stdout",
          "text": [
            "3D Array (2,3,4) filled with ones:\n",
            " [[[1. 1. 1. 1.]\n",
            "  [1. 1. 1. 1.]\n",
            "  [1. 1. 1. 1.]]\n",
            "\n",
            " [[1. 1. 1. 1.]\n",
            "  [1. 1. 1. 1.]\n",
            "  [1. 1. 1. 1.]]]\n"
          ]
        }
      ]
    },
    {
      "cell_type": "markdown",
      "source": [
        "Add two 1D arrays element-wise."
      ],
      "metadata": {
        "id": "UcTFChQIKwXI"
      }
    },
    {
      "cell_type": "code",
      "source": [
        "array_1d_a = np.array([1, 2, 3, 4, 5])\n",
        "array_1d_b = np.array([5, 4, 3, 2, 1])\n",
        "array_1d_sum = array_1d_a + array_1d_b\n",
        "print(\"Element-wise sum of two 1D arrays:\", array_1d_sum)"
      ],
      "metadata": {
        "colab": {
          "base_uri": "https://localhost:8080/"
        },
        "id": "ODfk2jAMKEtf",
        "outputId": "126ef451-2690-4c9c-d4fd-81da030196ff"
      },
      "execution_count": 9,
      "outputs": [
        {
          "output_type": "stream",
          "name": "stdout",
          "text": [
            "Element-wise sum of two 1D arrays: [6 6 6 6 6]\n"
          ]
        }
      ]
    },
    {
      "cell_type": "markdown",
      "source": [
        "Multiply two 2D arrays element-wise."
      ],
      "metadata": {
        "id": "or6WLjUeLEeE"
      }
    },
    {
      "cell_type": "code",
      "source": [
        "array_2d_a = np.random.randint(1, 10, size=(3, 3))\n",
        "array_2d_b = np.random.randint(1, 10, size=(3, 3))\n",
        "array_2d_product = array_2d_a * array_2d_b\n",
        "print(array_2d_a)\n",
        "print(array_2d_b)\n",
        "print(\"Element-wise product of two 2D arrays:\\n\", array_2d_product)"
      ],
      "metadata": {
        "colab": {
          "base_uri": "https://localhost:8080/"
        },
        "id": "wo3xTkUULAzi",
        "outputId": "47189782-20b1-437b-e449-e6184b771d89"
      },
      "execution_count": 12,
      "outputs": [
        {
          "output_type": "stream",
          "name": "stdout",
          "text": [
            "[[3 8 7]\n",
            " [6 4 1]\n",
            " [8 4 6]]\n",
            "[[2 1 3]\n",
            " [8 7 8]\n",
            " [3 8 5]]\n",
            "Element-wise product of two 2D arrays:\n",
            " [[ 6  8 21]\n",
            " [48 28  8]\n",
            " [24 32 30]]\n"
          ]
        }
      ]
    },
    {
      "cell_type": "markdown",
      "source": [
        "Calculate the dot product of two matrices."
      ],
      "metadata": {
        "id": "yfDmc7kfMA-b"
      }
    },
    {
      "cell_type": "code",
      "source": [
        "dot_product = np.dot(array_2d_a, array_2d_b)\n",
        "print(\"Dot product of two matrices:\\n\", dot_product)"
      ],
      "metadata": {
        "colab": {
          "base_uri": "https://localhost:8080/"
        },
        "id": "cZu1b14JLTzz",
        "outputId": "25d8d231-4733-492a-ac18-77e44334bb2e"
      },
      "execution_count": 13,
      "outputs": [
        {
          "output_type": "stream",
          "name": "stdout",
          "text": [
            "Dot product of two matrices:\n",
            " [[ 91 115 108]\n",
            " [ 47  42  55]\n",
            " [ 66  84  86]]\n"
          ]
        }
      ]
    },
    {
      "cell_type": "markdown",
      "source": [
        "Calculate the mean, median, and standard deviation of a 1D array.\n"
      ],
      "metadata": {
        "id": "J2Ji5ltxNE_P"
      }
    },
    {
      "cell_type": "code",
      "source": [
        "array_1d = np.array([10, 20, 30, 40, 40, 50, 60])\n",
        "mean_1d = np.mean(array_1d)\n",
        "median_1d = np.median(array_1d)\n",
        "std_dev_1d = np.std(array_1d)"
      ],
      "metadata": {
        "id": "EGzU9bdCMHjP"
      },
      "execution_count": 16,
      "outputs": []
    },
    {
      "cell_type": "code",
      "source": [
        "print(mean_1d)\n",
        "print(median_1d)\n",
        "print(std_dev_1d)"
      ],
      "metadata": {
        "colab": {
          "base_uri": "https://localhost:8080/"
        },
        "id": "mWZW-OSQNQ6z",
        "outputId": "419ef0de-b5aa-4847-b28d-6912cda48126"
      },
      "execution_count": 17,
      "outputs": [
        {
          "output_type": "stream",
          "name": "stdout",
          "text": [
            "35.714285714285715\n",
            "40.0\n",
            "15.90789817951435\n"
          ]
        }
      ]
    },
    {
      "cell_type": "markdown",
      "source": [
        "Find the maximum and minimum values in a 2D array."
      ],
      "metadata": {
        "id": "fJAuEaRyNIHN"
      }
    },
    {
      "cell_type": "code",
      "source": [
        "array_2d = np.random.randint(1, 100, size=(3, 3))\n",
        "max_2d = np.max(array_2d)\n",
        "min_2d = np.min(array_2d)\n",
        "\n",
        "print(\"2D Array:\\n\", array_2d)\n",
        "print(\"Max value in 2D array:\", max_2d)\n",
        "print(\"Min value in 2D array:\", min_2d)"
      ],
      "metadata": {
        "colab": {
          "base_uri": "https://localhost:8080/"
        },
        "id": "4MwzXaegNKMY",
        "outputId": "10341003-874c-494d-9d43-d1895fb4ab80"
      },
      "execution_count": 18,
      "outputs": [
        {
          "output_type": "stream",
          "name": "stdout",
          "text": [
            "2D Array:\n",
            " [[65 80 33]\n",
            " [44 89 82]\n",
            " [48 65  3]]\n",
            "Max value in 2D array: 89\n",
            "Min value in 2D array: 3\n"
          ]
        }
      ]
    },
    {
      "cell_type": "markdown",
      "source": [
        "Generate an array of 1000 random numbers from a normal distribution with a mean of 0 and a standard deviation of 1."
      ],
      "metadata": {
        "id": "_zgpzyIRNK3e"
      }
    },
    {
      "cell_type": "code",
      "source": [
        "normal_dist_array = np.random.normal(0, 1, 1000)\n",
        "\n",
        "print(\"First 10 values from normal distribution array:\", normal_dist_array[:10])"
      ],
      "metadata": {
        "colab": {
          "base_uri": "https://localhost:8080/"
        },
        "id": "3yDAikEXNLmi",
        "outputId": "537b4f8b-bcb0-499f-fabc-866873156de0"
      },
      "execution_count": 20,
      "outputs": [
        {
          "output_type": "stream",
          "name": "stdout",
          "text": [
            "First 10 values from normal distribution array: [-2.47299392  0.75003849 -0.50445528  0.54777461  1.2067585  -0.3178241\n",
            "  0.58380911 -2.01500329  0.00431085  0.58064276]\n"
          ]
        }
      ]
    },
    {
      "cell_type": "markdown",
      "source": [
        "Create a 2D array of shapes (5, 5) with random integers from a uniform distribution between 10 and 50."
      ],
      "metadata": {
        "id": "5nrANHcwON68"
      }
    },
    {
      "cell_type": "code",
      "source": [
        "uniform_array = np.random.randint(10, 51, size=(5, 5))\n",
        "print(\"2D Array (5x5) with random integers (10-50):\\n\", uniform_array)"
      ],
      "metadata": {
        "colab": {
          "base_uri": "https://localhost:8080/"
        },
        "id": "FRCXbZ_9N_4L",
        "outputId": "94b6079d-912b-406b-fe63-6d3cdb23d70f"
      },
      "execution_count": 22,
      "outputs": [
        {
          "output_type": "stream",
          "name": "stdout",
          "text": [
            "2D Array (5x5) with random integers (10-50):\n",
            " [[18 13 21 45 46]\n",
            " [15 25 20 38 22]\n",
            " [24 44 50 40 15]\n",
            " [43 12 28 27 16]\n",
            " [42 39 37 31 28]]\n"
          ]
        }
      ]
    },
    {
      "cell_type": "markdown",
      "source": [
        "Calculate the cumulative sum of a 1D array."
      ],
      "metadata": {
        "id": "aOmroeGmORwX"
      }
    },
    {
      "cell_type": "code",
      "source": [
        "array_1d = np.array([1, 2, 4, 3, 10])\n",
        "cumsum_1d = np.cumsum(array_1d)\n",
        "print(\"Cumulative sum of 1D array:\", cumsum_1d)"
      ],
      "metadata": {
        "colab": {
          "base_uri": "https://localhost:8080/"
        },
        "id": "iqRkpvZWOUat",
        "outputId": "1fbbfd86-68ce-4de8-88f7-6300d2aa0a56"
      },
      "execution_count": 24,
      "outputs": [
        {
          "output_type": "stream",
          "name": "stdout",
          "text": [
            "Cumulative sum of 1D array: [ 1  3  7 10 20]\n"
          ]
        }
      ]
    },
    {
      "cell_type": "markdown",
      "source": [
        "Compute the correlation coefficient matrix of a 2D array."
      ],
      "metadata": {
        "id": "v_oWMKydOVMP"
      }
    },
    {
      "cell_type": "code",
      "source": [
        "array_2d = np.random.randint(1, 100, size=(3, 3))\n",
        "correlation_matrix = np.corrcoef(array_2d)\n",
        "print(\"2D Array:\\n\", array_2d)\n",
        "print(\"Correlation coefficient matrix:\\n\", correlation_matrix)"
      ],
      "metadata": {
        "colab": {
          "base_uri": "https://localhost:8080/"
        },
        "id": "keB8HVF3OX2p",
        "outputId": "4ea1950b-a568-450b-aaef-87ee7c13507a"
      },
      "execution_count": 26,
      "outputs": [
        {
          "output_type": "stream",
          "name": "stdout",
          "text": [
            "2D Array:\n",
            " [[24 34 92]\n",
            " [19 95 49]\n",
            " [55 88 53]]\n",
            "Correlation coefficient matrix:\n",
            " [[ 1.          0.01565343 -0.42402883]\n",
            " [ 0.01565343  1.          0.89890022]\n",
            " [-0.42402883  0.89890022  1.        ]]\n"
          ]
        }
      ]
    },
    {
      "cell_type": "markdown",
      "source": [
        "Simulate rolling a six-sided die 1000 times and count the frequency of each outcome."
      ],
      "metadata": {
        "id": "fVulnV6zOYd_"
      }
    },
    {
      "cell_type": "code",
      "source": [
        "die_rolls = np.random.randint(1, 7, size=1000)\n",
        "roll_frequencies = np.bincount(die_rolls, minlength=7)[1:]  # Ignoring the zero index\n",
        "\n",
        "print(\"Frequencies of rolling a six-sided die 1000 times:\", roll_frequencies)"
      ],
      "metadata": {
        "colab": {
          "base_uri": "https://localhost:8080/"
        },
        "id": "9Ri0uuV4OY5s",
        "outputId": "05bd4b0b-d8e5-4693-d2ca-36a86f7f8410"
      },
      "execution_count": 28,
      "outputs": [
        {
          "output_type": "stream",
          "name": "stdout",
          "text": [
            "Frequencies of rolling a six-sided die 1000 times: [162 146 166 176 172 178]\n"
          ]
        }
      ]
    },
    {
      "cell_type": "code",
      "source": [],
      "metadata": {
        "id": "lZBMPlgnPdCT"
      },
      "execution_count": null,
      "outputs": []
    }
  ]
}