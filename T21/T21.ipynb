{
  "nbformat": 4,
  "nbformat_minor": 0,
  "metadata": {
    "colab": {
      "provenance": []
    },
    "kernelspec": {
      "name": "python3",
      "display_name": "Python 3"
    },
    "language_info": {
      "name": "python"
    }
  },
  "cells": [
    {
      "cell_type": "markdown",
      "source": [
        "Matrix Creation and Manipulation\n",
        "\n",
        "○ Create various types of matrices (zero matrix, identity matrix, random matrix).\n",
        "\n",
        "○ Perform basic matrix operations (addition, subtraction, multiplication).\n",
        "\n",
        "○ Transpose a matrix and find the determinant and inverse of a matrix.\n"
      ],
      "metadata": {
        "id": "H-pjI44Yh4PB"
      }
    },
    {
      "cell_type": "code",
      "source": [
        "import numpy as np"
      ],
      "metadata": {
        "id": "JwtdVjOCikzM"
      },
      "execution_count": 1,
      "outputs": []
    },
    {
      "cell_type": "code",
      "source": [
        "# Zero matrix\n",
        "zero_matrix = np.zeros((3, 3))\n",
        "zero_matrix"
      ],
      "metadata": {
        "colab": {
          "base_uri": "https://localhost:8080/"
        },
        "id": "kzsFDHHkimyc",
        "outputId": "62303ad3-413c-48e0-96f0-cecae0b1669c"
      },
      "execution_count": 3,
      "outputs": [
        {
          "output_type": "execute_result",
          "data": {
            "text/plain": [
              "array([[0., 0., 0.],\n",
              "       [0., 0., 0.],\n",
              "       [0., 0., 0.]])"
            ]
          },
          "metadata": {},
          "execution_count": 3
        }
      ]
    },
    {
      "cell_type": "code",
      "source": [
        "# Identity matrix\n",
        "identity_matrix = np.eye(3)\n",
        "identity_matrix"
      ],
      "metadata": {
        "colab": {
          "base_uri": "https://localhost:8080/"
        },
        "id": "67gfWgk-ipB4",
        "outputId": "844aee59-0d54-4074-f6a9-46d324f4919c"
      },
      "execution_count": 4,
      "outputs": [
        {
          "output_type": "execute_result",
          "data": {
            "text/plain": [
              "array([[1., 0., 0.],\n",
              "       [0., 1., 0.],\n",
              "       [0., 0., 1.]])"
            ]
          },
          "metadata": {},
          "execution_count": 4
        }
      ]
    },
    {
      "cell_type": "code",
      "source": [
        "# Random matrix\n",
        "random_matrix = np.random.randint(0, 10, size=(3,3))\n",
        "random_matrix"
      ],
      "metadata": {
        "colab": {
          "base_uri": "https://localhost:8080/"
        },
        "id": "OjJ5QZ4EisCM",
        "outputId": "a25be857-0248-47df-a6a8-d3ca0f510adb"
      },
      "execution_count": 20,
      "outputs": [
        {
          "output_type": "execute_result",
          "data": {
            "text/plain": [
              "array([[8, 5, 6],\n",
              "       [1, 2, 1],\n",
              "       [9, 1, 8]])"
            ]
          },
          "metadata": {},
          "execution_count": 20
        }
      ]
    },
    {
      "cell_type": "code",
      "source": [
        "A = np.array([[1, 2], [3, 4]])\n",
        "B = np.array([[5, 6], [7, 8]])"
      ],
      "metadata": {
        "id": "agZrJGOei889"
      },
      "execution_count": 21,
      "outputs": []
    },
    {
      "cell_type": "code",
      "source": [
        "print(A)\n",
        "print(B)"
      ],
      "metadata": {
        "colab": {
          "base_uri": "https://localhost:8080/"
        },
        "id": "PaF6QTbvj-ji",
        "outputId": "a8ebc81c-3df1-4b66-a57b-00dae2831e9d"
      },
      "execution_count": 24,
      "outputs": [
        {
          "output_type": "stream",
          "name": "stdout",
          "text": [
            "[[1 2]\n",
            " [3 4]]\n",
            "[[5 6]\n",
            " [7 8]]\n"
          ]
        }
      ]
    },
    {
      "cell_type": "code",
      "source": [
        "#Matrix addition\n",
        "add_result = A + B\n",
        "add_result"
      ],
      "metadata": {
        "colab": {
          "base_uri": "https://localhost:8080/"
        },
        "id": "R3mnVh_hjEsW",
        "outputId": "6ad26baf-ace2-42c2-ee75-4f764e4a8e78"
      },
      "execution_count": 25,
      "outputs": [
        {
          "output_type": "execute_result",
          "data": {
            "text/plain": [
              "array([[ 6,  8],\n",
              "       [10, 12]])"
            ]
          },
          "metadata": {},
          "execution_count": 25
        }
      ]
    },
    {
      "cell_type": "code",
      "source": [
        "# Matrix subtraction\n",
        "sub_result = B - A\n",
        "sub_result"
      ],
      "metadata": {
        "colab": {
          "base_uri": "https://localhost:8080/"
        },
        "id": "GA6VpxB5jLpG",
        "outputId": "4085a67b-1689-4dab-f744-ad494381d9b9"
      },
      "execution_count": 27,
      "outputs": [
        {
          "output_type": "execute_result",
          "data": {
            "text/plain": [
              "array([[4, 4],\n",
              "       [4, 4]])"
            ]
          },
          "metadata": {},
          "execution_count": 27
        }
      ]
    },
    {
      "cell_type": "code",
      "source": [
        "# Matrix multiplication\n",
        "mul_result = A @ B\n",
        "mul_result"
      ],
      "metadata": {
        "colab": {
          "base_uri": "https://localhost:8080/"
        },
        "id": "s50hK9dejQBI",
        "outputId": "98f43b31-b3ed-4b9a-c90f-be28a63180b3"
      },
      "execution_count": 28,
      "outputs": [
        {
          "output_type": "execute_result",
          "data": {
            "text/plain": [
              "array([[19, 22],\n",
              "       [43, 50]])"
            ]
          },
          "metadata": {},
          "execution_count": 28
        }
      ]
    },
    {
      "cell_type": "code",
      "source": [
        "# Transpose\n",
        "A_T = A.T\n",
        "A_T"
      ],
      "metadata": {
        "colab": {
          "base_uri": "https://localhost:8080/"
        },
        "id": "FJ3FZuKsjV-m",
        "outputId": "544610db-8caa-43cb-af64-9d2a1f8f509a"
      },
      "execution_count": 29,
      "outputs": [
        {
          "output_type": "execute_result",
          "data": {
            "text/plain": [
              "array([[1, 3],\n",
              "       [2, 4]])"
            ]
          },
          "metadata": {},
          "execution_count": 29
        }
      ]
    },
    {
      "cell_type": "code",
      "source": [
        "# Determinant\n",
        "det_A = np.linalg.det(A)\n",
        "det_A"
      ],
      "metadata": {
        "colab": {
          "base_uri": "https://localhost:8080/"
        },
        "id": "3UBF1jZAjadb",
        "outputId": "69a04231-55ac-482c-cd59-2a20cdc574eb"
      },
      "execution_count": 30,
      "outputs": [
        {
          "output_type": "execute_result",
          "data": {
            "text/plain": [
              "np.float64(-2.0000000000000004)"
            ]
          },
          "metadata": {},
          "execution_count": 30
        }
      ]
    },
    {
      "cell_type": "code",
      "execution_count": 31,
      "metadata": {
        "colab": {
          "base_uri": "https://localhost:8080/"
        },
        "id": "Udh2O8VLhTT0",
        "outputId": "46a87905-e030-495d-dc35-950968b5b209"
      },
      "outputs": [
        {
          "output_type": "stream",
          "name": "stdout",
          "text": [
            "Inverse of A:\n",
            " [[-2.   1. ]\n",
            " [ 1.5 -0.5]]\n"
          ]
        }
      ],
      "source": [
        "# Inverse\n",
        "inv_A = np.linalg.inv(A)\n",
        "\n",
        "print(\"Inverse of A:\\n\", inv_A)"
      ]
    },
    {
      "cell_type": "markdown",
      "source": [
        "Solving Linear Equations\n",
        "\n",
        "○ Use NumPy to solve a system of linear equations.\n",
        "\n",
        "○ Implement matrix factorization methods (LU decomposition, QR decomposition).\n"
      ],
      "metadata": {
        "id": "fo_l5edlkcH2"
      }
    },
    {
      "cell_type": "markdown",
      "source": [
        "Example system:\n",
        "\n",
        "2x+3y=8\n",
        "\n",
        "3x+4y=11"
      ],
      "metadata": {
        "id": "PJrw5VUzkmWr"
      }
    },
    {
      "cell_type": "code",
      "source": [
        "# Coefficient matrix and constants\n",
        "coeffs = np.array([[2, 3], [3, 4]])\n",
        "constants = np.array([8, 11])"
      ],
      "metadata": {
        "id": "I0MxwovWk7GF"
      },
      "execution_count": 48,
      "outputs": []
    },
    {
      "cell_type": "code",
      "source": [
        "solution = np.linalg.solve(coeffs, constants)\n",
        "solution"
      ],
      "metadata": {
        "colab": {
          "base_uri": "https://localhost:8080/"
        },
        "id": "iHEAEpJblCxg",
        "outputId": "46dc8452-b4e5-4d41-acc5-0deb41317e6a"
      },
      "execution_count": 49,
      "outputs": [
        {
          "output_type": "execute_result",
          "data": {
            "text/plain": [
              "array([1., 2.])"
            ]
          },
          "metadata": {},
          "execution_count": 49
        }
      ]
    },
    {
      "cell_type": "code",
      "source": [
        "# LU Decomposition\n",
        "from scipy.linalg import lu\n",
        "P, L, U = lu(coeffs)\n",
        "print(\"P:\\n\", P)\n",
        "print(\"L:\\n\", L)\n",
        "print(\"U:\\n\", U)"
      ],
      "metadata": {
        "colab": {
          "base_uri": "https://localhost:8080/"
        },
        "id": "2Qy5BSF6i3SG",
        "outputId": "81e0d813-8a53-4487-f5ff-5e20f798286b"
      },
      "execution_count": 46,
      "outputs": [
        {
          "output_type": "stream",
          "name": "stdout",
          "text": [
            "P:\n",
            " [[0. 1.]\n",
            " [1. 0.]]\n",
            "L:\n",
            " [[1.         0.        ]\n",
            " [0.66666667 1.        ]]\n",
            "U:\n",
            " [[3.         4.        ]\n",
            " [0.         0.33333333]]\n"
          ]
        }
      ]
    },
    {
      "cell_type": "code",
      "source": [
        "# QR Decomposition\n",
        "Q, R = np.linalg.qr(coeffs)\n",
        "print(\"Q:\\n\", Q)\n",
        "print(\"R:\\n\", R)"
      ],
      "metadata": {
        "colab": {
          "base_uri": "https://localhost:8080/"
        },
        "id": "MlIQV_K_lNgo",
        "outputId": "1685560d-8a20-4d89-8f75-2d1cfb3ef9a6"
      },
      "execution_count": 47,
      "outputs": [
        {
          "output_type": "stream",
          "name": "stdout",
          "text": [
            "Q:\n",
            " [[-0.5547002  -0.83205029]\n",
            " [-0.83205029  0.5547002 ]]\n",
            "R:\n",
            " [[-3.60555128 -4.99230177]\n",
            " [ 0.         -0.2773501 ]]\n"
          ]
        }
      ]
    },
    {
      "cell_type": "markdown",
      "source": [
        "Eigenvalues and Eigenvectors\n",
        "\n",
        "○ Calculate the eigenvalues and eigenvectors of a given matrix.\n",
        "\n",
        "○ Verify the results by reconstructing the original matrix.\n"
      ],
      "metadata": {
        "id": "itZwsArUmZnK"
      }
    },
    {
      "cell_type": "code",
      "source": [
        "matrix = np.array([[4, 2], [1, 3]])\n",
        "eigenvalues, eigenvectors = np.linalg.eig(matrix)\n",
        "eigenvalues, eigenvectors"
      ],
      "metadata": {
        "colab": {
          "base_uri": "https://localhost:8080/"
        },
        "id": "tfR8KHVlmDwt",
        "outputId": "a7bca0f0-6f65-498b-8413-7c7f61328db8"
      },
      "execution_count": 52,
      "outputs": [
        {
          "output_type": "execute_result",
          "data": {
            "text/plain": [
              "(array([5., 2.]),\n",
              " array([[ 0.89442719, -0.70710678],\n",
              "        [ 0.4472136 ,  0.70710678]]))"
            ]
          },
          "metadata": {},
          "execution_count": 52
        }
      ]
    },
    {
      "cell_type": "code",
      "source": [
        "# Reconstruct matrix\n",
        "D = np.diag(eigenvalues)\n",
        "V = eigenvectors\n",
        "reconstructed = V @ D @ np.linalg.inv(V)\n",
        "\n",
        "print(\"Original Matrix:\\n\", matrix)\n",
        "print(\"Reconstructed Matrix:\\n\", reconstructed)"
      ],
      "metadata": {
        "colab": {
          "base_uri": "https://localhost:8080/"
        },
        "id": "UO8HTCgxmj_I",
        "outputId": "a0399e49-fd40-444d-96ba-a7df1fa0a2c1"
      },
      "execution_count": 53,
      "outputs": [
        {
          "output_type": "stream",
          "name": "stdout",
          "text": [
            "Original Matrix:\n",
            " [[4 2]\n",
            " [1 3]]\n",
            "Reconstructed Matrix:\n",
            " [[4. 2.]\n",
            " [1. 3.]]\n"
          ]
        }
      ]
    },
    {
      "cell_type": "markdown",
      "source": [
        "Vector Operations\n",
        "\n",
        "○ Perform basic vector operations (addition, dot product, cross product).\n",
        "\n",
        "○ Normalize a vector and compute vector norms.\n"
      ],
      "metadata": {
        "id": "3PRbpsX8nDuv"
      }
    },
    {
      "cell_type": "code",
      "source": [
        "v1 = np.array([2, 3, 4])\n",
        "v2 = np.array([1, 0, -1])\n",
        "print(v1)\n",
        "print(v2)"
      ],
      "metadata": {
        "colab": {
          "base_uri": "https://localhost:8080/"
        },
        "id": "I9Q3DawunUuU",
        "outputId": "033b050c-90d7-4c6d-ff26-56c717d313e0"
      },
      "execution_count": 54,
      "outputs": [
        {
          "output_type": "stream",
          "name": "stdout",
          "text": [
            "[2 3 4]\n",
            "[ 1  0 -1]\n"
          ]
        }
      ]
    },
    {
      "cell_type": "code",
      "source": [
        "# Addition\n",
        "v_add = v1 + v2\n",
        "v_add"
      ],
      "metadata": {
        "colab": {
          "base_uri": "https://localhost:8080/"
        },
        "id": "uq49dAgMnbcP",
        "outputId": "5007d966-5f23-4516-fbb4-acef12fc27bb"
      },
      "execution_count": 55,
      "outputs": [
        {
          "output_type": "execute_result",
          "data": {
            "text/plain": [
              "array([3, 3, 3])"
            ]
          },
          "metadata": {},
          "execution_count": 55
        }
      ]
    },
    {
      "cell_type": "code",
      "source": [
        "# Dot product\n",
        "dot = np.dot(v1, v2)\n",
        "dot"
      ],
      "metadata": {
        "colab": {
          "base_uri": "https://localhost:8080/"
        },
        "id": "RJnbrd0knftY",
        "outputId": "2b31f386-d2a9-458e-b58f-922f228036ae"
      },
      "execution_count": 56,
      "outputs": [
        {
          "output_type": "execute_result",
          "data": {
            "text/plain": [
              "np.int64(-2)"
            ]
          },
          "metadata": {},
          "execution_count": 56
        }
      ]
    },
    {
      "cell_type": "code",
      "source": [
        "# Cross product\n",
        "cross = np.cross(v1, v2)\n",
        "cross"
      ],
      "metadata": {
        "colab": {
          "base_uri": "https://localhost:8080/"
        },
        "id": "smRtx1nMnjTd",
        "outputId": "056fec37-2e0f-4ac3-c52d-73696c380554"
      },
      "execution_count": 57,
      "outputs": [
        {
          "output_type": "execute_result",
          "data": {
            "text/plain": [
              "array([-3,  6, -3])"
            ]
          },
          "metadata": {},
          "execution_count": 57
        }
      ]
    },
    {
      "cell_type": "code",
      "source": [
        "# Norm\n",
        "norm_v1 = np.linalg.norm(v1)\n",
        "norm_v1"
      ],
      "metadata": {
        "colab": {
          "base_uri": "https://localhost:8080/"
        },
        "id": "lebFaV_0nnCr",
        "outputId": "dfc49629-8262-4c18-ba09-f13559d3c347"
      },
      "execution_count": 58,
      "outputs": [
        {
          "output_type": "execute_result",
          "data": {
            "text/plain": [
              "np.float64(5.385164807134504)"
            ]
          },
          "metadata": {},
          "execution_count": 58
        }
      ]
    },
    {
      "cell_type": "code",
      "source": [
        "# Normalization\n",
        "v1_normalized = v1 / norm_v1\n",
        "print(\"Normalized v1:\", v1_normalized)"
      ],
      "metadata": {
        "colab": {
          "base_uri": "https://localhost:8080/"
        },
        "id": "eg_tfTxnm4mF",
        "outputId": "de3a129d-e3c7-4e2e-a3a4-ca5371e54848"
      },
      "execution_count": 59,
      "outputs": [
        {
          "output_type": "stream",
          "name": "stdout",
          "text": [
            "Normalized v1: [0.37139068 0.55708601 0.74278135]\n"
          ]
        }
      ]
    },
    {
      "cell_type": "markdown",
      "source": [
        "Matrix Decomposition\n",
        "\n",
        "○ Understand and implement Principal Component Analysis (PCA) using SVD."
      ],
      "metadata": {
        "id": "HLrHBgOFn6ct"
      }
    },
    {
      "cell_type": "code",
      "source": [
        "from sklearn.decomposition import PCA\n",
        "from sklearn.preprocessing import StandardScaler"
      ],
      "metadata": {
        "id": "O0CEQEKDoApU"
      },
      "execution_count": 2,
      "outputs": []
    },
    {
      "cell_type": "code",
      "source": [
        "# Sample data\n",
        "X = np.array([[2.5, 2.4],\n",
        "              [0.5, 0.7],\n",
        "              [2.2, 2.9],\n",
        "              [1.9, 2.2],\n",
        "              [3.1, 3.0]])"
      ],
      "metadata": {
        "id": "aUnPqsSzoEMb"
      },
      "execution_count": 3,
      "outputs": []
    },
    {
      "cell_type": "code",
      "source": [
        "# Standardize\n",
        "X_std = StandardScaler().fit_transform(X)"
      ],
      "metadata": {
        "id": "-8WFzDNYoHEQ"
      },
      "execution_count": 5,
      "outputs": []
    },
    {
      "cell_type": "code",
      "source": [
        "# PCA using SVD\n",
        "pca = PCA(n_components=2)\n",
        "X_pca = pca.fit_transform(X_std)\n",
        "X_pca"
      ],
      "metadata": {
        "colab": {
          "base_uri": "https://localhost:8080/"
        },
        "id": "EYojvMtJpE27",
        "outputId": "bdd79af9-1e32-4bd7-aca7-1566a841fb37"
      },
      "execution_count": 6,
      "outputs": [
        {
          "output_type": "execute_result",
          "data": {
            "text/plain": [
              "array([[ 0.5124457 ,  0.23853092],\n",
              "       [-2.57528445,  0.06114533],\n",
              "       [ 0.69555387, -0.43434461],\n",
              "       [-0.1485184 , -0.0800397 ],\n",
              "       [ 1.51580328,  0.21470806]])"
            ]
          },
          "metadata": {},
          "execution_count": 6
        }
      ]
    },
    {
      "cell_type": "code",
      "source": [
        "# SVD directly\n",
        "U, S, Vt = np.linalg.svd(X_std)\n",
        "print(U)\n",
        "print(S)\n",
        "print(Vt)"
      ],
      "metadata": {
        "colab": {
          "base_uri": "https://localhost:8080/"
        },
        "id": "NouFka9lpOxv",
        "outputId": "71135e33-39c4-4549-ae15-6bd2af332de5"
      },
      "execution_count": 8,
      "outputs": [
        {
          "output_type": "stream",
          "name": "stdout",
          "text": [
            "[[-0.16455164 -0.43419748  0.58500768  0.16077787 -0.64522228]\n",
            " [ 0.8269506  -0.11130276  0.46820113  0.00859664  0.29065132]\n",
            " [-0.22334958  0.79063685  0.56712958 -0.051828    0.02619621]\n",
            " [ 0.0476908   0.14569615 -0.09672794  0.98231635  0.04686701]\n",
            " [-0.48674019 -0.39083277  0.32796563  0.08028092  0.70450497]]\n",
            "[3.11419381 0.54936044]\n",
            "[[-0.70710678 -0.70710678]\n",
            " [-0.70710678  0.70710678]]\n"
          ]
        }
      ]
    },
    {
      "cell_type": "code",
      "source": [
        "print(\"PCA Components:\\n\", pca.components_)\n",
        "print(\"Explained Variance:\\n\", pca.explained_variance_ratio_)\n"
      ],
      "metadata": {
        "colab": {
          "base_uri": "https://localhost:8080/"
        },
        "id": "we7mznPRn04c",
        "outputId": "db20cbd8-422a-4c50-cd4a-7e3fe202e3c0"
      },
      "execution_count": 9,
      "outputs": [
        {
          "output_type": "stream",
          "name": "stdout",
          "text": [
            "PCA Components:\n",
            " [[ 0.70710678  0.70710678]\n",
            " [ 0.70710678 -0.70710678]]\n",
            "Explained Variance:\n",
            " [0.96982031 0.03017969]\n"
          ]
        }
      ]
    },
    {
      "cell_type": "markdown",
      "source": [
        "Calculus Tasks"
      ],
      "metadata": {
        "id": "9jXWa6nip8Qq"
      }
    },
    {
      "cell_type": "markdown",
      "source": [
        "Numerical Differentiation\n",
        "\n",
        "○ Use NumPy to compute the numerical derivative of a given function.\n",
        "\n",
        "○ Implement forward, backward, and central difference methods for differentiation.\n"
      ],
      "metadata": {
        "id": "veT56cXrqVnX"
      }
    },
    {
      "cell_type": "code",
      "source": [
        "# Function to differentiate\n",
        "def f(x):\n",
        "    return x**2 + 3*x + 2\n",
        "# Derivative at a point\n",
        "x = 2.0\n",
        "h = 1e-5"
      ],
      "metadata": {
        "id": "DG--VjQWqeXu"
      },
      "execution_count": 10,
      "outputs": []
    },
    {
      "cell_type": "code",
      "source": [
        "forward_diff = (f(x + h) - f(x)) / h\n",
        "backward_diff = (f(x) - f(x - h)) / h\n",
        "central_diff = (f(x + h) - f(x - h)) / (2 * h)"
      ],
      "metadata": {
        "id": "ZnlvT_qCrHvW"
      },
      "execution_count": 11,
      "outputs": []
    },
    {
      "cell_type": "code",
      "source": [
        "print(\"Forward Difference:\", forward_diff)\n",
        "print(\"Backward Difference:\", backward_diff)\n",
        "print(\"Central Difference:\", central_diff)\n"
      ],
      "metadata": {
        "colab": {
          "base_uri": "https://localhost:8080/"
        },
        "id": "-MtOFY8rps-T",
        "outputId": "4634cd72-9a26-4a21-b946-353f40edab07"
      },
      "execution_count": 12,
      "outputs": [
        {
          "output_type": "stream",
          "name": "stdout",
          "text": [
            "Forward Difference: 7.000010000091094\n",
            "Backward Difference: 6.999990000089439\n",
            "Central Difference: 7.0000000000902665\n"
          ]
        }
      ]
    },
    {
      "cell_type": "markdown",
      "source": [
        "Numerical Integration\n",
        "\n",
        "○ Use NumPy to compute the numerical integral of a given function.\n",
        "\n",
        "○ Implement the trapezoidal rule and Simpson's rule for integration.\n"
      ],
      "metadata": {
        "id": "CP7aX-HxrODC"
      }
    },
    {
      "cell_type": "code",
      "source": [
        "import scipy\n",
        "print(scipy.__version__)\n"
      ],
      "metadata": {
        "colab": {
          "base_uri": "https://localhost:8080/"
        },
        "id": "0EgxN8rzy6Vn",
        "outputId": "917b4779-b0ce-420c-9263-ffee1d9c8087"
      },
      "execution_count": 16,
      "outputs": [
        {
          "output_type": "stream",
          "name": "stdout",
          "text": [
            "1.14.1\n"
          ]
        }
      ]
    },
    {
      "cell_type": "code",
      "source": [
        "from scipy.integrate import simpson #, trapz\n",
        "#from scipy import trapz\n",
        "#unable to import trapz\n",
        "\n",
        "# Function\n",
        "def g(x):\n",
        "    return x**2 + 1\n",
        "\n",
        "x_vals = np.linspace(0, 5, 100)\n",
        "y_vals = g(x_vals)\n",
        "\n",
        "# Trapezoidal rule\n",
        "#trapezoid_area = trapz(y_vals, x_vals)\n",
        "\n",
        "# Simpson’s rule\n",
        "simpson_area = simpson(y_vals, x=x_vals)\n",
        "\n",
        "\n",
        "#print(\"Trapezoidal Area:\", trapezoid_area)\n",
        "print(\"Simpson's Area:\", simpson_area)"
      ],
      "metadata": {
        "colab": {
          "base_uri": "https://localhost:8080/"
        },
        "id": "Y-zkWKdurI5r",
        "outputId": "d5e0dd2d-3fff-461e-cb6b-279be2b96d62"
      },
      "execution_count": 20,
      "outputs": [
        {
          "output_type": "stream",
          "name": "stdout",
          "text": [
            "Simpson's Area: 46.66666666666667\n"
          ]
        }
      ]
    },
    {
      "cell_type": "markdown",
      "source": [
        "Partial Derivatives\n",
        "\n",
        "○ Calculate partial derivatives of multivariable functions using NumPy.\n",
        "\n",
        "○ Verify results by comparing with analytical solutions."
      ],
      "metadata": {
        "id": "uTMUnQWk0hlU"
      }
    },
    {
      "cell_type": "code",
      "source": [
        "def func(x, y):\n",
        "    return x**2 * y + y**3\n",
        "\n",
        "x0, y0 = 1.0, 2.0\n",
        "h = 1e-5\n",
        "\n",
        "# ∂f/∂x\n",
        "df_dx = (func(x0 + h, y0) - func(x0 - h, y0)) / (2 * h)\n",
        "\n",
        "# ∂f/∂y\n",
        "df_dy = (func(x0, y0 + h) - func(x0, y0 - h)) / (2 * h)\n",
        "\n",
        "print(\"∂f/∂x:\", df_dx)\n",
        "print(\"∂f/∂y:\", df_dy)"
      ],
      "metadata": {
        "colab": {
          "base_uri": "https://localhost:8080/"
        },
        "id": "E9SOgf0YyQhG",
        "outputId": "966f6eea-1b58-4d0d-bd3f-832683e3cb32"
      },
      "execution_count": 21,
      "outputs": [
        {
          "output_type": "stream",
          "name": "stdout",
          "text": [
            "∂f/∂x: 4.000000000026205\n",
            "∂f/∂y: 13.00000000021839\n"
          ]
        }
      ]
    },
    {
      "cell_type": "markdown",
      "source": [
        "Optimization\n",
        "\n",
        "○ Use NumPy to solve optimization problems with constraints."
      ],
      "metadata": {
        "id": "yPA4EnMK4VRi"
      }
    },
    {
      "cell_type": "code",
      "source": [
        "from scipy.optimize import minimize\n",
        "\n",
        "# Objective function\n",
        "def obj(x):\n",
        "    return x[0]**2 + x[1]**2  # Minimize x² + y²\n",
        "\n",
        "# Constraint: x + y = 1\n",
        "cons = ({'type': 'eq', 'fun': lambda x: x[0] + x[1] - 1})\n",
        "\n",
        "# Initial guess\n",
        "x0 = [0.5, 0.5]\n",
        "\n",
        "# Solve\n",
        "res = minimize(obj, x0, constraints=cons)\n",
        "\n",
        "print(\"Optimal values:\", res.x)\n",
        "print(\"Minimum value:\", res.fun)"
      ],
      "metadata": {
        "colab": {
          "base_uri": "https://localhost:8080/"
        },
        "id": "vVBHBwEj4KJn",
        "outputId": "949cdfc0-229b-4eb3-ec4d-4e67f8624e4d"
      },
      "execution_count": 22,
      "outputs": [
        {
          "output_type": "stream",
          "name": "stdout",
          "text": [
            "Optimal values: [0.5 0.5]\n",
            "Minimum value: 0.5\n"
          ]
        }
      ]
    },
    {
      "cell_type": "code",
      "source": [],
      "metadata": {
        "id": "hiyJliiS4taU"
      },
      "execution_count": null,
      "outputs": []
    }
  ]
}