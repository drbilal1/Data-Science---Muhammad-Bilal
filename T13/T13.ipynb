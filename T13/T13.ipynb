{
  "nbformat": 4,
  "nbformat_minor": 0,
  "metadata": {
    "colab": {
      "provenance": []
    },
    "kernelspec": {
      "name": "python3",
      "display_name": "Python 3"
    },
    "language_info": {
      "name": "python"
    }
  },
  "cells": [
    {
      "cell_type": "code",
      "execution_count": 2,
      "metadata": {
        "id": "gSwlMzU3IwQI"
      },
      "outputs": [],
      "source": [
        "import pandas as pd"
      ]
    },
    {
      "cell_type": "markdown",
      "source": [
        "Task 1: Load a DataFrame from a CSV file"
      ],
      "metadata": {
        "id": "m2727naMJUZO"
      }
    },
    {
      "cell_type": "code",
      "source": [
        "df = pd.read_csv('homeprices_data.csv')"
      ],
      "metadata": {
        "id": "wLrJQ4YBJLLh"
      },
      "execution_count": 24,
      "outputs": []
    },
    {
      "cell_type": "markdown",
      "source": [
        "Task 2: Display the first and last five rows of the DataFrame"
      ],
      "metadata": {
        "id": "ZQGO_Sx1JjPD"
      }
    },
    {
      "cell_type": "code",
      "source": [
        "print(\"\\nFirst five rows of DataFrame:\\n\", df.head())\n",
        "print(\"\\nLast five rows of DataFrame:\\n\", df.tail())"
      ],
      "metadata": {
        "colab": {
          "base_uri": "https://localhost:8080/"
        },
        "id": "vBybwEsZJeVv",
        "outputId": "5db0aa54-3637-428f-c201-f00a66e84be7"
      },
      "execution_count": 25,
      "outputs": [
        {
          "output_type": "stream",
          "name": "stdout",
          "text": [
            "\n",
            "First five rows of DataFrame:\n",
            "    area  bedrooms   price\n",
            "0  1056         2   39.07\n",
            "1  2600         4  120.00\n",
            "2  1440         3   62.00\n",
            "3  1521         3   75.00\n",
            "4  1200         2   51.00\n",
            "\n",
            "Last five rows of DataFrame:\n",
            "     area  bedrooms  price\n",
            "15  1175         2   42.0\n",
            "16  1180         3   48.0\n",
            "17  1540         3   60.0\n",
            "18  2770         3  102.0\n",
            "19   800         1   32.0\n"
          ]
        }
      ]
    },
    {
      "cell_type": "markdown",
      "source": [
        "Task 3: Set a specific column as the index"
      ],
      "metadata": {
        "id": "Vh_54VR-Jsdn"
      }
    },
    {
      "cell_type": "code",
      "source": [
        "df.set_index('area', inplace=True)\n",
        "print(\"\\nDataFrame with 'Area' set as the index:\\n\", df.head())"
      ],
      "metadata": {
        "colab": {
          "base_uri": "https://localhost:8080/"
        },
        "id": "HrhrvaYNJm5V",
        "outputId": "a3daccdf-6a12-416a-ca19-d1c372839cd8"
      },
      "execution_count": 8,
      "outputs": [
        {
          "output_type": "stream",
          "name": "stdout",
          "text": [
            "\n",
            "DataFrame with 'Area' set as the index:\n",
            "       bedrooms   price\n",
            "area                  \n",
            "1056         2   39.07\n",
            "2600         4  120.00\n",
            "1440         3   62.00\n",
            "1521         3   75.00\n",
            "1200         2   51.00\n"
          ]
        }
      ]
    },
    {
      "cell_type": "markdown",
      "source": [
        "Task 4: Select a specific column ('Prices') and display its values"
      ],
      "metadata": {
        "id": "_Ov8euksMQyW"
      }
    },
    {
      "cell_type": "code",
      "source": [
        "print(\"\\n'Prices' column values:\\n\", df['price'])"
      ],
      "metadata": {
        "colab": {
          "base_uri": "https://localhost:8080/"
        },
        "id": "SxGP-ac3JxSq",
        "outputId": "ed73b3d0-2a1d-4aed-f0f7-133b50e74cc5"
      },
      "execution_count": 9,
      "outputs": [
        {
          "output_type": "stream",
          "name": "stdout",
          "text": [
            "\n",
            "'Prices' column values:\n",
            " area\n",
            "1056     39.07\n",
            "2600    120.00\n",
            "1440     62.00\n",
            "1521     75.00\n",
            "1200     51.00\n",
            "1170     38.00\n",
            "2732    135.00\n",
            "3300    155.00\n",
            "1310     50.00\n",
            "3700    167.00\n",
            "1800     82.00\n",
            "2785    140.00\n",
            "1000     38.00\n",
            "1100     40.00\n",
            "2250    101.00\n",
            "1175     42.00\n",
            "1180     48.00\n",
            "1540     60.00\n",
            "2770    102.00\n",
            "800      32.00\n",
            "Name: price, dtype: float64\n"
          ]
        }
      ]
    },
    {
      "cell_type": "markdown",
      "source": [
        "Task 5: Select multiple columns ('Bedrooms' and 'Prices') and display the resulting DataFrame"
      ],
      "metadata": {
        "id": "OxoLM5sWMgq3"
      }
    },
    {
      "cell_type": "code",
      "source": [
        "df_selected_columns = df[['bedrooms', 'price']]\n",
        "print(\"\\nSelected columns (Bedrooms, Prices):\\n\", df_selected_columns)"
      ],
      "metadata": {
        "colab": {
          "base_uri": "https://localhost:8080/"
        },
        "id": "tsAHOwrRMTES",
        "outputId": "8fa0abec-43d1-49d2-8ad3-55e7e953c201"
      },
      "execution_count": 10,
      "outputs": [
        {
          "output_type": "stream",
          "name": "stdout",
          "text": [
            "\n",
            "Selected columns (Bedrooms, Prices):\n",
            "       bedrooms   price\n",
            "area                  \n",
            "1056         2   39.07\n",
            "2600         4  120.00\n",
            "1440         3   62.00\n",
            "1521         3   75.00\n",
            "1200         2   51.00\n",
            "1170         2   38.00\n",
            "2732         4  135.00\n",
            "3300         4  155.00\n",
            "1310         3   50.00\n",
            "3700         5  167.00\n",
            "1800         3   82.00\n",
            "2785         4  140.00\n",
            "1000         2   38.00\n",
            "1100         2   40.00\n",
            "2250         3  101.00\n",
            "1175         2   42.00\n",
            "1180         3   48.00\n",
            "1540         3   60.00\n",
            "2770         3  102.00\n",
            "800          1   32.00\n"
          ]
        }
      ]
    },
    {
      "cell_type": "markdown",
      "source": [
        "Task 6: Select a subset of rows using the .loc method (e.g., rows where 'Area' is between 2000 and 3500)"
      ],
      "metadata": {
        "id": "5Dfd2yr6MunJ"
      }
    },
    {
      "cell_type": "code",
      "source": [
        "df_loc_subset = df.loc[1200:2785]\n",
        "print(\"\\nSubset of rows using .loc method:\\n\", df_loc_subset)"
      ],
      "metadata": {
        "colab": {
          "base_uri": "https://localhost:8080/"
        },
        "id": "RDpVFE-XMkdP",
        "outputId": "07bd51a6-96a6-477c-99d5-3d0f7c8acbc5"
      },
      "execution_count": 11,
      "outputs": [
        {
          "output_type": "stream",
          "name": "stdout",
          "text": [
            "\n",
            "Subset of rows using .loc method:\n",
            "       bedrooms  price\n",
            "area                 \n",
            "1200         2   51.0\n",
            "1170         2   38.0\n",
            "2732         4  135.0\n",
            "3300         4  155.0\n",
            "1310         3   50.0\n",
            "3700         5  167.0\n",
            "1800         3   82.0\n",
            "2785         4  140.0\n"
          ]
        }
      ]
    },
    {
      "cell_type": "markdown",
      "source": [
        "Task 7: Select a subset of rows and columns using the .iloc method (e.g., first 3 rows, first 2 columns)"
      ],
      "metadata": {
        "id": "hOjflXGi3uH2"
      }
    },
    {
      "cell_type": "code",
      "source": [
        "df_iloc_subset = df.iloc[:3, :1]\n",
        "print(\"\\nSubset of rows and columns using .iloc method:\\n\", df_iloc_subset)"
      ],
      "metadata": {
        "colab": {
          "base_uri": "https://localhost:8080/"
        },
        "id": "8S_dTG2xM2rA",
        "outputId": "60029837-64da-4d26-c416-cf15d2a86e0d"
      },
      "execution_count": 13,
      "outputs": [
        {
          "output_type": "stream",
          "name": "stdout",
          "text": [
            "\n",
            "Subset of rows and columns using .iloc method:\n",
            "       bedrooms\n",
            "area          \n",
            "1056         2\n",
            "2600         4\n",
            "1440         3\n"
          ]
        }
      ]
    },
    {
      "cell_type": "markdown",
      "source": [
        "Task 8: Filter rows based on a condition (e.g., where 'Bedrooms' > 3)"
      ],
      "metadata": {
        "id": "KCJWc_mO4Z3w"
      }
    },
    {
      "cell_type": "code",
      "source": [
        "df_filtered = df[df['bedrooms'] > 3]\n",
        "print(\"\\nFiltered rows where Bedrooms > 3:\\n\", df_filtered)"
      ],
      "metadata": {
        "colab": {
          "base_uri": "https://localhost:8080/"
        },
        "id": "oIkLkQt331AU",
        "outputId": "f6ae6477-c155-48f1-93c9-1443d2c707c0"
      },
      "execution_count": 15,
      "outputs": [
        {
          "output_type": "stream",
          "name": "stdout",
          "text": [
            "\n",
            "Filtered rows where Bedrooms > 3:\n",
            "       bedrooms  price\n",
            "area                 \n",
            "2600         4  120.0\n",
            "2732         4  135.0\n",
            "3300         4  155.0\n",
            "3700         5  167.0\n",
            "2785         4  140.0\n"
          ]
        }
      ]
    },
    {
      "cell_type": "markdown",
      "source": [
        "Task 9: Group the DataFrame by a specific column ('Bedrooms') and calculate the mean of each group"
      ],
      "metadata": {
        "id": "m864xT7F4mIs"
      }
    },
    {
      "cell_type": "code",
      "source": [
        "df_grouped_mean = df.groupby('bedrooms')['price'].mean()\n",
        "print(\"\\nMean prices by number of bedrooms:\\n\", df_grouped_mean)"
      ],
      "metadata": {
        "colab": {
          "base_uri": "https://localhost:8080/"
        },
        "id": "8GXIVsDG4cXA",
        "outputId": "0aaec3b3-7b84-45b3-fa10-79330662c8da"
      },
      "execution_count": 17,
      "outputs": [
        {
          "output_type": "stream",
          "name": "stdout",
          "text": [
            "\n",
            "Mean prices by number of bedrooms:\n",
            " bedrooms\n",
            "1     32.000\n",
            "2     41.345\n",
            "3     72.500\n",
            "4    137.500\n",
            "5    167.000\n",
            "Name: price, dtype: float64\n"
          ]
        }
      ]
    },
    {
      "cell_type": "markdown",
      "source": [
        "Task 10: Group the DataFrame by multiple columns ('Bedrooms', 'Area') and calculate the sum of each group"
      ],
      "metadata": {
        "id": "jFP31yET527z"
      }
    },
    {
      "cell_type": "code",
      "source": [
        "df_grouped_sum = df.groupby(['bedrooms', 'area'])['price'].sum()\n",
        "print(\"\\nSum of prices grouped by Bedrooms and Area:\\n\", df_grouped_sum)"
      ],
      "metadata": {
        "colab": {
          "base_uri": "https://localhost:8080/"
        },
        "id": "y7ke-fq14tN2",
        "outputId": "e2a68908-8dc3-492a-f1fa-3ccbdb7eb5cc"
      },
      "execution_count": 18,
      "outputs": [
        {
          "output_type": "stream",
          "name": "stdout",
          "text": [
            "\n",
            "Sum of prices grouped by Bedrooms and Area:\n",
            " bedrooms  area\n",
            "1         800      32.00\n",
            "2         1000     38.00\n",
            "          1056     39.07\n",
            "          1100     40.00\n",
            "          1170     38.00\n",
            "          1175     42.00\n",
            "          1200     51.00\n",
            "3         1180     48.00\n",
            "          1310     50.00\n",
            "          1440     62.00\n",
            "          1521     75.00\n",
            "          1540     60.00\n",
            "          1800     82.00\n",
            "          2250    101.00\n",
            "          2770    102.00\n",
            "4         2600    120.00\n",
            "          2732    135.00\n",
            "          2785    140.00\n",
            "          3300    155.00\n",
            "5         3700    167.00\n",
            "Name: price, dtype: float64\n"
          ]
        }
      ]
    },
    {
      "cell_type": "markdown",
      "source": [
        "Task 11: Use the agg method to apply multiple aggregation functions (e.g., 'mean', 'sum', 'max') on 'Prices'"
      ],
      "metadata": {
        "id": "87UKHrfX6LMx"
      }
    },
    {
      "cell_type": "code",
      "source": [
        "df_agg = df.groupby('bedrooms').agg({'price': ['mean', 'sum', 'max'], 'area': ['min', 'max']})\n",
        "print(\"\\nAggregated statistics:\\n\", df_agg)"
      ],
      "metadata": {
        "colab": {
          "base_uri": "https://localhost:8080/"
        },
        "id": "_2lgTzTt6BUz",
        "outputId": "76e3fa48-b1db-43e8-8a9e-112cfb986f98"
      },
      "execution_count": 26,
      "outputs": [
        {
          "output_type": "stream",
          "name": "stdout",
          "text": [
            "\n",
            "Aggregated statistics:\n",
            "             price                 area      \n",
            "             mean     sum    max   min   max\n",
            "bedrooms                                    \n",
            "1          32.000   32.00   32.0   800   800\n",
            "2          41.345  248.07   51.0  1000  1200\n",
            "3          72.500  580.00  102.0  1180  2770\n",
            "4         137.500  550.00  155.0  2600  3300\n",
            "5         167.000  167.00  167.0  3700  3700\n"
          ]
        }
      ]
    },
    {
      "cell_type": "markdown",
      "source": [
        "Task 12: Calculate the size of each group based on 'Bedrooms'"
      ],
      "metadata": {
        "id": "hMv7eFBQ7Dyz"
      }
    },
    {
      "cell_type": "code",
      "source": [
        "df_group_size = df.groupby('bedrooms').size()\n",
        "print(\"\\nNumber of properties in each bedroom group:\\n\", df_group_size)"
      ],
      "metadata": {
        "colab": {
          "base_uri": "https://localhost:8080/"
        },
        "id": "uYtt1hDk6OFT",
        "outputId": "9528167d-9fec-4422-f764-4d829ba5704e"
      },
      "execution_count": 27,
      "outputs": [
        {
          "output_type": "stream",
          "name": "stdout",
          "text": [
            "\n",
            "Number of properties in each bedroom group:\n",
            " bedrooms\n",
            "1    1\n",
            "2    6\n",
            "3    8\n",
            "4    4\n",
            "5    1\n",
            "dtype: int64\n"
          ]
        }
      ]
    },
    {
      "cell_type": "markdown",
      "source": [
        "Task 13: Select rows based on multiple conditions (e.g., 'Bedrooms' > 3 and 'Prices' > 500000)"
      ],
      "metadata": {
        "id": "wmYfsWeF7RMe"
      }
    },
    {
      "cell_type": "code",
      "source": [
        "df_multi_condition = df[(df['bedrooms'] > 2) & (df['price'] > 100)]\n",
        "print(\"\\nRows where Bedrooms > 3 and Prices > 100,000:\\n\", df_multi_condition)"
      ],
      "metadata": {
        "colab": {
          "base_uri": "https://localhost:8080/"
        },
        "id": "9DxKrZR06O0A",
        "outputId": "336012f3-c1e8-4c3b-d115-874510bd261f"
      },
      "execution_count": 36,
      "outputs": [
        {
          "output_type": "stream",
          "name": "stdout",
          "text": [
            "\n",
            "Rows where Bedrooms > 3 and Prices > 100,000:\n",
            "     area  bedrooms  price\n",
            "1   2600         4  120.0\n",
            "6   2732         4  135.0\n",
            "7   3300         4  155.0\n",
            "9   3700         5  167.0\n",
            "11  2785         4  140.0\n",
            "14  2250         3  101.0\n",
            "18  2770         3  102.0\n"
          ]
        }
      ]
    },
    {
      "cell_type": "markdown",
      "source": [
        "Task 14: Use the query method to filter rows where 'Prices' > 400000"
      ],
      "metadata": {
        "id": "hPRJ6-Ql78Ks"
      }
    },
    {
      "cell_type": "code",
      "source": [
        "df_query_result = df.query(\"price > 90\")\n",
        "print(\"\\nRows filtered using query method (Prices > 90,000):\\n\", df_query_result)"
      ],
      "metadata": {
        "colab": {
          "base_uri": "https://localhost:8080/"
        },
        "id": "DlFXOsJw7YvK",
        "outputId": "bb4c8305-471f-4b80-964d-d5d15798c0db"
      },
      "execution_count": 38,
      "outputs": [
        {
          "output_type": "stream",
          "name": "stdout",
          "text": [
            "\n",
            "Rows filtered using query method (Prices > 90,000):\n",
            "     area  bedrooms  price\n",
            "1   2600         4  120.0\n",
            "6   2732         4  135.0\n",
            "7   3300         4  155.0\n",
            "9   3700         5  167.0\n",
            "11  2785         4  140.0\n",
            "14  2250         3  101.0\n",
            "18  2770         3  102.0\n"
          ]
        }
      ]
    },
    {
      "cell_type": "markdown",
      "source": [
        "Task 15: Use isin to filter rows based on a list of values (e.g., Bedrooms is either 2 or 4)"
      ],
      "metadata": {
        "id": "mhGNqe9o8OO7"
      }
    },
    {
      "cell_type": "code",
      "source": [
        "df_isin_filtered = df[df['bedrooms'].isin([2, 1,4])]\n",
        "print(\"\\nRows where Bedrooms is 2 or 4:\\n\", df_isin_filtered)"
      ],
      "metadata": {
        "colab": {
          "base_uri": "https://localhost:8080/"
        },
        "id": "WwlurKvK8DE7",
        "outputId": "446178eb-b255-47a3-cb3f-a3698f6810c1"
      },
      "execution_count": 42,
      "outputs": [
        {
          "output_type": "stream",
          "name": "stdout",
          "text": [
            "\n",
            "Rows where Bedrooms is 2 or 4:\n",
            "     area  bedrooms   price\n",
            "0   1056         2   39.07\n",
            "1   2600         4  120.00\n",
            "4   1200         2   51.00\n",
            "5   1170         2   38.00\n",
            "6   2732         4  135.00\n",
            "7   3300         4  155.00\n",
            "11  2785         4  140.00\n",
            "12  1000         2   38.00\n",
            "13  1100         2   40.00\n",
            "15  1175         2   42.00\n",
            "19   800         1   32.00\n"
          ]
        }
      ]
    },
    {
      "cell_type": "markdown",
      "source": [
        "Task 16: Select specific columns ('Bedrooms', 'Prices') and rename them"
      ],
      "metadata": {
        "id": "gjfuq_vE8kH1"
      }
    },
    {
      "cell_type": "code",
      "source": [
        "df_renamed = df[['bedrooms', 'price']].rename(columns={'bedrooms': 'Total Bedrooms', 'price': 'House Price'})\n",
        "print(\"\\nDataFrame with selected and renamed columns:\\n\", df_renamed)"
      ],
      "metadata": {
        "colab": {
          "base_uri": "https://localhost:8080/"
        },
        "id": "yY2JvmEE8TVZ",
        "outputId": "cd95fe89-ffd5-4bad-9ec1-4330671ac8b9"
      },
      "execution_count": 43,
      "outputs": [
        {
          "output_type": "stream",
          "name": "stdout",
          "text": [
            "\n",
            "DataFrame with selected and renamed columns:\n",
            "     Total Bedrooms  House Price\n",
            "0                2        39.07\n",
            "1                4       120.00\n",
            "2                3        62.00\n",
            "3                3        75.00\n",
            "4                2        51.00\n",
            "5                2        38.00\n",
            "6                4       135.00\n",
            "7                4       155.00\n",
            "8                3        50.00\n",
            "9                5       167.00\n",
            "10               3        82.00\n",
            "11               4       140.00\n",
            "12               2        38.00\n",
            "13               2        40.00\n",
            "14               3       101.00\n",
            "15               2        42.00\n",
            "16               3        48.00\n",
            "17               3        60.00\n",
            "18               3       102.00\n",
            "19               1        32.00\n"
          ]
        }
      ]
    },
    {
      "cell_type": "code",
      "source": [],
      "metadata": {
        "id": "N16ukHO88whQ"
      },
      "execution_count": null,
      "outputs": []
    }
  ]
}