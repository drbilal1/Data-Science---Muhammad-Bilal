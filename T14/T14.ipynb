{
  "nbformat": 4,
  "nbformat_minor": 0,
  "metadata": {
    "colab": {
      "provenance": []
    },
    "kernelspec": {
      "name": "python3",
      "display_name": "Python 3"
    },
    "language_info": {
      "name": "python"
    }
  },
  "cells": [
    {
      "cell_type": "code",
      "execution_count": 1,
      "metadata": {
        "id": "Leu-rwDM9Ycy"
      },
      "outputs": [],
      "source": [
        "import pandas as pd\n",
        "import numpy as np\n",
        "from sklearn.preprocessing import MinMaxScaler, StandardScaler, LabelEncoder\n",
        "from datetime import datetime"
      ]
    },
    {
      "cell_type": "code",
      "source": [
        "df = pd.read_csv('homeprices_data.csv')"
      ],
      "metadata": {
        "id": "EC5USVAn_Zlo"
      },
      "execution_count": 4,
      "outputs": []
    },
    {
      "cell_type": "markdown",
      "source": [
        "Task 1: Identify missing values in the DataFrame"
      ],
      "metadata": {
        "id": "VZvTQInP_0DI"
      }
    },
    {
      "cell_type": "code",
      "source": [
        "print(\"\\nMissing values in DataFrame:\\n\", df.isnull().sum())"
      ],
      "metadata": {
        "colab": {
          "base_uri": "https://localhost:8080/"
        },
        "id": "kaNk8vM8_mN7",
        "outputId": "c221b0d7-7264-4c22-ad07-810e6d15b552"
      },
      "execution_count": 5,
      "outputs": [
        {
          "output_type": "stream",
          "name": "stdout",
          "text": [
            "\n",
            "Missing values in DataFrame:\n",
            " area         1\n",
            "bedrooms     0\n",
            "bathrooms    2\n",
            "balcony      3\n",
            "price        0\n",
            "dtype: int64\n"
          ]
        }
      ]
    },
    {
      "cell_type": "markdown",
      "source": [
        "Task 2: Drop rows with any missing values"
      ],
      "metadata": {
        "id": "gJQtIpNk__sQ"
      }
    },
    {
      "cell_type": "code",
      "source": [
        "df_dropna_rows = df.dropna()\n",
        "print(\"\\nDataFrame after dropping rows with missing values:\\n\\n\", df_dropna_rows)"
      ],
      "metadata": {
        "colab": {
          "base_uri": "https://localhost:8080/"
        },
        "id": "3xJVnLPV_3pr",
        "outputId": "09bc0e2c-fa58-4b2b-f19b-b9443eb852fc"
      },
      "execution_count": 4,
      "outputs": [
        {
          "output_type": "stream",
          "name": "stdout",
          "text": [
            "\n",
            "DataFrame after dropping rows with missing values:\n",
            "\n",
            "       area  bedrooms  bathrooms  balcony   price\n",
            "0   1056.0         2        2.0      1.0   39.07\n",
            "1   2600.0         4        3.0      3.0  120.00\n",
            "3   1521.0         3        3.0      2.0   75.00\n",
            "4   1521.0         3        3.0      2.0   75.00\n",
            "5   1200.0         2        2.0      1.0   51.00\n",
            "7   2732.0         4        2.0      3.0  135.00\n",
            "8   3300.0         4        3.0      2.0  155.00\n",
            "9   1310.0         3        2.0      2.0   50.00\n",
            "10  3700.0         5        3.0      3.0  167.00\n",
            "12  2785.0         4        2.0      3.0  140.00\n",
            "14  1100.0         2        2.0      2.0   40.00\n",
            "15  2250.0         3        2.0      3.0  101.00\n",
            "16  2770.0         3        3.0      2.0  102.00\n",
            "17  1175.0         2        1.0      2.0   42.00\n",
            "18  1180.0         3        2.0      3.0   48.00\n",
            "20  2770.0         3        3.0      2.0  102.00\n",
            "21   800.0         1        1.0      1.0   32.00\n"
          ]
        }
      ]
    },
    {
      "cell_type": "markdown",
      "source": [
        "Task 3: Drop columns with any missing values"
      ],
      "metadata": {
        "id": "XY3iypEiAaO6"
      }
    },
    {
      "cell_type": "code",
      "source": [
        "df_dropna_columns = df.dropna(axis=1)\n",
        "print(\"\\nDataFrame after dropping columns with missing values:\\n\", df_dropna_columns)"
      ],
      "metadata": {
        "colab": {
          "base_uri": "https://localhost:8080/"
        },
        "id": "43ekb7s-ACou",
        "outputId": "aa7d8345-cc1e-4cc9-b219-ede4a16371da"
      },
      "execution_count": 5,
      "outputs": [
        {
          "output_type": "stream",
          "name": "stdout",
          "text": [
            "\n",
            "DataFrame after dropping columns with missing values:\n",
            "     bedrooms   price\n",
            "0          2   39.07\n",
            "1          4  120.00\n",
            "2          3   62.00\n",
            "3          3   75.00\n",
            "4          3   75.00\n",
            "5          2   51.00\n",
            "6          2   38.00\n",
            "7          4  135.00\n",
            "8          4  155.00\n",
            "9          3   50.00\n",
            "10         5  167.00\n",
            "11         3   82.00\n",
            "12         4  140.00\n",
            "13         2   38.00\n",
            "14         2   40.00\n",
            "15         3  101.00\n",
            "16         3  102.00\n",
            "17         2   42.00\n",
            "18         3   48.00\n",
            "19         3   60.00\n",
            "20         3  102.00\n",
            "21         1   32.00\n"
          ]
        }
      ]
    },
    {
      "cell_type": "markdown",
      "source": [
        "Task 4: Fill missing values with a specific value (e.g., 0)"
      ],
      "metadata": {
        "id": "dkSGnrJRApWD"
      }
    },
    {
      "cell_type": "code",
      "source": [
        "df_filled = df.fillna(df.mode().iloc[0])\n",
        "print(\"\\nDataFrame after filling missing values with 0:\\n\", df_filled)"
      ],
      "metadata": {
        "colab": {
          "base_uri": "https://localhost:8080/"
        },
        "id": "DOiRyS89Adxr",
        "outputId": "34f0dfd6-0491-4fce-ae3b-70fe00c5e395"
      },
      "execution_count": 6,
      "outputs": [
        {
          "output_type": "stream",
          "name": "stdout",
          "text": [
            "\n",
            "DataFrame after filling missing values with 0:\n",
            "       area  bedrooms  bathrooms  balcony   price\n",
            "0   1056.0         2        2.0      1.0   39.07\n",
            "1   2600.0         4        3.0      3.0  120.00\n",
            "2   1440.0         3        2.0      2.0   62.00\n",
            "3   1521.0         3        3.0      2.0   75.00\n",
            "4   1521.0         3        3.0      2.0   75.00\n",
            "5   1200.0         2        2.0      1.0   51.00\n",
            "6   1170.0         2        2.0      2.0   38.00\n",
            "7   2732.0         4        2.0      3.0  135.00\n",
            "8   3300.0         4        3.0      2.0  155.00\n",
            "9   1310.0         3        2.0      2.0   50.00\n",
            "10  3700.0         5        3.0      3.0  167.00\n",
            "11  1800.0         3        3.0      2.0   82.00\n",
            "12  2785.0         4        2.0      3.0  140.00\n",
            "13  1521.0         2        2.0      1.0   38.00\n",
            "14  1100.0         2        2.0      2.0   40.00\n",
            "15  2250.0         3        2.0      3.0  101.00\n",
            "16  2770.0         3        3.0      2.0  102.00\n",
            "17  1175.0         2        1.0      2.0   42.00\n",
            "18  1180.0         3        2.0      3.0   48.00\n",
            "19  1540.0         3        3.0      2.0   60.00\n",
            "20  2770.0         3        3.0      2.0  102.00\n",
            "21   800.0         1        1.0      1.0   32.00\n"
          ]
        }
      ]
    },
    {
      "cell_type": "markdown",
      "source": [
        "Task 5: Fill missing values using forward fill"
      ],
      "metadata": {
        "id": "e-Fq-AmABbvD"
      }
    },
    {
      "cell_type": "code",
      "source": [
        "df_ffill = df.fillna(method='ffill')\n",
        "print(\"\\nDataFrame after forward fill:\\n\", df_ffill)"
      ],
      "metadata": {
        "colab": {
          "base_uri": "https://localhost:8080/"
        },
        "id": "J6EguQkcAtVs",
        "outputId": "7c3136bd-7171-424a-d340-20b702eb44eb"
      },
      "execution_count": 7,
      "outputs": [
        {
          "output_type": "stream",
          "name": "stdout",
          "text": [
            "\n",
            "DataFrame after forward fill:\n",
            "       area  bedrooms  bathrooms  balcony   price\n",
            "0   1056.0         2        2.0      1.0   39.07\n",
            "1   2600.0         4        3.0      3.0  120.00\n",
            "2   1440.0         3        2.0      3.0   62.00\n",
            "3   1521.0         3        3.0      2.0   75.00\n",
            "4   1521.0         3        3.0      2.0   75.00\n",
            "5   1200.0         2        2.0      1.0   51.00\n",
            "6   1170.0         2        2.0      2.0   38.00\n",
            "7   2732.0         4        2.0      3.0  135.00\n",
            "8   3300.0         4        3.0      2.0  155.00\n",
            "9   1310.0         3        2.0      2.0   50.00\n",
            "10  3700.0         5        3.0      3.0  167.00\n",
            "11  1800.0         3        3.0      3.0   82.00\n",
            "12  2785.0         4        2.0      3.0  140.00\n",
            "13  2785.0         2        2.0      1.0   38.00\n",
            "14  1100.0         2        2.0      2.0   40.00\n",
            "15  2250.0         3        2.0      3.0  101.00\n",
            "16  2770.0         3        3.0      2.0  102.00\n",
            "17  1175.0         2        1.0      2.0   42.00\n",
            "18  1180.0         3        2.0      3.0   48.00\n",
            "19  1540.0         3        3.0      3.0   60.00\n",
            "20  2770.0         3        3.0      2.0  102.00\n",
            "21   800.0         1        1.0      1.0   32.00\n"
          ]
        },
        {
          "output_type": "stream",
          "name": "stderr",
          "text": [
            "<ipython-input-7-8c949943b588>:1: FutureWarning: DataFrame.fillna with 'method' is deprecated and will raise in a future version. Use obj.ffill() or obj.bfill() instead.\n",
            "  df_ffill = df.fillna(method='ffill')\n"
          ]
        }
      ]
    },
    {
      "cell_type": "markdown",
      "source": [
        "Task 6: Fill missing values using backward fill"
      ],
      "metadata": {
        "id": "fGQKq1YICG-h"
      }
    },
    {
      "cell_type": "code",
      "source": [
        "df"
      ],
      "metadata": {
        "colab": {
          "base_uri": "https://localhost:8080/",
          "height": 738
        },
        "id": "IUmZyd3rCTaN",
        "outputId": "f009e39a-1bbd-4cca-a8af-6eab491b10c4"
      },
      "execution_count": 8,
      "outputs": [
        {
          "output_type": "execute_result",
          "data": {
            "text/plain": [
              "      area  bedrooms  bathrooms  balcony   price\n",
              "0   1056.0         2        2.0      1.0   39.07\n",
              "1   2600.0         4        3.0      3.0  120.00\n",
              "2   1440.0         3        2.0      NaN   62.00\n",
              "3   1521.0         3        3.0      2.0   75.00\n",
              "4   1521.0         3        3.0      2.0   75.00\n",
              "5   1200.0         2        2.0      1.0   51.00\n",
              "6   1170.0         2        NaN      2.0   38.00\n",
              "7   2732.0         4        2.0      3.0  135.00\n",
              "8   3300.0         4        3.0      2.0  155.00\n",
              "9   1310.0         3        2.0      2.0   50.00\n",
              "10  3700.0         5        3.0      3.0  167.00\n",
              "11  1800.0         3        3.0      NaN   82.00\n",
              "12  2785.0         4        2.0      3.0  140.00\n",
              "13     NaN         2        NaN      1.0   38.00\n",
              "14  1100.0         2        2.0      2.0   40.00\n",
              "15  2250.0         3        2.0      3.0  101.00\n",
              "16  2770.0         3        3.0      2.0  102.00\n",
              "17  1175.0         2        1.0      2.0   42.00\n",
              "18  1180.0         3        2.0      3.0   48.00\n",
              "19  1540.0         3        3.0      NaN   60.00\n",
              "20  2770.0         3        3.0      2.0  102.00\n",
              "21   800.0         1        1.0      1.0   32.00"
            ],
            "text/html": [
              "\n",
              "  <div id=\"df-3712a18b-66f7-4ae4-861e-a12471e4a3b6\" class=\"colab-df-container\">\n",
              "    <div>\n",
              "<style scoped>\n",
              "    .dataframe tbody tr th:only-of-type {\n",
              "        vertical-align: middle;\n",
              "    }\n",
              "\n",
              "    .dataframe tbody tr th {\n",
              "        vertical-align: top;\n",
              "    }\n",
              "\n",
              "    .dataframe thead th {\n",
              "        text-align: right;\n",
              "    }\n",
              "</style>\n",
              "<table border=\"1\" class=\"dataframe\">\n",
              "  <thead>\n",
              "    <tr style=\"text-align: right;\">\n",
              "      <th></th>\n",
              "      <th>area</th>\n",
              "      <th>bedrooms</th>\n",
              "      <th>bathrooms</th>\n",
              "      <th>balcony</th>\n",
              "      <th>price</th>\n",
              "    </tr>\n",
              "  </thead>\n",
              "  <tbody>\n",
              "    <tr>\n",
              "      <th>0</th>\n",
              "      <td>1056.0</td>\n",
              "      <td>2</td>\n",
              "      <td>2.0</td>\n",
              "      <td>1.0</td>\n",
              "      <td>39.07</td>\n",
              "    </tr>\n",
              "    <tr>\n",
              "      <th>1</th>\n",
              "      <td>2600.0</td>\n",
              "      <td>4</td>\n",
              "      <td>3.0</td>\n",
              "      <td>3.0</td>\n",
              "      <td>120.00</td>\n",
              "    </tr>\n",
              "    <tr>\n",
              "      <th>2</th>\n",
              "      <td>1440.0</td>\n",
              "      <td>3</td>\n",
              "      <td>2.0</td>\n",
              "      <td>NaN</td>\n",
              "      <td>62.00</td>\n",
              "    </tr>\n",
              "    <tr>\n",
              "      <th>3</th>\n",
              "      <td>1521.0</td>\n",
              "      <td>3</td>\n",
              "      <td>3.0</td>\n",
              "      <td>2.0</td>\n",
              "      <td>75.00</td>\n",
              "    </tr>\n",
              "    <tr>\n",
              "      <th>4</th>\n",
              "      <td>1521.0</td>\n",
              "      <td>3</td>\n",
              "      <td>3.0</td>\n",
              "      <td>2.0</td>\n",
              "      <td>75.00</td>\n",
              "    </tr>\n",
              "    <tr>\n",
              "      <th>5</th>\n",
              "      <td>1200.0</td>\n",
              "      <td>2</td>\n",
              "      <td>2.0</td>\n",
              "      <td>1.0</td>\n",
              "      <td>51.00</td>\n",
              "    </tr>\n",
              "    <tr>\n",
              "      <th>6</th>\n",
              "      <td>1170.0</td>\n",
              "      <td>2</td>\n",
              "      <td>NaN</td>\n",
              "      <td>2.0</td>\n",
              "      <td>38.00</td>\n",
              "    </tr>\n",
              "    <tr>\n",
              "      <th>7</th>\n",
              "      <td>2732.0</td>\n",
              "      <td>4</td>\n",
              "      <td>2.0</td>\n",
              "      <td>3.0</td>\n",
              "      <td>135.00</td>\n",
              "    </tr>\n",
              "    <tr>\n",
              "      <th>8</th>\n",
              "      <td>3300.0</td>\n",
              "      <td>4</td>\n",
              "      <td>3.0</td>\n",
              "      <td>2.0</td>\n",
              "      <td>155.00</td>\n",
              "    </tr>\n",
              "    <tr>\n",
              "      <th>9</th>\n",
              "      <td>1310.0</td>\n",
              "      <td>3</td>\n",
              "      <td>2.0</td>\n",
              "      <td>2.0</td>\n",
              "      <td>50.00</td>\n",
              "    </tr>\n",
              "    <tr>\n",
              "      <th>10</th>\n",
              "      <td>3700.0</td>\n",
              "      <td>5</td>\n",
              "      <td>3.0</td>\n",
              "      <td>3.0</td>\n",
              "      <td>167.00</td>\n",
              "    </tr>\n",
              "    <tr>\n",
              "      <th>11</th>\n",
              "      <td>1800.0</td>\n",
              "      <td>3</td>\n",
              "      <td>3.0</td>\n",
              "      <td>NaN</td>\n",
              "      <td>82.00</td>\n",
              "    </tr>\n",
              "    <tr>\n",
              "      <th>12</th>\n",
              "      <td>2785.0</td>\n",
              "      <td>4</td>\n",
              "      <td>2.0</td>\n",
              "      <td>3.0</td>\n",
              "      <td>140.00</td>\n",
              "    </tr>\n",
              "    <tr>\n",
              "      <th>13</th>\n",
              "      <td>NaN</td>\n",
              "      <td>2</td>\n",
              "      <td>NaN</td>\n",
              "      <td>1.0</td>\n",
              "      <td>38.00</td>\n",
              "    </tr>\n",
              "    <tr>\n",
              "      <th>14</th>\n",
              "      <td>1100.0</td>\n",
              "      <td>2</td>\n",
              "      <td>2.0</td>\n",
              "      <td>2.0</td>\n",
              "      <td>40.00</td>\n",
              "    </tr>\n",
              "    <tr>\n",
              "      <th>15</th>\n",
              "      <td>2250.0</td>\n",
              "      <td>3</td>\n",
              "      <td>2.0</td>\n",
              "      <td>3.0</td>\n",
              "      <td>101.00</td>\n",
              "    </tr>\n",
              "    <tr>\n",
              "      <th>16</th>\n",
              "      <td>2770.0</td>\n",
              "      <td>3</td>\n",
              "      <td>3.0</td>\n",
              "      <td>2.0</td>\n",
              "      <td>102.00</td>\n",
              "    </tr>\n",
              "    <tr>\n",
              "      <th>17</th>\n",
              "      <td>1175.0</td>\n",
              "      <td>2</td>\n",
              "      <td>1.0</td>\n",
              "      <td>2.0</td>\n",
              "      <td>42.00</td>\n",
              "    </tr>\n",
              "    <tr>\n",
              "      <th>18</th>\n",
              "      <td>1180.0</td>\n",
              "      <td>3</td>\n",
              "      <td>2.0</td>\n",
              "      <td>3.0</td>\n",
              "      <td>48.00</td>\n",
              "    </tr>\n",
              "    <tr>\n",
              "      <th>19</th>\n",
              "      <td>1540.0</td>\n",
              "      <td>3</td>\n",
              "      <td>3.0</td>\n",
              "      <td>NaN</td>\n",
              "      <td>60.00</td>\n",
              "    </tr>\n",
              "    <tr>\n",
              "      <th>20</th>\n",
              "      <td>2770.0</td>\n",
              "      <td>3</td>\n",
              "      <td>3.0</td>\n",
              "      <td>2.0</td>\n",
              "      <td>102.00</td>\n",
              "    </tr>\n",
              "    <tr>\n",
              "      <th>21</th>\n",
              "      <td>800.0</td>\n",
              "      <td>1</td>\n",
              "      <td>1.0</td>\n",
              "      <td>1.0</td>\n",
              "      <td>32.00</td>\n",
              "    </tr>\n",
              "  </tbody>\n",
              "</table>\n",
              "</div>\n",
              "    <div class=\"colab-df-buttons\">\n",
              "\n",
              "  <div class=\"colab-df-container\">\n",
              "    <button class=\"colab-df-convert\" onclick=\"convertToInteractive('df-3712a18b-66f7-4ae4-861e-a12471e4a3b6')\"\n",
              "            title=\"Convert this dataframe to an interactive table.\"\n",
              "            style=\"display:none;\">\n",
              "\n",
              "  <svg xmlns=\"http://www.w3.org/2000/svg\" height=\"24px\" viewBox=\"0 -960 960 960\">\n",
              "    <path d=\"M120-120v-720h720v720H120Zm60-500h600v-160H180v160Zm220 220h160v-160H400v160Zm0 220h160v-160H400v160ZM180-400h160v-160H180v160Zm440 0h160v-160H620v160ZM180-180h160v-160H180v160Zm440 0h160v-160H620v160Z\"/>\n",
              "  </svg>\n",
              "    </button>\n",
              "\n",
              "  <style>\n",
              "    .colab-df-container {\n",
              "      display:flex;\n",
              "      gap: 12px;\n",
              "    }\n",
              "\n",
              "    .colab-df-convert {\n",
              "      background-color: #E8F0FE;\n",
              "      border: none;\n",
              "      border-radius: 50%;\n",
              "      cursor: pointer;\n",
              "      display: none;\n",
              "      fill: #1967D2;\n",
              "      height: 32px;\n",
              "      padding: 0 0 0 0;\n",
              "      width: 32px;\n",
              "    }\n",
              "\n",
              "    .colab-df-convert:hover {\n",
              "      background-color: #E2EBFA;\n",
              "      box-shadow: 0px 1px 2px rgba(60, 64, 67, 0.3), 0px 1px 3px 1px rgba(60, 64, 67, 0.15);\n",
              "      fill: #174EA6;\n",
              "    }\n",
              "\n",
              "    .colab-df-buttons div {\n",
              "      margin-bottom: 4px;\n",
              "    }\n",
              "\n",
              "    [theme=dark] .colab-df-convert {\n",
              "      background-color: #3B4455;\n",
              "      fill: #D2E3FC;\n",
              "    }\n",
              "\n",
              "    [theme=dark] .colab-df-convert:hover {\n",
              "      background-color: #434B5C;\n",
              "      box-shadow: 0px 1px 3px 1px rgba(0, 0, 0, 0.15);\n",
              "      filter: drop-shadow(0px 1px 2px rgba(0, 0, 0, 0.3));\n",
              "      fill: #FFFFFF;\n",
              "    }\n",
              "  </style>\n",
              "\n",
              "    <script>\n",
              "      const buttonEl =\n",
              "        document.querySelector('#df-3712a18b-66f7-4ae4-861e-a12471e4a3b6 button.colab-df-convert');\n",
              "      buttonEl.style.display =\n",
              "        google.colab.kernel.accessAllowed ? 'block' : 'none';\n",
              "\n",
              "      async function convertToInteractive(key) {\n",
              "        const element = document.querySelector('#df-3712a18b-66f7-4ae4-861e-a12471e4a3b6');\n",
              "        const dataTable =\n",
              "          await google.colab.kernel.invokeFunction('convertToInteractive',\n",
              "                                                    [key], {});\n",
              "        if (!dataTable) return;\n",
              "\n",
              "        const docLinkHtml = 'Like what you see? Visit the ' +\n",
              "          '<a target=\"_blank\" href=https://colab.research.google.com/notebooks/data_table.ipynb>data table notebook</a>'\n",
              "          + ' to learn more about interactive tables.';\n",
              "        element.innerHTML = '';\n",
              "        dataTable['output_type'] = 'display_data';\n",
              "        await google.colab.output.renderOutput(dataTable, element);\n",
              "        const docLink = document.createElement('div');\n",
              "        docLink.innerHTML = docLinkHtml;\n",
              "        element.appendChild(docLink);\n",
              "      }\n",
              "    </script>\n",
              "  </div>\n",
              "\n",
              "\n",
              "<div id=\"df-7016570f-b4e6-4871-8437-0cc86a42e511\">\n",
              "  <button class=\"colab-df-quickchart\" onclick=\"quickchart('df-7016570f-b4e6-4871-8437-0cc86a42e511')\"\n",
              "            title=\"Suggest charts\"\n",
              "            style=\"display:none;\">\n",
              "\n",
              "<svg xmlns=\"http://www.w3.org/2000/svg\" height=\"24px\"viewBox=\"0 0 24 24\"\n",
              "     width=\"24px\">\n",
              "    <g>\n",
              "        <path d=\"M19 3H5c-1.1 0-2 .9-2 2v14c0 1.1.9 2 2 2h14c1.1 0 2-.9 2-2V5c0-1.1-.9-2-2-2zM9 17H7v-7h2v7zm4 0h-2V7h2v10zm4 0h-2v-4h2v4z\"/>\n",
              "    </g>\n",
              "</svg>\n",
              "  </button>\n",
              "\n",
              "<style>\n",
              "  .colab-df-quickchart {\n",
              "      --bg-color: #E8F0FE;\n",
              "      --fill-color: #1967D2;\n",
              "      --hover-bg-color: #E2EBFA;\n",
              "      --hover-fill-color: #174EA6;\n",
              "      --disabled-fill-color: #AAA;\n",
              "      --disabled-bg-color: #DDD;\n",
              "  }\n",
              "\n",
              "  [theme=dark] .colab-df-quickchart {\n",
              "      --bg-color: #3B4455;\n",
              "      --fill-color: #D2E3FC;\n",
              "      --hover-bg-color: #434B5C;\n",
              "      --hover-fill-color: #FFFFFF;\n",
              "      --disabled-bg-color: #3B4455;\n",
              "      --disabled-fill-color: #666;\n",
              "  }\n",
              "\n",
              "  .colab-df-quickchart {\n",
              "    background-color: var(--bg-color);\n",
              "    border: none;\n",
              "    border-radius: 50%;\n",
              "    cursor: pointer;\n",
              "    display: none;\n",
              "    fill: var(--fill-color);\n",
              "    height: 32px;\n",
              "    padding: 0;\n",
              "    width: 32px;\n",
              "  }\n",
              "\n",
              "  .colab-df-quickchart:hover {\n",
              "    background-color: var(--hover-bg-color);\n",
              "    box-shadow: 0 1px 2px rgba(60, 64, 67, 0.3), 0 1px 3px 1px rgba(60, 64, 67, 0.15);\n",
              "    fill: var(--button-hover-fill-color);\n",
              "  }\n",
              "\n",
              "  .colab-df-quickchart-complete:disabled,\n",
              "  .colab-df-quickchart-complete:disabled:hover {\n",
              "    background-color: var(--disabled-bg-color);\n",
              "    fill: var(--disabled-fill-color);\n",
              "    box-shadow: none;\n",
              "  }\n",
              "\n",
              "  .colab-df-spinner {\n",
              "    border: 2px solid var(--fill-color);\n",
              "    border-color: transparent;\n",
              "    border-bottom-color: var(--fill-color);\n",
              "    animation:\n",
              "      spin 1s steps(1) infinite;\n",
              "  }\n",
              "\n",
              "  @keyframes spin {\n",
              "    0% {\n",
              "      border-color: transparent;\n",
              "      border-bottom-color: var(--fill-color);\n",
              "      border-left-color: var(--fill-color);\n",
              "    }\n",
              "    20% {\n",
              "      border-color: transparent;\n",
              "      border-left-color: var(--fill-color);\n",
              "      border-top-color: var(--fill-color);\n",
              "    }\n",
              "    30% {\n",
              "      border-color: transparent;\n",
              "      border-left-color: var(--fill-color);\n",
              "      border-top-color: var(--fill-color);\n",
              "      border-right-color: var(--fill-color);\n",
              "    }\n",
              "    40% {\n",
              "      border-color: transparent;\n",
              "      border-right-color: var(--fill-color);\n",
              "      border-top-color: var(--fill-color);\n",
              "    }\n",
              "    60% {\n",
              "      border-color: transparent;\n",
              "      border-right-color: var(--fill-color);\n",
              "    }\n",
              "    80% {\n",
              "      border-color: transparent;\n",
              "      border-right-color: var(--fill-color);\n",
              "      border-bottom-color: var(--fill-color);\n",
              "    }\n",
              "    90% {\n",
              "      border-color: transparent;\n",
              "      border-bottom-color: var(--fill-color);\n",
              "    }\n",
              "  }\n",
              "</style>\n",
              "\n",
              "  <script>\n",
              "    async function quickchart(key) {\n",
              "      const quickchartButtonEl =\n",
              "        document.querySelector('#' + key + ' button');\n",
              "      quickchartButtonEl.disabled = true;  // To prevent multiple clicks.\n",
              "      quickchartButtonEl.classList.add('colab-df-spinner');\n",
              "      try {\n",
              "        const charts = await google.colab.kernel.invokeFunction(\n",
              "            'suggestCharts', [key], {});\n",
              "      } catch (error) {\n",
              "        console.error('Error during call to suggestCharts:', error);\n",
              "      }\n",
              "      quickchartButtonEl.classList.remove('colab-df-spinner');\n",
              "      quickchartButtonEl.classList.add('colab-df-quickchart-complete');\n",
              "    }\n",
              "    (() => {\n",
              "      let quickchartButtonEl =\n",
              "        document.querySelector('#df-7016570f-b4e6-4871-8437-0cc86a42e511 button');\n",
              "      quickchartButtonEl.style.display =\n",
              "        google.colab.kernel.accessAllowed ? 'block' : 'none';\n",
              "    })();\n",
              "  </script>\n",
              "</div>\n",
              "\n",
              "  <div id=\"id_8bcc723a-9741-474d-8250-2e5c88e45e3c\">\n",
              "    <style>\n",
              "      .colab-df-generate {\n",
              "        background-color: #E8F0FE;\n",
              "        border: none;\n",
              "        border-radius: 50%;\n",
              "        cursor: pointer;\n",
              "        display: none;\n",
              "        fill: #1967D2;\n",
              "        height: 32px;\n",
              "        padding: 0 0 0 0;\n",
              "        width: 32px;\n",
              "      }\n",
              "\n",
              "      .colab-df-generate:hover {\n",
              "        background-color: #E2EBFA;\n",
              "        box-shadow: 0px 1px 2px rgba(60, 64, 67, 0.3), 0px 1px 3px 1px rgba(60, 64, 67, 0.15);\n",
              "        fill: #174EA6;\n",
              "      }\n",
              "\n",
              "      [theme=dark] .colab-df-generate {\n",
              "        background-color: #3B4455;\n",
              "        fill: #D2E3FC;\n",
              "      }\n",
              "\n",
              "      [theme=dark] .colab-df-generate:hover {\n",
              "        background-color: #434B5C;\n",
              "        box-shadow: 0px 1px 3px 1px rgba(0, 0, 0, 0.15);\n",
              "        filter: drop-shadow(0px 1px 2px rgba(0, 0, 0, 0.3));\n",
              "        fill: #FFFFFF;\n",
              "      }\n",
              "    </style>\n",
              "    <button class=\"colab-df-generate\" onclick=\"generateWithVariable('df')\"\n",
              "            title=\"Generate code using this dataframe.\"\n",
              "            style=\"display:none;\">\n",
              "\n",
              "  <svg xmlns=\"http://www.w3.org/2000/svg\" height=\"24px\"viewBox=\"0 0 24 24\"\n",
              "       width=\"24px\">\n",
              "    <path d=\"M7,19H8.4L18.45,9,17,7.55,7,17.6ZM5,21V16.75L18.45,3.32a2,2,0,0,1,2.83,0l1.4,1.43a1.91,1.91,0,0,1,.58,1.4,1.91,1.91,0,0,1-.58,1.4L9.25,21ZM18.45,9,17,7.55Zm-12,3A5.31,5.31,0,0,0,4.9,8.1,5.31,5.31,0,0,0,1,6.5,5.31,5.31,0,0,0,4.9,4.9,5.31,5.31,0,0,0,6.5,1,5.31,5.31,0,0,0,8.1,4.9,5.31,5.31,0,0,0,12,6.5,5.46,5.46,0,0,0,6.5,12Z\"/>\n",
              "  </svg>\n",
              "    </button>\n",
              "    <script>\n",
              "      (() => {\n",
              "      const buttonEl =\n",
              "        document.querySelector('#id_8bcc723a-9741-474d-8250-2e5c88e45e3c button.colab-df-generate');\n",
              "      buttonEl.style.display =\n",
              "        google.colab.kernel.accessAllowed ? 'block' : 'none';\n",
              "\n",
              "      buttonEl.onclick = () => {\n",
              "        google.colab.notebook.generateWithVariable('df');\n",
              "      }\n",
              "      })();\n",
              "    </script>\n",
              "  </div>\n",
              "\n",
              "    </div>\n",
              "  </div>\n"
            ],
            "application/vnd.google.colaboratory.intrinsic+json": {
              "type": "dataframe",
              "variable_name": "df",
              "summary": "{\n  \"name\": \"df\",\n  \"rows\": 22,\n  \"fields\": [\n    {\n      \"column\": \"area\",\n      \"properties\": {\n        \"dtype\": \"number\",\n        \"std\": 849.0008581520145,\n        \"min\": 800.0,\n        \"max\": 3700.0,\n        \"num_unique_values\": 19,\n        \"samples\": [\n          1056.0,\n          1170.0,\n          2785.0\n        ],\n        \"semantic_type\": \"\",\n        \"description\": \"\"\n      }\n    },\n    {\n      \"column\": \"bedrooms\",\n      \"properties\": {\n        \"dtype\": \"number\",\n        \"std\": 0,\n        \"min\": 1,\n        \"max\": 5,\n        \"num_unique_values\": 5,\n        \"samples\": [\n          4,\n          1,\n          3\n        ],\n        \"semantic_type\": \"\",\n        \"description\": \"\"\n      }\n    },\n    {\n      \"column\": \"bathrooms\",\n      \"properties\": {\n        \"dtype\": \"number\",\n        \"std\": 0.6708203932499369,\n        \"min\": 1.0,\n        \"max\": 3.0,\n        \"num_unique_values\": 3,\n        \"samples\": [\n          2.0,\n          3.0,\n          1.0\n        ],\n        \"semantic_type\": \"\",\n        \"description\": \"\"\n      }\n    },\n    {\n      \"column\": \"balcony\",\n      \"properties\": {\n        \"dtype\": \"number\",\n        \"std\": 0.7374684055082,\n        \"min\": 1.0,\n        \"max\": 3.0,\n        \"num_unique_values\": 3,\n        \"samples\": [\n          1.0,\n          3.0,\n          2.0\n        ],\n        \"semantic_type\": \"\",\n        \"description\": \"\"\n      }\n    },\n    {\n      \"column\": \"price\",\n      \"properties\": {\n        \"dtype\": \"number\",\n        \"std\": 41.93002475522792,\n        \"min\": 32.0,\n        \"max\": 167.0,\n        \"num_unique_values\": 19,\n        \"samples\": [\n          39.07,\n          38.0,\n          140.0\n        ],\n        \"semantic_type\": \"\",\n        \"description\": \"\"\n      }\n    }\n  ]\n}"
            }
          },
          "metadata": {},
          "execution_count": 8
        }
      ]
    },
    {
      "cell_type": "code",
      "source": [
        "df_bfill = df.fillna(method='bfill')\n",
        "print(\"\\nDataFrame after backward fill:\\n\", df_bfill)"
      ],
      "metadata": {
        "colab": {
          "base_uri": "https://localhost:8080/"
        },
        "id": "4ndgeKbtBh3p",
        "outputId": "3f307d3b-7c0b-44cf-cd19-78a048fe03ef"
      },
      "execution_count": 9,
      "outputs": [
        {
          "output_type": "stream",
          "name": "stdout",
          "text": [
            "\n",
            "DataFrame after backward fill:\n",
            "       area  bedrooms  bathrooms  balcony   price\n",
            "0   1056.0         2        2.0      1.0   39.07\n",
            "1   2600.0         4        3.0      3.0  120.00\n",
            "2   1440.0         3        2.0      2.0   62.00\n",
            "3   1521.0         3        3.0      2.0   75.00\n",
            "4   1521.0         3        3.0      2.0   75.00\n",
            "5   1200.0         2        2.0      1.0   51.00\n",
            "6   1170.0         2        2.0      2.0   38.00\n",
            "7   2732.0         4        2.0      3.0  135.00\n",
            "8   3300.0         4        3.0      2.0  155.00\n",
            "9   1310.0         3        2.0      2.0   50.00\n",
            "10  3700.0         5        3.0      3.0  167.00\n",
            "11  1800.0         3        3.0      3.0   82.00\n",
            "12  2785.0         4        2.0      3.0  140.00\n",
            "13  1100.0         2        2.0      1.0   38.00\n",
            "14  1100.0         2        2.0      2.0   40.00\n",
            "15  2250.0         3        2.0      3.0  101.00\n",
            "16  2770.0         3        3.0      2.0  102.00\n",
            "17  1175.0         2        1.0      2.0   42.00\n",
            "18  1180.0         3        2.0      3.0   48.00\n",
            "19  1540.0         3        3.0      2.0   60.00\n",
            "20  2770.0         3        3.0      2.0  102.00\n",
            "21   800.0         1        1.0      1.0   32.00\n"
          ]
        },
        {
          "output_type": "stream",
          "name": "stderr",
          "text": [
            "<ipython-input-9-20fb8c3f7c72>:1: FutureWarning: DataFrame.fillna with 'method' is deprecated and will raise in a future version. Use obj.ffill() or obj.bfill() instead.\n",
            "  df_bfill = df.fillna(method='bfill')\n"
          ]
        }
      ]
    },
    {
      "cell_type": "markdown",
      "source": [
        "Task 7: Interpolate missing values"
      ],
      "metadata": {
        "id": "0f2BHWciCnAe"
      }
    },
    {
      "cell_type": "code",
      "source": [
        "df_interpolated = df.interpolate()\n",
        "print(\"\\nDataFrame after interpolation:\\n\", df_interpolated)"
      ],
      "metadata": {
        "colab": {
          "base_uri": "https://localhost:8080/"
        },
        "id": "xGABFRrbCV5z",
        "outputId": "9b03733d-e436-4ce4-f153-77260f50491b"
      },
      "execution_count": 10,
      "outputs": [
        {
          "output_type": "stream",
          "name": "stdout",
          "text": [
            "\n",
            "DataFrame after interpolation:\n",
            "       area  bedrooms  bathrooms  balcony   price\n",
            "0   1056.0         2        2.0      1.0   39.07\n",
            "1   2600.0         4        3.0      3.0  120.00\n",
            "2   1440.0         3        2.0      2.5   62.00\n",
            "3   1521.0         3        3.0      2.0   75.00\n",
            "4   1521.0         3        3.0      2.0   75.00\n",
            "5   1200.0         2        2.0      1.0   51.00\n",
            "6   1170.0         2        2.0      2.0   38.00\n",
            "7   2732.0         4        2.0      3.0  135.00\n",
            "8   3300.0         4        3.0      2.0  155.00\n",
            "9   1310.0         3        2.0      2.0   50.00\n",
            "10  3700.0         5        3.0      3.0  167.00\n",
            "11  1800.0         3        3.0      3.0   82.00\n",
            "12  2785.0         4        2.0      3.0  140.00\n",
            "13  1942.5         2        2.0      1.0   38.00\n",
            "14  1100.0         2        2.0      2.0   40.00\n",
            "15  2250.0         3        2.0      3.0  101.00\n",
            "16  2770.0         3        3.0      2.0  102.00\n",
            "17  1175.0         2        1.0      2.0   42.00\n",
            "18  1180.0         3        2.0      3.0   48.00\n",
            "19  1540.0         3        3.0      2.5   60.00\n",
            "20  2770.0         3        3.0      2.0  102.00\n",
            "21   800.0         1        1.0      1.0   32.00\n"
          ]
        }
      ]
    },
    {
      "cell_type": "markdown",
      "source": [
        "Task 8: Convert a column to a different data type (e.g., Area to float)"
      ],
      "metadata": {
        "id": "-1KiFuyTDHCF"
      }
    },
    {
      "cell_type": "code",
      "source": [
        "df['Area'] = df['area'].astype(float)\n",
        "df['price'] = df['price'].astype(int)\n",
        "print(\"\\nDataFrame after converting 'Area' to float:\\n\", df.dtypes)"
      ],
      "metadata": {
        "colab": {
          "base_uri": "https://localhost:8080/"
        },
        "id": "Q6rXktJUCvD5",
        "outputId": "ad2c307d-0141-4ee6-895c-c0ae70064741"
      },
      "execution_count": 11,
      "outputs": [
        {
          "output_type": "stream",
          "name": "stdout",
          "text": [
            "\n",
            "DataFrame after converting 'Area' to float:\n",
            " area         float64\n",
            "bedrooms       int64\n",
            "bathrooms    float64\n",
            "balcony      float64\n",
            "price          int64\n",
            "Area         float64\n",
            "dtype: object\n"
          ]
        }
      ]
    },
    {
      "cell_type": "markdown",
      "source": [
        "Task 9: Apply a function to transform the values of a column (e.g., convert prices to thousands)"
      ],
      "metadata": {
        "id": "mw_aQbprpq67"
      }
    },
    {
      "cell_type": "code",
      "source": [
        "df['price'] = df['price'].apply(lambda x: x / 1000)\n",
        "print(\"\\nDataFrame after transforming 'Price' column:\\n\", df.head())"
      ],
      "metadata": {
        "colab": {
          "base_uri": "https://localhost:8080/"
        },
        "id": "9BX4bAQeDZTJ",
        "outputId": "6a613a34-0ffb-4941-b253-d44ab6100ab0"
      },
      "execution_count": 12,
      "outputs": [
        {
          "output_type": "stream",
          "name": "stdout",
          "text": [
            "\n",
            "DataFrame after transforming 'Price' column:\n",
            "      area  bedrooms  bathrooms  balcony  price    Area\n",
            "0  1056.0         2        2.0      1.0  0.039  1056.0\n",
            "1  2600.0         4        3.0      3.0  0.120  2600.0\n",
            "2  1440.0         3        2.0      NaN  0.062  1440.0\n",
            "3  1521.0         3        3.0      2.0  0.075  1521.0\n",
            "4  1521.0         3        3.0      2.0  0.075  1521.0\n"
          ]
        }
      ]
    },
    {
      "cell_type": "markdown",
      "source": [
        "Task 10: Normalize a column using Min-Max scaling (Price)"
      ],
      "metadata": {
        "id": "YDRb5OTVqA5b"
      }
    },
    {
      "cell_type": "code",
      "source": [
        "scaler = MinMaxScaler()\n",
        "df['Normalized_Pr'] = scaler.fit_transform(df[['price']])\n",
        "print(\"\\nDataFrame after Min-Max normalization on 'Price':\\n\", df.head())"
      ],
      "metadata": {
        "colab": {
          "base_uri": "https://localhost:8080/"
        },
        "id": "9go09T6DpyBd",
        "outputId": "39fa5880-3e99-46b2-dfd1-051c94cee694"
      },
      "execution_count": 13,
      "outputs": [
        {
          "output_type": "stream",
          "name": "stdout",
          "text": [
            "\n",
            "DataFrame after Min-Max normalization on 'Price':\n",
            "      area  bedrooms  bathrooms  balcony  price    Area  Normalized_Pr\n",
            "0  1056.0         2        2.0      1.0  0.039  1056.0       0.051852\n",
            "1  2600.0         4        3.0      3.0  0.120  2600.0       0.651852\n",
            "2  1440.0         3        2.0      NaN  0.062  1440.0       0.222222\n",
            "3  1521.0         3        3.0      2.0  0.075  1521.0       0.318519\n",
            "4  1521.0         3        3.0      2.0  0.075  1521.0       0.318519\n"
          ]
        }
      ]
    },
    {
      "cell_type": "markdown",
      "source": [
        "Task 11: Standardize a column (z-score normalization on 'Price')"
      ],
      "metadata": {
        "id": "ISCDSTqEqdNi"
      }
    },
    {
      "cell_type": "code",
      "source": [
        "scaler = StandardScaler()\n",
        "df['Standardized_Pr'] = scaler.fit_transform(df[['price']])\n",
        "print(\"\\nDataFrame after standardizing 'Price':\\n\", df.head())"
      ],
      "metadata": {
        "colab": {
          "base_uri": "https://localhost:8080/"
        },
        "id": "d1QmFTlCqGzh",
        "outputId": "d0125414-851b-48c5-aac2-472302786c0a"
      },
      "execution_count": 14,
      "outputs": [
        {
          "output_type": "stream",
          "name": "stdout",
          "text": [
            "\n",
            "DataFrame after standardizing 'Price':\n",
            "      area  bedrooms  bathrooms  balcony  price    Area  Normalized_Pr  \\\n",
            "0  1056.0         2        2.0      1.0  0.039  1056.0       0.051852   \n",
            "1  2600.0         4        3.0      3.0  0.120  2600.0       0.651852   \n",
            "2  1440.0         3        2.0      NaN  0.062  1440.0       0.222222   \n",
            "3  1521.0         3        3.0      2.0  0.075  1521.0       0.318519   \n",
            "4  1521.0         3        3.0      2.0  0.075  1521.0       0.318519   \n",
            "\n",
            "   Standardized_Pr  \n",
            "0        -0.994096  \n",
            "1         0.983001  \n",
            "2        -0.432698  \n",
            "3        -0.115386  \n",
            "4        -0.115386  \n"
          ]
        }
      ]
    },
    {
      "cell_type": "markdown",
      "source": [
        "Task 12: Identify duplicate rows"
      ],
      "metadata": {
        "id": "0e_MLYY3rMpO"
      }
    },
    {
      "cell_type": "code",
      "source": [
        "print(\"\\nDuplicate rows in DataFrame:\\n\", df.duplicated().sum())"
      ],
      "metadata": {
        "colab": {
          "base_uri": "https://localhost:8080/"
        },
        "id": "2eqsehvdq676",
        "outputId": "320df233-4377-41b5-8642-972d817f0538"
      },
      "execution_count": 15,
      "outputs": [
        {
          "output_type": "stream",
          "name": "stdout",
          "text": [
            "\n",
            "Duplicate rows in DataFrame:\n",
            " 2\n"
          ]
        }
      ]
    },
    {
      "cell_type": "markdown",
      "source": [
        "Task 13: Drop duplicate rows"
      ],
      "metadata": {
        "id": "hTrKJfqRr4kU"
      }
    },
    {
      "cell_type": "code",
      "source": [
        "df_no_duplicates = df.drop_duplicates()\n",
        "print(\"\\nDataFrame after removing duplicate rows:\\n\", df_no_duplicates)"
      ],
      "metadata": {
        "colab": {
          "base_uri": "https://localhost:8080/"
        },
        "id": "yOvA6K_drOs5",
        "outputId": "d0702a06-b04f-4bc6-ab47-e0ff7b31acb8"
      },
      "execution_count": 16,
      "outputs": [
        {
          "output_type": "stream",
          "name": "stdout",
          "text": [
            "\n",
            "DataFrame after removing duplicate rows:\n",
            "       area  bedrooms  bathrooms  balcony  price    Area  Normalized_Pr  \\\n",
            "0   1056.0         2        2.0      1.0  0.039  1056.0       0.051852   \n",
            "1   2600.0         4        3.0      3.0  0.120  2600.0       0.651852   \n",
            "2   1440.0         3        2.0      NaN  0.062  1440.0       0.222222   \n",
            "3   1521.0         3        3.0      2.0  0.075  1521.0       0.318519   \n",
            "5   1200.0         2        2.0      1.0  0.051  1200.0       0.140741   \n",
            "6   1170.0         2        NaN      2.0  0.038  1170.0       0.044444   \n",
            "7   2732.0         4        2.0      3.0  0.135  2732.0       0.762963   \n",
            "8   3300.0         4        3.0      2.0  0.155  3300.0       0.911111   \n",
            "9   1310.0         3        2.0      2.0  0.050  1310.0       0.133333   \n",
            "10  3700.0         5        3.0      3.0  0.167  3700.0       1.000000   \n",
            "11  1800.0         3        3.0      NaN  0.082  1800.0       0.370370   \n",
            "12  2785.0         4        2.0      3.0  0.140  2785.0       0.800000   \n",
            "13     NaN         2        NaN      1.0  0.038     NaN       0.044444   \n",
            "14  1100.0         2        2.0      2.0  0.040  1100.0       0.059259   \n",
            "15  2250.0         3        2.0      3.0  0.101  2250.0       0.511111   \n",
            "16  2770.0         3        3.0      2.0  0.102  2770.0       0.518519   \n",
            "17  1175.0         2        1.0      2.0  0.042  1175.0       0.074074   \n",
            "18  1180.0         3        2.0      3.0  0.048  1180.0       0.118519   \n",
            "19  1540.0         3        3.0      NaN  0.060  1540.0       0.207407   \n",
            "21   800.0         1        1.0      1.0  0.032   800.0       0.000000   \n",
            "\n",
            "    Standardized_Pr  \n",
            "0         -0.994096  \n",
            "1          0.983001  \n",
            "2         -0.432698  \n",
            "3         -0.115386  \n",
            "5         -0.701193  \n",
            "6         -1.018505  \n",
            "7          1.349131  \n",
            "8          1.837303  \n",
            "9         -0.725601  \n",
            "10         2.130206  \n",
            "11         0.055474  \n",
            "12         1.471174  \n",
            "13        -1.018505  \n",
            "14        -0.969688  \n",
            "15         0.519238  \n",
            "16         0.543646  \n",
            "17        -0.920870  \n",
            "18        -0.774419  \n",
            "19        -0.481515  \n",
            "21        -1.164956  \n"
          ]
        }
      ]
    },
    {
      "cell_type": "markdown",
      "source": [
        "Task 14: Drop duplicate rows based on specific columns (e.g., Area and Price)"
      ],
      "metadata": {
        "id": "Q3xQb_Iutpml"
      }
    },
    {
      "cell_type": "code",
      "source": [
        "df_no_duplicates_subset = df.drop_duplicates(subset=['area', 'price'])\n",
        "print(\"\\nDataFrame after dropping duplicates based on 'Area' and 'Price':\\n\", df_no_duplicates_subset)"
      ],
      "metadata": {
        "colab": {
          "base_uri": "https://localhost:8080/"
        },
        "id": "q1zGixNitZFu",
        "outputId": "4c45b713-29be-4668-c36b-71f85216d00f"
      },
      "execution_count": 21,
      "outputs": [
        {
          "output_type": "stream",
          "name": "stdout",
          "text": [
            "\n",
            "DataFrame after dropping duplicates based on 'Area' and 'Price':\n",
            "       area  bedrooms  bathrooms  balcony  price  Normalized_Pr  \\\n",
            "0   1056.0         2        2.0      1.0  0.039       0.051852   \n",
            "1   2600.0         4        3.0      3.0  0.120       0.651852   \n",
            "2   1440.0         3        2.0      NaN  0.062       0.222222   \n",
            "3   1521.0         3        3.0      2.0  0.075       0.318519   \n",
            "5   1200.0         2        2.0      1.0  0.051       0.140741   \n",
            "6   1170.0         2        NaN      2.0  0.038       0.044444   \n",
            "7   2732.0         4        2.0      3.0  0.135       0.762963   \n",
            "8   3300.0         4        3.0      2.0  0.155       0.911111   \n",
            "9   1310.0         3        2.0      2.0  0.050       0.133333   \n",
            "10  3700.0         5        3.0      3.0  0.167       1.000000   \n",
            "11  1800.0         3        3.0      NaN  0.082       0.370370   \n",
            "12  2785.0         4        2.0      3.0  0.140       0.800000   \n",
            "13     NaN         2        NaN      1.0  0.038       0.044444   \n",
            "14  1100.0         2        2.0      2.0  0.040       0.059259   \n",
            "15  2250.0         3        2.0      3.0  0.101       0.511111   \n",
            "16  2770.0         3        3.0      2.0  0.102       0.518519   \n",
            "17  1175.0         2        1.0      2.0  0.042       0.074074   \n",
            "18  1180.0         3        2.0      3.0  0.048       0.118519   \n",
            "19  1540.0         3        3.0      NaN  0.060       0.207407   \n",
            "21   800.0         1        1.0      1.0  0.032       0.000000   \n",
            "\n",
            "    Standardized_Pr  \n",
            "0         -0.994096  \n",
            "1          0.983001  \n",
            "2         -0.432698  \n",
            "3         -0.115386  \n",
            "5         -0.701193  \n",
            "6         -1.018505  \n",
            "7          1.349131  \n",
            "8          1.837303  \n",
            "9         -0.725601  \n",
            "10         2.130206  \n",
            "11         0.055474  \n",
            "12         1.471174  \n",
            "13        -1.018505  \n",
            "14        -0.969688  \n",
            "15         0.519238  \n",
            "16         0.543646  \n",
            "17        -0.920870  \n",
            "18        -0.774419  \n",
            "19        -0.481515  \n",
            "21        -1.164956  \n"
          ]
        }
      ]
    },
    {
      "cell_type": "markdown",
      "source": [
        "Task 15: Convert all string values in a column to lowercase (if applicable)"
      ],
      "metadata": {
        "id": "zvVj0rYotrDc"
      }
    },
    {
      "cell_type": "code",
      "source": [
        "df['balcony'] = df['balcony'].astype(str).str.lower()\n",
        "print(\"\\nDataFrame after converting 'Balcony' to lowercase:\\n\", df.head())"
      ],
      "metadata": {
        "colab": {
          "base_uri": "https://localhost:8080/"
        },
        "id": "-9wQoNPWtbYf",
        "outputId": "0d41242b-3f69-4df9-8854-a96497294eb2"
      },
      "execution_count": 23,
      "outputs": [
        {
          "output_type": "stream",
          "name": "stdout",
          "text": [
            "\n",
            "DataFrame after converting 'Balcony' to lowercase:\n",
            "      area  bedrooms  bathrooms balcony  price  Normalized_Pr  Standardized_Pr\n",
            "0  1056.0         2        2.0     1.0  0.039       0.051852        -0.994096\n",
            "1  2600.0         4        3.0     3.0  0.120       0.651852         0.983001\n",
            "2  1440.0         3        2.0     nan  0.062       0.222222        -0.432698\n",
            "3  1521.0         3        3.0     2.0  0.075       0.318519        -0.115386\n",
            "4  1521.0         3        3.0     2.0  0.075       0.318519        -0.115386\n"
          ]
        }
      ]
    },
    {
      "cell_type": "markdown",
      "source": [
        "Task 16: Remove leading and trailing spaces from string values in a column (e.g., Balcony)"
      ],
      "metadata": {
        "id": "9ucCRrfJuB7E"
      }
    },
    {
      "cell_type": "code",
      "source": [
        "df['balcony'] = df['balcony'].str.strip()\n",
        "print(\"\\nDataFrame after stripping spaces in 'Balcony':\\n\", df.head())"
      ],
      "metadata": {
        "colab": {
          "base_uri": "https://localhost:8080/"
        },
        "id": "Fv-lA2C6syyR",
        "outputId": "af965a67-8a38-4eb2-f75e-0060f48c6ab9"
      },
      "execution_count": 24,
      "outputs": [
        {
          "output_type": "stream",
          "name": "stdout",
          "text": [
            "\n",
            "DataFrame after stripping spaces in 'Balcony':\n",
            "      area  bedrooms  bathrooms balcony  price  Normalized_Pr  Standardized_Pr\n",
            "0  1056.0         2        2.0     1.0  0.039       0.051852        -0.994096\n",
            "1  2600.0         4        3.0     3.0  0.120       0.651852         0.983001\n",
            "2  1440.0         3        2.0     nan  0.062       0.222222        -0.432698\n",
            "3  1521.0         3        3.0     2.0  0.075       0.318519        -0.115386\n",
            "4  1521.0         3        3.0     2.0  0.075       0.318519        -0.115386\n"
          ]
        }
      ]
    },
    {
      "cell_type": "markdown",
      "source": [
        "Task 17: Replace a specific substring in a column (e.g., replace 'nan' with 'NAN' in Balcony column)"
      ],
      "metadata": {
        "id": "cDG0D1dcupjM"
      }
    },
    {
      "cell_type": "code",
      "source": [
        "df['balcony'] = df['balcony'].str.replace('nan', 'NAN', regex=True)\n",
        "print(\"\\nDataFrame after replacing 'nan' with 'NAN':\\n\", df.head())"
      ],
      "metadata": {
        "id": "3GGZE9GRujPT",
        "outputId": "0b6db747-cd3e-46b9-8f75-64a938fa3e79",
        "colab": {
          "base_uri": "https://localhost:8080/"
        }
      },
      "execution_count": 26,
      "outputs": [
        {
          "output_type": "stream",
          "name": "stdout",
          "text": [
            "\n",
            "DataFrame after replacing 'nan' with 'NAN':\n",
            "      area  bedrooms  bathrooms balcony  price  Normalized_Pr  Standardized_Pr\n",
            "0  1056.0         2        2.0     1.0  0.039       0.051852        -0.994096\n",
            "1  2600.0         4        3.0     3.0  0.120       0.651852         0.983001\n",
            "2  1440.0         3        2.0     NAN  0.062       0.222222        -0.432698\n",
            "3  1521.0         3        3.0     2.0  0.075       0.318519        -0.115386\n",
            "4  1521.0         3        3.0     2.0  0.075       0.318519        -0.115386\n"
          ]
        }
      ]
    },
    {
      "cell_type": "markdown",
      "source": [
        "Task 18: Extract a substring from each value in a column (if applicable)"
      ],
      "metadata": {
        "id": "a58e2q7tvLBn"
      }
    },
    {
      "cell_type": "code",
      "source": [
        "df['balcony_Sub'] = df['balcony'].str[:1]  # Extract first 3 characters\n",
        "print(\"\\nExtracted substring from 'Balcony':\\n\", df)"
      ],
      "metadata": {
        "id": "V-H1B0B4u72B",
        "outputId": "b70b669e-f31d-44a0-8bd7-39e6ab7da85e",
        "colab": {
          "base_uri": "https://localhost:8080/"
        }
      },
      "execution_count": 28,
      "outputs": [
        {
          "output_type": "stream",
          "name": "stdout",
          "text": [
            "\n",
            "Extracted substring from 'Balcony':\n",
            "       area  bedrooms  bathrooms balcony  price  Normalized_Pr  \\\n",
            "0   1056.0         2        2.0     1.0  0.039       0.051852   \n",
            "1   2600.0         4        3.0     3.0  0.120       0.651852   \n",
            "2   1440.0         3        2.0     NAN  0.062       0.222222   \n",
            "3   1521.0         3        3.0     2.0  0.075       0.318519   \n",
            "4   1521.0         3        3.0     2.0  0.075       0.318519   \n",
            "5   1200.0         2        2.0     1.0  0.051       0.140741   \n",
            "6   1170.0         2        NaN     2.0  0.038       0.044444   \n",
            "7   2732.0         4        2.0     3.0  0.135       0.762963   \n",
            "8   3300.0         4        3.0     2.0  0.155       0.911111   \n",
            "9   1310.0         3        2.0     2.0  0.050       0.133333   \n",
            "10  3700.0         5        3.0     3.0  0.167       1.000000   \n",
            "11  1800.0         3        3.0     NAN  0.082       0.370370   \n",
            "12  2785.0         4        2.0     3.0  0.140       0.800000   \n",
            "13     NaN         2        NaN     1.0  0.038       0.044444   \n",
            "14  1100.0         2        2.0     2.0  0.040       0.059259   \n",
            "15  2250.0         3        2.0     3.0  0.101       0.511111   \n",
            "16  2770.0         3        3.0     2.0  0.102       0.518519   \n",
            "17  1175.0         2        1.0     2.0  0.042       0.074074   \n",
            "18  1180.0         3        2.0     3.0  0.048       0.118519   \n",
            "19  1540.0         3        3.0     NAN  0.060       0.207407   \n",
            "20  2770.0         3        3.0     2.0  0.102       0.518519   \n",
            "21   800.0         1        1.0     1.0  0.032       0.000000   \n",
            "\n",
            "    Standardized_Pr balcony_Sub  \n",
            "0         -0.994096           1  \n",
            "1          0.983001           3  \n",
            "2         -0.432698           N  \n",
            "3         -0.115386           2  \n",
            "4         -0.115386           2  \n",
            "5         -0.701193           1  \n",
            "6         -1.018505           2  \n",
            "7          1.349131           3  \n",
            "8          1.837303           2  \n",
            "9         -0.725601           2  \n",
            "10         2.130206           3  \n",
            "11         0.055474           N  \n",
            "12         1.471174           3  \n",
            "13        -1.018505           1  \n",
            "14        -0.969688           2  \n",
            "15         0.519238           3  \n",
            "16         0.543646           2  \n",
            "17        -0.920870           2  \n",
            "18        -0.774419           3  \n",
            "19        -0.481515           N  \n",
            "20         0.543646           2  \n",
            "21        -1.164956           1  \n"
          ]
        }
      ]
    },
    {
      "cell_type": "code",
      "source": [
        "df =  df.drop(columns= 'balcony_Sub')\n",
        "df.head()"
      ],
      "metadata": {
        "id": "cgFtlfaVvg_4",
        "outputId": "c0f0abf0-50ab-4ccf-dbae-6d2e36746010",
        "colab": {
          "base_uri": "https://localhost:8080/",
          "height": 206
        }
      },
      "execution_count": 29,
      "outputs": [
        {
          "output_type": "execute_result",
          "data": {
            "text/plain": [
              "     area  bedrooms  bathrooms balcony  price  Normalized_Pr  Standardized_Pr\n",
              "0  1056.0         2        2.0     1.0  0.039       0.051852        -0.994096\n",
              "1  2600.0         4        3.0     3.0  0.120       0.651852         0.983001\n",
              "2  1440.0         3        2.0     NAN  0.062       0.222222        -0.432698\n",
              "3  1521.0         3        3.0     2.0  0.075       0.318519        -0.115386\n",
              "4  1521.0         3        3.0     2.0  0.075       0.318519        -0.115386"
            ],
            "text/html": [
              "\n",
              "  <div id=\"df-b6b605d2-ef6a-4149-a6aa-9300fbcb659f\" class=\"colab-df-container\">\n",
              "    <div>\n",
              "<style scoped>\n",
              "    .dataframe tbody tr th:only-of-type {\n",
              "        vertical-align: middle;\n",
              "    }\n",
              "\n",
              "    .dataframe tbody tr th {\n",
              "        vertical-align: top;\n",
              "    }\n",
              "\n",
              "    .dataframe thead th {\n",
              "        text-align: right;\n",
              "    }\n",
              "</style>\n",
              "<table border=\"1\" class=\"dataframe\">\n",
              "  <thead>\n",
              "    <tr style=\"text-align: right;\">\n",
              "      <th></th>\n",
              "      <th>area</th>\n",
              "      <th>bedrooms</th>\n",
              "      <th>bathrooms</th>\n",
              "      <th>balcony</th>\n",
              "      <th>price</th>\n",
              "      <th>Normalized_Pr</th>\n",
              "      <th>Standardized_Pr</th>\n",
              "    </tr>\n",
              "  </thead>\n",
              "  <tbody>\n",
              "    <tr>\n",
              "      <th>0</th>\n",
              "      <td>1056.0</td>\n",
              "      <td>2</td>\n",
              "      <td>2.0</td>\n",
              "      <td>1.0</td>\n",
              "      <td>0.039</td>\n",
              "      <td>0.051852</td>\n",
              "      <td>-0.994096</td>\n",
              "    </tr>\n",
              "    <tr>\n",
              "      <th>1</th>\n",
              "      <td>2600.0</td>\n",
              "      <td>4</td>\n",
              "      <td>3.0</td>\n",
              "      <td>3.0</td>\n",
              "      <td>0.120</td>\n",
              "      <td>0.651852</td>\n",
              "      <td>0.983001</td>\n",
              "    </tr>\n",
              "    <tr>\n",
              "      <th>2</th>\n",
              "      <td>1440.0</td>\n",
              "      <td>3</td>\n",
              "      <td>2.0</td>\n",
              "      <td>NAN</td>\n",
              "      <td>0.062</td>\n",
              "      <td>0.222222</td>\n",
              "      <td>-0.432698</td>\n",
              "    </tr>\n",
              "    <tr>\n",
              "      <th>3</th>\n",
              "      <td>1521.0</td>\n",
              "      <td>3</td>\n",
              "      <td>3.0</td>\n",
              "      <td>2.0</td>\n",
              "      <td>0.075</td>\n",
              "      <td>0.318519</td>\n",
              "      <td>-0.115386</td>\n",
              "    </tr>\n",
              "    <tr>\n",
              "      <th>4</th>\n",
              "      <td>1521.0</td>\n",
              "      <td>3</td>\n",
              "      <td>3.0</td>\n",
              "      <td>2.0</td>\n",
              "      <td>0.075</td>\n",
              "      <td>0.318519</td>\n",
              "      <td>-0.115386</td>\n",
              "    </tr>\n",
              "  </tbody>\n",
              "</table>\n",
              "</div>\n",
              "    <div class=\"colab-df-buttons\">\n",
              "\n",
              "  <div class=\"colab-df-container\">\n",
              "    <button class=\"colab-df-convert\" onclick=\"convertToInteractive('df-b6b605d2-ef6a-4149-a6aa-9300fbcb659f')\"\n",
              "            title=\"Convert this dataframe to an interactive table.\"\n",
              "            style=\"display:none;\">\n",
              "\n",
              "  <svg xmlns=\"http://www.w3.org/2000/svg\" height=\"24px\" viewBox=\"0 -960 960 960\">\n",
              "    <path d=\"M120-120v-720h720v720H120Zm60-500h600v-160H180v160Zm220 220h160v-160H400v160Zm0 220h160v-160H400v160ZM180-400h160v-160H180v160Zm440 0h160v-160H620v160ZM180-180h160v-160H180v160Zm440 0h160v-160H620v160Z\"/>\n",
              "  </svg>\n",
              "    </button>\n",
              "\n",
              "  <style>\n",
              "    .colab-df-container {\n",
              "      display:flex;\n",
              "      gap: 12px;\n",
              "    }\n",
              "\n",
              "    .colab-df-convert {\n",
              "      background-color: #E8F0FE;\n",
              "      border: none;\n",
              "      border-radius: 50%;\n",
              "      cursor: pointer;\n",
              "      display: none;\n",
              "      fill: #1967D2;\n",
              "      height: 32px;\n",
              "      padding: 0 0 0 0;\n",
              "      width: 32px;\n",
              "    }\n",
              "\n",
              "    .colab-df-convert:hover {\n",
              "      background-color: #E2EBFA;\n",
              "      box-shadow: 0px 1px 2px rgba(60, 64, 67, 0.3), 0px 1px 3px 1px rgba(60, 64, 67, 0.15);\n",
              "      fill: #174EA6;\n",
              "    }\n",
              "\n",
              "    .colab-df-buttons div {\n",
              "      margin-bottom: 4px;\n",
              "    }\n",
              "\n",
              "    [theme=dark] .colab-df-convert {\n",
              "      background-color: #3B4455;\n",
              "      fill: #D2E3FC;\n",
              "    }\n",
              "\n",
              "    [theme=dark] .colab-df-convert:hover {\n",
              "      background-color: #434B5C;\n",
              "      box-shadow: 0px 1px 3px 1px rgba(0, 0, 0, 0.15);\n",
              "      filter: drop-shadow(0px 1px 2px rgba(0, 0, 0, 0.3));\n",
              "      fill: #FFFFFF;\n",
              "    }\n",
              "  </style>\n",
              "\n",
              "    <script>\n",
              "      const buttonEl =\n",
              "        document.querySelector('#df-b6b605d2-ef6a-4149-a6aa-9300fbcb659f button.colab-df-convert');\n",
              "      buttonEl.style.display =\n",
              "        google.colab.kernel.accessAllowed ? 'block' : 'none';\n",
              "\n",
              "      async function convertToInteractive(key) {\n",
              "        const element = document.querySelector('#df-b6b605d2-ef6a-4149-a6aa-9300fbcb659f');\n",
              "        const dataTable =\n",
              "          await google.colab.kernel.invokeFunction('convertToInteractive',\n",
              "                                                    [key], {});\n",
              "        if (!dataTable) return;\n",
              "\n",
              "        const docLinkHtml = 'Like what you see? Visit the ' +\n",
              "          '<a target=\"_blank\" href=https://colab.research.google.com/notebooks/data_table.ipynb>data table notebook</a>'\n",
              "          + ' to learn more about interactive tables.';\n",
              "        element.innerHTML = '';\n",
              "        dataTable['output_type'] = 'display_data';\n",
              "        await google.colab.output.renderOutput(dataTable, element);\n",
              "        const docLink = document.createElement('div');\n",
              "        docLink.innerHTML = docLinkHtml;\n",
              "        element.appendChild(docLink);\n",
              "      }\n",
              "    </script>\n",
              "  </div>\n",
              "\n",
              "\n",
              "<div id=\"df-b119e022-9701-41a0-80d4-380fd6e482a0\">\n",
              "  <button class=\"colab-df-quickchart\" onclick=\"quickchart('df-b119e022-9701-41a0-80d4-380fd6e482a0')\"\n",
              "            title=\"Suggest charts\"\n",
              "            style=\"display:none;\">\n",
              "\n",
              "<svg xmlns=\"http://www.w3.org/2000/svg\" height=\"24px\"viewBox=\"0 0 24 24\"\n",
              "     width=\"24px\">\n",
              "    <g>\n",
              "        <path d=\"M19 3H5c-1.1 0-2 .9-2 2v14c0 1.1.9 2 2 2h14c1.1 0 2-.9 2-2V5c0-1.1-.9-2-2-2zM9 17H7v-7h2v7zm4 0h-2V7h2v10zm4 0h-2v-4h2v4z\"/>\n",
              "    </g>\n",
              "</svg>\n",
              "  </button>\n",
              "\n",
              "<style>\n",
              "  .colab-df-quickchart {\n",
              "      --bg-color: #E8F0FE;\n",
              "      --fill-color: #1967D2;\n",
              "      --hover-bg-color: #E2EBFA;\n",
              "      --hover-fill-color: #174EA6;\n",
              "      --disabled-fill-color: #AAA;\n",
              "      --disabled-bg-color: #DDD;\n",
              "  }\n",
              "\n",
              "  [theme=dark] .colab-df-quickchart {\n",
              "      --bg-color: #3B4455;\n",
              "      --fill-color: #D2E3FC;\n",
              "      --hover-bg-color: #434B5C;\n",
              "      --hover-fill-color: #FFFFFF;\n",
              "      --disabled-bg-color: #3B4455;\n",
              "      --disabled-fill-color: #666;\n",
              "  }\n",
              "\n",
              "  .colab-df-quickchart {\n",
              "    background-color: var(--bg-color);\n",
              "    border: none;\n",
              "    border-radius: 50%;\n",
              "    cursor: pointer;\n",
              "    display: none;\n",
              "    fill: var(--fill-color);\n",
              "    height: 32px;\n",
              "    padding: 0;\n",
              "    width: 32px;\n",
              "  }\n",
              "\n",
              "  .colab-df-quickchart:hover {\n",
              "    background-color: var(--hover-bg-color);\n",
              "    box-shadow: 0 1px 2px rgba(60, 64, 67, 0.3), 0 1px 3px 1px rgba(60, 64, 67, 0.15);\n",
              "    fill: var(--button-hover-fill-color);\n",
              "  }\n",
              "\n",
              "  .colab-df-quickchart-complete:disabled,\n",
              "  .colab-df-quickchart-complete:disabled:hover {\n",
              "    background-color: var(--disabled-bg-color);\n",
              "    fill: var(--disabled-fill-color);\n",
              "    box-shadow: none;\n",
              "  }\n",
              "\n",
              "  .colab-df-spinner {\n",
              "    border: 2px solid var(--fill-color);\n",
              "    border-color: transparent;\n",
              "    border-bottom-color: var(--fill-color);\n",
              "    animation:\n",
              "      spin 1s steps(1) infinite;\n",
              "  }\n",
              "\n",
              "  @keyframes spin {\n",
              "    0% {\n",
              "      border-color: transparent;\n",
              "      border-bottom-color: var(--fill-color);\n",
              "      border-left-color: var(--fill-color);\n",
              "    }\n",
              "    20% {\n",
              "      border-color: transparent;\n",
              "      border-left-color: var(--fill-color);\n",
              "      border-top-color: var(--fill-color);\n",
              "    }\n",
              "    30% {\n",
              "      border-color: transparent;\n",
              "      border-left-color: var(--fill-color);\n",
              "      border-top-color: var(--fill-color);\n",
              "      border-right-color: var(--fill-color);\n",
              "    }\n",
              "    40% {\n",
              "      border-color: transparent;\n",
              "      border-right-color: var(--fill-color);\n",
              "      border-top-color: var(--fill-color);\n",
              "    }\n",
              "    60% {\n",
              "      border-color: transparent;\n",
              "      border-right-color: var(--fill-color);\n",
              "    }\n",
              "    80% {\n",
              "      border-color: transparent;\n",
              "      border-right-color: var(--fill-color);\n",
              "      border-bottom-color: var(--fill-color);\n",
              "    }\n",
              "    90% {\n",
              "      border-color: transparent;\n",
              "      border-bottom-color: var(--fill-color);\n",
              "    }\n",
              "  }\n",
              "</style>\n",
              "\n",
              "  <script>\n",
              "    async function quickchart(key) {\n",
              "      const quickchartButtonEl =\n",
              "        document.querySelector('#' + key + ' button');\n",
              "      quickchartButtonEl.disabled = true;  // To prevent multiple clicks.\n",
              "      quickchartButtonEl.classList.add('colab-df-spinner');\n",
              "      try {\n",
              "        const charts = await google.colab.kernel.invokeFunction(\n",
              "            'suggestCharts', [key], {});\n",
              "      } catch (error) {\n",
              "        console.error('Error during call to suggestCharts:', error);\n",
              "      }\n",
              "      quickchartButtonEl.classList.remove('colab-df-spinner');\n",
              "      quickchartButtonEl.classList.add('colab-df-quickchart-complete');\n",
              "    }\n",
              "    (() => {\n",
              "      let quickchartButtonEl =\n",
              "        document.querySelector('#df-b119e022-9701-41a0-80d4-380fd6e482a0 button');\n",
              "      quickchartButtonEl.style.display =\n",
              "        google.colab.kernel.accessAllowed ? 'block' : 'none';\n",
              "    })();\n",
              "  </script>\n",
              "</div>\n",
              "\n",
              "    </div>\n",
              "  </div>\n"
            ],
            "application/vnd.google.colaboratory.intrinsic+json": {
              "type": "dataframe",
              "variable_name": "df",
              "summary": "{\n  \"name\": \"df\",\n  \"rows\": 22,\n  \"fields\": [\n    {\n      \"column\": \"area\",\n      \"properties\": {\n        \"dtype\": \"number\",\n        \"std\": 849.0008581520145,\n        \"min\": 800.0,\n        \"max\": 3700.0,\n        \"num_unique_values\": 19,\n        \"samples\": [\n          1056.0,\n          1170.0,\n          2785.0\n        ],\n        \"semantic_type\": \"\",\n        \"description\": \"\"\n      }\n    },\n    {\n      \"column\": \"bedrooms\",\n      \"properties\": {\n        \"dtype\": \"number\",\n        \"std\": 0,\n        \"min\": 1,\n        \"max\": 5,\n        \"num_unique_values\": 5,\n        \"samples\": [\n          4,\n          1,\n          3\n        ],\n        \"semantic_type\": \"\",\n        \"description\": \"\"\n      }\n    },\n    {\n      \"column\": \"bathrooms\",\n      \"properties\": {\n        \"dtype\": \"number\",\n        \"std\": 0.6708203932499369,\n        \"min\": 1.0,\n        \"max\": 3.0,\n        \"num_unique_values\": 3,\n        \"samples\": [\n          2.0,\n          3.0,\n          1.0\n        ],\n        \"semantic_type\": \"\",\n        \"description\": \"\"\n      }\n    },\n    {\n      \"column\": \"balcony\",\n      \"properties\": {\n        \"dtype\": \"category\",\n        \"num_unique_values\": 4,\n        \"samples\": [\n          \"3.0\",\n          \"2.0\",\n          \"1.0\"\n        ],\n        \"semantic_type\": \"\",\n        \"description\": \"\"\n      }\n    },\n    {\n      \"column\": \"price\",\n      \"properties\": {\n        \"dtype\": \"number\",\n        \"std\": 0.041933259692018554,\n        \"min\": 0.032,\n        \"max\": 0.167,\n        \"num_unique_values\": 19,\n        \"samples\": [\n          0.039,\n          0.038,\n          0.14\n        ],\n        \"semantic_type\": \"\",\n        \"description\": \"\"\n      }\n    },\n    {\n      \"column\": \"Normalized_Pr\",\n      \"properties\": {\n        \"dtype\": \"number\",\n        \"std\": 0.3106167384593967,\n        \"min\": 0.0,\n        \"max\": 0.9999999999999999,\n        \"num_unique_values\": 19,\n        \"samples\": [\n          0.05185185185185184,\n          0.044444444444444425,\n          0.7999999999999999\n        ],\n        \"semantic_type\": \"\",\n        \"description\": \"\"\n      }\n    },\n    {\n      \"column\": \"Standardized_Pr\",\n      \"properties\": {\n        \"dtype\": \"number\",\n        \"std\": 1.0235326314383182,\n        \"min\": -1.1649564428023174,\n        \"max\": 2.130206066838522,\n        \"num_unique_values\": 19,\n        \"samples\": [\n          -0.9940961645246442,\n          -1.018504775707169,\n          1.4711735649103543\n        ],\n        \"semantic_type\": \"\",\n        \"description\": \"\"\n      }\n    }\n  ]\n}"
            }
          },
          "metadata": {},
          "execution_count": 29
        }
      ]
    },
    {
      "cell_type": "code",
      "source": [
        "df = pd.read_csv('Microsoft_Stock.csv')"
      ],
      "metadata": {
        "id": "1oSo-Ot-3QcT"
      },
      "execution_count": 49,
      "outputs": []
    },
    {
      "cell_type": "markdown",
      "source": [
        "Extract column names"
      ],
      "metadata": {
        "id": "KUP2Wab9ynrQ"
      }
    },
    {
      "cell_type": "code",
      "source": [
        "column_names = df.columns.tolist()\n",
        "print(\"Column Names:\", column_names)"
      ],
      "metadata": {
        "id": "I1RKRkhYvwT8",
        "outputId": "0e9a3f38-f1df-4057-e24c-ac32d8f72457",
        "colab": {
          "base_uri": "https://localhost:8080/"
        }
      },
      "execution_count": 41,
      "outputs": [
        {
          "output_type": "stream",
          "name": "stdout",
          "text": [
            "Column Names: ['Date', 'Open', 'High', 'Low', 'Close', 'Volume']\n"
          ]
        }
      ]
    },
    {
      "cell_type": "markdown",
      "source": [
        "Task 19: Convert a column to datetime format (if 'Date' column exists)"
      ],
      "metadata": {
        "id": "5ECOQk_EzRQv"
      }
    },
    {
      "cell_type": "code",
      "source": [
        "if 'Date' in df.columns:\n",
        "    df['Date'] = pd.to_datetime(df['Date'])\n",
        "    print(\"\\nDataFrame after converting 'Date' to datetime format:\\n\", df.head())"
      ],
      "metadata": {
        "id": "GQLtnv8Iyxq-",
        "outputId": "c92aa008-6e3f-4686-e82c-d4246e7a13b1",
        "colab": {
          "base_uri": "https://localhost:8080/"
        }
      },
      "execution_count": 42,
      "outputs": [
        {
          "output_type": "stream",
          "name": "stdout",
          "text": [
            "\n",
            "DataFrame after converting 'Date' to datetime format:\n",
            "                  Date   Open   High    Low  Close    Volume\n",
            "0 2015-04-01 16:00:00  40.60  40.76  40.31  40.72  36865322\n",
            "1 2015-04-02 16:00:00  40.66  40.74  40.12  40.29  37487476\n",
            "2 2015-04-06 16:00:00  40.34  41.78  40.18  41.55  39223692\n",
            "3 2015-04-07 16:00:00  41.61  41.91  41.31  41.53  28809375\n",
            "4 2015-04-08 16:00:00  41.48  41.69  41.04  41.42  24753438\n"
          ]
        }
      ]
    },
    {
      "cell_type": "markdown",
      "source": [
        "Task 20: Extract year, month, and day from a datetime column (if 'Date' column exists)"
      ],
      "metadata": {
        "id": "Xs89wBfa0DfL"
      }
    },
    {
      "cell_type": "code",
      "source": [
        "if 'Date' in df.columns:\n",
        "    df['Year'] = df['Date'].dt.year\n",
        "    df['Month'] = df['Date'].dt.month\n",
        "    df['Day'] = df['Date'].dt.day\n",
        "    print(\"\\nExtracted Year, Month, and Day from 'Date':\\n\", df.head())"
      ],
      "metadata": {
        "id": "nn21SKfwzacL",
        "outputId": "454f554f-083c-470b-a183-0698ce1ca7d8",
        "colab": {
          "base_uri": "https://localhost:8080/"
        }
      },
      "execution_count": 45,
      "outputs": [
        {
          "output_type": "stream",
          "name": "stdout",
          "text": [
            "\n",
            "Extracted Year, Month, and Day from 'Date':\n",
            "                  Date   Open   High    Low  Close    Volume  Year  Month  Day\n",
            "0 2015-04-01 16:00:00  40.60  40.76  40.31  40.72  36865322  2015      4    1\n",
            "1 2015-04-02 16:00:00  40.66  40.74  40.12  40.29  37487476  2015      4    2\n",
            "2 2015-04-06 16:00:00  40.34  41.78  40.18  41.55  39223692  2015      4    6\n",
            "3 2015-04-07 16:00:00  41.61  41.91  41.31  41.53  28809375  2015      4    7\n",
            "4 2015-04-08 16:00:00  41.48  41.69  41.04  41.42  24753438  2015      4    8\n"
          ]
        }
      ]
    },
    {
      "cell_type": "markdown",
      "source": [
        "Task 21: Filter rows based on a date range (if 'Date' column exists)"
      ],
      "metadata": {
        "id": "uE4bgSJ002fE"
      }
    },
    {
      "cell_type": "code",
      "source": [
        "if 'Date' in df.columns:\n",
        "    df_date_filtered = df[(df['Date'] >= '2015-04-21') & (df['Date'] <= '2015-05-02')]\n",
        "    print(\"\\nDataFrame filtered by date range:\\n\", df_date_filtered)"
      ],
      "metadata": {
        "id": "rAZErW8r0cKz",
        "outputId": "b2fe699f-5ee4-441a-d33e-5dc4b8fb0d70",
        "colab": {
          "base_uri": "https://localhost:8080/"
        }
      },
      "execution_count": 48,
      "outputs": [
        {
          "output_type": "stream",
          "name": "stdout",
          "text": [
            "\n",
            "DataFrame filtered by date range:\n",
            "                   Date   Open   High    Low  Close     Volume  Year  Month  \\\n",
            "13 2015-04-21 16:00:00  43.00  43.15  42.53  42.64   26013844  2015      4   \n",
            "14 2015-04-22 16:00:00  42.67  43.13  42.55  42.99   25064273  2015      4   \n",
            "15 2015-04-23 16:00:00  42.85  43.61  42.80  43.34   46309530  2015      4   \n",
            "16 2015-04-24 16:00:00  45.66  48.14  45.65  47.87  130933665  2015      4   \n",
            "17 2015-04-27 16:00:00  47.23  48.13  47.22  48.03   59248172  2015      4   \n",
            "18 2015-04-28 16:00:00  47.78  49.21  47.70  49.16   60730778  2015      4   \n",
            "19 2015-04-29 16:00:00  48.72  49.31  48.50  49.06   47804562  2015      4   \n",
            "20 2015-04-30 16:00:00  48.70  49.54  48.60  48.64   64725457  2015      4   \n",
            "21 2015-05-01 16:00:00  48.58  48.88  48.40  48.66   38937336  2015      5   \n",
            "\n",
            "    Day  \n",
            "13   21  \n",
            "14   22  \n",
            "15   23  \n",
            "16   24  \n",
            "17   27  \n",
            "18   28  \n",
            "19   29  \n",
            "20   30  \n",
            "21    1  \n"
          ]
        }
      ]
    },
    {
      "cell_type": "code",
      "source": [
        "df = pd.read_csv('categorical_data.csv')\n",
        "column_names = df.columns.tolist()\n",
        "print(\"Column Names:\", column_names)"
      ],
      "metadata": {
        "id": "Jfe5lcQ53X8I",
        "outputId": "22e7bea5-363c-4a0a-d354-c5e4689c09b9",
        "colab": {
          "base_uri": "https://localhost:8080/"
        }
      },
      "execution_count": 65,
      "outputs": [
        {
          "output_type": "stream",
          "name": "stdout",
          "text": [
            "Column Names: ['PassengerId', 'Survived', 'Pclass', 'Name', 'Sex', 'Age', 'SibSp', 'Parch', 'Ticket', 'Fare', 'Cabin', 'Embarked']\n"
          ]
        }
      ]
    },
    {
      "cell_type": "markdown",
      "source": [
        "Task 22: Convert a categorical column to numerical using one-hot encoding (e.g., Balcony)"
      ],
      "metadata": {
        "id": "sBXEI8X11unX"
      }
    },
    {
      "cell_type": "code",
      "source": [
        "df_one_hot = pd.get_dummies(df, columns=['Sex'])\n",
        "sex_cols = [col for col in df_one_hot.columns if col.startswith('Sex_')]\n",
        "df_one_hot[sex_cols] = df_one_hot[sex_cols].astype(int)\n",
        "print(\"\\nDataFrame after one-hot encoding 'Sex':\\n\", df_one_hot[['PassengerId', 'Survived', 'Age', 'Sex_female', 'Sex_male']].head(10))\n"
      ],
      "metadata": {
        "id": "pkboLvHr1XeY",
        "outputId": "d764b026-718f-4239-e737-807bce7fb0b2",
        "colab": {
          "base_uri": "https://localhost:8080/"
        }
      },
      "execution_count": 67,
      "outputs": [
        {
          "output_type": "stream",
          "name": "stdout",
          "text": [
            "\n",
            "DataFrame after one-hot encoding 'Sex':\n",
            "    PassengerId  Survived   Age  Sex_female  Sex_male\n",
            "0            1         0  22.0           0         1\n",
            "1            2         1  38.0           1         0\n",
            "2            3         1  26.0           1         0\n",
            "3            4         1  35.0           1         0\n",
            "4            5         0  35.0           0         1\n",
            "5            6         0   NaN           0         1\n",
            "6            7         0  54.0           0         1\n",
            "7            8         0   2.0           0         1\n",
            "8            9         1  27.0           1         0\n",
            "9           10         1  14.0           1         0\n"
          ]
        }
      ]
    },
    {
      "cell_type": "markdown",
      "source": [
        "Task 23: Convert a categorical column to numerical using label encoding (e.g., Balcony)"
      ],
      "metadata": {
        "id": "bsnT5nE97Awb"
      }
    },
    {
      "cell_type": "code",
      "source": [
        "encoder = LabelEncoder()\n",
        "df['Sex_Label'] = encoder.fit_transform(df['Sex'])\n",
        "print(\"\\nDataFrame after label encoding 'Sex':\\n\", df[['PassengerId', 'Survived', 'Age', 'Sex_Label']].head())"
      ],
      "metadata": {
        "id": "gFAz8-3g358v",
        "outputId": "64879386-4037-4ac0-dd74-c51f7fa6a5dd",
        "colab": {
          "base_uri": "https://localhost:8080/"
        }
      },
      "execution_count": 68,
      "outputs": [
        {
          "output_type": "stream",
          "name": "stdout",
          "text": [
            "\n",
            "DataFrame after label encoding 'Sex':\n",
            "    PassengerId  Survived   Age  Sex_Label\n",
            "0            1         0  22.0          1\n",
            "1            2         1  38.0          0\n",
            "2            3         1  26.0          0\n",
            "3            4         1  35.0          0\n",
            "4            5         0  35.0          1\n"
          ]
        }
      ]
    },
    {
      "cell_type": "markdown",
      "source": [
        "Task 24: Group values in a categorical column and create a new column with grouped categories"
      ],
      "metadata": {
        "id": "4puh1AgDXt8M"
      }
    },
    {
      "cell_type": "code",
      "source": [
        "df = pd.read_csv('homeprices_data.csv')\n",
        "column_names = df.columns.tolist()\n",
        "print(\"Column Names:\", column_names)"
      ],
      "metadata": {
        "id": "6yD63Tm9YZa2",
        "outputId": "8fb7ed31-b562-4ea0-a818-add324268c38",
        "colab": {
          "base_uri": "https://localhost:8080/"
        }
      },
      "execution_count": 7,
      "outputs": [
        {
          "output_type": "stream",
          "name": "stdout",
          "text": [
            "Column Names: ['area', 'bedrooms', 'bathrooms', 'balcony', 'price']\n"
          ]
        }
      ]
    },
    {
      "cell_type": "code",
      "source": [
        "df['Bedrooms_Group'] = pd.cut(df['bedrooms'], bins=[0, 2, 3, 5], labels=['Small', 'Medium', 'Large'])\n",
        "print(\"\\nDataFrame with grouped 'Bedrooms':\\n\", df.head(18))"
      ],
      "metadata": {
        "id": "NhX-1iC37pIN",
        "outputId": "0af76530-6717-4bdd-9bd1-e56b16312028",
        "colab": {
          "base_uri": "https://localhost:8080/"
        }
      },
      "execution_count": 11,
      "outputs": [
        {
          "output_type": "stream",
          "name": "stdout",
          "text": [
            "\n",
            "DataFrame with grouped 'Bedrooms':\n",
            "       area  bedrooms  bathrooms  balcony   price Bedrooms_Group\n",
            "0   1056.0         2        2.0      1.0   39.07          Small\n",
            "1   2600.0         4        3.0      3.0  120.00          Large\n",
            "2   1440.0         3        2.0      NaN   62.00         Medium\n",
            "3   1521.0         3        3.0      2.0   75.00         Medium\n",
            "4   1521.0         3        3.0      2.0   75.00         Medium\n",
            "5   1200.0         2        2.0      1.0   51.00          Small\n",
            "6   1170.0         2        NaN      2.0   38.00          Small\n",
            "7   2732.0         4        2.0      3.0  135.00          Large\n",
            "8   3300.0         4        3.0      2.0  155.00          Large\n",
            "9   1310.0         3        2.0      2.0   50.00         Medium\n",
            "10  3700.0         5        3.0      3.0  167.00          Large\n",
            "11  1800.0         3        3.0      NaN   82.00         Medium\n",
            "12  2785.0         4        2.0      3.0  140.00          Large\n",
            "13     NaN         2        NaN      1.0   38.00          Small\n",
            "14  1100.0         2        2.0      2.0   40.00          Small\n",
            "15  2250.0         3        2.0      3.0  101.00         Medium\n",
            "16  2770.0         3        3.0      2.0  102.00         Medium\n",
            "17  1175.0         2        1.0      2.0   42.00          Small\n"
          ]
        }
      ]
    },
    {
      "cell_type": "markdown",
      "source": [
        "Task 25: Merge two DataFrames based on a common column"
      ],
      "metadata": {
        "id": "ZgEZM2CSZ19E"
      }
    },
    {
      "cell_type": "code",
      "source": [
        "df2 = pd.DataFrame({'area': [1200, 2600, 3300], 'Nearby Schools': [3, 5, 2]})\n",
        "df_merged = pd.merge(df,df2, on='area', how='left')\n",
        "print(\"\\nMerged DataFrame:\\n\", df_merged)"
      ],
      "metadata": {
        "id": "ski-X1uvZbmp",
        "outputId": "4163224b-0afa-46cc-c165-9accece592fa",
        "colab": {
          "base_uri": "https://localhost:8080/"
        }
      },
      "execution_count": 17,
      "outputs": [
        {
          "output_type": "stream",
          "name": "stdout",
          "text": [
            "\n",
            "Merged DataFrame:\n",
            "       area  bedrooms  bathrooms  balcony   price Bedrooms_Group  \\\n",
            "0   1056.0         2        2.0      1.0   39.07          Small   \n",
            "1   2600.0         4        3.0      3.0  120.00          Large   \n",
            "2   1440.0         3        2.0      NaN   62.00         Medium   \n",
            "3   1521.0         3        3.0      2.0   75.00         Medium   \n",
            "4   1521.0         3        3.0      2.0   75.00         Medium   \n",
            "5   1200.0         2        2.0      1.0   51.00          Small   \n",
            "6   1170.0         2        NaN      2.0   38.00          Small   \n",
            "7   2732.0         4        2.0      3.0  135.00          Large   \n",
            "8   3300.0         4        3.0      2.0  155.00          Large   \n",
            "9   1310.0         3        2.0      2.0   50.00         Medium   \n",
            "10  3700.0         5        3.0      3.0  167.00          Large   \n",
            "11  1800.0         3        3.0      NaN   82.00         Medium   \n",
            "12  2785.0         4        2.0      3.0  140.00          Large   \n",
            "13     NaN         2        NaN      1.0   38.00          Small   \n",
            "14  1100.0         2        2.0      2.0   40.00          Small   \n",
            "15  2250.0         3        2.0      3.0  101.00         Medium   \n",
            "16  2770.0         3        3.0      2.0  102.00         Medium   \n",
            "17  1175.0         2        1.0      2.0   42.00          Small   \n",
            "18  1180.0         3        2.0      3.0   48.00         Medium   \n",
            "19  1540.0         3        3.0      NaN   60.00         Medium   \n",
            "20  2770.0         3        3.0      2.0  102.00         Medium   \n",
            "21   800.0         1        1.0      1.0   32.00          Small   \n",
            "\n",
            "    Nearby Schools  \n",
            "0              NaN  \n",
            "1              5.0  \n",
            "2              NaN  \n",
            "3              NaN  \n",
            "4              NaN  \n",
            "5              3.0  \n",
            "6              NaN  \n",
            "7              NaN  \n",
            "8              2.0  \n",
            "9              NaN  \n",
            "10             NaN  \n",
            "11             NaN  \n",
            "12             NaN  \n",
            "13             NaN  \n",
            "14             NaN  \n",
            "15             NaN  \n",
            "16             NaN  \n",
            "17             NaN  \n",
            "18             NaN  \n",
            "19             NaN  \n",
            "20             NaN  \n",
            "21             NaN  \n"
          ]
        }
      ]
    },
    {
      "cell_type": "markdown",
      "source": [
        "Task 26: Concatenate two DataFrames vertically"
      ],
      "metadata": {
        "id": "GTHJyzJ2bwR0"
      }
    },
    {
      "cell_type": "code",
      "source": [
        "df_concat_vertical = pd.concat([df, df2], axis=0, ignore_index=True)\n",
        "print(\"\\nDataFrame after vertical concatenation:\\n\", df_concat_vertical)"
      ],
      "metadata": {
        "id": "5wwECIshaDtc",
        "outputId": "41b2f632-cbdf-4cb6-abd3-7140aca762e8",
        "colab": {
          "base_uri": "https://localhost:8080/"
        }
      },
      "execution_count": 18,
      "outputs": [
        {
          "output_type": "stream",
          "name": "stdout",
          "text": [
            "\n",
            "DataFrame after vertical concatenation:\n",
            "       area  bedrooms  bathrooms  balcony   price Bedrooms_Group  \\\n",
            "0   1056.0       2.0        2.0      1.0   39.07          Small   \n",
            "1   2600.0       4.0        3.0      3.0  120.00          Large   \n",
            "2   1440.0       3.0        2.0      NaN   62.00         Medium   \n",
            "3   1521.0       3.0        3.0      2.0   75.00         Medium   \n",
            "4   1521.0       3.0        3.0      2.0   75.00         Medium   \n",
            "5   1200.0       2.0        2.0      1.0   51.00          Small   \n",
            "6   1170.0       2.0        NaN      2.0   38.00          Small   \n",
            "7   2732.0       4.0        2.0      3.0  135.00          Large   \n",
            "8   3300.0       4.0        3.0      2.0  155.00          Large   \n",
            "9   1310.0       3.0        2.0      2.0   50.00         Medium   \n",
            "10  3700.0       5.0        3.0      3.0  167.00          Large   \n",
            "11  1800.0       3.0        3.0      NaN   82.00         Medium   \n",
            "12  2785.0       4.0        2.0      3.0  140.00          Large   \n",
            "13     NaN       2.0        NaN      1.0   38.00          Small   \n",
            "14  1100.0       2.0        2.0      2.0   40.00          Small   \n",
            "15  2250.0       3.0        2.0      3.0  101.00         Medium   \n",
            "16  2770.0       3.0        3.0      2.0  102.00         Medium   \n",
            "17  1175.0       2.0        1.0      2.0   42.00          Small   \n",
            "18  1180.0       3.0        2.0      3.0   48.00         Medium   \n",
            "19  1540.0       3.0        3.0      NaN   60.00         Medium   \n",
            "20  2770.0       3.0        3.0      2.0  102.00         Medium   \n",
            "21   800.0       1.0        1.0      1.0   32.00          Small   \n",
            "22  1200.0       NaN        NaN      NaN     NaN            NaN   \n",
            "23  2600.0       NaN        NaN      NaN     NaN            NaN   \n",
            "24  3300.0       NaN        NaN      NaN     NaN            NaN   \n",
            "\n",
            "    Nearby Schools  \n",
            "0              NaN  \n",
            "1              NaN  \n",
            "2              NaN  \n",
            "3              NaN  \n",
            "4              NaN  \n",
            "5              NaN  \n",
            "6              NaN  \n",
            "7              NaN  \n",
            "8              NaN  \n",
            "9              NaN  \n",
            "10             NaN  \n",
            "11             NaN  \n",
            "12             NaN  \n",
            "13             NaN  \n",
            "14             NaN  \n",
            "15             NaN  \n",
            "16             NaN  \n",
            "17             NaN  \n",
            "18             NaN  \n",
            "19             NaN  \n",
            "20             NaN  \n",
            "21             NaN  \n",
            "22             3.0  \n",
            "23             5.0  \n",
            "24             2.0  \n"
          ]
        }
      ]
    },
    {
      "cell_type": "markdown",
      "source": [
        "Task 27: Concatenate two DataFrames horizontally"
      ],
      "metadata": {
        "id": "qN8ylpOJcblN"
      }
    },
    {
      "cell_type": "code",
      "source": [
        "df_concat_horizontal = pd.concat([df, df2], axis=1)\n",
        "print(\"\\nDataFrame after horizontal concatenation:\\n\", df_concat_horizontal)"
      ],
      "metadata": {
        "id": "19A_r1xBcM0J",
        "outputId": "ce5ee091-b2ef-4c02-b0ff-1c3f9846ee10",
        "colab": {
          "base_uri": "https://localhost:8080/"
        }
      },
      "execution_count": 19,
      "outputs": [
        {
          "output_type": "stream",
          "name": "stdout",
          "text": [
            "\n",
            "DataFrame after horizontal concatenation:\n",
            "       area  bedrooms  bathrooms  balcony   price Bedrooms_Group    area  \\\n",
            "0   1056.0         2        2.0      1.0   39.07          Small  1200.0   \n",
            "1   2600.0         4        3.0      3.0  120.00          Large  2600.0   \n",
            "2   1440.0         3        2.0      NaN   62.00         Medium  3300.0   \n",
            "3   1521.0         3        3.0      2.0   75.00         Medium     NaN   \n",
            "4   1521.0         3        3.0      2.0   75.00         Medium     NaN   \n",
            "5   1200.0         2        2.0      1.0   51.00          Small     NaN   \n",
            "6   1170.0         2        NaN      2.0   38.00          Small     NaN   \n",
            "7   2732.0         4        2.0      3.0  135.00          Large     NaN   \n",
            "8   3300.0         4        3.0      2.0  155.00          Large     NaN   \n",
            "9   1310.0         3        2.0      2.0   50.00         Medium     NaN   \n",
            "10  3700.0         5        3.0      3.0  167.00          Large     NaN   \n",
            "11  1800.0         3        3.0      NaN   82.00         Medium     NaN   \n",
            "12  2785.0         4        2.0      3.0  140.00          Large     NaN   \n",
            "13     NaN         2        NaN      1.0   38.00          Small     NaN   \n",
            "14  1100.0         2        2.0      2.0   40.00          Small     NaN   \n",
            "15  2250.0         3        2.0      3.0  101.00         Medium     NaN   \n",
            "16  2770.0         3        3.0      2.0  102.00         Medium     NaN   \n",
            "17  1175.0         2        1.0      2.0   42.00          Small     NaN   \n",
            "18  1180.0         3        2.0      3.0   48.00         Medium     NaN   \n",
            "19  1540.0         3        3.0      NaN   60.00         Medium     NaN   \n",
            "20  2770.0         3        3.0      2.0  102.00         Medium     NaN   \n",
            "21   800.0         1        1.0      1.0   32.00          Small     NaN   \n",
            "\n",
            "    Nearby Schools  \n",
            "0              3.0  \n",
            "1              5.0  \n",
            "2              2.0  \n",
            "3              NaN  \n",
            "4              NaN  \n",
            "5              NaN  \n",
            "6              NaN  \n",
            "7              NaN  \n",
            "8              NaN  \n",
            "9              NaN  \n",
            "10             NaN  \n",
            "11             NaN  \n",
            "12             NaN  \n",
            "13             NaN  \n",
            "14             NaN  \n",
            "15             NaN  \n",
            "16             NaN  \n",
            "17             NaN  \n",
            "18             NaN  \n",
            "19             NaN  \n",
            "20             NaN  \n",
            "21             NaN  \n"
          ]
        }
      ]
    },
    {
      "cell_type": "markdown",
      "source": [
        "Task 28: Create a new column based on existing columns (e.g., total rooms = bedrooms + bathrooms)"
      ],
      "metadata": {
        "id": "IH_-EybEcq3K"
      }
    },
    {
      "cell_type": "code",
      "source": [
        "df['Total_Rooms'] = df['bedrooms'] + df['bathrooms']\n",
        "print(\"\\nDataFrame with 'Total_Rooms' column:\\n\", df.head())"
      ],
      "metadata": {
        "id": "MG7v9j2Bchuy",
        "outputId": "2d3229b6-d7bc-4eb3-9c6c-d967ff84d43c",
        "colab": {
          "base_uri": "https://localhost:8080/"
        }
      },
      "execution_count": 23,
      "outputs": [
        {
          "output_type": "stream",
          "name": "stdout",
          "text": [
            "\n",
            "DataFrame with 'Total_Rooms' column:\n",
            "      area  bedrooms  bathrooms  balcony   price Bedrooms_Group  Total_Rooms\n",
            "0  1056.0         2        2.0      1.0   39.07          Small          4.0\n",
            "1  2600.0         4        3.0      3.0  120.00          Large          7.0\n",
            "2  1440.0         3        2.0      NaN   62.00         Medium          5.0\n",
            "3  1521.0         3        3.0      2.0   75.00         Medium          6.0\n",
            "4  1521.0         3        3.0      2.0   75.00         Medium          6.0\n"
          ]
        }
      ]
    },
    {
      "cell_type": "markdown",
      "source": [
        "Task 29: Discretize a continuous column into bins (e.g., price into categories)"
      ],
      "metadata": {
        "id": "OC67gSIgc8Pd"
      }
    },
    {
      "cell_type": "code",
      "source": [
        "df['Price_Category'] = pd.cut(df['price'], bins=[0, 50, 100, 150], labels=['Low', 'Medium', 'High'])\n",
        "print(\"\\nDataFrame with discretized 'Price' column:\\n\", df.head())"
      ],
      "metadata": {
        "id": "cr4yhFCscxiU",
        "outputId": "a774d894-6fd1-4dd5-aadb-82420f341a51",
        "colab": {
          "base_uri": "https://localhost:8080/"
        }
      },
      "execution_count": 24,
      "outputs": [
        {
          "output_type": "stream",
          "name": "stdout",
          "text": [
            "\n",
            "DataFrame with discretized 'Price' column:\n",
            "      area  bedrooms  bathrooms  balcony   price Bedrooms_Group  Total_Rooms  \\\n",
            "0  1056.0         2        2.0      1.0   39.07          Small          4.0   \n",
            "1  2600.0         4        3.0      3.0  120.00          Large          7.0   \n",
            "2  1440.0         3        2.0      NaN   62.00         Medium          5.0   \n",
            "3  1521.0         3        3.0      2.0   75.00         Medium          6.0   \n",
            "4  1521.0         3        3.0      2.0   75.00         Medium          6.0   \n",
            "\n",
            "  Price_Category  \n",
            "0            Low  \n",
            "1           High  \n",
            "2         Medium  \n",
            "3         Medium  \n",
            "4         Medium  \n"
          ]
        }
      ]
    },
    {
      "cell_type": "markdown",
      "source": [
        "Task 30: Create polynomial features from existing numerical columns (e.g., 'Area' and 'Bedrooms')"
      ],
      "metadata": {
        "id": "Qxs_lZclddL8"
      }
    },
    {
      "cell_type": "code",
      "source": [
        "df['Bedrooms_Squared'] = df['bedrooms'] ** 2\n",
        "df['Bathrooms_Squared'] = df['bathrooms'] ** 2\n",
        "print(\"\\nDataFrame with polynomial features:\\n\", df.head())"
      ],
      "metadata": {
        "id": "JK3lO3_AdTPG",
        "outputId": "21292d06-20f4-43c3-e011-978e9917c505",
        "colab": {
          "base_uri": "https://localhost:8080/"
        }
      },
      "execution_count": 31,
      "outputs": [
        {
          "output_type": "stream",
          "name": "stdout",
          "text": [
            "\n",
            "DataFrame with polynomial features:\n",
            "      area  bedrooms  bathrooms  balcony   price Bedrooms_Group  Total_Rooms  \\\n",
            "0  1056.0         2        2.0      1.0   39.07          Small          4.0   \n",
            "1  2600.0         4        3.0      3.0  120.00          Large          7.0   \n",
            "2  1440.0         3        2.0      NaN   62.00         Medium          5.0   \n",
            "3  1521.0         3        3.0      2.0   75.00         Medium          6.0   \n",
            "4  1521.0         3        3.0      2.0   75.00         Medium          6.0   \n",
            "\n",
            "  Price_Category  Area_Squared  Bedrooms_Squared  Bathrooms_Squared  \n",
            "0            Low     1115136.0                 4                4.0  \n",
            "1           High     6760000.0                16                9.0  \n",
            "2         Medium     2073600.0                 9                4.0  \n",
            "3         Medium     2313441.0                 9                9.0  \n",
            "4         Medium     2313441.0                 9                9.0  \n"
          ]
        }
      ]
    },
    {
      "cell_type": "code",
      "source": [],
      "metadata": {
        "id": "CrMZG7Vxd12X"
      },
      "execution_count": null,
      "outputs": []
    }
  ]
}