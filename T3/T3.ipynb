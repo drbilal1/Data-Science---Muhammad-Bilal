{
 "cells": [
  {
   "cell_type": "code",
   "execution_count": 1,
   "id": "c3204f9e-2fcd-4f77-9116-7b07970f7403",
   "metadata": {},
   "outputs": [
    {
     "name": "stdout",
     "output_type": "stream",
     "text": [
      "This is my first juppyter file\n"
     ]
    }
   ],
   "source": [
    "print(\"This is my first juppyter file\")"
   ]
  },
  {
   "cell_type": "code",
   "execution_count": null,
   "id": "ad6ef17b-322b-4d9b-89a0-1ef11cfbba08",
   "metadata": {},
   "outputs": [],
   "source": []
  }
 ],
 "metadata": {
  "kernelspec": {
   "display_name": "Python 3 (ipykernel)",
   "language": "python",
   "name": "python3"
  },
  "language_info": {
   "codemirror_mode": {
    "name": "ipython",
    "version": 3
   },
   "file_extension": ".py",
   "mimetype": "text/x-python",
   "name": "python",
   "nbconvert_exporter": "python",
   "pygments_lexer": "ipython3",
   "version": "3.12.4"
  }
 },
 "nbformat": 4,
 "nbformat_minor": 5
}
