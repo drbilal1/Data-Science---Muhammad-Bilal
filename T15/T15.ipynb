{
  "nbformat": 4,
  "nbformat_minor": 0,
  "metadata": {
    "colab": {
      "provenance": []
    },
    "kernelspec": {
      "name": "python3",
      "display_name": "Python 3"
    },
    "language_info": {
      "name": "python"
    }
  },
  "cells": [
    {
      "cell_type": "code",
      "execution_count": 2,
      "metadata": {
        "id": "kiwKOIwhfkpT"
      },
      "outputs": [],
      "source": [
        "import pandas as pd"
      ]
    },
    {
      "cell_type": "markdown",
      "source": [
        "Sample DataFrames for merging and concatenation"
      ],
      "metadata": {
        "id": "ZxYSRcnwgWgA"
      }
    },
    {
      "cell_type": "code",
      "source": [
        "df1 = pd.DataFrame({\n",
        "    'ID': [1, 2, 3],\n",
        "    'Name': ['Alice', 'Bob', 'Charlie'],\n",
        "    'Age': [24, 27, 22]\n",
        "})\n",
        "\n",
        "df2 = pd.DataFrame({\n",
        "    'ID': [2, 3, 4],\n",
        "    'City': ['New York', 'Los Angeles', 'Chicago']\n",
        "})"
      ],
      "metadata": {
        "id": "xi3FF-S0f_0u"
      },
      "execution_count": 18,
      "outputs": []
    },
    {
      "cell_type": "markdown",
      "source": [
        "Task 1: Merge two DataFrames on a single key"
      ],
      "metadata": {
        "id": "XZ6cQNo3giKS"
      }
    },
    {
      "cell_type": "code",
      "source": [
        "df_merged_single = pd.merge(df1, df2, on='ID', how='outer') #inner is also a join\n",
        "print(\"\\nTask 1: Merge on a single key (Outer join):\\n\", df_merged_single)"
      ],
      "metadata": {
        "colab": {
          "base_uri": "https://localhost:8080/"
        },
        "id": "Po52WixWgc53",
        "outputId": "8f2b0ed1-d940-4bdb-a59b-c756659e0d78"
      },
      "execution_count": 6,
      "outputs": [
        {
          "output_type": "stream",
          "name": "stdout",
          "text": [
            "\n",
            "Task 1: Merge on a single key (Outer join):\n",
            "    ID     Name   Age         City\n",
            "0   1    Alice  24.0          NaN\n",
            "1   2      Bob  27.0     New York\n",
            "2   3  Charlie  22.0  Los Angeles\n",
            "3   4      NaN   NaN      Chicago\n"
          ]
        }
      ]
    },
    {
      "cell_type": "markdown",
      "source": [
        "\n",
        "Task 2: Merge two DataFrames on multiple keys"
      ],
      "metadata": {
        "id": "EQUKbaxThHHj"
      }
    },
    {
      "cell_type": "code",
      "source": [
        "df3 = pd.DataFrame({\n",
        "    'ID': [1, 2, 3],\n",
        "    'City': ['New York', 'Los Angeles', 'Chicago']})\n",
        "df4 = pd.DataFrame({\n",
        "    'ID': [1, 2, 3],\n",
        "    'City': ['New York', 'Los Angeles', 'Chicago'],\n",
        "    'Salary': [50000, 60000, 70000]\n",
        "})"
      ],
      "metadata": {
        "id": "PiXQcp40hIfN"
      },
      "execution_count": 16,
      "outputs": []
    },
    {
      "cell_type": "code",
      "source": [
        "df_merged_multiple = pd.merge(df3, df4, on=['ID','City'], how='left')\n",
        "print(\"\\nTask 2: Merge on multiple keys (left join):\\n\", df_merged_multiple)"
      ],
      "metadata": {
        "colab": {
          "base_uri": "https://localhost:8080/"
        },
        "id": "JLvefWLTgmQp",
        "outputId": "fa5be10c-cee1-4d9c-d4e5-8d1a91322747"
      },
      "execution_count": 17,
      "outputs": [
        {
          "output_type": "stream",
          "name": "stdout",
          "text": [
            "\n",
            "Task 2: Merge on multiple keys (left join):\n",
            "    ID         City  Salary\n",
            "0   1     New York   50000\n",
            "1   2  Los Angeles   60000\n",
            "2   3      Chicago   70000\n"
          ]
        }
      ]
    },
    {
      "cell_type": "markdown",
      "source": [
        "Task 3: Perform outer join, inner join, left join, and right join"
      ],
      "metadata": {
        "id": "xvrOZ51IiGIj"
      }
    },
    {
      "cell_type": "code",
      "source": [
        "df_outer = pd.merge(df1, df2, on='ID', how='outer')\n",
        "df_inner = pd.merge(df1, df2, on='ID', how='inner')\n",
        "df_left = pd.merge(df1, df2, on='ID', how='left')\n",
        "df_right = pd.merge(df1, df2, on='ID', how='right')\n",
        "\n",
        "print(\"\\nTask 3: Outer Join:\\n\", df_outer)\n",
        "print(\"\\nTask 3: Inner Join:\\n\", df_inner)\n",
        "print(\"\\nTask 3: Left Join:\\n\", df_left)\n",
        "print(\"\\nTask 3: Right Join:\\n\", df_right)"
      ],
      "metadata": {
        "colab": {
          "base_uri": "https://localhost:8080/"
        },
        "id": "dW2IqE7OhXNL",
        "outputId": "77f271bc-f38a-45e9-bfd4-fa974cd1a107"
      },
      "execution_count": 19,
      "outputs": [
        {
          "output_type": "stream",
          "name": "stdout",
          "text": [
            "\n",
            "Task 3: Outer Join:\n",
            "    ID     Name   Age         City\n",
            "0   1    Alice  24.0          NaN\n",
            "1   2      Bob  27.0     New York\n",
            "2   3  Charlie  22.0  Los Angeles\n",
            "3   4      NaN   NaN      Chicago\n",
            "\n",
            "Task 3: Inner Join:\n",
            "    ID     Name  Age         City\n",
            "0   2      Bob   27     New York\n",
            "1   3  Charlie   22  Los Angeles\n",
            "\n",
            "Task 3: Left Join:\n",
            "    ID     Name  Age         City\n",
            "0   1    Alice   24          NaN\n",
            "1   2      Bob   27     New York\n",
            "2   3  Charlie   22  Los Angeles\n",
            "\n",
            "Task 3: Right Join:\n",
            "    ID     Name   Age         City\n",
            "0   2      Bob  27.0     New York\n",
            "1   3  Charlie  22.0  Los Angeles\n",
            "2   4      NaN   NaN      Chicago\n"
          ]
        }
      ]
    },
    {
      "cell_type": "markdown",
      "source": [
        "Task 4: Concatenate two DataFrames along rows (vertical)"
      ],
      "metadata": {
        "id": "X6o1_uZ4isCR"
      }
    },
    {
      "cell_type": "code",
      "source": [
        "df_concat_rows = pd.concat([df1, df2], axis=0, ignore_index=True)\n",
        "print(\"\\nTask 4: Concatenate along rows:\\n\", df_concat_rows)"
      ],
      "metadata": {
        "colab": {
          "base_uri": "https://localhost:8080/"
        },
        "id": "FjA_jtBEiV-C",
        "outputId": "d409d613-5371-47ff-d51e-336270ed0f2a"
      },
      "execution_count": 20,
      "outputs": [
        {
          "output_type": "stream",
          "name": "stdout",
          "text": [
            "\n",
            "Task 4: Concatenate along rows:\n",
            "    ID     Name   Age         City\n",
            "0   1    Alice  24.0          NaN\n",
            "1   2      Bob  27.0          NaN\n",
            "2   3  Charlie  22.0          NaN\n",
            "3   2      NaN   NaN     New York\n",
            "4   3      NaN   NaN  Los Angeles\n",
            "5   4      NaN   NaN      Chicago\n"
          ]
        }
      ]
    },
    {
      "cell_type": "markdown",
      "source": [
        "Task 5: Concatenate two DataFrames along columns (horizontal)"
      ],
      "metadata": {
        "id": "NQr5K9Pli3VP"
      }
    },
    {
      "cell_type": "code",
      "source": [
        "df_concat_columns = pd.concat([df1, df2], axis=1)\n",
        "print(\"\\nTask 5: Concatenate along columns:\\n\", df_concat_columns)"
      ],
      "metadata": {
        "colab": {
          "base_uri": "https://localhost:8080/"
        },
        "id": "50BFadmTiu20",
        "outputId": "49e70349-4f92-45a0-9b37-5f3f4a048886"
      },
      "execution_count": 21,
      "outputs": [
        {
          "output_type": "stream",
          "name": "stdout",
          "text": [
            "\n",
            "Task 5: Concatenate along columns:\n",
            "    ID     Name  Age  ID         City\n",
            "0   1    Alice   24   2     New York\n",
            "1   2      Bob   27   3  Los Angeles\n",
            "2   3  Charlie   22   4      Chicago\n"
          ]
        }
      ]
    },
    {
      "cell_type": "markdown",
      "source": [
        "Task 6: Concatenate a list of DataFrames"
      ],
      "metadata": {
        "id": "TLr6_ygTjCaI"
      }
    },
    {
      "cell_type": "code",
      "source": [
        "df_list = [df1, df2, df3]\n",
        "df_concat_list = pd.concat(df_list, ignore_index=True)\n",
        "print(\"\\nTask 6: Concatenate a list of DataFrames:\\n\", df_concat_list)"
      ],
      "metadata": {
        "colab": {
          "base_uri": "https://localhost:8080/"
        },
        "id": "AMUkVVvFi49r",
        "outputId": "3f0fce53-937c-4a4c-a1a8-376d54e984f6"
      },
      "execution_count": 22,
      "outputs": [
        {
          "output_type": "stream",
          "name": "stdout",
          "text": [
            "\n",
            "Task 6: Concatenate a list of DataFrames:\n",
            "    ID     Name   Age         City\n",
            "0   1    Alice  24.0          NaN\n",
            "1   2      Bob  27.0          NaN\n",
            "2   3  Charlie  22.0          NaN\n",
            "3   2      NaN   NaN     New York\n",
            "4   3      NaN   NaN  Los Angeles\n",
            "5   4      NaN   NaN      Chicago\n",
            "6   1      NaN   NaN     New York\n",
            "7   2      NaN   NaN  Los Angeles\n",
            "8   3      NaN   NaN      Chicago\n"
          ]
        }
      ]
    },
    {
      "cell_type": "markdown",
      "source": [
        "Task 7: Reshape data using melt function (wide to long format)"
      ],
      "metadata": {
        "id": "-LXgQBm-jwAe"
      }
    },
    {
      "cell_type": "code",
      "source": [
        "df_wide = pd.DataFrame({\n",
        "    'Name': ['Alice', 'Bob', 'Charlie'],\n",
        "    'Math': [85, 90, 88],\n",
        "    'English': [92, 84, 91]\n",
        "})\n",
        "df_wide"
      ],
      "metadata": {
        "colab": {
          "base_uri": "https://localhost:8080/",
          "height": 143
        },
        "id": "KNb0NMozjyGC",
        "outputId": "02bd14e8-771b-4be5-b078-a4fa8733fe3f"
      },
      "execution_count": 24,
      "outputs": [
        {
          "output_type": "execute_result",
          "data": {
            "text/plain": [
              "      Name  Math  English\n",
              "0    Alice    85       92\n",
              "1      Bob    90       84\n",
              "2  Charlie    88       91"
            ],
            "text/html": [
              "\n",
              "  <div id=\"df-be59f657-9cb9-478a-a32e-425464637576\" class=\"colab-df-container\">\n",
              "    <div>\n",
              "<style scoped>\n",
              "    .dataframe tbody tr th:only-of-type {\n",
              "        vertical-align: middle;\n",
              "    }\n",
              "\n",
              "    .dataframe tbody tr th {\n",
              "        vertical-align: top;\n",
              "    }\n",
              "\n",
              "    .dataframe thead th {\n",
              "        text-align: right;\n",
              "    }\n",
              "</style>\n",
              "<table border=\"1\" class=\"dataframe\">\n",
              "  <thead>\n",
              "    <tr style=\"text-align: right;\">\n",
              "      <th></th>\n",
              "      <th>Name</th>\n",
              "      <th>Math</th>\n",
              "      <th>English</th>\n",
              "    </tr>\n",
              "  </thead>\n",
              "  <tbody>\n",
              "    <tr>\n",
              "      <th>0</th>\n",
              "      <td>Alice</td>\n",
              "      <td>85</td>\n",
              "      <td>92</td>\n",
              "    </tr>\n",
              "    <tr>\n",
              "      <th>1</th>\n",
              "      <td>Bob</td>\n",
              "      <td>90</td>\n",
              "      <td>84</td>\n",
              "    </tr>\n",
              "    <tr>\n",
              "      <th>2</th>\n",
              "      <td>Charlie</td>\n",
              "      <td>88</td>\n",
              "      <td>91</td>\n",
              "    </tr>\n",
              "  </tbody>\n",
              "</table>\n",
              "</div>\n",
              "    <div class=\"colab-df-buttons\">\n",
              "\n",
              "  <div class=\"colab-df-container\">\n",
              "    <button class=\"colab-df-convert\" onclick=\"convertToInteractive('df-be59f657-9cb9-478a-a32e-425464637576')\"\n",
              "            title=\"Convert this dataframe to an interactive table.\"\n",
              "            style=\"display:none;\">\n",
              "\n",
              "  <svg xmlns=\"http://www.w3.org/2000/svg\" height=\"24px\" viewBox=\"0 -960 960 960\">\n",
              "    <path d=\"M120-120v-720h720v720H120Zm60-500h600v-160H180v160Zm220 220h160v-160H400v160Zm0 220h160v-160H400v160ZM180-400h160v-160H180v160Zm440 0h160v-160H620v160ZM180-180h160v-160H180v160Zm440 0h160v-160H620v160Z\"/>\n",
              "  </svg>\n",
              "    </button>\n",
              "\n",
              "  <style>\n",
              "    .colab-df-container {\n",
              "      display:flex;\n",
              "      gap: 12px;\n",
              "    }\n",
              "\n",
              "    .colab-df-convert {\n",
              "      background-color: #E8F0FE;\n",
              "      border: none;\n",
              "      border-radius: 50%;\n",
              "      cursor: pointer;\n",
              "      display: none;\n",
              "      fill: #1967D2;\n",
              "      height: 32px;\n",
              "      padding: 0 0 0 0;\n",
              "      width: 32px;\n",
              "    }\n",
              "\n",
              "    .colab-df-convert:hover {\n",
              "      background-color: #E2EBFA;\n",
              "      box-shadow: 0px 1px 2px rgba(60, 64, 67, 0.3), 0px 1px 3px 1px rgba(60, 64, 67, 0.15);\n",
              "      fill: #174EA6;\n",
              "    }\n",
              "\n",
              "    .colab-df-buttons div {\n",
              "      margin-bottom: 4px;\n",
              "    }\n",
              "\n",
              "    [theme=dark] .colab-df-convert {\n",
              "      background-color: #3B4455;\n",
              "      fill: #D2E3FC;\n",
              "    }\n",
              "\n",
              "    [theme=dark] .colab-df-convert:hover {\n",
              "      background-color: #434B5C;\n",
              "      box-shadow: 0px 1px 3px 1px rgba(0, 0, 0, 0.15);\n",
              "      filter: drop-shadow(0px 1px 2px rgba(0, 0, 0, 0.3));\n",
              "      fill: #FFFFFF;\n",
              "    }\n",
              "  </style>\n",
              "\n",
              "    <script>\n",
              "      const buttonEl =\n",
              "        document.querySelector('#df-be59f657-9cb9-478a-a32e-425464637576 button.colab-df-convert');\n",
              "      buttonEl.style.display =\n",
              "        google.colab.kernel.accessAllowed ? 'block' : 'none';\n",
              "\n",
              "      async function convertToInteractive(key) {\n",
              "        const element = document.querySelector('#df-be59f657-9cb9-478a-a32e-425464637576');\n",
              "        const dataTable =\n",
              "          await google.colab.kernel.invokeFunction('convertToInteractive',\n",
              "                                                    [key], {});\n",
              "        if (!dataTable) return;\n",
              "\n",
              "        const docLinkHtml = 'Like what you see? Visit the ' +\n",
              "          '<a target=\"_blank\" href=https://colab.research.google.com/notebooks/data_table.ipynb>data table notebook</a>'\n",
              "          + ' to learn more about interactive tables.';\n",
              "        element.innerHTML = '';\n",
              "        dataTable['output_type'] = 'display_data';\n",
              "        await google.colab.output.renderOutput(dataTable, element);\n",
              "        const docLink = document.createElement('div');\n",
              "        docLink.innerHTML = docLinkHtml;\n",
              "        element.appendChild(docLink);\n",
              "      }\n",
              "    </script>\n",
              "  </div>\n",
              "\n",
              "\n",
              "<div id=\"df-47ea1da0-8d6a-41ac-b0e4-b4748c6c7170\">\n",
              "  <button class=\"colab-df-quickchart\" onclick=\"quickchart('df-47ea1da0-8d6a-41ac-b0e4-b4748c6c7170')\"\n",
              "            title=\"Suggest charts\"\n",
              "            style=\"display:none;\">\n",
              "\n",
              "<svg xmlns=\"http://www.w3.org/2000/svg\" height=\"24px\"viewBox=\"0 0 24 24\"\n",
              "     width=\"24px\">\n",
              "    <g>\n",
              "        <path d=\"M19 3H5c-1.1 0-2 .9-2 2v14c0 1.1.9 2 2 2h14c1.1 0 2-.9 2-2V5c0-1.1-.9-2-2-2zM9 17H7v-7h2v7zm4 0h-2V7h2v10zm4 0h-2v-4h2v4z\"/>\n",
              "    </g>\n",
              "</svg>\n",
              "  </button>\n",
              "\n",
              "<style>\n",
              "  .colab-df-quickchart {\n",
              "      --bg-color: #E8F0FE;\n",
              "      --fill-color: #1967D2;\n",
              "      --hover-bg-color: #E2EBFA;\n",
              "      --hover-fill-color: #174EA6;\n",
              "      --disabled-fill-color: #AAA;\n",
              "      --disabled-bg-color: #DDD;\n",
              "  }\n",
              "\n",
              "  [theme=dark] .colab-df-quickchart {\n",
              "      --bg-color: #3B4455;\n",
              "      --fill-color: #D2E3FC;\n",
              "      --hover-bg-color: #434B5C;\n",
              "      --hover-fill-color: #FFFFFF;\n",
              "      --disabled-bg-color: #3B4455;\n",
              "      --disabled-fill-color: #666;\n",
              "  }\n",
              "\n",
              "  .colab-df-quickchart {\n",
              "    background-color: var(--bg-color);\n",
              "    border: none;\n",
              "    border-radius: 50%;\n",
              "    cursor: pointer;\n",
              "    display: none;\n",
              "    fill: var(--fill-color);\n",
              "    height: 32px;\n",
              "    padding: 0;\n",
              "    width: 32px;\n",
              "  }\n",
              "\n",
              "  .colab-df-quickchart:hover {\n",
              "    background-color: var(--hover-bg-color);\n",
              "    box-shadow: 0 1px 2px rgba(60, 64, 67, 0.3), 0 1px 3px 1px rgba(60, 64, 67, 0.15);\n",
              "    fill: var(--button-hover-fill-color);\n",
              "  }\n",
              "\n",
              "  .colab-df-quickchart-complete:disabled,\n",
              "  .colab-df-quickchart-complete:disabled:hover {\n",
              "    background-color: var(--disabled-bg-color);\n",
              "    fill: var(--disabled-fill-color);\n",
              "    box-shadow: none;\n",
              "  }\n",
              "\n",
              "  .colab-df-spinner {\n",
              "    border: 2px solid var(--fill-color);\n",
              "    border-color: transparent;\n",
              "    border-bottom-color: var(--fill-color);\n",
              "    animation:\n",
              "      spin 1s steps(1) infinite;\n",
              "  }\n",
              "\n",
              "  @keyframes spin {\n",
              "    0% {\n",
              "      border-color: transparent;\n",
              "      border-bottom-color: var(--fill-color);\n",
              "      border-left-color: var(--fill-color);\n",
              "    }\n",
              "    20% {\n",
              "      border-color: transparent;\n",
              "      border-left-color: var(--fill-color);\n",
              "      border-top-color: var(--fill-color);\n",
              "    }\n",
              "    30% {\n",
              "      border-color: transparent;\n",
              "      border-left-color: var(--fill-color);\n",
              "      border-top-color: var(--fill-color);\n",
              "      border-right-color: var(--fill-color);\n",
              "    }\n",
              "    40% {\n",
              "      border-color: transparent;\n",
              "      border-right-color: var(--fill-color);\n",
              "      border-top-color: var(--fill-color);\n",
              "    }\n",
              "    60% {\n",
              "      border-color: transparent;\n",
              "      border-right-color: var(--fill-color);\n",
              "    }\n",
              "    80% {\n",
              "      border-color: transparent;\n",
              "      border-right-color: var(--fill-color);\n",
              "      border-bottom-color: var(--fill-color);\n",
              "    }\n",
              "    90% {\n",
              "      border-color: transparent;\n",
              "      border-bottom-color: var(--fill-color);\n",
              "    }\n",
              "  }\n",
              "</style>\n",
              "\n",
              "  <script>\n",
              "    async function quickchart(key) {\n",
              "      const quickchartButtonEl =\n",
              "        document.querySelector('#' + key + ' button');\n",
              "      quickchartButtonEl.disabled = true;  // To prevent multiple clicks.\n",
              "      quickchartButtonEl.classList.add('colab-df-spinner');\n",
              "      try {\n",
              "        const charts = await google.colab.kernel.invokeFunction(\n",
              "            'suggestCharts', [key], {});\n",
              "      } catch (error) {\n",
              "        console.error('Error during call to suggestCharts:', error);\n",
              "      }\n",
              "      quickchartButtonEl.classList.remove('colab-df-spinner');\n",
              "      quickchartButtonEl.classList.add('colab-df-quickchart-complete');\n",
              "    }\n",
              "    (() => {\n",
              "      let quickchartButtonEl =\n",
              "        document.querySelector('#df-47ea1da0-8d6a-41ac-b0e4-b4748c6c7170 button');\n",
              "      quickchartButtonEl.style.display =\n",
              "        google.colab.kernel.accessAllowed ? 'block' : 'none';\n",
              "    })();\n",
              "  </script>\n",
              "</div>\n",
              "\n",
              "  <div id=\"id_8fbb5f0b-f4f3-4853-9919-f183b2334f9b\">\n",
              "    <style>\n",
              "      .colab-df-generate {\n",
              "        background-color: #E8F0FE;\n",
              "        border: none;\n",
              "        border-radius: 50%;\n",
              "        cursor: pointer;\n",
              "        display: none;\n",
              "        fill: #1967D2;\n",
              "        height: 32px;\n",
              "        padding: 0 0 0 0;\n",
              "        width: 32px;\n",
              "      }\n",
              "\n",
              "      .colab-df-generate:hover {\n",
              "        background-color: #E2EBFA;\n",
              "        box-shadow: 0px 1px 2px rgba(60, 64, 67, 0.3), 0px 1px 3px 1px rgba(60, 64, 67, 0.15);\n",
              "        fill: #174EA6;\n",
              "      }\n",
              "\n",
              "      [theme=dark] .colab-df-generate {\n",
              "        background-color: #3B4455;\n",
              "        fill: #D2E3FC;\n",
              "      }\n",
              "\n",
              "      [theme=dark] .colab-df-generate:hover {\n",
              "        background-color: #434B5C;\n",
              "        box-shadow: 0px 1px 3px 1px rgba(0, 0, 0, 0.15);\n",
              "        filter: drop-shadow(0px 1px 2px rgba(0, 0, 0, 0.3));\n",
              "        fill: #FFFFFF;\n",
              "      }\n",
              "    </style>\n",
              "    <button class=\"colab-df-generate\" onclick=\"generateWithVariable('df_wide')\"\n",
              "            title=\"Generate code using this dataframe.\"\n",
              "            style=\"display:none;\">\n",
              "\n",
              "  <svg xmlns=\"http://www.w3.org/2000/svg\" height=\"24px\"viewBox=\"0 0 24 24\"\n",
              "       width=\"24px\">\n",
              "    <path d=\"M7,19H8.4L18.45,9,17,7.55,7,17.6ZM5,21V16.75L18.45,3.32a2,2,0,0,1,2.83,0l1.4,1.43a1.91,1.91,0,0,1,.58,1.4,1.91,1.91,0,0,1-.58,1.4L9.25,21ZM18.45,9,17,7.55Zm-12,3A5.31,5.31,0,0,0,4.9,8.1,5.31,5.31,0,0,0,1,6.5,5.31,5.31,0,0,0,4.9,4.9,5.31,5.31,0,0,0,6.5,1,5.31,5.31,0,0,0,8.1,4.9,5.31,5.31,0,0,0,12,6.5,5.46,5.46,0,0,0,6.5,12Z\"/>\n",
              "  </svg>\n",
              "    </button>\n",
              "    <script>\n",
              "      (() => {\n",
              "      const buttonEl =\n",
              "        document.querySelector('#id_8fbb5f0b-f4f3-4853-9919-f183b2334f9b button.colab-df-generate');\n",
              "      buttonEl.style.display =\n",
              "        google.colab.kernel.accessAllowed ? 'block' : 'none';\n",
              "\n",
              "      buttonEl.onclick = () => {\n",
              "        google.colab.notebook.generateWithVariable('df_wide');\n",
              "      }\n",
              "      })();\n",
              "    </script>\n",
              "  </div>\n",
              "\n",
              "    </div>\n",
              "  </div>\n"
            ],
            "application/vnd.google.colaboratory.intrinsic+json": {
              "type": "dataframe",
              "variable_name": "df_wide",
              "summary": "{\n  \"name\": \"df_wide\",\n  \"rows\": 3,\n  \"fields\": [\n    {\n      \"column\": \"Name\",\n      \"properties\": {\n        \"dtype\": \"string\",\n        \"num_unique_values\": 3,\n        \"samples\": [\n          \"Alice\",\n          \"Bob\",\n          \"Charlie\"\n        ],\n        \"semantic_type\": \"\",\n        \"description\": \"\"\n      }\n    },\n    {\n      \"column\": \"Math\",\n      \"properties\": {\n        \"dtype\": \"number\",\n        \"std\": 2,\n        \"min\": 85,\n        \"max\": 90,\n        \"num_unique_values\": 3,\n        \"samples\": [\n          85,\n          90,\n          88\n        ],\n        \"semantic_type\": \"\",\n        \"description\": \"\"\n      }\n    },\n    {\n      \"column\": \"English\",\n      \"properties\": {\n        \"dtype\": \"number\",\n        \"std\": 4,\n        \"min\": 84,\n        \"max\": 92,\n        \"num_unique_values\": 3,\n        \"samples\": [\n          92,\n          84,\n          91\n        ],\n        \"semantic_type\": \"\",\n        \"description\": \"\"\n      }\n    }\n  ]\n}"
            }
          },
          "metadata": {},
          "execution_count": 24
        }
      ]
    },
    {
      "cell_type": "code",
      "source": [
        "df_long = pd.melt(df_wide, id_vars=['Name'], value_vars=['Math', 'English'], var_name='Subject', value_name='Score')\n",
        "print(\"\\nTask 7: Melt function (wide to long):\\n\", df_long)"
      ],
      "metadata": {
        "colab": {
          "base_uri": "https://localhost:8080/"
        },
        "id": "4QQ9IHevjFoB",
        "outputId": "2bb59b2b-7cd0-442c-ad05-c5c0b42e302f"
      },
      "execution_count": 25,
      "outputs": [
        {
          "output_type": "stream",
          "name": "stdout",
          "text": [
            "\n",
            "Task 7: Melt function (wide to long):\n",
            "       Name  Subject  Score\n",
            "0    Alice     Math     85\n",
            "1      Bob     Math     90\n",
            "2  Charlie     Math     88\n",
            "3    Alice  English     92\n",
            "4      Bob  English     84\n",
            "5  Charlie  English     91\n"
          ]
        }
      ]
    },
    {
      "cell_type": "markdown",
      "source": [
        "Task 8: Create a pivot table to summarize data"
      ],
      "metadata": {
        "id": "pV_TU9QwkV3q"
      }
    },
    {
      "cell_type": "code",
      "source": [
        "df_pivot = pd.pivot_table(df_merged_single, values='Age', index='Name', columns='City', aggfunc='mean')\n",
        "print(\"\\nTask 8: Pivot table to summarize data:\\n\", df_pivot)"
      ],
      "metadata": {
        "colab": {
          "base_uri": "https://localhost:8080/"
        },
        "id": "2rennULVkISn",
        "outputId": "e29b9f69-d116-4745-d335-c6a8c7bbb970"
      },
      "execution_count": 26,
      "outputs": [
        {
          "output_type": "stream",
          "name": "stdout",
          "text": [
            "\n",
            "Task 8: Pivot table to summarize data:\n",
            " City     Los Angeles  New York\n",
            "Name                          \n",
            "Bob              NaN      27.0\n",
            "Charlie         22.0       NaN\n"
          ]
        }
      ]
    },
    {
      "cell_type": "markdown",
      "source": [
        "Task 9: Group data by one or more columns and perform aggregation functions"
      ],
      "metadata": {
        "id": "8kG6OHYDk8N8"
      }
    },
    {
      "cell_type": "code",
      "source": [
        "df_grouped = df1.groupby('Age').agg({'ID': 'count', 'Name': 'first'})\n",
        "print(\"\\nTask 9: Group by one column and perform aggregation:\\n\", df_grouped)"
      ],
      "metadata": {
        "colab": {
          "base_uri": "https://localhost:8080/"
        },
        "id": "r9mJw8UckhUD",
        "outputId": "e06a50b4-7917-4cab-da77-529e46916a6e"
      },
      "execution_count": 27,
      "outputs": [
        {
          "output_type": "stream",
          "name": "stdout",
          "text": [
            "\n",
            "Task 9: Group by one column and perform aggregation:\n",
            "      ID     Name\n",
            "Age             \n",
            "22    1  Charlie\n",
            "24    1    Alice\n",
            "27    1      Bob\n"
          ]
        }
      ]
    },
    {
      "cell_type": "markdown",
      "source": [
        "Task 10: Apply multiple aggregation functions to grouped data"
      ],
      "metadata": {
        "id": "55Ph8kkhmlwE"
      }
    },
    {
      "cell_type": "code",
      "source": [
        "df_grouped_multiple = df1.groupby('Age').agg({'ID': ['count', 'sum'], 'Name': 'first'})\n",
        "print(\"\\nTask 10: Apply multiple aggregation functions:\\n\", df_grouped_multiple)"
      ],
      "metadata": {
        "colab": {
          "base_uri": "https://localhost:8080/"
        },
        "id": "simkEulZmVQ-",
        "outputId": "66c92701-e06f-43bc-c93c-3d107c144276"
      },
      "execution_count": 28,
      "outputs": [
        {
          "output_type": "stream",
          "name": "stdout",
          "text": [
            "\n",
            "Task 10: Apply multiple aggregation functions:\n",
            "        ID         Name\n",
            "    count sum    first\n",
            "Age                   \n",
            "22      1   3  Charlie\n",
            "24      1   1    Alice\n",
            "27      1   2      Bob\n"
          ]
        }
      ]
    },
    {
      "cell_type": "markdown",
      "source": [
        "Task 11: Use the groupby function to group data and apply custom functions"
      ],
      "metadata": {
        "id": "romQrXQ8nAP-"
      }
    },
    {
      "cell_type": "code",
      "source": [
        "def custom_agg(group):\n",
        "    return group['Age'].mean()\n",
        "\n",
        "df_grouped_custom = df1.groupby('Name').apply(custom_agg)\n",
        "print(\"\\nTask 11: Group by 'Name' and apply custom aggregation function:\\n\", df_grouped_custom)"
      ],
      "metadata": {
        "colab": {
          "base_uri": "https://localhost:8080/"
        },
        "id": "_5dGobJ2mprQ",
        "outputId": "02f381b5-643e-4ac2-d4ef-652ce9a81c16"
      },
      "execution_count": 29,
      "outputs": [
        {
          "output_type": "stream",
          "name": "stdout",
          "text": [
            "\n",
            "Task 11: Group by 'Name' and apply custom aggregation function:\n",
            " Name\n",
            "Alice      24.0\n",
            "Bob        27.0\n",
            "Charlie    22.0\n",
            "dtype: float64\n"
          ]
        },
        {
          "output_type": "stream",
          "name": "stderr",
          "text": [
            "<ipython-input-29-ec7eac03937a>:4: DeprecationWarning: DataFrameGroupBy.apply operated on the grouping columns. This behavior is deprecated, and in a future version of pandas the grouping columns will be excluded from the operation. Either pass `include_groups=False` to exclude the groupings or explicitly select the grouping columns after groupby to silence this warning.\n",
            "  df_grouped_custom = df1.groupby('Name').apply(custom_agg)\n"
          ]
        }
      ]
    },
    {
      "cell_type": "code",
      "source": [],
      "metadata": {
        "id": "DjvhK361nJER"
      },
      "execution_count": null,
      "outputs": []
    }
  ]
}