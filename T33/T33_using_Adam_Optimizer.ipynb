{
  "nbformat": 4,
  "nbformat_minor": 0,
  "metadata": {
    "colab": {
      "provenance": []
    },
    "kernelspec": {
      "name": "python3",
      "display_name": "Python 3"
    },
    "language_info": {
      "name": "python"
    }
  },
  "cells": [
    {
      "cell_type": "code",
      "execution_count": 1,
      "metadata": {
        "id": "a4QfVCYIdBy1"
      },
      "outputs": [],
      "source": [
        "import numpy as np\n",
        "import matplotlib.pyplot as plt"
      ]
    },
    {
      "cell_type": "code",
      "source": [
        "np.random.seed(42)\n",
        "X = np.linspace(-1, 1, 100).reshape(-1, 1)\n",
        "y = X ** 3 + 0.1 * np.random.randn(*X.shape)"
      ],
      "metadata": {
        "id": "GOVmWIK7dOzZ"
      },
      "execution_count": 2,
      "outputs": []
    },
    {
      "cell_type": "code",
      "source": [
        "# Neural Network with one hidden layer\n",
        "class NeuralNetworkAdam:\n",
        "    def __init__(self, input_size, hidden_size, output_size, learning_rate=0.01):\n",
        "        self.w1 = np.random.randn(input_size, hidden_size)\n",
        "        self.b1 = np.zeros((1, hidden_size))\n",
        "        self.w2 = np.random.randn(hidden_size, output_size)\n",
        "        self.b2 = np.zeros((1, output_size))\n",
        "        self.lr = learning_rate\n",
        "\n",
        "        # Adam optimizer params\n",
        "        self.m_w1, self.v_w1 = 0, 0\n",
        "        self.m_b1, self.v_b1 = 0, 0\n",
        "        self.m_w2, self.v_w2 = 0, 0\n",
        "        self.m_b2, self.v_b2 = 0, 0\n",
        "        self.beta1 = 0.9\n",
        "        self.beta2 = 0.999\n",
        "        self.eps = 1e-8\n",
        "        self.t = 0\n",
        "\n",
        "    def relu(self, z):\n",
        "        return np.maximum(0, z)\n",
        "\n",
        "    def relu_deriv(self, z):\n",
        "        return z > 0\n",
        "\n",
        "    def forward(self, X):\n",
        "        self.z1 = X.dot(self.w1) + self.b1\n",
        "        self.a1 = self.relu(self.z1)\n",
        "        self.z2 = self.a1.dot(self.w2) + self.b2\n",
        "        return self.z2\n",
        "\n",
        "    def compute_loss(self, y_pred, y_true):\n",
        "        return np.mean((y_pred - y_true) ** 2)\n",
        "\n",
        "    def backward(self, X, y, y_pred):\n",
        "        m = X.shape[0]\n",
        "        dz2 = (2/m) * (y_pred - y)\n",
        "        dw2 = self.a1.T.dot(dz2)\n",
        "        db2 = np.sum(dz2, axis=0, keepdims=True)\n",
        "\n",
        "        da1 = dz2.dot(self.w2.T)\n",
        "        dz1 = da1 * self.relu_deriv(self.z1)\n",
        "        dw1 = X.T.dot(dz1)\n",
        "        db1 = np.sum(dz1, axis=0, keepdims=True)\n",
        "\n",
        "        return dw1, db1, dw2, db2\n",
        "\n",
        "    def update_with_adam(self, dw1, db1, dw2, db2):\n",
        "        self.t += 1\n",
        "\n",
        "        # Update weights 1\n",
        "        self.m_w1 = self.beta1 * self.m_w1 + (1 - self.beta1) * dw1\n",
        "        self.v_w1 = self.beta2 * self.v_w1 + (1 - self.beta2) * (dw1 ** 2)\n",
        "        m_w1_hat = self.m_w1 / (1 - self.beta1 ** self.t)\n",
        "        v_w1_hat = self.v_w1 / (1 - self.beta2 ** self.t)\n",
        "        self.w1 -= self.lr * m_w1_hat / (np.sqrt(v_w1_hat) + self.eps)\n",
        "\n",
        "        # Update bias 1\n",
        "        self.m_b1 = self.beta1 * self.m_b1 + (1 - self.beta1) * db1\n",
        "        self.v_b1 = self.beta2 * self.v_b1 + (1 - self.beta2) * (db1 ** 2)\n",
        "        m_b1_hat = self.m_b1 / (1 - self.beta1 ** self.t)\n",
        "        v_b1_hat = self.v_b1 / (1 - self.beta2 ** self.t)\n",
        "        self.b1 -= self.lr * m_b1_hat / (np.sqrt(v_b1_hat) + self.eps)\n",
        "\n",
        "        # Update weights 2\n",
        "        self.m_w2 = self.beta1 * self.m_w2 + (1 - self.beta1) * dw2\n",
        "        self.v_w2 = self.beta2 * self.v_w2 + (1 - self.beta2) * (dw2 ** 2)\n",
        "        m_w2_hat = self.m_w2 / (1 - self.beta1 ** self.t)\n",
        "        v_w2_hat = self.v_w2 / (1 - self.beta2 ** self.t)\n",
        "        self.w2 -= self.lr * m_w2_hat / (np.sqrt(v_w2_hat) + self.eps)\n",
        "\n",
        "        # Update bias 2\n",
        "        self.m_b2 = self.beta1 * self.m_b2 + (1 - self.beta1) * db2\n",
        "        self.v_b2 = self.beta2 * self.v_b2 + (1 - self.beta2) * (db2 ** 2)\n",
        "        m_b2_hat = self.m_b2 / (1 - self.beta1 ** self.t)\n",
        "        v_b2_hat = self.v_b2 / (1 - self.beta2 ** self.t)\n",
        "        self.b2 -= self.lr * m_b2_hat / (np.sqrt(v_b2_hat) + self.eps)\n",
        "\n",
        "    def train(self, X, y, epochs=1000):\n",
        "        for epoch in range(epochs):\n",
        "            y_pred = self.forward(X)\n",
        "            loss = self.compute_loss(y_pred, y)\n",
        "            dw1, db1, dw2, db2 = self.backward(X, y, y_pred)\n",
        "            self.update_with_adam(dw1, db1, dw2, db2)\n",
        "            if epoch % 100 == 0:\n",
        "                print(f\"Epoch {epoch}: Loss = {loss:.5f}\")"
      ],
      "metadata": {
        "id": "Rc3THZJqdfOf"
      },
      "execution_count": 4,
      "outputs": []
    },
    {
      "cell_type": "code",
      "source": [
        "# Training the model\n",
        "nn = NeuralNetworkAdam(input_size=1, hidden_size=10, output_size=1, learning_rate=0.01)\n",
        "nn.train(X, y, epochs=1000)"
      ],
      "metadata": {
        "colab": {
          "base_uri": "https://localhost:8080/"
        },
        "id": "NjQ5mK4beW9v",
        "outputId": "87bd9b70-63c2-4765-a269-8279ad133d6e"
      },
      "execution_count": 5,
      "outputs": [
        {
          "output_type": "stream",
          "name": "stdout",
          "text": [
            "Epoch 0: Loss = 0.06323\n",
            "Epoch 100: Loss = 0.01026\n",
            "Epoch 200: Loss = 0.00764\n",
            "Epoch 300: Loss = 0.00753\n",
            "Epoch 400: Loss = 0.00750\n",
            "Epoch 500: Loss = 0.00748\n",
            "Epoch 600: Loss = 0.00747\n",
            "Epoch 700: Loss = 0.00746\n",
            "Epoch 800: Loss = 0.00746\n",
            "Epoch 900: Loss = 0.00745\n"
          ]
        }
      ]
    },
    {
      "cell_type": "code",
      "source": [
        "y_pred = nn.forward(X)\n",
        "y_pred"
      ],
      "metadata": {
        "colab": {
          "base_uri": "https://localhost:8080/"
        },
        "id": "rHFY0Ns2eg51",
        "outputId": "f48d681b-edee-40de-ec04-9b94eebda0e4"
      },
      "execution_count": 6,
      "outputs": [
        {
          "output_type": "execute_result",
          "data": {
            "text/plain": [
              "array([[-0.87271654],\n",
              "       [-0.84080569],\n",
              "       [-0.80889484],\n",
              "       [-0.77698399],\n",
              "       [-0.74507314],\n",
              "       [-0.71316229],\n",
              "       [-0.68125144],\n",
              "       [-0.64934059],\n",
              "       [-0.61742974],\n",
              "       [-0.58551889],\n",
              "       [-0.55360804],\n",
              "       [-0.52169719],\n",
              "       [-0.48978634],\n",
              "       [-0.45787549],\n",
              "       [-0.42596464],\n",
              "       [-0.39405379],\n",
              "       [-0.36214294],\n",
              "       [-0.3302321 ],\n",
              "       [-0.29832125],\n",
              "       [-0.2664104 ],\n",
              "       [-0.23490885],\n",
              "       [-0.21832449],\n",
              "       [-0.20174012],\n",
              "       [-0.18515575],\n",
              "       [-0.16857139],\n",
              "       [-0.15198702],\n",
              "       [-0.13540265],\n",
              "       [-0.11881828],\n",
              "       [-0.10223392],\n",
              "       [-0.08564955],\n",
              "       [-0.06906518],\n",
              "       [-0.05405556],\n",
              "       [-0.05318657],\n",
              "       [-0.05231757],\n",
              "       [-0.05144858],\n",
              "       [-0.05057959],\n",
              "       [-0.04971059],\n",
              "       [-0.0488416 ],\n",
              "       [-0.0479726 ],\n",
              "       [-0.04710361],\n",
              "       [-0.04623461],\n",
              "       [-0.04536562],\n",
              "       [-0.04449662],\n",
              "       [-0.04362763],\n",
              "       [-0.04275863],\n",
              "       [-0.02778187],\n",
              "       [-0.01144742],\n",
              "       [ 0.00488703],\n",
              "       [ 0.00347547],\n",
              "       [ 0.00347547],\n",
              "       [ 0.00347547],\n",
              "       [ 0.00347547],\n",
              "       [ 0.00347547],\n",
              "       [ 0.00347547],\n",
              "       [ 0.00347547],\n",
              "       [ 0.00347547],\n",
              "       [ 0.00347547],\n",
              "       [ 0.00347547],\n",
              "       [ 0.00347547],\n",
              "       [ 0.00347547],\n",
              "       [ 0.00347547],\n",
              "       [ 0.01047627],\n",
              "       [ 0.01883948],\n",
              "       [ 0.02720268],\n",
              "       [ 0.03556588],\n",
              "       [ 0.04392909],\n",
              "       [ 0.05229229],\n",
              "       [ 0.06065549],\n",
              "       [ 0.0690187 ],\n",
              "       [ 0.0773819 ],\n",
              "       [ 0.0857451 ],\n",
              "       [ 0.09410831],\n",
              "       [ 0.10247151],\n",
              "       [ 0.11083472],\n",
              "       [ 0.11919792],\n",
              "       [ 0.12756112],\n",
              "       [ 0.13592433],\n",
              "       [ 0.14428753],\n",
              "       [ 0.15265073],\n",
              "       [ 0.16101394],\n",
              "       [ 0.1986584 ],\n",
              "       [ 0.23652781],\n",
              "       [ 0.27439722],\n",
              "       [ 0.31226663],\n",
              "       [ 0.35013604],\n",
              "       [ 0.38800544],\n",
              "       [ 0.42587485],\n",
              "       [ 0.46374426],\n",
              "       [ 0.50161367],\n",
              "       [ 0.53948308],\n",
              "       [ 0.57735249],\n",
              "       [ 0.6152219 ],\n",
              "       [ 0.65309131],\n",
              "       [ 0.69096072],\n",
              "       [ 0.72883013],\n",
              "       [ 0.76669954],\n",
              "       [ 0.80456895],\n",
              "       [ 0.84243836],\n",
              "       [ 0.88030777],\n",
              "       [ 0.91817718]])"
            ]
          },
          "metadata": {},
          "execution_count": 6
        }
      ]
    },
    {
      "cell_type": "code",
      "source": [
        "plt.scatter(X, y, color='blue', label=\"True data\")\n",
        "plt.plot(X, y_pred, color='red', label=\"NN Prediction\")\n",
        "plt.legend()\n",
        "plt.title(\"Regression with Neural Network (Adam Optimizer)\")\n",
        "plt.show()"
      ],
      "metadata": {
        "colab": {
          "base_uri": "https://localhost:8080/",
          "height": 452
        },
        "id": "MBRoD9GpdLKL",
        "outputId": "7707718f-1916-45c9-bf7e-d8db417f1787"
      },
      "execution_count": 7,
      "outputs": [
        {
          "output_type": "display_data",
          "data": {
            "text/plain": [
              "<Figure size 640x480 with 1 Axes>"
            ],
            "image/png": "[encoded data removed]"
          },
          "metadata": {}
        }
      ]
    },
    {
      "cell_type": "code",
      "source": [],
      "metadata": {
        "id": "hkvvRtPFenKz"
      },
      "execution_count": null,
      "outputs": []
    }
  ]
}