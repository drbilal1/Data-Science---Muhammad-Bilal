{
  "nbformat": 4,
  "nbformat_minor": 0,
  "metadata": {
    "colab": {
      "provenance": []
    },
    "kernelspec": {
      "name": "python3",
      "display_name": "Python 3"
    },
    "language_info": {
      "name": "python"
    }
  },
  "cells": [
    {
      "cell_type": "code",
      "execution_count": 2,
      "metadata": {
        "id": "0xxN4dQ6s7wt"
      },
      "outputs": [],
      "source": [
        "import numpy as np\n",
        "import matplotlib.pyplot as plt"
      ]
    },
    {
      "cell_type": "code",
      "source": [
        "# Sigmoid Activation Function\n",
        "def sigmoid(x):\n",
        "    return 1 / (1 + np.exp(-x))"
      ],
      "metadata": {
        "id": "Jvuzt6kOuNyM"
      },
      "execution_count": 3,
      "outputs": []
    },
    {
      "cell_type": "code",
      "source": [
        "# Derivative of Sigmoid\n",
        "def sigmoid_derivative(x):\n",
        "    return x * (1 - x)"
      ],
      "metadata": {
        "id": "3q4HsS_cuRNx"
      },
      "execution_count": 4,
      "outputs": []
    },
    {
      "cell_type": "code",
      "source": [
        "# Mean Squared Error Loss Function\n",
        "def mse_loss(y_true, y_pred):\n",
        "    return np.mean((y_true - y_pred) ** 2)"
      ],
      "metadata": {
        "id": "yFB3n-kquX5p"
      },
      "execution_count": 5,
      "outputs": []
    },
    {
      "cell_type": "code",
      "source": [
        "# Neural Network Class\n",
        "class SimpleNN:\n",
        "\n",
        "    def __init__(self, input_size, hidden_size, output_size):\n",
        "        self.weights_input_hidden = np.random.randn(input_size, hidden_size)\n",
        "        self.weights_hidden_output = np.random.randn(hidden_size, output_size)\n",
        "        self.bias_hidden = np.random.randn(1, hidden_size)\n",
        "        self.bias_output = np.random.randn(1, output_size)\n",
        "\n",
        "    def forward(self, X):\n",
        "        # Forward pass through the network\n",
        "        self.hidden_input = np.dot(X, self.weights_input_hidden) + self.bias_hidden\n",
        "        self.hidden_output = sigmoid(self.hidden_input)\n",
        "        self.output_input = np.dot(self.hidden_output, self.weights_hidden_output) + self.bias_output\n",
        "        self.output = self.output_input  # Linear output for regression\n",
        "        return self.output\n",
        "\n",
        "    def backward(self, X, y, learning_rate=0.01):\n",
        "        # Backpropagation to update weights and biases\n",
        "        output_error = y - self.output\n",
        "        d_output = output_error\n",
        "\n",
        "        # Calculate gradients for weights and biases\n",
        "        hidden_error = d_output.dot(self.weights_hidden_output.T) * sigmoid_derivative(self.hidden_output)\n",
        "\n",
        "        # Update weights and biases using gradient descent(Optimizer)\n",
        "        self.weights_input_hidden += X.T.dot(hidden_error) * learning_rate\n",
        "        self.weights_hidden_output += self.hidden_output.T.dot(d_output) * learning_rate\n",
        "        self.bias_hidden += np.sum(hidden_error, axis=0, keepdims=True) * learning_rate\n",
        "        self.bias_output += np.sum(d_output, axis=0, keepdims=True) * learning_rate\n",
        "\n",
        "    def train(self, X, y, epochs=1000, learning_rate=0.01):\n",
        "        for epoch in range(epochs):\n",
        "            self.forward(X)\n",
        "            self.backward(X, y, learning_rate)\n",
        "            if epoch % 100 == 0:\n",
        "                loss = mse_loss(y, self.output)\n",
        "                print(f\"Epoch {epoch}/{epochs}, Loss: {loss:.4f}\")\n",
        "\n",
        "    def predict(self, X):\n",
        "        return self.forward(X)"
      ],
      "metadata": {
        "id": "5lArAqrWukLN"
      },
      "execution_count": 12,
      "outputs": []
    },
    {
      "cell_type": "code",
      "source": [
        "# Example dataset (Input and Output)\n",
        "X = np.array([[0], [1], [2], [3], [4]])  # Input (features)\n",
        "y = np.array([[0], [1], [4], [9], [16]])  # Output (squared input, for regression)\n",
        "\n",
        "# Initialize and train the neural network\n",
        "nn = SimpleNN(input_size=1, hidden_size=5, output_size=1)  # Simple network with 1 input, 1 hidden, and 1 output\n",
        "nn.train(X, y, epochs=1000, learning_rate=0.01)"
      ],
      "metadata": {
        "colab": {
          "base_uri": "https://localhost:8080/"
        },
        "id": "I6LoJMHRblgZ",
        "outputId": "9954f837-8536-4b24-db76-cbeca96b7602"
      },
      "execution_count": 13,
      "outputs": [
        {
          "output_type": "stream",
          "name": "stdout",
          "text": [
            "Epoch 0/1000, Loss: 56.0634\n",
            "Epoch 100/1000, Loss: 2.4742\n",
            "Epoch 200/1000, Loss: 0.5624\n",
            "Epoch 300/1000, Loss: 0.2158\n",
            "Epoch 400/1000, Loss: 0.1116\n",
            "Epoch 500/1000, Loss: 0.0717\n",
            "Epoch 600/1000, Loss: 0.0527\n",
            "Epoch 700/1000, Loss: 0.0417\n",
            "Epoch 800/1000, Loss: 0.0343\n",
            "Epoch 900/1000, Loss: 0.0289\n"
          ]
        }
      ]
    },
    {
      "cell_type": "code",
      "source": [
        "# Make predictions on the training data\n",
        "predictions = nn.predict(X)\n",
        "predictions"
      ],
      "metadata": {
        "colab": {
          "base_uri": "https://localhost:8080/"
        },
        "id": "cwISNVjYb18p",
        "outputId": "e79b203b-7ff0-4724-80db-ef59b56eaabe"
      },
      "execution_count": 15,
      "outputs": [
        {
          "output_type": "execute_result",
          "data": {
            "text/plain": [
              "array([[ 0.0479415 ],\n",
              "       [ 1.03559238],\n",
              "       [ 3.81245742],\n",
              "       [ 9.2463226 ],\n",
              "       [15.8450854 ]])"
            ]
          },
          "metadata": {},
          "execution_count": 15
        }
      ]
    },
    {
      "cell_type": "code",
      "source": [
        "# Visualize the results\n",
        "plt.scatter(X, y, color='blue', label='Actual')\n",
        "plt.plot(X, predictions, color='red', label='Predicted')\n",
        "plt.xlabel('Input')\n",
        "plt.ylabel('Output')\n",
        "plt.legend()\n",
        "plt.show()\n"
      ],
      "metadata": {
        "colab": {
          "base_uri": "https://localhost:8080/",
          "height": 449
        },
        "id": "46M5_aUOs-wM",
        "outputId": "2bc02b81-6fe4-48ef-ff7a-c58c48c30156"
      },
      "execution_count": 16,
      "outputs": [
        {
          "output_type": "display_data",
          "data": {
            "text/plain": [
              "<Figure size 640x480 with 1 Axes>"
            ],
            "image/png": "[encoded data removed]"
          },
          "metadata": {}
        }
      ]
    },
    {
      "cell_type": "code",
      "source": [],
      "metadata": {
        "id": "J054fY7Gb_Hg"
      },
      "execution_count": null,
      "outputs": []
    }
  ]
}