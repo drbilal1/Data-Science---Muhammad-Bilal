{
  "nbformat": 4,
  "nbformat_minor": 0,
  "metadata": {
    "colab": {
      "provenance": []
    },
    "kernelspec": {
      "name": "python3",
      "display_name": "Python 3"
    },
    "language_info": {
      "name": "python"
    }
  },
  "cells": [
    {
      "cell_type": "markdown",
      "source": [
        "Practice Examples of List"
      ],
      "metadata": {
        "id": "N6Cgtzv7rIs6"
      }
    },
    {
      "cell_type": "code",
      "execution_count": 14,
      "metadata": {
        "id": "IyQF0kucqgYA"
      },
      "outputs": [],
      "source": [
        "# Creating a list\n",
        "my_list = [1, 2, 3, \"Python\", 3.14]\n",
        "\n",
        "# Creating an empty list\n",
        "empty_list = []"
      ]
    },
    {
      "cell_type": "code",
      "source": [
        "print(my_list[0])"
      ],
      "metadata": {
        "colab": {
          "base_uri": "https://localhost:8080/"
        },
        "id": "cST756Hfq4CF",
        "outputId": "3b3e7ce2-fb84-4f9b-a37a-4c8542ce2fd9"
      },
      "execution_count": 15,
      "outputs": [
        {
          "output_type": "stream",
          "name": "stdout",
          "text": [
            "1\n"
          ]
        }
      ]
    },
    {
      "cell_type": "code",
      "source": [
        "# Slicing\n",
        "print(my_list[1:3])"
      ],
      "metadata": {
        "colab": {
          "base_uri": "https://localhost:8080/"
        },
        "id": "vhjli4WFq7a7",
        "outputId": "ac99ed10-d39c-4692-976b-14a170e69cbb"
      },
      "execution_count": 16,
      "outputs": [
        {
          "output_type": "stream",
          "name": "stdout",
          "text": [
            "[2, 3]\n"
          ]
        }
      ]
    },
    {
      "cell_type": "markdown",
      "source": [
        "Adding Elements"
      ],
      "metadata": {
        "id": "OpKkgJKhrF9T"
      }
    },
    {
      "cell_type": "code",
      "source": [
        "my_list.append(10)\n",
        "my_list.insert(2, \"Inserted New Data\")  # Inserts at index 2\n",
        "print(my_list)"
      ],
      "metadata": {
        "colab": {
          "base_uri": "https://localhost:8080/"
        },
        "id": "vbrMxdFNq7P1",
        "outputId": "14315d17-b618-4b1f-d152-7a5b9b273960"
      },
      "execution_count": 17,
      "outputs": [
        {
          "output_type": "stream",
          "name": "stdout",
          "text": [
            "[1, 2, 'Inserted New Data', 3, 'Python', 3.14, 10]\n"
          ]
        }
      ]
    },
    {
      "cell_type": "code",
      "source": [
        "my_list.pop(3)"
      ],
      "metadata": {
        "colab": {
          "base_uri": "https://localhost:8080/"
        },
        "id": "USgHk8FRq7Cn",
        "outputId": "de48508c-9f71-4d4d-ff58-3f71f820eb06"
      },
      "execution_count": 18,
      "outputs": [
        {
          "output_type": "execute_result",
          "data": {
            "text/plain": [
              "3"
            ]
          },
          "metadata": {},
          "execution_count": 18
        }
      ]
    },
    {
      "cell_type": "code",
      "source": [
        "print(my_list)"
      ],
      "metadata": {
        "colab": {
          "base_uri": "https://localhost:8080/"
        },
        "id": "Iay0MUU_rhgv",
        "outputId": "c5bedb98-62ec-4e61-ab46-5d8cb0df5c18"
      },
      "execution_count": 19,
      "outputs": [
        {
          "output_type": "stream",
          "name": "stdout",
          "text": [
            "[1, 2, 'Inserted New Data', 'Python', 3.14, 10]\n"
          ]
        }
      ]
    },
    {
      "cell_type": "code",
      "source": [
        "# Checking membership\n",
        "print(3.14 in my_list)"
      ],
      "metadata": {
        "colab": {
          "base_uri": "https://localhost:8080/"
        },
        "id": "66FXgMvBsvSR",
        "outputId": "f2e70ba5-fa21-461d-ebe7-951208daa511"
      },
      "execution_count": 22,
      "outputs": [
        {
          "output_type": "stream",
          "name": "stdout",
          "text": [
            "True\n"
          ]
        }
      ]
    },
    {
      "cell_type": "code",
      "source": [
        "# Iterating through a list\n",
        "for item in my_list:\n",
        "    print(item)"
      ],
      "metadata": {
        "colab": {
          "base_uri": "https://localhost:8080/"
        },
        "id": "7cWCTS9Os5no",
        "outputId": "d65166d8-587d-441f-92f6-d95986a3cf3b"
      },
      "execution_count": 23,
      "outputs": [
        {
          "output_type": "stream",
          "name": "stdout",
          "text": [
            "1\n",
            "2\n",
            "Inserted New Data\n",
            "Python\n",
            "3.14\n",
            "10\n"
          ]
        }
      ]
    },
    {
      "cell_type": "code",
      "source": [
        "# List Comprehension\n",
        "squares = [x**2 for x in range(6)]\n",
        "print(squares)"
      ],
      "metadata": {
        "colab": {
          "base_uri": "https://localhost:8080/"
        },
        "id": "ZxFqfjXjqoz-",
        "outputId": "511f83e5-d53b-447c-d9ab-d4d32bf4e6d4"
      },
      "execution_count": 25,
      "outputs": [
        {
          "output_type": "stream",
          "name": "stdout",
          "text": [
            "[0, 1, 4, 9, 16, 25]\n"
          ]
        }
      ]
    },
    {
      "cell_type": "code",
      "source": [
        "my_list[1] = 5"
      ],
      "metadata": {
        "id": "kJaRCg3ZtEdp"
      },
      "execution_count": 26,
      "outputs": []
    },
    {
      "cell_type": "code",
      "source": [
        "my_list"
      ],
      "metadata": {
        "colab": {
          "base_uri": "https://localhost:8080/"
        },
        "id": "z8CWwQHctU4Z",
        "outputId": "65947683-2a9f-428a-92b0-b06e3fc9bb3e"
      },
      "execution_count": 27,
      "outputs": [
        {
          "output_type": "execute_result",
          "data": {
            "text/plain": [
              "[1, 5, 'Inserted New Data', 'Python', 3.14, 10]"
            ]
          },
          "metadata": {},
          "execution_count": 27
        }
      ]
    },
    {
      "cell_type": "markdown",
      "source": [
        "Practice Examples of Tuple"
      ],
      "metadata": {
        "id": "U9jsZXz7tmLf"
      }
    },
    {
      "cell_type": "code",
      "source": [
        "my_tuple = (1, 2, 3, \"Python\", 3.14)"
      ],
      "metadata": {
        "id": "ycC2wmE1tsdd"
      },
      "execution_count": 28,
      "outputs": []
    },
    {
      "cell_type": "code",
      "source": [
        "my_tuple"
      ],
      "metadata": {
        "colab": {
          "base_uri": "https://localhost:8080/"
        },
        "id": "gifq1NzttsPw",
        "outputId": "12342dc9-1c3c-41d7-a296-63a1a8398b00"
      },
      "execution_count": 29,
      "outputs": [
        {
          "output_type": "execute_result",
          "data": {
            "text/plain": [
              "(1, 2, 3, 'Python', 3.14)"
            ]
          },
          "metadata": {},
          "execution_count": 29
        }
      ]
    },
    {
      "cell_type": "code",
      "source": [
        "# Tuple unpacking to assign all tuple values to new variables\n",
        "a, b, c, d, e = my_tuple\n",
        "print(a, b, e)"
      ],
      "metadata": {
        "colab": {
          "base_uri": "https://localhost:8080/"
        },
        "id": "PwcdCbWStsMA",
        "outputId": "a89987ad-1b3e-4f2b-90d9-6709398da3b9"
      },
      "execution_count": 31,
      "outputs": [
        {
          "output_type": "stream",
          "name": "stdout",
          "text": [
            "1 2 3.14\n"
          ]
        }
      ]
    },
    {
      "cell_type": "markdown",
      "source": [
        "Set"
      ],
      "metadata": {
        "id": "dXcsBQInuhAW"
      }
    },
    {
      "cell_type": "code",
      "source": [
        "my_set = {1, 2, 3, 4, 5}\n",
        "empty_set = set()"
      ],
      "metadata": {
        "id": "b1UTUgdotsKY"
      },
      "execution_count": 32,
      "outputs": []
    },
    {
      "cell_type": "code",
      "source": [
        "print(my_set)\n",
        "empty_set"
      ],
      "metadata": {
        "colab": {
          "base_uri": "https://localhost:8080/"
        },
        "id": "tLYezDQ6ux7l",
        "outputId": "dfbef81d-e314-498c-bf99-3e8b15407447"
      },
      "execution_count": 38,
      "outputs": [
        {
          "output_type": "stream",
          "name": "stdout",
          "text": [
            "{1, 2, 3, 4, 5}\n"
          ]
        },
        {
          "output_type": "execute_result",
          "data": {
            "text/plain": [
              "{5}"
            ]
          },
          "metadata": {},
          "execution_count": 38
        }
      ]
    },
    {
      "cell_type": "code",
      "source": [
        "my_set.add(7)"
      ],
      "metadata": {
        "id": "0Cm8rbUDu9P7"
      },
      "execution_count": 49,
      "outputs": []
    },
    {
      "cell_type": "code",
      "source": [
        "my_set"
      ],
      "metadata": {
        "colab": {
          "base_uri": "https://localhost:8080/"
        },
        "id": "w8FK_qbnvHUD",
        "outputId": "18d360eb-a210-4808-cdbf-ac967af8daaa"
      },
      "execution_count": 50,
      "outputs": [
        {
          "output_type": "execute_result",
          "data": {
            "text/plain": [
              "{1, 2, 3, 4, 5, 7}"
            ]
          },
          "metadata": {},
          "execution_count": 50
        }
      ]
    },
    {
      "cell_type": "code",
      "source": [
        "#add list in set to print unique numbers\n",
        "unique_numbers = set([1, 2, 2, 3, 4, 4,5])\n",
        "print(unique_numbers)"
      ],
      "metadata": {
        "colab": {
          "base_uri": "https://localhost:8080/"
        },
        "id": "MwWsgq_lvG8G",
        "outputId": "1a59fdc0-1ea1-4c51-b11b-89bcc4f4a8aa"
      },
      "execution_count": 48,
      "outputs": [
        {
          "output_type": "stream",
          "name": "stdout",
          "text": [
            "{1, 2, 3, 4, 5}\n"
          ]
        }
      ]
    },
    {
      "cell_type": "code",
      "source": [
        "my_set.discard(4)\n",
        "my_set.pop()"
      ],
      "metadata": {
        "colab": {
          "base_uri": "https://localhost:8080/"
        },
        "id": "417pfEAVwRxj",
        "outputId": "40699aae-f857-4c79-c0b1-2dcb89093c7e"
      },
      "execution_count": 51,
      "outputs": [
        {
          "output_type": "execute_result",
          "data": {
            "text/plain": [
              "1"
            ]
          },
          "metadata": {},
          "execution_count": 51
        }
      ]
    },
    {
      "cell_type": "code",
      "source": [
        "my_set"
      ],
      "metadata": {
        "colab": {
          "base_uri": "https://localhost:8080/"
        },
        "id": "OauQCh1nwaSL",
        "outputId": "f00aaf91-6a9d-4487-8c35-b88a9f292cf0"
      },
      "execution_count": 52,
      "outputs": [
        {
          "output_type": "execute_result",
          "data": {
            "text/plain": [
              "{2, 3, 5, 7}"
            ]
          },
          "metadata": {},
          "execution_count": 52
        }
      ]
    },
    {
      "cell_type": "code",
      "source": [
        "# Set operations\n",
        "A = {1, 2, 3, 4}\n",
        "B = {3, 4, 5, 6}\n",
        "\n",
        "print(A | B)\n",
        "print(A & B)\n",
        "print(A - B)\n",
        "print(A ^ B)"
      ],
      "metadata": {
        "colab": {
          "base_uri": "https://localhost:8080/"
        },
        "id": "qWnt7-XctWlX",
        "outputId": "af0c54c1-928e-42f6-aad7-5c2994162f0c"
      },
      "execution_count": 53,
      "outputs": [
        {
          "output_type": "stream",
          "name": "stdout",
          "text": [
            "{1, 2, 3, 4, 5, 6}\n",
            "{3, 4}\n",
            "{1, 2}\n",
            "{1, 2, 5, 6}\n"
          ]
        }
      ]
    },
    {
      "cell_type": "markdown",
      "source": [
        "Dictionary"
      ],
      "metadata": {
        "id": "8unkVviuxDtt"
      }
    },
    {
      "cell_type": "code",
      "source": [
        "my_dict = {\n",
        "    \"name\": \"Alice\",\n",
        "    \"age\": 25,\n",
        "    \"city\": \"New York\"\n",
        "}"
      ],
      "metadata": {
        "id": "LwDpWC3bxHtI"
      },
      "execution_count": 54,
      "outputs": []
    },
    {
      "cell_type": "code",
      "source": [
        "print(my_dict[\"name\"])"
      ],
      "metadata": {
        "colab": {
          "base_uri": "https://localhost:8080/"
        },
        "id": "L4SzVBQRxxEC",
        "outputId": "bccfc465-62ae-488f-f156-40e72399f88f"
      },
      "execution_count": 57,
      "outputs": [
        {
          "output_type": "stream",
          "name": "stdout",
          "text": [
            "Alice\n"
          ]
        }
      ]
    },
    {
      "cell_type": "code",
      "source": [
        "empty_dict = {}"
      ],
      "metadata": {
        "id": "nCUMuAjBxHid"
      },
      "execution_count": 55,
      "outputs": []
    },
    {
      "cell_type": "code",
      "source": [
        "# Alternative way using dict()\n",
        "another_dict = dict(name=\"Bob\", age=30)"
      ],
      "metadata": {
        "id": "DIxQRNQaxHYX"
      },
      "execution_count": 56,
      "outputs": []
    },
    {
      "cell_type": "code",
      "source": [
        "print(my_dict.get(\"age\"))\n",
        "print(my_dict.get(\"salary\", \"Not Found\"))"
      ],
      "metadata": {
        "colab": {
          "base_uri": "https://localhost:8080/"
        },
        "id": "muO_GvrRxHAx",
        "outputId": "4df2b8ee-5e38-4c4b-b88e-791cd005b6ae"
      },
      "execution_count": 59,
      "outputs": [
        {
          "output_type": "stream",
          "name": "stdout",
          "text": [
            "25\n",
            "Not Found\n"
          ]
        }
      ]
    },
    {
      "cell_type": "code",
      "source": [
        "my_dict[\"job\"] = \"Engineer\"\n",
        "my_dict[\"age\"] = 26\n",
        "my_dict[\"height\"] = 6.2"
      ],
      "metadata": {
        "id": "ExMOb3J7yBF0"
      },
      "execution_count": 62,
      "outputs": []
    },
    {
      "cell_type": "code",
      "source": [
        "my_dict"
      ],
      "metadata": {
        "colab": {
          "base_uri": "https://localhost:8080/"
        },
        "id": "lt_huQWDyEkU",
        "outputId": "afe8df85-5dce-4f14-a6a9-42e3d12dd0b6"
      },
      "execution_count": 64,
      "outputs": [
        {
          "output_type": "execute_result",
          "data": {
            "text/plain": [
              "{'name': 'Alice',\n",
              " 'age': 26,\n",
              " 'city': 'New York',\n",
              " 'job': 'Engineer',\n",
              " 'height': 6.2}"
            ]
          },
          "metadata": {},
          "execution_count": 64
        }
      ]
    },
    {
      "cell_type": "code",
      "source": [
        "del my_dict[\"city\"]"
      ],
      "metadata": {
        "id": "1MQ-qIcOyNEo"
      },
      "execution_count": 65,
      "outputs": []
    },
    {
      "cell_type": "code",
      "source": [
        "my_dict"
      ],
      "metadata": {
        "colab": {
          "base_uri": "https://localhost:8080/"
        },
        "id": "wfqPbF3RydMk",
        "outputId": "e2dfe7ea-f5f3-4379-ca94-c6c136c465f2"
      },
      "execution_count": 66,
      "outputs": [
        {
          "output_type": "execute_result",
          "data": {
            "text/plain": [
              "{'name': 'Alice', 'age': 26, 'job': 'Engineer', 'height': 6.2}"
            ]
          },
          "metadata": {},
          "execution_count": 66
        }
      ]
    },
    {
      "cell_type": "code",
      "source": [
        "# Iterating through a dictionary\n",
        "for key, value in my_dict.items():\n",
        "    print(key, \":\", value)"
      ],
      "metadata": {
        "colab": {
          "base_uri": "https://localhost:8080/"
        },
        "id": "r9QCyCrEym66",
        "outputId": "ffad36ee-e103-4aa6-f6d8-2652217ecd64"
      },
      "execution_count": 67,
      "outputs": [
        {
          "output_type": "stream",
          "name": "stdout",
          "text": [
            "name : Alice\n",
            "age : 26\n",
            "job : Engineer\n",
            "height : 6.2\n"
          ]
        }
      ]
    },
    {
      "cell_type": "code",
      "source": [
        "# Dictionary comprehension\n",
        "squared_numbers = {x: x**2 for x in range(5)}\n",
        "print(squared_numbers)\n"
      ],
      "metadata": {
        "colab": {
          "base_uri": "https://localhost:8080/"
        },
        "id": "WThSebRAwpaL",
        "outputId": "5a736554-1009-4c3c-cc25-572abc878587"
      },
      "execution_count": 70,
      "outputs": [
        {
          "output_type": "stream",
          "name": "stdout",
          "text": [
            "{0: 0, 1: 1, 2: 4, 3: 9, 4: 16}\n"
          ]
        }
      ]
    },
    {
      "cell_type": "markdown",
      "source": [
        "Small Project"
      ],
      "metadata": {
        "id": "DxcFq15wzIOD"
      }
    },
    {
      "cell_type": "code",
      "source": [
        "students = {\n",
        "    \"101\": {\"name\": \"Ali\", \"age\": 20, \"marks\": 85, \"grade\": \"A\"},\n",
        "    \"102\": {\"name\": \"Sara\", \"age\": 22, \"marks\": 78, \"grade\": \"B\"},\n",
        "    \"103\": {\"name\": \"Ahmed\", \"age\": 21, \"marks\": 90, \"grade\": \"A+\"}\n",
        "}\n"
      ],
      "metadata": {
        "id": "LVlBSP5FzKLM"
      },
      "execution_count": 71,
      "outputs": []
    },
    {
      "cell_type": "code",
      "source": [
        "# Accessing a specific student's details\n",
        "print(students[\"103\"])"
      ],
      "metadata": {
        "colab": {
          "base_uri": "https://localhost:8080/"
        },
        "id": "Qn94BmIMzRfB",
        "outputId": "fc4bd01f-1197-41b3-a6b4-d6f6ad49e217"
      },
      "execution_count": 73,
      "outputs": [
        {
          "output_type": "stream",
          "name": "stdout",
          "text": [
            "{'name': 'Ahmed', 'age': 21, 'marks': 90, 'grade': 'A+'}\n"
          ]
        }
      ]
    },
    {
      "cell_type": "code",
      "source": [
        "# Accessing a specific attribute\n",
        "print(students[\"102\"][\"marks\"])"
      ],
      "metadata": {
        "colab": {
          "base_uri": "https://localhost:8080/"
        },
        "id": "mWidYCUnyuNN",
        "outputId": "a8e47e03-9436-4c5a-ab81-f2300f4ecf80"
      },
      "execution_count": 74,
      "outputs": [
        {
          "output_type": "stream",
          "name": "stdout",
          "text": [
            "78\n"
          ]
        }
      ]
    },
    {
      "cell_type": "code",
      "source": [
        "#Add new student\n",
        "students[\"104\"] = {\"name\": \"Fatima\", \"age\": 23, \"marks\": 88, \"grade\": \"A\"}\n",
        "\n",
        "print(students[\"104\"])"
      ],
      "metadata": {
        "colab": {
          "base_uri": "https://localhost:8080/"
        },
        "id": "Atc_kivozCNW",
        "outputId": "e2a523b9-692a-4e4a-dfa4-7341cbf03df6"
      },
      "execution_count": 75,
      "outputs": [
        {
          "output_type": "stream",
          "name": "stdout",
          "text": [
            "{'name': 'Fatima', 'age': 23, 'marks': 88, 'grade': 'A'}\n"
          ]
        }
      ]
    },
    {
      "cell_type": "code",
      "source": [
        "students"
      ],
      "metadata": {
        "colab": {
          "base_uri": "https://localhost:8080/"
        },
        "id": "1irmYWOMzijP",
        "outputId": "bca2399f-5cda-43e0-967e-727801916571"
      },
      "execution_count": 76,
      "outputs": [
        {
          "output_type": "execute_result",
          "data": {
            "text/plain": [
              "{'101': {'name': 'Ali', 'age': 20, 'marks': 85, 'grade': 'A'},\n",
              " '102': {'name': 'Sara', 'age': 22, 'marks': 78, 'grade': 'B'},\n",
              " '103': {'name': 'Ahmed', 'age': 21, 'marks': 90, 'grade': 'A+'},\n",
              " '104': {'name': 'Fatima', 'age': 23, 'marks': 88, 'grade': 'A'}}"
            ]
          },
          "metadata": {},
          "execution_count": 76
        }
      ]
    },
    {
      "cell_type": "code",
      "source": [
        "students[\"101\"][\"marks\"] = 90\n",
        "students[\"101\"][\"grade\"] = \"A+\"\n",
        "\n",
        "print(students[\"101\"])"
      ],
      "metadata": {
        "colab": {
          "base_uri": "https://localhost:8080/"
        },
        "id": "epnxaHcDzkrG",
        "outputId": "d04c53ac-8fd6-4bca-e762-302c7b1c0cdf"
      },
      "execution_count": 77,
      "outputs": [
        {
          "output_type": "stream",
          "name": "stdout",
          "text": [
            "{'name': 'Ali', 'age': 20, 'marks': 90, 'grade': 'A+'}\n"
          ]
        }
      ]
    },
    {
      "cell_type": "markdown",
      "source": [
        "Inventory Management"
      ],
      "metadata": {
        "id": "2dEEZv5DD4xX"
      }
    },
    {
      "cell_type": "code",
      "source": [
        "class InventoryManagement:\n",
        "    def __init__(self):\n",
        "        self.products = {}  # Dictionary to store product details\n",
        "        self.product_order = []  # List to maintain order of product additions\n",
        "        self.categories = set()  # Set to track unique categories\n",
        "\n",
        "    def add_product(self, product_id, name, category, stock):\n",
        "        if product_id in self.products:\n",
        "            return \"Product ID already exists.\"\n",
        "        self.products[product_id] = {'info': (name, category), 'stock': stock}\n",
        "        self.product_order.append(product_id)\n",
        "        self.categories.add(category)\n",
        "        return f\"Product {name} added successfully.\"\n",
        "\n",
        "    def update_stock(self, product_id, quantity):\n",
        "        if product_id in self.products:\n",
        "            self.products[product_id]['stock'] += quantity\n",
        "            return f\"Stock updated for {self.products[product_id]['info'][0]}: {self.products[product_id]['stock']}\"\n",
        "        return \"Product ID not found.\"\n",
        "\n",
        "    def display_products(self):\n",
        "        if not self.products:\n",
        "            return \"No products available.\"\n",
        "        return \"\\n\".join([\n",
        "            f\"ID: {pid}, Name: {self.products[pid]['info'][0]}, Category: {self.products[pid]['info'][1]}, Stock: {self.products[pid]['stock']}\"\n",
        "            for pid in self.product_order\n",
        "        ])\n",
        "\n",
        "    def display_by_category(self, category):\n",
        "        filtered_products = [\n",
        "            f\"ID: {pid}, Name: {self.products[pid]['info'][0]}, Stock: {self.products[pid]['stock']}\"\n",
        "            for pid in self.product_order if self.products[pid]['info'][1] == category\n",
        "        ]\n",
        "        return \"\\n\".join(filtered_products) if filtered_products else \"No products found in this category.\"\n",
        "\n",
        "# Interactive User Input\n",
        "def main():\n",
        "    inventory = InventoryManagement()\n",
        "    while True:\n",
        "        print(\"\\n1. Add Product\")\n",
        "        print(\"2. Update Stock\")\n",
        "        print(\"3. Display All Products\")\n",
        "        print(\"4. Display Products by Category\")\n",
        "        print(\"5. Exit\")\n",
        "        choice = input(\"Enter your choice: \")\n",
        "\n",
        "        if choice == \"1\":\n",
        "            product_id = input(\"Enter Product ID: \")\n",
        "            name = input(\"Enter Product Name: \")\n",
        "            category = input(\"Enter Product Category: \")\n",
        "            stock = int(input(\"Enter Stock Quantity: \"))\n",
        "            print(inventory.add_product(product_id, name, category, stock))\n",
        "\n",
        "        elif choice == \"2\":\n",
        "            product_id = input(\"Enter Product ID: \")\n",
        "            quantity = int(input(\"Enter Quantity to Add: \"))\n",
        "            print(inventory.update_stock(product_id, quantity))\n",
        "\n",
        "        elif choice == \"3\":\n",
        "            print(\"\\nInventory List:\")\n",
        "            print(inventory.display_products())\n",
        "\n",
        "        elif choice == \"4\":\n",
        "            category = input(\"Enter Category: \")\n",
        "            print(\"\\nProducts in\", category, \":\")\n",
        "            print(inventory.display_by_category(category))\n",
        "\n",
        "        elif choice == \"5\":\n",
        "            print(\"Exiting... Goodbye!\")\n",
        "            break\n",
        "\n",
        "        else:\n",
        "            print(\"Invalid choice, please try again.\")\n",
        "\n",
        "if __name__ == \"__main__\":\n",
        "    main()\n"
      ],
      "metadata": {
        "colab": {
          "base_uri": "https://localhost:8080/"
        },
        "id": "7xwYwuJwqbFM",
        "outputId": "1ee1a7d8-6208-4c02-d85c-0490c5c245ef"
      },
      "execution_count": 28,
      "outputs": [
        {
          "output_type": "stream",
          "name": "stdout",
          "text": [
            "\n",
            "1. Add Product\n",
            "2. Update Stock\n",
            "3. Display All Products\n",
            "4. Display Products by Category\n",
            "5. Exit\n",
            "Enter your choice: 1\n",
            "Enter Product ID: 12\n",
            "Enter Product Name: le\n",
            "Enter Product Category: S\n",
            "Enter Stock Quantity: 2\n",
            "Product le added successfully.\n",
            "\n",
            "1. Add Product\n",
            "2. Update Stock\n",
            "3. Display All Products\n",
            "4. Display Products by Category\n",
            "5. Exit\n",
            "Enter your choice: 3\n",
            "\n",
            "Inventory List:\n",
            "ID: 12, Name: le, Category: S, Stock: 2\n",
            "\n",
            "1. Add Product\n",
            "2. Update Stock\n",
            "3. Display All Products\n",
            "4. Display Products by Category\n",
            "5. Exit\n",
            "Enter your choice: 1\n",
            "Enter Product ID: 2\n",
            "Enter Product Name: Kisan\n",
            "Enter Product Category: Oil\n",
            "Enter Stock Quantity: 23\n",
            "Product Kisan added successfully.\n",
            "\n",
            "1. Add Product\n",
            "2. Update Stock\n",
            "3. Display All Products\n",
            "4. Display Products by Category\n",
            "5. Exit\n",
            "Enter your choice: 1\n",
            "Enter Product ID: 43\n",
            "Enter Product Name: Habib\n",
            "Enter Product Category: Oil\n",
            "Enter Stock Quantity: 12\n",
            "Product Habib added successfully.\n",
            "\n",
            "1. Add Product\n",
            "2. Update Stock\n",
            "3. Display All Products\n",
            "4. Display Products by Category\n",
            "5. Exit\n",
            "Enter your choice: 3\n",
            "\n",
            "Inventory List:\n",
            "ID: 12, Name: le, Category: S, Stock: 2\n",
            "ID: 2, Name: Kisan, Category: Oil, Stock: 23\n",
            "ID: 43, Name: Habib, Category: Oil, Stock: 12\n",
            "\n",
            "1. Add Product\n",
            "2. Update Stock\n",
            "3. Display All Products\n",
            "4. Display Products by Category\n",
            "5. Exit\n",
            "Enter your choice: 4\n",
            "Enter Category: Oil\n",
            "\n",
            "Products in Oil :\n",
            "ID: 2, Name: Kisan, Stock: 23\n",
            "ID: 43, Name: Habib, Stock: 12\n",
            "\n",
            "1. Add Product\n",
            "2. Update Stock\n",
            "3. Display All Products\n",
            "4. Display Products by Category\n",
            "5. Exit\n",
            "Enter your choice: 2\n",
            "Enter Product ID: 43\n",
            "Enter Quantity to Add: 15\n",
            "Stock updated for Habib: 27\n",
            "\n",
            "1. Add Product\n",
            "2. Update Stock\n",
            "3. Display All Products\n",
            "4. Display Products by Category\n",
            "5. Exit\n",
            "Enter your choice: 3\n",
            "\n",
            "Inventory List:\n",
            "ID: 12, Name: le, Category: S, Stock: 2\n",
            "ID: 2, Name: Kisan, Category: Oil, Stock: 23\n",
            "ID: 43, Name: Habib, Category: Oil, Stock: 27\n",
            "\n",
            "1. Add Product\n",
            "2. Update Stock\n",
            "3. Display All Products\n",
            "4. Display Products by Category\n",
            "5. Exit\n",
            "Enter your choice: 5\n",
            "Exiting... Goodbye!\n"
          ]
        }
      ]
    },
    {
      "cell_type": "code",
      "source": [],
      "metadata": {
        "id": "MkLYTfbQctSb"
      },
      "execution_count": null,
      "outputs": []
    }
  ]
}