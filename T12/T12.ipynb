{
  "nbformat": 4,
  "nbformat_minor": 0,
  "metadata": {
    "colab": {
      "provenance": []
    },
    "kernelspec": {
      "name": "python3",
      "display_name": "Python 3"
    },
    "language_info": {
      "name": "python"
    }
  },
  "cells": [
    {
      "cell_type": "code",
      "execution_count": 17,
      "metadata": {
        "id": "hy_32RTB4YQi"
      },
      "outputs": [],
      "source": [
        "import pandas as pd\n",
        "import numpy as np"
      ]
    },
    {
      "cell_type": "markdown",
      "source": [
        "Task 1: Create a Pandas Series from a list, NumPy array, and dictionary"
      ],
      "metadata": {
        "id": "uzMzMlpp5VVW"
      }
    },
    {
      "cell_type": "code",
      "source": [
        "list_series = pd.Series([10, 20, 30, 40, 50])\n",
        "numpy_series = pd.Series(np.array([1, 2, 3, 4, 5]))\n",
        "dict_series = pd.Series({'a': 100, 'b': 200, 'c': 300})"
      ],
      "metadata": {
        "id": "wj-DoG7U5P6b"
      },
      "execution_count": 3,
      "outputs": []
    },
    {
      "cell_type": "code",
      "source": [
        "print(\"Series from list:\\n\", list_series)\n",
        "print(\"\\nSeries from numpy array:\\n\", numpy_series)\n",
        "print(\"\\nSeries from dictionary:\\n\", dict_series)"
      ],
      "metadata": {
        "colab": {
          "base_uri": "https://localhost:8080/"
        },
        "id": "6I36GWKv5nd3",
        "outputId": "43bc4a9b-ca58-4447-e413-8fb73bb5bf8e"
      },
      "execution_count": 4,
      "outputs": [
        {
          "output_type": "stream",
          "name": "stdout",
          "text": [
            "Series from list:\n",
            " 0    10\n",
            "1    20\n",
            "2    30\n",
            "3    40\n",
            "4    50\n",
            "dtype: int64\n",
            "\n",
            "Series from numpy array:\n",
            " 0    1\n",
            "1    2\n",
            "2    3\n",
            "3    4\n",
            "4    5\n",
            "dtype: int64\n",
            "\n",
            "Series from dictionary:\n",
            " a    100\n",
            "b    200\n",
            "c    300\n",
            "dtype: int64\n"
          ]
        }
      ]
    },
    {
      "cell_type": "markdown",
      "source": [
        "Task 2: Assign a custom index to the Series"
      ],
      "metadata": {
        "id": "f5Av9_CN6acj"
      }
    },
    {
      "cell_type": "code",
      "source": [
        "custom_index_series = pd.Series([5, 10, 15, 20], index=['A', 'B', 'C', 'D'])\n",
        "print(\"\\nSeries with custom index:\\n\", custom_index_series)"
      ],
      "metadata": {
        "colab": {
          "base_uri": "https://localhost:8080/"
        },
        "id": "fxJEeqeL6Nfo",
        "outputId": "041819d5-0c37-4a84-ade9-37875de351f5"
      },
      "execution_count": 5,
      "outputs": [
        {
          "output_type": "stream",
          "name": "stdout",
          "text": [
            "\n",
            "Series with custom index:\n",
            " A     5\n",
            "B    10\n",
            "C    15\n",
            "D    20\n",
            "dtype: int64\n"
          ]
        }
      ]
    },
    {
      "cell_type": "markdown",
      "source": [
        "Task 3: Perform basic arithmetic operations on Series"
      ],
      "metadata": {
        "id": "QIT_YpsK6pjO"
      }
    },
    {
      "cell_type": "code",
      "source": [
        "series1 = pd.Series([1, 2, 3, 4, 5])\n",
        "series2 = pd.Series([10, 20, 30, 40, 50])\n",
        "sum_series = series1 + series2\n",
        "product_series = series1 * series2\n",
        "print(\"\\nSum of two series:\\n\", sum_series)\n",
        "print(\"\\nProduct of two series:\\n\", product_series)"
      ],
      "metadata": {
        "colab": {
          "base_uri": "https://localhost:8080/"
        },
        "id": "cxuYlb_r6cxy",
        "outputId": "be2d7498-0cb9-4850-8b25-09f1a5c724c4"
      },
      "execution_count": 6,
      "outputs": [
        {
          "output_type": "stream",
          "name": "stdout",
          "text": [
            "\n",
            "Sum of two series:\n",
            " 0    11\n",
            "1    22\n",
            "2    33\n",
            "3    44\n",
            "4    55\n",
            "dtype: int64\n",
            "\n",
            "Product of two series:\n",
            " 0     10\n",
            "1     40\n",
            "2     90\n",
            "3    160\n",
            "4    250\n",
            "dtype: int64\n"
          ]
        }
      ]
    },
    {
      "cell_type": "markdown",
      "source": [
        "Task 4: Access elements using index labels and positions"
      ],
      "metadata": {
        "id": "tRHISAOo7Fl-"
      }
    },
    {
      "cell_type": "code",
      "source": [
        "print(\"\\nAccess element by index label (custom index series 'B'):\", custom_index_series['B'])\n",
        "print(\"\\nAccess element by position (first element in list_series):\", list_series.iloc[0])"
      ],
      "metadata": {
        "colab": {
          "base_uri": "https://localhost:8080/"
        },
        "id": "_1QCz9Rb62lM",
        "outputId": "d0712257-9ac6-4704-ccf8-bec46908a2a3"
      },
      "execution_count": 9,
      "outputs": [
        {
          "output_type": "stream",
          "name": "stdout",
          "text": [
            "\n",
            "Access element by index label (custom index series 'B'): 10\n",
            "\n",
            "Access element by position (first element in list_series): 10\n"
          ]
        }
      ]
    },
    {
      "cell_type": "markdown",
      "source": [
        "Task 5: Filter Series to include only values greater than a specific threshold"
      ],
      "metadata": {
        "id": "NzoqY6NT7qpv"
      }
    },
    {
      "cell_type": "code",
      "source": [
        "filtered_series = list_series[list_series > 25]\n",
        "print(\"\\nFiltered Series (values > 25):\\n\", filtered_series)"
      ],
      "metadata": {
        "colab": {
          "base_uri": "https://localhost:8080/"
        },
        "id": "Uiw4RfhL7FEg",
        "outputId": "c45b8947-cfa6-4ea3-fe01-a2d3f14de295"
      },
      "execution_count": 10,
      "outputs": [
        {
          "output_type": "stream",
          "name": "stdout",
          "text": [
            "\n",
            "Filtered Series (values > 25):\n",
            " 2    30\n",
            "3    40\n",
            "4    50\n",
            "dtype: int64\n"
          ]
        }
      ]
    },
    {
      "cell_type": "markdown",
      "source": [
        "Task 6: Create a DataFrame from a dictionary of lists"
      ],
      "metadata": {
        "id": "gbI4jJON8NHe"
      }
    },
    {
      "cell_type": "code",
      "source": [
        "data_dict = {\n",
        "    'Name': ['Alice', 'Bob', 'Charlie', 'David'],\n",
        "    'Age': [25, 30, 35, 40],\n",
        "    'Salary': [50000, 60000, 70000, 80000]\n",
        "}\n",
        "df_dict = pd.DataFrame(data_dict)\n",
        "print(\"\\nDataFrame from dictionary:\\n\", df_dict)"
      ],
      "metadata": {
        "colab": {
          "base_uri": "https://localhost:8080/"
        },
        "id": "UJdq3pLE7v2m",
        "outputId": "0c61a51f-10c3-4932-cf4a-f22ef421c6ce"
      },
      "execution_count": 15,
      "outputs": [
        {
          "output_type": "stream",
          "name": "stdout",
          "text": [
            "\n",
            "DataFrame from dictionary:\n",
            "       Name  Age  Salary\n",
            "0    Alice   25   50000\n",
            "1      Bob   30   60000\n",
            "2  Charlie   35   70000\n",
            "3    David   40   80000\n"
          ]
        }
      ]
    },
    {
      "cell_type": "markdown",
      "source": [
        "Task 7: Create a DataFrame from a NumPy array, specifying column and index names"
      ],
      "metadata": {
        "id": "Hs8wKGcS9Ceo"
      }
    },
    {
      "cell_type": "code",
      "source": [
        "array_data = np.array([[10, 20, 30], [40, 50, 60], [70, 80, 90]])\n",
        "df_numpy = pd.DataFrame(array_data, columns=['A','B', 'C'], index=['Row1', 'Row2', 'Row3'])\n",
        "print(\"\\nDataFrame from NumPy array:\\n\", df_numpy)"
      ],
      "metadata": {
        "colab": {
          "base_uri": "https://localhost:8080/"
        },
        "id": "kwS_JQKC8OHL",
        "outputId": "5be11f86-b1b9-4ef6-b12b-2f65d0569088"
      },
      "execution_count": 16,
      "outputs": [
        {
          "output_type": "stream",
          "name": "stdout",
          "text": [
            "\n",
            "DataFrame from NumPy array:\n",
            "        A   B   C\n",
            "Row1  10  20  30\n",
            "Row2  40  50  60\n",
            "Row3  70  80  90\n"
          ]
        }
      ]
    },
    {
      "cell_type": "markdown",
      "source": [
        "Task 8: Load a DataFrame from a CSV file"
      ],
      "metadata": {
        "id": "a1p2Zs0WDx-h"
      }
    },
    {
      "cell_type": "code",
      "source": [
        "df_csv = pd.read_csv('homeprices_data.csv')"
      ],
      "metadata": {
        "id": "peLddtoo9jL7"
      },
      "execution_count": 19,
      "outputs": []
    },
    {
      "cell_type": "markdown",
      "source": [
        "Task 9: Display the first and last five rows of the DataFrame"
      ],
      "metadata": {
        "id": "g6-dpt4OES-4"
      }
    },
    {
      "cell_type": "code",
      "source": [
        "print(\"\\nFirst five rows of DataFrame:\\n\", df_csv.head())\n",
        "print(\"\\nLast five rows of DataFrame:\\n\", df_csv.tail())"
      ],
      "metadata": {
        "colab": {
          "base_uri": "https://localhost:8080/"
        },
        "id": "q5pOHyOpEH77",
        "outputId": "7ac1f6b0-3b18-4276-f39d-3987927774b7"
      },
      "execution_count": 20,
      "outputs": [
        {
          "output_type": "stream",
          "name": "stdout",
          "text": [
            "\n",
            "First five rows of DataFrame:\n",
            "    area  bedrooms   price\n",
            "0  1056         2   39.07\n",
            "1  2600         4  120.00\n",
            "2  1440         3   62.00\n",
            "3  1521         3   75.00\n",
            "4  1200         2   51.00\n",
            "\n",
            "Last five rows of DataFrame:\n",
            "     area  bedrooms  price\n",
            "15  1175         2   42.0\n",
            "16  1180         3   48.0\n",
            "17  1540         3   60.0\n",
            "18  2770         3  102.0\n",
            "19   800         1   32.0\n"
          ]
        }
      ]
    },
    {
      "cell_type": "markdown",
      "source": [
        "Task 10: Get summary statistics of the DataFrame"
      ],
      "metadata": {
        "id": "Ey92sHcOEgrk"
      }
    },
    {
      "cell_type": "code",
      "source": [
        "print(\"\\nSummary statistics:\\n\", df_csv.describe())"
      ],
      "metadata": {
        "colab": {
          "base_uri": "https://localhost:8080/"
        },
        "id": "Jq0TvBnqEY3p",
        "outputId": "c8f5a7b2-260c-4415-eff7-fce21aa5147e"
      },
      "execution_count": 22,
      "outputs": [
        {
          "output_type": "stream",
          "name": "stdout",
          "text": [
            "\n",
            "Summary statistics:\n",
            "               area   bedrooms       price\n",
            "count    20.000000  20.000000   20.000000\n",
            "mean   1821.450000   2.900000   78.853500\n",
            "std     864.615794   0.967906   43.761901\n",
            "min     800.000000   1.000000   32.000000\n",
            "25%    1173.750000   2.000000   41.500000\n",
            "50%    1480.500000   3.000000   61.000000\n",
            "75%    2633.000000   3.250000  106.500000\n",
            "max    3700.000000   5.000000  167.000000\n"
          ]
        }
      ]
    },
    {
      "cell_type": "markdown",
      "source": [
        "Task 11: Extract a specific column as a Series"
      ],
      "metadata": {
        "id": "jUpXQOY9E1mO"
      }
    },
    {
      "cell_type": "code",
      "source": [
        "area_series = df_csv['area']\n",
        "print(\"\\nExtracted 'Age' column as Series:\\n\", area_series)"
      ],
      "metadata": {
        "colab": {
          "base_uri": "https://localhost:8080/"
        },
        "id": "4xP6MGNmEhKt",
        "outputId": "3854b26b-4636-4df4-da65-5b6e9f52a62c"
      },
      "execution_count": 23,
      "outputs": [
        {
          "output_type": "stream",
          "name": "stdout",
          "text": [
            "\n",
            "Extracted 'Age' column as Series:\n",
            " 0     1056\n",
            "1     2600\n",
            "2     1440\n",
            "3     1521\n",
            "4     1200\n",
            "5     1170\n",
            "6     2732\n",
            "7     3300\n",
            "8     1310\n",
            "9     3700\n",
            "10    1800\n",
            "11    2785\n",
            "12    1000\n",
            "13    1100\n",
            "14    2250\n",
            "15    1175\n",
            "16    1180\n",
            "17    1540\n",
            "18    2770\n",
            "19     800\n",
            "Name: area, dtype: int64\n"
          ]
        }
      ]
    },
    {
      "cell_type": "markdown",
      "source": [
        "Task 12: Filter rows based on column values"
      ],
      "metadata": {
        "id": "HtN5Py4hFRmL"
      }
    },
    {
      "cell_type": "code",
      "source": [
        "filtered_df = df_csv[df_csv['area'] > 1200]\n",
        "print(\"\\nFiltered rows where Area > 1200:\\n\", filtered_df)"
      ],
      "metadata": {
        "colab": {
          "base_uri": "https://localhost:8080/"
        },
        "id": "w1DNGj1sE_hl",
        "outputId": "fc269145-aa74-4549-bd7e-ee5117de5f04"
      },
      "execution_count": 24,
      "outputs": [
        {
          "output_type": "stream",
          "name": "stdout",
          "text": [
            "\n",
            "Filtered rows where Area > 1200:\n",
            "     area  bedrooms  price\n",
            "1   2600         4  120.0\n",
            "2   1440         3   62.0\n",
            "3   1521         3   75.0\n",
            "6   2732         4  135.0\n",
            "7   3300         4  155.0\n",
            "8   1310         3   50.0\n",
            "9   3700         5  167.0\n",
            "10  1800         3   82.0\n",
            "11  2785         4  140.0\n",
            "14  2250         3  101.0\n",
            "17  1540         3   60.0\n",
            "18  2770         3  102.0\n"
          ]
        }
      ]
    },
    {
      "cell_type": "markdown",
      "source": [
        "Task 13: Select rows based on multiple conditions"
      ],
      "metadata": {
        "id": "HDeer_3GGXZG"
      }
    },
    {
      "cell_type": "code",
      "source": [
        "\n",
        "filtered_df = df_csv[(df_csv['area'] > 1200) & (df_csv['price'] > 120)]\n",
        "print(\"\\nFiltered rows where Area > 1200: and Price > 120\\n\", filtered_df)"
      ],
      "metadata": {
        "colab": {
          "base_uri": "https://localhost:8080/"
        },
        "id": "poUhzQO1FfbG",
        "outputId": "ed8cd497-16dd-4aef-a8bc-22d3c2f61698"
      },
      "execution_count": 28,
      "outputs": [
        {
          "output_type": "stream",
          "name": "stdout",
          "text": [
            "\n",
            "Filtered rows where Area > 1200: and Price > 120\n",
            "     area  bedrooms  price\n",
            "6   2732         4  135.0\n",
            "7   3300         4  155.0\n",
            "9   3700         5  167.0\n",
            "11  2785         4  140.0\n"
          ]
        }
      ]
    },
    {
      "cell_type": "markdown",
      "source": [
        "Task 14: Add a new column to the DataFrame"
      ],
      "metadata": {
        "id": "hFyOnd-SGdHd"
      }
    },
    {
      "cell_type": "code",
      "source": [
        "df_csv['baths'] = df_csv['bedrooms']-1\n",
        "print(\"\\nDataFrame after adding 'Bath Rooms' column:\\n\", df_csv)"
      ],
      "metadata": {
        "colab": {
          "base_uri": "https://localhost:8080/"
        },
        "id": "-GYXc1qwF7Et",
        "outputId": "e2136589-69ec-45ad-f9e4-be8446982afa"
      },
      "execution_count": 32,
      "outputs": [
        {
          "output_type": "stream",
          "name": "stdout",
          "text": [
            "\n",
            "DataFrame after adding 'Bath Rooms' column:\n",
            "     area  bedrooms   price  baths\n",
            "0   1056         2   39.07      1\n",
            "1   2600         4  120.00      3\n",
            "2   1440         3   62.00      2\n",
            "3   1521         3   75.00      2\n",
            "4   1200         2   51.00      1\n",
            "5   1170         2   38.00      1\n",
            "6   2732         4  135.00      3\n",
            "7   3300         4  155.00      3\n",
            "8   1310         3   50.00      2\n",
            "9   3700         5  167.00      4\n",
            "10  1800         3   82.00      2\n",
            "11  2785         4  140.00      3\n",
            "12  1000         2   38.00      1\n",
            "13  1100         2   40.00      1\n",
            "14  2250         3  101.00      2\n",
            "15  1175         2   42.00      1\n",
            "16  1180         3   48.00      2\n",
            "17  1540         3   60.00      2\n",
            "18  2770         3  102.00      2\n",
            "19   800         1   32.00      0\n"
          ]
        }
      ]
    },
    {
      "cell_type": "markdown",
      "source": [
        "Task 15: Delete a column from the DataFrame"
      ],
      "metadata": {
        "id": "sCxJJAsdHaTx"
      }
    },
    {
      "cell_type": "code",
      "source": [
        "df_csv.drop(columns=['baths'], inplace=True)\n",
        "print(\"\\nDataFrame after deleting 'Bath Rooms' column:\\n\", df_csv)"
      ],
      "metadata": {
        "colab": {
          "base_uri": "https://localhost:8080/"
        },
        "id": "-qqWhsZJGuFb",
        "outputId": "185bb91d-c34e-4afa-e38a-3350a6ffd727"
      },
      "execution_count": 33,
      "outputs": [
        {
          "output_type": "stream",
          "name": "stdout",
          "text": [
            "\n",
            "DataFrame after deleting 'Bath Rooms' column:\n",
            "     area  bedrooms   price\n",
            "0   1056         2   39.07\n",
            "1   2600         4  120.00\n",
            "2   1440         3   62.00\n",
            "3   1521         3   75.00\n",
            "4   1200         2   51.00\n",
            "5   1170         2   38.00\n",
            "6   2732         4  135.00\n",
            "7   3300         4  155.00\n",
            "8   1310         3   50.00\n",
            "9   3700         5  167.00\n",
            "10  1800         3   82.00\n",
            "11  2785         4  140.00\n",
            "12  1000         2   38.00\n",
            "13  1100         2   40.00\n",
            "14  2250         3  101.00\n",
            "15  1175         2   42.00\n",
            "16  1180         3   48.00\n",
            "17  1540         3   60.00\n",
            "18  2770         3  102.00\n",
            "19   800         1   32.00\n"
          ]
        }
      ]
    },
    {
      "cell_type": "markdown",
      "source": [
        "Task 16: Rename columns in the DataFrame"
      ],
      "metadata": {
        "id": "mBo798yJHpD9"
      }
    },
    {
      "cell_type": "code",
      "source": [
        "df_csv.rename(columns={'area': 'Total Area'}, inplace=True)\n",
        "print(\"\\nDataFrame after renaming columns:\\n\", df_csv)"
      ],
      "metadata": {
        "colab": {
          "base_uri": "https://localhost:8080/"
        },
        "id": "xg8PkvCJHjTO",
        "outputId": "10c0b5c1-767b-47d3-f23d-add0f38d4a86"
      },
      "execution_count": 36,
      "outputs": [
        {
          "output_type": "stream",
          "name": "stdout",
          "text": [
            "\n",
            "DataFrame after renaming columns:\n",
            "     Total Area  bedrooms   price\n",
            "0         1056         2   39.07\n",
            "1         2600         4  120.00\n",
            "2         1440         3   62.00\n",
            "3         1521         3   75.00\n",
            "4         1200         2   51.00\n",
            "5         1170         2   38.00\n",
            "6         2732         4  135.00\n",
            "7         3300         4  155.00\n",
            "8         1310         3   50.00\n",
            "9         3700         5  167.00\n",
            "10        1800         3   82.00\n",
            "11        2785         4  140.00\n",
            "12        1000         2   38.00\n",
            "13        1100         2   40.00\n",
            "14        2250         3  101.00\n",
            "15        1175         2   42.00\n",
            "16        1180         3   48.00\n",
            "17        1540         3   60.00\n",
            "18        2770         3  102.00\n",
            "19         800         1   32.00\n"
          ]
        }
      ]
    },
    {
      "cell_type": "code",
      "source": [],
      "metadata": {
        "id": "KHrn3l21IDwH"
      },
      "execution_count": null,
      "outputs": []
    }
  ]
}