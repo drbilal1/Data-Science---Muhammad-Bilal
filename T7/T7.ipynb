{
  "nbformat": 4,
  "nbformat_minor": 0,
  "metadata": {
    "colab": {
      "provenance": []
    },
    "kernelspec": {
      "name": "python3",
      "display_name": "Python 3"
    },
    "language_info": {
      "name": "python"
    }
  },
  "cells": [
    {
      "cell_type": "markdown",
      "source": [
        "Practice Questions"
      ],
      "metadata": {
        "id": "ZXee6vH5n6gq"
      }
    },
    {
      "cell_type": "code",
      "execution_count": 77,
      "metadata": {
        "id": "J7gvRSINkBwT"
      },
      "outputs": [],
      "source": [
        "class Student:\n",
        "    def __init__(self, name, age, grade):\n",
        "        self.name = name  # Attribute\n",
        "        self.age = age    # Attribute\n",
        "        self.grade = grade\n",
        "    def Student_details(self):\n",
        "      print(f\"Name: {self.name}, Age: {self.age}, Grade: {self.grade}\")"
      ]
    },
    {
      "cell_type": "code",
      "source": [
        "s = Student(\"Bilal\", 23, \"A+\")"
      ],
      "metadata": {
        "id": "Es2AlvJJkESH"
      },
      "execution_count": 78,
      "outputs": []
    },
    {
      "cell_type": "code",
      "source": [
        "print(s.age)\n",
        "print(s.name)"
      ],
      "metadata": {
        "colab": {
          "base_uri": "https://localhost:8080/"
        },
        "id": "V7C_ifgVkYG6",
        "outputId": "88149b37-51d9-4090-cabe-4084563a015a"
      },
      "execution_count": 79,
      "outputs": [
        {
          "output_type": "stream",
          "name": "stdout",
          "text": [
            "23\n",
            "Bilal\n"
          ]
        }
      ]
    },
    {
      "cell_type": "code",
      "source": [
        "s.Student_details()"
      ],
      "metadata": {
        "colab": {
          "base_uri": "https://localhost:8080/"
        },
        "id": "JxeQIGmFkeqF",
        "outputId": "498f0778-c166-4d85-d843-cf051f957daf"
      },
      "execution_count": 80,
      "outputs": [
        {
          "output_type": "stream",
          "name": "stdout",
          "text": [
            "Name: Bilal, Age: 23, Grade: A+\n"
          ]
        }
      ]
    },
    {
      "cell_type": "markdown",
      "source": [
        "Hospital Management System"
      ],
      "metadata": {
        "id": "Gv3FHy4Vox0p"
      }
    },
    {
      "cell_type": "code",
      "source": [
        "class Person:\n",
        "    \"\"\"Base class for common attributes of Patients & Doctors.\"\"\"\n",
        "    def __init__(self, name, age, gender):\n",
        "        self.name = name\n",
        "        self.age = age\n",
        "        self.gender = gender\n",
        "\n",
        "    def display_info(self):\n",
        "        \"\"\"Displays basic information.\"\"\"\n",
        "        return f\"Name: {self.name}, Age: {self.age}, Gender: {self.gender}\"\n",
        "\n",
        "class Patient(Person):\n",
        "    \"\"\"Represents a Patient in the hospital.\"\"\"\n",
        "    def __init__(self, patient_id, name, age, gender, disease):\n",
        "        super().__init__(name, age, gender)\n",
        "        self.patient_id = patient_id\n",
        "        self.disease = disease\n",
        "\n",
        "    def display_info(self):\n",
        "        return f\"Patient ID: {self.patient_id}, {super().display_info()}, Disease: {self.disease}\"\n",
        "\n",
        "class Doctor(Person):\n",
        "    \"\"\"Represents a Doctor in the hospital.\"\"\"\n",
        "    def __init__(self, doctor_id, name, age, gender, specialty):\n",
        "        super().__init__(name, age, gender)\n",
        "        self.doctor_id = doctor_id\n",
        "        self.specialty = specialty\n",
        "\n",
        "    def display_info(self):\n",
        "        return f\"Doctor ID: {self.doctor_id}, {super().display_info()}, Specialty: {self.specialty}\"\n",
        "\n",
        "class Appointment:\n",
        "    \"\"\"Represents an Appointment between a Patient and a Doctor.\"\"\"\n",
        "    def __init__(self, appointment_id, patient, doctor, date, time):\n",
        "        self.appointment_id = appointment_id\n",
        "        self.patient = patient\n",
        "        self.doctor = doctor\n",
        "        self.date = date\n",
        "        self.time = time\n",
        "\n",
        "    def display_info(self):\n",
        "        return f\"Appointment ID: {self.appointment_id}, Date: {self.date}, Time: {self.time}, \\n  {self.patient.display_info()} \\n  {self.doctor.display_info()}\"\n",
        "\n",
        "class Hospital:\n",
        "    \"\"\"Manages Patients, Doctors, and Appointments.\"\"\"\n",
        "    def __init__(self):\n",
        "        self.patients = []\n",
        "        self.doctors = []\n",
        "        self.appointments = []\n",
        "\n",
        "    def add_patient(self, patient):\n",
        "        self.patients.append(patient)\n",
        "\n",
        "    def add_doctor(self, doctor):\n",
        "        self.doctors.append(doctor)\n",
        "\n",
        "    def schedule_appointment(self, appointment):\n",
        "        self.appointments.append(appointment)\n",
        "\n",
        "    def display_patients(self):\n",
        "        print(\"\\n--- Patients List ---\")\n",
        "        for patient in self.patients:\n",
        "            print(patient.display_info())\n",
        "\n",
        "    def display_doctors(self):\n",
        "        print(\"\\n--- Doctors List ---\")\n",
        "        for doctor in self.doctors:\n",
        "            print(doctor.display_info())\n",
        "\n",
        "    def display_appointments(self):\n",
        "        print(\"\\n--- Appointments List ---\")\n",
        "        for appointment in self.appointments:\n",
        "            print(appointment.display_info())\n",
        "\n",
        "# --- Main Program ---\n",
        "hospital = Hospital()\n",
        "\n",
        "# Adding Patients\n",
        "patient1 = Patient(101, \"Alice\", 25, \"Female\", \"Fever\")\n",
        "patient2 = Patient(102, \"Bob\", 40, \"Male\", \"Diabetes\")\n",
        "hospital.add_patient(patient1)\n",
        "hospital.add_patient(patient2)\n",
        "\n",
        "# Adding Doctors\n",
        "doctor1 = Doctor(201, \"Dr. Smith\", 45, \"Male\", \"Cardiology\")\n",
        "doctor2 = Doctor(202, \"Dr. Jane\", 38, \"Female\", \"Neurology\")\n",
        "hospital.add_doctor(doctor1)\n",
        "hospital.add_doctor(doctor2)\n",
        "\n",
        "# Scheduling Appointments\n",
        "appointment1 = Appointment(301, patient1, doctor1, \"2025-04-05\", \"10:00 AM\")\n",
        "appointment2 = Appointment(302, patient2, doctor2, \"2025-04-06\", \"11:30 AM\")\n",
        "hospital.schedule_appointment(appointment1)\n",
        "hospital.schedule_appointment(appointment2)\n",
        "\n",
        "# Displaying Data\n",
        "hospital.display_patients()\n",
        "hospital.display_doctors()\n",
        "hospital.display_appointments()\n"
      ],
      "metadata": {
        "colab": {
          "base_uri": "https://localhost:8080/"
        },
        "id": "Zsuw5C6alkNx",
        "outputId": "04511f86-0167-46dc-d649-35dd04807525"
      },
      "execution_count": 81,
      "outputs": [
        {
          "output_type": "stream",
          "name": "stdout",
          "text": [
            "\n",
            "--- Patients List ---\n",
            "Patient ID: 101, Name: Alice, Age: 25, Gender: Female, Disease: Fever\n",
            "Patient ID: 102, Name: Bob, Age: 40, Gender: Male, Disease: Diabetes\n",
            "\n",
            "--- Doctors List ---\n",
            "Doctor ID: 201, Name: Dr. Smith, Age: 45, Gender: Male, Specialty: Cardiology\n",
            "Doctor ID: 202, Name: Dr. Jane, Age: 38, Gender: Female, Specialty: Neurology\n",
            "\n",
            "--- Appointments List ---\n",
            "Appointment ID: 301, Date: 2025-04-05, Time: 10:00 AM, \n",
            "  Patient ID: 101, Name: Alice, Age: 25, Gender: Female, Disease: Fever \n",
            "  Doctor ID: 201, Name: Dr. Smith, Age: 45, Gender: Male, Specialty: Cardiology\n",
            "Appointment ID: 302, Date: 2025-04-06, Time: 11:30 AM, \n",
            "  Patient ID: 102, Name: Bob, Age: 40, Gender: Male, Disease: Diabetes \n",
            "  Doctor ID: 202, Name: Dr. Jane, Age: 38, Gender: Female, Specialty: Neurology\n"
          ]
        }
      ]
    },
    {
      "cell_type": "code",
      "source": [
        "class Book:\n",
        "  def __init__(self, title, author, isbn):\n",
        "    self.title = title\n",
        "    self.author = author\n",
        "    self.isbn = isbn\n",
        "    self.status = \"available\"\n",
        "\n",
        "  def display_info(self):\n",
        "    return f\"Title: {self.title}, Author: {self.author}, ISBN: {self.isbn}, Status:{self.status}\"\n",
        "\n",
        "  def mark_barrowed(self):\n",
        "    if self.status == \"available\":\n",
        "      self.status = \"barrowed\"\n",
        "      return \"Book marked as Barrowed\"\n",
        "    return \"Book is aready Barrowed\"\n",
        "\n",
        "  def mark_returned(self):\n",
        "    if self.status == \"barrowed\":\n",
        "      self.status = \"available\"\n",
        "      return \"Book marked as Returned\"\n",
        "    return \"Book is already Available\"\n",
        "\n",
        "class Member:\n",
        "  def __init__ (self, name, member_id):\n",
        "    self.name = name\n",
        "    self.member_id = member_id\n",
        "    self.barrowed_books=[]\n",
        "\n",
        "  def barrow_book(self,book):\n",
        "    if book.status == \"available\":\n",
        "      book.mark_barrowed()\n",
        "      self.barrowed_books.append(book)\n",
        "      return f\"{self.name} Barrowed {book.title}\"\n",
        "    return \"Book is not Available\"\n",
        "\n",
        "  def return_book(self, book):\n",
        "    if book in self.barrowed_books:\n",
        "      book.mark_returned()\n",
        "      self.barrowed_books.remove(book)\n",
        "      return f\"{self.name} Returned {book.title}\"\n",
        "    return \"Book is not Barrowed by this member\"\n",
        "  def display_info(self):\n",
        "    books = \", \".join([book.title for book in self.barrowed_books])  or \"No Barrowed Books\"\n",
        "    return f\"Member ID: {self.member_id}, Name: {self.name}, Barrowed Books: {books}\"\n",
        "\n",
        "class Library:\n",
        "  def __init__(self):\n",
        "    self.books =[]\n",
        "    self.members = []\n",
        "\n",
        "  def add_book(self, book):\n",
        "    self.books.append(book)\n",
        "    return f\"Book {book.title} added to Library\"\n",
        "\n",
        "  def register_member(self,member):\n",
        "    self.members.append(member)\n",
        "    return f'Member {member.name} Registered'\n",
        "\n",
        "  def issue_book(self, member_id, isbn):\n",
        "    member = next((m for m in self.members if m.member_id == member_id), None)\n",
        "    book = next((b for b in self.books if b.isbn == isbn), None)\n",
        "    if member and book:\n",
        "      return member.barrow_book(book)\n",
        "    return \"Member or Book Not Found\"\n",
        "\n",
        "  def return_book(self, member_id, isbn):\n",
        "    member = next((m for m in self.members if m.member_id == member_id), None)\n",
        "    book = next((b for b in self.books if b.isbn == isbn), None)\n",
        "    if member and book:\n",
        "      return member.return_book(book)\n",
        "    return \"Member or Book Not Found\"\n",
        "\n",
        "  def display_all_books(self):\n",
        "    return \"\\n\".join([book.display_info() for book in self.books])\n",
        "\n",
        "  def display_all_members(self):\n",
        "    return \"\\n\".join([member.display_info() for member in self.members])\n"
      ],
      "metadata": {
        "id": "7JAZiHXO07je"
      },
      "execution_count": 82,
      "outputs": []
    },
    {
      "cell_type": "code",
      "source": [
        "library = Library()\n",
        "book1 = Book(\"English\", \"Muhammad Ali\", \"12345\")\n",
        "book2 = Book(\"Urdu\", \"Usman Khan\", \"56789\")\n",
        "book3 = Book(\"Mathematics\", \"Ayesha Ahmed\", \"98765\")\n",
        "book4 = Book(\"Physics\", \"Dr. Kamran\", \"43210\")\n",
        "book5 = Book(\"Chemistry\", \"Farhan Iqbal\", \"67890\")\n",
        "book6 = Book(\"Biology\", \"Hina Tariq\", \"34567\")\n",
        "book7 = Book(\"Computer Science\", \"Sohail Raza\", \"11223\")\n",
        "book8 = Book(\"History\", \"Zain Abbas\", \"55678\")\n",
        "book9 = Book(\"Geography\", \"Nida Hassan\", \"77889\")\n",
        "book10 = Book(\"Economics\", \"Imran Sheikh\", \"99001\")\n",
        "\n",
        "\n",
        "member1 = Member(\"Mr Bilal\", 1)\n",
        "member2 = Member(\"Mr Umer\", 2)\n",
        "member3 = Member(\"Mr Adeel\", 3)\n",
        "member4 = Member(\"Rana Aqib\", 4)\n"
      ],
      "metadata": {
        "id": "MZPgOhUCUbcD"
      },
      "execution_count": 83,
      "outputs": []
    },
    {
      "cell_type": "code",
      "source": [
        "print(library.add_book(book1))\n",
        "print(library.add_book(book2))\n",
        "print(library.add_book(book3))\n",
        "print(library.add_book(book4))\n",
        "print(library.add_book(book5))\n",
        "print(library.add_book(book6))\n",
        "print(library.add_book(book7))\n",
        "print(library.add_book(book8))\n",
        "print(library.add_book(book9))\n",
        "print(library.add_book(book10))\n",
        "print(library.register_member(member1))\n",
        "print(library.register_member(member2))\n",
        "print(library.register_member(member3))\n",
        "print(library.register_member(member4))"
      ],
      "metadata": {
        "colab": {
          "base_uri": "https://localhost:8080/"
        },
        "id": "HNEQZy_tcRoD",
        "outputId": "8af092d5-c856-4228-bf1f-a995db7e6773"
      },
      "execution_count": 84,
      "outputs": [
        {
          "output_type": "stream",
          "name": "stdout",
          "text": [
            "Book English added to Library\n",
            "Book Urdu added to Library\n",
            "Book Mathematics added to Library\n",
            "Book Physics added to Library\n",
            "Book Chemistry added to Library\n",
            "Book Biology added to Library\n",
            "Book Computer Science added to Library\n",
            "Book History added to Library\n",
            "Book Geography added to Library\n",
            "Book Economics added to Library\n",
            "Member Mr Bilal Registered\n",
            "Member Mr Umer Registered\n",
            "Member Mr Adeel Registered\n",
            "Member Rana Aqib Registered\n"
          ]
        }
      ]
    },
    {
      "cell_type": "code",
      "source": [
        "print(library.issue_book(1,\"12345\"))\n",
        "print(library.issue_book(1,\"67890\"))\n",
        "print(library.issue_book(1,\"34567\"))"
      ],
      "metadata": {
        "colab": {
          "base_uri": "https://localhost:8080/"
        },
        "id": "t4UAfbMrcrRO",
        "outputId": "befa45a4-7c8f-4ec7-dc79-acbb75fd5391"
      },
      "execution_count": 85,
      "outputs": [
        {
          "output_type": "stream",
          "name": "stdout",
          "text": [
            "Mr Bilal Barrowed English\n",
            "Mr Bilal Barrowed Chemistry\n",
            "Mr Bilal Barrowed Biology\n"
          ]
        }
      ]
    },
    {
      "cell_type": "code",
      "source": [
        "print(library.issue_book(2,\"67890\"))"
      ],
      "metadata": {
        "colab": {
          "base_uri": "https://localhost:8080/"
        },
        "id": "azrSU6ScdHA7",
        "outputId": "cf4e9517-9a05-4386-ee0c-cd875d22924c"
      },
      "execution_count": 86,
      "outputs": [
        {
          "output_type": "stream",
          "name": "stdout",
          "text": [
            "Book is not Available\n"
          ]
        }
      ]
    },
    {
      "cell_type": "code",
      "source": [
        "print(library.issue_book(2,\"11223\"))\n",
        "print(library.issue_book(3,\"98765\"))\n",
        "print(library.issue_book(4,\"99001\"))\n",
        "print(library.issue_book(4,\"77889\"))"
      ],
      "metadata": {
        "colab": {
          "base_uri": "https://localhost:8080/"
        },
        "id": "gaNRel1NjKQQ",
        "outputId": "4b89f618-fc58-4170-8feb-8372b39f7f07"
      },
      "execution_count": 87,
      "outputs": [
        {
          "output_type": "stream",
          "name": "stdout",
          "text": [
            "Mr Umer Barrowed Computer Science\n",
            "Mr Adeel Barrowed Mathematics\n",
            "Rana Aqib Barrowed Economics\n",
            "Rana Aqib Barrowed Geography\n"
          ]
        }
      ]
    },
    {
      "cell_type": "code",
      "source": [
        "print(library.return_book(1,\"56789\"))"
      ],
      "metadata": {
        "colab": {
          "base_uri": "https://localhost:8080/"
        },
        "id": "26LBUu9yjPlF",
        "outputId": "b42a4d36-d91e-4b2a-d7f4-2a8bffe9d670"
      },
      "execution_count": 88,
      "outputs": [
        {
          "output_type": "stream",
          "name": "stdout",
          "text": [
            "Book is not Barrowed by this member\n"
          ]
        }
      ]
    },
    {
      "cell_type": "code",
      "source": [
        "print(library.return_book(1,\"67890\"))"
      ],
      "metadata": {
        "colab": {
          "base_uri": "https://localhost:8080/"
        },
        "id": "4MK8ONlNnIKQ",
        "outputId": "e0c9f4c9-7a8a-4a88-feeb-76a6829db0bf"
      },
      "execution_count": 89,
      "outputs": [
        {
          "output_type": "stream",
          "name": "stdout",
          "text": [
            "Mr Bilal Returned Chemistry\n"
          ]
        }
      ]
    },
    {
      "cell_type": "code",
      "source": [
        "print(\"Library Books\")\n",
        "print(library.display_all_books())"
      ],
      "metadata": {
        "colab": {
          "base_uri": "https://localhost:8080/"
        },
        "id": "GufpoddnjWjx",
        "outputId": "e0cf50e1-cdc7-40ee-f43f-3983ecb05e93"
      },
      "execution_count": 90,
      "outputs": [
        {
          "output_type": "stream",
          "name": "stdout",
          "text": [
            "Library Books\n",
            "Title: English, Author: Muhammad Ali, ISBN: 12345, Status:barrowed\n",
            "Title: Urdu, Author: Usman Khan, ISBN: 56789, Status:available\n",
            "Title: Mathematics, Author: Ayesha Ahmed, ISBN: 98765, Status:barrowed\n",
            "Title: Physics, Author: Dr. Kamran, ISBN: 43210, Status:available\n",
            "Title: Chemistry, Author: Farhan Iqbal, ISBN: 67890, Status:available\n",
            "Title: Biology, Author: Hina Tariq, ISBN: 34567, Status:barrowed\n",
            "Title: Computer Science, Author: Sohail Raza, ISBN: 11223, Status:barrowed\n",
            "Title: History, Author: Zain Abbas, ISBN: 55678, Status:available\n",
            "Title: Geography, Author: Nida Hassan, ISBN: 77889, Status:barrowed\n",
            "Title: Economics, Author: Imran Sheikh, ISBN: 99001, Status:barrowed\n"
          ]
        }
      ]
    },
    {
      "cell_type": "code",
      "source": [
        "print(\"Library Members\")\n",
        "print(library.display_all_members())"
      ],
      "metadata": {
        "colab": {
          "base_uri": "https://localhost:8080/"
        },
        "id": "85rB77Cqjh28",
        "outputId": "d22ea06a-18af-46d0-9e53-413a1e6453df"
      },
      "execution_count": 91,
      "outputs": [
        {
          "output_type": "stream",
          "name": "stdout",
          "text": [
            "Library Members\n",
            "Member ID: 1, Name: Mr Bilal, Barrowed Books: English, Biology\n",
            "Member ID: 2, Name: Mr Umer, Barrowed Books: Computer Science\n",
            "Member ID: 3, Name: Mr Adeel, Barrowed Books: Mathematics\n",
            "Member ID: 4, Name: Rana Aqib, Barrowed Books: Economics, Geography\n"
          ]
        }
      ]
    },
    {
      "cell_type": "code",
      "source": [],
      "metadata": {
        "id": "MVYzbNYvk4gw"
      },
      "execution_count": null,
      "outputs": []
    }
  ]
}