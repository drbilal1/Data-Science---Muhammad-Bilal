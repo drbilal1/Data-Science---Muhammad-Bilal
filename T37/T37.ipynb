{
  "nbformat": 4,
  "nbformat_minor": 0,
  "metadata": {
    "colab": {
      "provenance": []
    },
    "kernelspec": {
      "name": "python3",
      "display_name": "Python 3"
    },
    "language_info": {
      "name": "python"
    }
  },
  "cells": [
    {
      "cell_type": "code",
      "execution_count": null,
      "metadata": {
        "colab": {
          "base_uri": "https://localhost:8080/"
        },
        "id": "KMtC9vJx1iyc",
        "outputId": "1255c3af-6049-4ee4-8085-bfd52ba80d7f"
      },
      "outputs": [
        {
          "output_type": "stream",
          "name": "stdout",
          "text": [
            "Dataset 1:\n",
            "                                             Text                 Cleaned_Text\n",
            "0                       I love machine learning!            love machin learn\n",
            "1  This is a basic example of NLP preprocessing.  basic exampl nlp preprocess\n",
            "\n",
            "Dataset 2:\n",
            "                            Review   Cleaned_Review\n",
            "0        The movie was amazing!!!        movi amaz\n",
            "1  I didn't like the food at all.  didnt like food\n"
          ]
        },
        {
          "output_type": "stream",
          "name": "stderr",
          "text": [
            "[nltk_data] Downloading package stopwords to /root/nltk_data...\n",
            "[nltk_data]   Unzipping corpora/stopwords.zip.\n"
          ]
        }
      ],
      "source": [
        "import pandas as pd\n",
        "import re\n",
        "import string\n",
        "from nltk.corpus import stopwords\n",
        "from nltk.stem import PorterStemmer\n",
        "import nltk\n",
        "\n",
        "# Download stopwords once\n",
        "nltk.download('stopwords')\n",
        "\n",
        "# Example datasets\n",
        "dataset1 = pd.DataFrame({'Text': [\"I love machine learning!\", \"This is a basic example of NLP preprocessing.\"]})\n",
        "dataset2 = pd.DataFrame({'Review': [\"The movie was amazing!!!\", \"I didn't like the food at all.\"]})\n",
        "\n",
        "# Preprocessing function\n",
        "def preprocess(text):\n",
        "    text = text.lower()  # Lowercase\n",
        "    text = re.sub(r'\\d+', '', text)  # Remove digits\n",
        "    text = text.translate(str.maketrans('', '', string.punctuation))  # Remove punctuation\n",
        "    text = text.strip()  # Remove leading/trailing whitespace\n",
        "    tokens = text.split()\n",
        "    tokens = [word for word in tokens if word not in stopwords.words('english')]  # Remove stopwords\n",
        "    stemmer = PorterStemmer()\n",
        "    tokens = [stemmer.stem(word) for word in tokens]  # Apply stemming\n",
        "    return \" \".join(tokens)\n",
        "\n",
        "# Apply to datasets\n",
        "dataset1['Cleaned_Text'] = dataset1['Text'].apply(preprocess)\n",
        "dataset2['Cleaned_Review'] = dataset2['Review'].apply(preprocess)\n",
        "\n",
        "print(\"Dataset 1:\\n\", dataset1)\n",
        "print(\"\\nDataset 2:\\n\", dataset2)"
      ]
    },
    {
      "cell_type": "code",
      "source": [
        "import re\n",
        "\n",
        "def chatbot():\n",
        "    print(\"Hello! I am your chatbot. Type 'quit' to end the conversation.\")\n",
        "\n",
        "    while True:\n",
        "        user_input = input(\"You: \").lower()\n",
        "\n",
        "        if user_input == 'quit':\n",
        "            print(\"Goodbye!\")\n",
        "            break\n",
        "        elif re.search(r'hello|hi|hey', user_input):\n",
        "            print(\"Chatbot: Hi there! How can I help you?\")\n",
        "        elif re.search(r'how are you', user_input):\n",
        "            print(\"Chatbot: I'm doing well, thank you for asking!\")\n",
        "        elif re.search(r'bye', user_input):\n",
        "            print(\"Chatbot: Goodbye! Have a great day!\")\n",
        "            break\n",
        "        elif re.search(r'your name', user_input):\n",
        "            print(\"Chatbot: I am your friendly chatbot!\")\n",
        "        elif re.search(r'help', user_input):\n",
        "            print(\"Chatbot: I'm here to help. Ask me anything!\")\n",
        "        elif re.search(r'what is your purpose', user_input):\n",
        "            print(\"Chatbot: My purpose is to assist you and answer your questions!\")\n",
        "        elif re.search(r'how old are you', user_input):\n",
        "            print(\"Chatbot: I don't have an age, but I've been around since the beginning of time!\")\n",
        "        elif re.search(r'tell me a joke', user_input):\n",
        "            print(\"Chatbot: Why don't skeletons fight each other? They don't have the guts!\")\n",
        "        elif re.search(r'what can you do', user_input):\n",
        "            print(\"Chatbot: I can answer questions, tell jokes, and engage in basic conversations!\")\n",
        "        elif re.search(r'what is the weather like', user_input):\n",
        "            print(\"Chatbot: I don't have access to real-time data, but you can check your local weather!\")\n",
        "        elif re.search(r'where are you from', user_input):\n",
        "            print(\"Chatbot: I exist in the digital world, so I'm everywhere and nowhere!\")\n",
        "        elif re.search(r'tell me something interesting', user_input):\n",
        "            print(\"Chatbot: Did you know that honey never spoils? Archaeologists have found pots of honey in ancient tombs that are over 3000 years old!\")\n",
        "        elif re.search(r'how can i learn programming', user_input):\n",
        "            print(\"Chatbot: You can start by learning Python! There are plenty of online resources like Codecademy and freeCodeCamp.\")\n",
        "        elif re.search(r'tell me a quote', user_input):\n",
        "            print(\"Chatbot: 'The only way to do great work is to love what you do.' – Steve Jobs\")\n",
        "        elif re.search(r'what is ai', user_input):\n",
        "            print(\"Chatbot: AI, or Artificial Intelligence, refers to machines that can perform tasks that typically require human intelligence.\")\n",
        "        elif re.search(r'what is your favorite color', user_input):\n",
        "            print(\"Chatbot: I don't have a favorite color, but I think all colors are beautiful!\")\n",
        "        elif re.search(r'can you play games', user_input):\n",
        "            print(\"Chatbot: I can't play complex games, but I can tell you some fun riddles or trivia!\")\n",
        "        elif re.search(r'what is 2 plus 2', user_input):\n",
        "            print(\"Chatbot: 2 plus 2 is 4!\")\n",
        "        elif re.search(r'can you speak other languages', user_input):\n",
        "            print(\"Chatbot: I can understand and respond in many languages, including English, Spanish, French, and more!\")\n",
        "        else:\n",
        "            print(\"Chatbot: I'm not sure how to respond to that. Can you ask something else?\")\n",
        "\n",
        "if __name__ == \"__main__\":\n",
        "    chatbot()"
      ],
      "metadata": {
        "id": "DgU2Cpqh2cfd",
        "colab": {
          "base_uri": "https://localhost:8080/"
        },
        "outputId": "6fead66e-1a48-4749-ec41-00521c89a828"
      },
      "execution_count": 7,
      "outputs": [
        {
          "output_type": "stream",
          "name": "stdout",
          "text": [
            "Hello! I am your chatbot. Type 'quit' to end the conversation.\n",
            "You: hy\n",
            "Chatbot: I'm not sure how to respond to that. Can you ask something else?\n",
            "You: hey\n",
            "Chatbot: Hi there! How can I help you?\n",
            "You: how can i learn programming\n",
            "Chatbot: You can start by learning Python! There are plenty of online resources like Codecademy and freeCodeCamp.\n",
            "You: what is YOUR favourite color\n",
            "Chatbot: I'm not sure how to respond to that. Can you ask something else?\n",
            "You: what is your favorite coloR\n",
            "Chatbot: I don't have a favorite color, but I think all colors are beautiful!\n",
            "You: help\n",
            "Chatbot: I'm here to help. Ask me anything!\n",
            "You: How Old are You?\n",
            "Chatbot: I don't have an age, but I've been around since the beginning of time!\n",
            "You: quit\n",
            "Goodbye!\n"
          ]
        }
      ]
    }
  ]
}