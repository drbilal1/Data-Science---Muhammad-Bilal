{
  "nbformat": 4,
  "nbformat_minor": 0,
  "metadata": {
    "colab": {
      "provenance": [],
      "gpuType": "T4"
    },
    "kernelspec": {
      "name": "python3",
      "display_name": "Python 3"
    },
    "language_info": {
      "name": "python"
    },
    "accelerator": "GPU"
  },
  "cells": [
    {
      "cell_type": "code",
      "execution_count": 1,
      "metadata": {
        "id": "kNY4ldXJoZMO"
      },
      "outputs": [],
      "source": [
        "import os\n",
        "import numpy as np\n",
        "import matplotlib.pyplot as plt\n",
        "import tensorflow as tf\n",
        "from tensorflow.keras import layers, models\n",
        "from sklearn.model_selection import train_test_split\n",
        "from sklearn.preprocessing import LabelEncoder"
      ]
    },
    {
      "cell_type": "code",
      "source": [
        "from google.colab import drive\n",
        "import os\n",
        "# Step 1: Mount Google Drive\n",
        "drive.mount('/content/drive')\n",
        "\n",
        "# Step 2: Define the folder path inside Google Drive\n",
        "folder_path = \"/content/drive/My Drive/ML Datasets/Flowers\""
      ],
      "metadata": {
        "colab": {
          "base_uri": "https://localhost:8080/"
        },
        "id": "cHWULbJBoy0S",
        "outputId": "eda94d30-e580-4e5c-eb6b-cd7a4889b5c0"
      },
      "execution_count": 16,
      "outputs": [
        {
          "output_type": "stream",
          "name": "stdout",
          "text": [
            "Drive already mounted at /content/drive; to attempt to forcibly remount, call drive.mount(\"/content/drive\", force_remount=True).\n"
          ]
        }
      ]
    },
    {
      "cell_type": "code",
      "source": [
        "# Step 3: List the files in the folder\n",
        "files = os.listdir(folder_path)\n",
        "\n",
        "# Print the list of files\n",
        "print(\"Files in the folder:\", files)"
      ],
      "metadata": {
        "colab": {
          "base_uri": "https://localhost:8080/"
        },
        "id": "6Ou6xXR8o4qV",
        "outputId": "a43ad2fc-7436-4a29-c36f-437407a518e0"
      },
      "execution_count": 17,
      "outputs": [
        {
          "output_type": "stream",
          "name": "stdout",
          "text": [
            "Files in the folder: ['dandelion', 'tulip', 'sunflower', 'rose', 'daisy']\n"
          ]
        }
      ]
    },
    {
      "cell_type": "code",
      "source": [
        "count = 0\n",
        "\n",
        "# List all subdirectories in the main folder\n",
        "dirs = os.listdir(folder_path)\n",
        "\n",
        "for dir in dirs:\n",
        "    dir_path = os.path.join(folder_path, dir)  # ✅ Correctly join folder path\n",
        "\n",
        "    if os.path.isdir(dir_path):  # ✅ Ensure it's a directory\n",
        "        files = os.listdir(dir_path)  # ✅ List files inside the subfolder\n",
        "        print(f\"{dir} Folder has {len(files)} Images\")\n",
        "        count += len(files)\n",
        "\n",
        "print(f\"Images Folder has {count} Images\")"
      ],
      "metadata": {
        "colab": {
          "base_uri": "https://localhost:8080/"
        },
        "id": "V2bFqtzgpA7F",
        "outputId": "92c0d692-1b18-4e27-fe67-0c268d63d479"
      },
      "execution_count": 4,
      "outputs": [
        {
          "output_type": "stream",
          "name": "stdout",
          "text": [
            "dandelion Folder has 639 Images\n",
            "tulip Folder has 984 Images\n",
            "sunflower Folder has 753 Images\n",
            "rose Folder has 784 Images\n",
            "daisy Folder has 764 Images\n",
            "Images Folder has 3924 Images\n"
          ]
        }
      ]
    },
    {
      "cell_type": "code",
      "source": [
        "import cv2\n",
        "import numpy as np\n",
        "from sklearn.preprocessing import LabelEncoder\n",
        "\n",
        "IMG_SIZE = (64, 64)  # Resize all images\n",
        "images = []\n",
        "labels = []\n",
        "\n",
        "# Use your existing folder path\n",
        "for label in os.listdir(folder_path):\n",
        "    dir_path = os.path.join(folder_path, label)\n",
        "\n",
        "    if os.path.isdir(dir_path):\n",
        "        for file in os.listdir(dir_path):\n",
        "            file_path = os.path.join(dir_path, file)\n",
        "            try:\n",
        "                img = cv2.imread(file_path)\n",
        "                img = cv2.resize(img, IMG_SIZE)\n",
        "                images.append(img)\n",
        "                labels.append(label)\n",
        "            except:\n",
        "                pass  # skip unreadable files\n"
      ],
      "metadata": {
        "id": "KhUSdP3MpUs6"
      },
      "execution_count": 5,
      "outputs": []
    },
    {
      "cell_type": "code",
      "source": [
        "images = np.array(images) / 255.0  # Normalize pixel values\n",
        "labels = np.array(labels)\n",
        "\n",
        "# Convert string labels to numeric\n",
        "le = LabelEncoder()\n",
        "labels_encoded = le.fit_transform(labels)\n",
        "\n",
        "print(\"Classes:\", le.classes_)"
      ],
      "metadata": {
        "colab": {
          "base_uri": "https://localhost:8080/"
        },
        "id": "xVAKeqzvpqG6",
        "outputId": "71ac37f5-82e1-48b7-a857-a3c442cf8ab7"
      },
      "execution_count": 6,
      "outputs": [
        {
          "output_type": "stream",
          "name": "stdout",
          "text": [
            "Classes: ['daisy' 'dandelion' 'rose' 'sunflower' 'tulip']\n"
          ]
        }
      ]
    },
    {
      "cell_type": "code",
      "source": [
        "from sklearn.model_selection import train_test_split\n",
        "\n",
        "X_train, X_test, y_train, y_test = train_test_split(\n",
        "    images, labels_encoded, test_size=0.2, stratify=labels_encoded, random_state=42\n",
        ")\n"
      ],
      "metadata": {
        "id": "4gjpxj3Ipv6M"
      },
      "execution_count": 7,
      "outputs": []
    },
    {
      "cell_type": "code",
      "source": [
        "# Flatten images for ANN (from 64x64x3 to 12288)\n",
        "X_train_ann = X_train.reshape(len(X_train), -1)\n",
        "X_test_ann = X_test.reshape(len(X_test), -1)\n",
        "\n",
        "print(\"ANN input shape:\", X_train_ann.shape)\n"
      ],
      "metadata": {
        "colab": {
          "base_uri": "https://localhost:8080/"
        },
        "id": "OTNTgR_TqNoR",
        "outputId": "7359a37f-edc9-47aa-bad2-36deb20e01ff"
      },
      "execution_count": 8,
      "outputs": [
        {
          "output_type": "stream",
          "name": "stdout",
          "text": [
            "ANN input shape: (3139, 12288)\n"
          ]
        }
      ]
    },
    {
      "cell_type": "code",
      "source": [
        "import tensorflow as tf\n",
        "from tensorflow.keras import layers, models\n",
        "\n",
        "ann_model = models.Sequential([\n",
        "    layers.Dense(512, activation='relu', input_shape=(X_train_ann.shape[1],)),\n",
        "    layers.Dropout(0.3),\n",
        "    layers.Dense(256, activation='relu'),\n",
        "    layers.Dropout(0.2),\n",
        "    layers.Dense(5, activation='softmax')  # 5 classes\n",
        "])"
      ],
      "metadata": {
        "colab": {
          "base_uri": "https://localhost:8080/"
        },
        "id": "YIAxEMvyqUmb",
        "outputId": "88afb152-61cb-480e-8478-eb4d557ea537"
      },
      "execution_count": 9,
      "outputs": [
        {
          "output_type": "stream",
          "name": "stderr",
          "text": [
            "/usr/local/lib/python3.11/dist-packages/keras/src/layers/core/dense.py:87: UserWarning: Do not pass an `input_shape`/`input_dim` argument to a layer. When using Sequential models, prefer using an `Input(shape)` object as the first layer in the model instead.\n",
            "  super().__init__(activity_regularizer=activity_regularizer, **kwargs)\n"
          ]
        }
      ]
    },
    {
      "cell_type": "code",
      "source": [
        "ann_model.compile(optimizer='adam',\n",
        "                  loss='sparse_categorical_crossentropy',\n",
        "                  metrics=['accuracy'])\n"
      ],
      "metadata": {
        "id": "TKQQTYxqqb_l"
      },
      "execution_count": 10,
      "outputs": []
    },
    {
      "cell_type": "code",
      "source": [
        "history_ann = ann_model.fit(\n",
        "    X_train_ann, y_train,\n",
        "    validation_data=(X_test_ann, y_test),\n",
        "    epochs=150,\n",
        "    batch_size=16\n",
        ")"
      ],
      "metadata": {
        "colab": {
          "base_uri": "https://localhost:8080/"
        },
        "id": "XKDZvDPbqf67",
        "outputId": "537bae86-199b-44da-e246-9be47b23fbdd"
      },
      "execution_count": 11,
      "outputs": [
        {
          "output_type": "stream",
          "name": "stdout",
          "text": [
            "Epoch 1/150\n",
            "\u001b[1m197/197\u001b[0m \u001b[32m━━━━━━━━━━━━━━━━━━━━\u001b[0m\u001b[37m\u001b[0m \u001b[1m7s\u001b[0m 18ms/step - accuracy: 0.2672 - loss: 3.8292 - val_accuracy: 0.3860 - val_loss: 1.4049\n",
            "Epoch 2/150\n",
            "\u001b[1m197/197\u001b[0m \u001b[32m━━━━━━━━━━━━━━━━━━━━\u001b[0m\u001b[37m\u001b[0m \u001b[1m6s\u001b[0m 5ms/step - accuracy: 0.3484 - loss: 1.4638 - val_accuracy: 0.4064 - val_loss: 1.3128\n",
            "Epoch 3/150\n",
            "\u001b[1m197/197\u001b[0m \u001b[32m━━━━━━━━━━━━━━━━━━━━\u001b[0m\u001b[37m\u001b[0m \u001b[1m1s\u001b[0m 4ms/step - accuracy: 0.3886 - loss: 1.3814 - val_accuracy: 0.3567 - val_loss: 1.3842\n",
            "Epoch 4/150\n",
            "\u001b[1m197/197\u001b[0m \u001b[32m━━━━━━━━━━━━━━━━━━━━\u001b[0m\u001b[37m\u001b[0m \u001b[1m1s\u001b[0m 4ms/step - accuracy: 0.3808 - loss: 1.3892 - val_accuracy: 0.3796 - val_loss: 1.3885\n",
            "Epoch 5/150\n",
            "\u001b[1m197/197\u001b[0m \u001b[32m━━━━━━━━━━━━━━━━━━━━\u001b[0m\u001b[37m\u001b[0m \u001b[1m1s\u001b[0m 4ms/step - accuracy: 0.3889 - loss: 1.3772 - val_accuracy: 0.4395 - val_loss: 1.3007\n",
            "Epoch 6/150\n",
            "\u001b[1m197/197\u001b[0m \u001b[32m━━━━━━━━━━━━━━━━━━━━\u001b[0m\u001b[37m\u001b[0m \u001b[1m1s\u001b[0m 4ms/step - accuracy: 0.3932 - loss: 1.3759 - val_accuracy: 0.4000 - val_loss: 1.3108\n",
            "Epoch 7/150\n",
            "\u001b[1m197/197\u001b[0m \u001b[32m━━━━━━━━━━━━━━━━━━━━\u001b[0m\u001b[37m\u001b[0m \u001b[1m1s\u001b[0m 4ms/step - accuracy: 0.3806 - loss: 1.3480 - val_accuracy: 0.4038 - val_loss: 1.3830\n",
            "Epoch 8/150\n",
            "\u001b[1m197/197\u001b[0m \u001b[32m━━━━━━━━━━━━━━━━━━━━\u001b[0m\u001b[37m\u001b[0m \u001b[1m1s\u001b[0m 4ms/step - accuracy: 0.4204 - loss: 1.3184 - val_accuracy: 0.4408 - val_loss: 1.2860\n",
            "Epoch 9/150\n",
            "\u001b[1m197/197\u001b[0m \u001b[32m━━━━━━━━━━━━━━━━━━━━\u001b[0m\u001b[37m\u001b[0m \u001b[1m1s\u001b[0m 4ms/step - accuracy: 0.3777 - loss: 1.3838 - val_accuracy: 0.3924 - val_loss: 1.3403\n",
            "Epoch 10/150\n",
            "\u001b[1m197/197\u001b[0m \u001b[32m━━━━━━━━━━━━━━━━━━━━\u001b[0m\u001b[37m\u001b[0m \u001b[1m1s\u001b[0m 4ms/step - accuracy: 0.4190 - loss: 1.3045 - val_accuracy: 0.4344 - val_loss: 1.2863\n",
            "Epoch 11/150\n",
            "\u001b[1m197/197\u001b[0m \u001b[32m━━━━━━━━━━━━━━━━━━━━\u001b[0m\u001b[37m\u001b[0m \u001b[1m1s\u001b[0m 4ms/step - accuracy: 0.4225 - loss: 1.3072 - val_accuracy: 0.4229 - val_loss: 1.3490\n",
            "Epoch 12/150\n",
            "\u001b[1m197/197\u001b[0m \u001b[32m━━━━━━━━━━━━━━━━━━━━\u001b[0m\u001b[37m\u001b[0m \u001b[1m1s\u001b[0m 6ms/step - accuracy: 0.4206 - loss: 1.2906 - val_accuracy: 0.4497 - val_loss: 1.3227\n",
            "Epoch 13/150\n",
            "\u001b[1m197/197\u001b[0m \u001b[32m━━━━━━━━━━━━━━━━━━━━\u001b[0m\u001b[37m\u001b[0m \u001b[1m1s\u001b[0m 6ms/step - accuracy: 0.4267 - loss: 1.2495 - val_accuracy: 0.4293 - val_loss: 1.3556\n",
            "Epoch 14/150\n",
            "\u001b[1m197/197\u001b[0m \u001b[32m━━━━━━━━━━━━━━━━━━━━\u001b[0m\u001b[37m\u001b[0m \u001b[1m1s\u001b[0m 6ms/step - accuracy: 0.4403 - loss: 1.2660 - val_accuracy: 0.4522 - val_loss: 1.2897\n",
            "Epoch 15/150\n",
            "\u001b[1m197/197\u001b[0m \u001b[32m━━━━━━━━━━━━━━━━━━━━\u001b[0m\u001b[37m\u001b[0m \u001b[1m1s\u001b[0m 6ms/step - accuracy: 0.4570 - loss: 1.2526 - val_accuracy: 0.4637 - val_loss: 1.2589\n",
            "Epoch 16/150\n",
            "\u001b[1m197/197\u001b[0m \u001b[32m━━━━━━━━━━━━━━━━━━━━\u001b[0m\u001b[37m\u001b[0m \u001b[1m1s\u001b[0m 6ms/step - accuracy: 0.4504 - loss: 1.2090 - val_accuracy: 0.4395 - val_loss: 1.3283\n",
            "Epoch 17/150\n",
            "\u001b[1m197/197\u001b[0m \u001b[32m━━━━━━━━━━━━━━━━━━━━\u001b[0m\u001b[37m\u001b[0m \u001b[1m1s\u001b[0m 5ms/step - accuracy: 0.4678 - loss: 1.2102 - val_accuracy: 0.4484 - val_loss: 1.2847\n",
            "Epoch 18/150\n",
            "\u001b[1m197/197\u001b[0m \u001b[32m━━━━━━━━━━━━━━━━━━━━\u001b[0m\u001b[37m\u001b[0m \u001b[1m1s\u001b[0m 4ms/step - accuracy: 0.4586 - loss: 1.2139 - val_accuracy: 0.4522 - val_loss: 1.2713\n",
            "Epoch 19/150\n",
            "\u001b[1m197/197\u001b[0m \u001b[32m━━━━━━━━━━━━━━━━━━━━\u001b[0m\u001b[37m\u001b[0m \u001b[1m1s\u001b[0m 4ms/step - accuracy: 0.4529 - loss: 1.2442 - val_accuracy: 0.4331 - val_loss: 1.3115\n",
            "Epoch 20/150\n",
            "\u001b[1m197/197\u001b[0m \u001b[32m━━━━━━━━━━━━━━━━━━━━\u001b[0m\u001b[37m\u001b[0m \u001b[1m1s\u001b[0m 4ms/step - accuracy: 0.4755 - loss: 1.1978 - val_accuracy: 0.4510 - val_loss: 1.3366\n",
            "Epoch 21/150\n",
            "\u001b[1m197/197\u001b[0m \u001b[32m━━━━━━━━━━━━━━━━━━━━\u001b[0m\u001b[37m\u001b[0m \u001b[1m1s\u001b[0m 4ms/step - accuracy: 0.4873 - loss: 1.1799 - val_accuracy: 0.4229 - val_loss: 1.3515\n",
            "Epoch 22/150\n",
            "\u001b[1m197/197\u001b[0m \u001b[32m━━━━━━━━━━━━━━━━━━━━\u001b[0m\u001b[37m\u001b[0m \u001b[1m1s\u001b[0m 4ms/step - accuracy: 0.4786 - loss: 1.2012 - val_accuracy: 0.4268 - val_loss: 1.3131\n",
            "Epoch 23/150\n",
            "\u001b[1m197/197\u001b[0m \u001b[32m━━━━━━━━━━━━━━━━━━━━\u001b[0m\u001b[37m\u001b[0m \u001b[1m1s\u001b[0m 4ms/step - accuracy: 0.4663 - loss: 1.2223 - val_accuracy: 0.4089 - val_loss: 1.3508\n",
            "Epoch 24/150\n",
            "\u001b[1m197/197\u001b[0m \u001b[32m━━━━━━━━━━━━━━━━━━━━\u001b[0m\u001b[37m\u001b[0m \u001b[1m1s\u001b[0m 4ms/step - accuracy: 0.4619 - loss: 1.1774 - val_accuracy: 0.4446 - val_loss: 1.3214\n",
            "Epoch 25/150\n",
            "\u001b[1m197/197\u001b[0m \u001b[32m━━━━━━━━━━━━━━━━━━━━\u001b[0m\u001b[37m\u001b[0m \u001b[1m1s\u001b[0m 4ms/step - accuracy: 0.4797 - loss: 1.1754 - val_accuracy: 0.4599 - val_loss: 1.2820\n",
            "Epoch 26/150\n",
            "\u001b[1m197/197\u001b[0m \u001b[32m━━━━━━━━━━━━━━━━━━━━\u001b[0m\u001b[37m\u001b[0m \u001b[1m1s\u001b[0m 5ms/step - accuracy: 0.4877 - loss: 1.1791 - val_accuracy: 0.4573 - val_loss: 1.2916\n",
            "Epoch 27/150\n",
            "\u001b[1m197/197\u001b[0m \u001b[32m━━━━━━━━━━━━━━━━━━━━\u001b[0m\u001b[37m\u001b[0m \u001b[1m1s\u001b[0m 6ms/step - accuracy: 0.5127 - loss: 1.1286 - val_accuracy: 0.4484 - val_loss: 1.2871\n",
            "Epoch 28/150\n",
            "\u001b[1m197/197\u001b[0m \u001b[32m━━━━━━━━━━━━━━━━━━━━\u001b[0m\u001b[37m\u001b[0m \u001b[1m1s\u001b[0m 6ms/step - accuracy: 0.4878 - loss: 1.1494 - val_accuracy: 0.4191 - val_loss: 1.3255\n",
            "Epoch 29/150\n",
            "\u001b[1m197/197\u001b[0m \u001b[32m━━━━━━━━━━━━━━━━━━━━\u001b[0m\u001b[37m\u001b[0m \u001b[1m1s\u001b[0m 6ms/step - accuracy: 0.4993 - loss: 1.1498 - val_accuracy: 0.4204 - val_loss: 1.3179\n",
            "Epoch 30/150\n",
            "\u001b[1m197/197\u001b[0m \u001b[32m━━━━━━━━━━━━━━━━━━━━\u001b[0m\u001b[37m\u001b[0m \u001b[1m1s\u001b[0m 4ms/step - accuracy: 0.4918 - loss: 1.1410 - val_accuracy: 0.4280 - val_loss: 1.3295\n",
            "Epoch 31/150\n",
            "\u001b[1m197/197\u001b[0m \u001b[32m━━━━━━━━━━━━━━━━━━━━\u001b[0m\u001b[37m\u001b[0m \u001b[1m1s\u001b[0m 4ms/step - accuracy: 0.4991 - loss: 1.1505 - val_accuracy: 0.4459 - val_loss: 1.2946\n",
            "Epoch 32/150\n",
            "\u001b[1m197/197\u001b[0m \u001b[32m━━━━━━━━━━━━━━━━━━━━\u001b[0m\u001b[37m\u001b[0m \u001b[1m1s\u001b[0m 4ms/step - accuracy: 0.4984 - loss: 1.1369 - val_accuracy: 0.4662 - val_loss: 1.3140\n",
            "Epoch 33/150\n",
            "\u001b[1m197/197\u001b[0m \u001b[32m━━━━━━━━━━━━━━━━━━━━\u001b[0m\u001b[37m\u001b[0m \u001b[1m1s\u001b[0m 4ms/step - accuracy: 0.5436 - loss: 1.0506 - val_accuracy: 0.4688 - val_loss: 1.3161\n",
            "Epoch 34/150\n",
            "\u001b[1m197/197\u001b[0m \u001b[32m━━━━━━━━━━━━━━━━━━━━\u001b[0m\u001b[37m\u001b[0m \u001b[1m1s\u001b[0m 4ms/step - accuracy: 0.5032 - loss: 1.0752 - val_accuracy: 0.3771 - val_loss: 1.3463\n",
            "Epoch 35/150\n",
            "\u001b[1m197/197\u001b[0m \u001b[32m━━━━━━━━━━━━━━━━━━━━\u001b[0m\u001b[37m\u001b[0m \u001b[1m1s\u001b[0m 4ms/step - accuracy: 0.5030 - loss: 1.1063 - val_accuracy: 0.4420 - val_loss: 1.3224\n",
            "Epoch 36/150\n",
            "\u001b[1m197/197\u001b[0m \u001b[32m━━━━━━━━━━━━━━━━━━━━\u001b[0m\u001b[37m\u001b[0m \u001b[1m1s\u001b[0m 4ms/step - accuracy: 0.5377 - loss: 1.0849 - val_accuracy: 0.4535 - val_loss: 1.3346\n",
            "Epoch 37/150\n",
            "\u001b[1m197/197\u001b[0m \u001b[32m━━━━━━━━━━━━━━━━━━━━\u001b[0m\u001b[37m\u001b[0m \u001b[1m1s\u001b[0m 4ms/step - accuracy: 0.5269 - loss: 1.0833 - val_accuracy: 0.4446 - val_loss: 1.3836\n",
            "Epoch 38/150\n",
            "\u001b[1m197/197\u001b[0m \u001b[32m━━━━━━━━━━━━━━━━━━━━\u001b[0m\u001b[37m\u001b[0m \u001b[1m1s\u001b[0m 4ms/step - accuracy: 0.5053 - loss: 1.1249 - val_accuracy: 0.4318 - val_loss: 1.4004\n",
            "Epoch 39/150\n",
            "\u001b[1m197/197\u001b[0m \u001b[32m━━━━━━━━━━━━━━━━━━━━\u001b[0m\u001b[37m\u001b[0m \u001b[1m2s\u001b[0m 6ms/step - accuracy: 0.4860 - loss: 1.1446 - val_accuracy: 0.4382 - val_loss: 1.3051\n",
            "Epoch 40/150\n",
            "\u001b[1m197/197\u001b[0m \u001b[32m━━━━━━━━━━━━━━━━━━━━\u001b[0m\u001b[37m\u001b[0m \u001b[1m1s\u001b[0m 6ms/step - accuracy: 0.5495 - loss: 1.0275 - val_accuracy: 0.4599 - val_loss: 1.3904\n",
            "Epoch 41/150\n",
            "\u001b[1m197/197\u001b[0m \u001b[32m━━━━━━━━━━━━━━━━━━━━\u001b[0m\u001b[37m\u001b[0m \u001b[1m1s\u001b[0m 5ms/step - accuracy: 0.5350 - loss: 1.0840 - val_accuracy: 0.4522 - val_loss: 1.3296\n",
            "Epoch 42/150\n",
            "\u001b[1m197/197\u001b[0m \u001b[32m━━━━━━━━━━━━━━━━━━━━\u001b[0m\u001b[37m\u001b[0m \u001b[1m1s\u001b[0m 4ms/step - accuracy: 0.5215 - loss: 1.0805 - val_accuracy: 0.4611 - val_loss: 1.3533\n",
            "Epoch 43/150\n",
            "\u001b[1m197/197\u001b[0m \u001b[32m━━━━━━━━━━━━━━━━━━━━\u001b[0m\u001b[37m\u001b[0m \u001b[1m1s\u001b[0m 4ms/step - accuracy: 0.5662 - loss: 1.0002 - val_accuracy: 0.4217 - val_loss: 1.3560\n",
            "Epoch 44/150\n",
            "\u001b[1m197/197\u001b[0m \u001b[32m━━━━━━━━━━━━━━━━━━━━\u001b[0m\u001b[37m\u001b[0m \u001b[1m1s\u001b[0m 4ms/step - accuracy: 0.5555 - loss: 1.0110 - val_accuracy: 0.4586 - val_loss: 1.4297\n",
            "Epoch 45/150\n",
            "\u001b[1m197/197\u001b[0m \u001b[32m━━━━━━━━━━━━━━━━━━━━\u001b[0m\u001b[37m\u001b[0m \u001b[1m1s\u001b[0m 4ms/step - accuracy: 0.5360 - loss: 1.0085 - val_accuracy: 0.4102 - val_loss: 1.5327\n",
            "Epoch 46/150\n",
            "\u001b[1m197/197\u001b[0m \u001b[32m━━━━━━━━━━━━━━━━━━━━\u001b[0m\u001b[37m\u001b[0m \u001b[1m1s\u001b[0m 4ms/step - accuracy: 0.5405 - loss: 1.0695 - val_accuracy: 0.3924 - val_loss: 1.3738\n",
            "Epoch 47/150\n",
            "\u001b[1m197/197\u001b[0m \u001b[32m━━━━━━━━━━━━━━━━━━━━\u001b[0m\u001b[37m\u001b[0m \u001b[1m1s\u001b[0m 4ms/step - accuracy: 0.4660 - loss: 1.2085 - val_accuracy: 0.4369 - val_loss: 1.3600\n",
            "Epoch 48/150\n",
            "\u001b[1m197/197\u001b[0m \u001b[32m━━━━━━━━━━━━━━━━━━━━\u001b[0m\u001b[37m\u001b[0m \u001b[1m1s\u001b[0m 4ms/step - accuracy: 0.4678 - loss: 1.1612 - val_accuracy: 0.4038 - val_loss: 1.3696\n",
            "Epoch 49/150\n",
            "\u001b[1m197/197\u001b[0m \u001b[32m━━━━━━━━━━━━━━━━━━━━\u001b[0m\u001b[37m\u001b[0m \u001b[1m1s\u001b[0m 4ms/step - accuracy: 0.5000 - loss: 1.1207 - val_accuracy: 0.4573 - val_loss: 1.4412\n",
            "Epoch 50/150\n",
            "\u001b[1m197/197\u001b[0m \u001b[32m━━━━━━━━━━━━━━━━━━━━\u001b[0m\u001b[37m\u001b[0m \u001b[1m1s\u001b[0m 4ms/step - accuracy: 0.5129 - loss: 1.0886 - val_accuracy: 0.3745 - val_loss: 1.4047\n",
            "Epoch 51/150\n",
            "\u001b[1m197/197\u001b[0m \u001b[32m━━━━━━━━━━━━━━━━━━━━\u001b[0m\u001b[37m\u001b[0m \u001b[1m1s\u001b[0m 4ms/step - accuracy: 0.4783 - loss: 1.1642 - val_accuracy: 0.4573 - val_loss: 1.4339\n",
            "Epoch 52/150\n",
            "\u001b[1m197/197\u001b[0m \u001b[32m━━━━━━━━━━━━━━━━━━━━\u001b[0m\u001b[37m\u001b[0m \u001b[1m1s\u001b[0m 6ms/step - accuracy: 0.4742 - loss: 1.1574 - val_accuracy: 0.4344 - val_loss: 1.3606\n",
            "Epoch 53/150\n",
            "\u001b[1m197/197\u001b[0m \u001b[32m━━━━━━━━━━━━━━━━━━━━\u001b[0m\u001b[37m\u001b[0m \u001b[1m1s\u001b[0m 5ms/step - accuracy: 0.4861 - loss: 1.1693 - val_accuracy: 0.4420 - val_loss: 1.3426\n",
            "Epoch 54/150\n",
            "\u001b[1m197/197\u001b[0m \u001b[32m━━━━━━━━━━━━━━━━━━━━\u001b[0m\u001b[37m\u001b[0m \u001b[1m1s\u001b[0m 6ms/step - accuracy: 0.4910 - loss: 1.0822 - val_accuracy: 0.4191 - val_loss: 1.3517\n",
            "Epoch 55/150\n",
            "\u001b[1m197/197\u001b[0m \u001b[32m━━━━━━━━━━━━━━━━━━━━\u001b[0m\u001b[37m\u001b[0m \u001b[1m1s\u001b[0m 4ms/step - accuracy: 0.4979 - loss: 1.0678 - val_accuracy: 0.4369 - val_loss: 1.3498\n",
            "Epoch 56/150\n",
            "\u001b[1m197/197\u001b[0m \u001b[32m━━━━━━━━━━━━━━━━━━━━\u001b[0m\u001b[37m\u001b[0m \u001b[1m1s\u001b[0m 4ms/step - accuracy: 0.5201 - loss: 1.0728 - val_accuracy: 0.4420 - val_loss: 1.4494\n",
            "Epoch 57/150\n",
            "\u001b[1m197/197\u001b[0m \u001b[32m━━━━━━━━━━━━━━━━━━━━\u001b[0m\u001b[37m\u001b[0m \u001b[1m1s\u001b[0m 4ms/step - accuracy: 0.5342 - loss: 1.0443 - val_accuracy: 0.4446 - val_loss: 1.3525\n",
            "Epoch 58/150\n",
            "\u001b[1m197/197\u001b[0m \u001b[32m━━━━━━━━━━━━━━━━━━━━\u001b[0m\u001b[37m\u001b[0m \u001b[1m1s\u001b[0m 4ms/step - accuracy: 0.5216 - loss: 1.0216 - val_accuracy: 0.4573 - val_loss: 1.3442\n",
            "Epoch 59/150\n",
            "\u001b[1m197/197\u001b[0m \u001b[32m━━━━━━━━━━━━━━━━━━━━\u001b[0m\u001b[37m\u001b[0m \u001b[1m1s\u001b[0m 4ms/step - accuracy: 0.4849 - loss: 1.0995 - val_accuracy: 0.4586 - val_loss: 1.4328\n",
            "Epoch 60/150\n",
            "\u001b[1m197/197\u001b[0m \u001b[32m━━━━━━━━━━━━━━━━━━━━\u001b[0m\u001b[37m\u001b[0m \u001b[1m1s\u001b[0m 4ms/step - accuracy: 0.4970 - loss: 1.0726 - val_accuracy: 0.4471 - val_loss: 1.3643\n",
            "Epoch 61/150\n",
            "\u001b[1m197/197\u001b[0m \u001b[32m━━━━━━━━━━━━━━━━━━━━\u001b[0m\u001b[37m\u001b[0m \u001b[1m1s\u001b[0m 4ms/step - accuracy: 0.5296 - loss: 1.0197 - val_accuracy: 0.4280 - val_loss: 1.4853\n",
            "Epoch 62/150\n",
            "\u001b[1m197/197\u001b[0m \u001b[32m━━━━━━━━━━━━━━━━━━━━\u001b[0m\u001b[37m\u001b[0m \u001b[1m1s\u001b[0m 4ms/step - accuracy: 0.4940 - loss: 1.1243 - val_accuracy: 0.4242 - val_loss: 1.3570\n",
            "Epoch 63/150\n",
            "\u001b[1m197/197\u001b[0m \u001b[32m━━━━━━━━━━━━━━━━━━━━\u001b[0m\u001b[37m\u001b[0m \u001b[1m1s\u001b[0m 4ms/step - accuracy: 0.4695 - loss: 1.1880 - val_accuracy: 0.4459 - val_loss: 1.3983\n",
            "Epoch 64/150\n",
            "\u001b[1m197/197\u001b[0m \u001b[32m━━━━━━━━━━━━━━━━━━━━\u001b[0m\u001b[37m\u001b[0m \u001b[1m1s\u001b[0m 4ms/step - accuracy: 0.5052 - loss: 1.0936 - val_accuracy: 0.4395 - val_loss: 1.3717\n",
            "Epoch 65/150\n",
            "\u001b[1m197/197\u001b[0m \u001b[32m━━━━━━━━━━━━━━━━━━━━\u001b[0m\u001b[37m\u001b[0m \u001b[1m2s\u001b[0m 6ms/step - accuracy: 0.5196 - loss: 1.0721 - val_accuracy: 0.4408 - val_loss: 1.3857\n",
            "Epoch 66/150\n",
            "\u001b[1m197/197\u001b[0m \u001b[32m━━━━━━━━━━━━━━━━━━━━\u001b[0m\u001b[37m\u001b[0m \u001b[1m1s\u001b[0m 6ms/step - accuracy: 0.5097 - loss: 1.0525 - val_accuracy: 0.4650 - val_loss: 1.4021\n",
            "Epoch 67/150\n",
            "\u001b[1m197/197\u001b[0m \u001b[32m━━━━━━━━━━━━━━━━━━━━\u001b[0m\u001b[37m\u001b[0m \u001b[1m1s\u001b[0m 4ms/step - accuracy: 0.5675 - loss: 1.0148 - val_accuracy: 0.4255 - val_loss: 1.3249\n",
            "Epoch 68/150\n",
            "\u001b[1m197/197\u001b[0m \u001b[32m━━━━━━━━━━━━━━━━━━━━\u001b[0m\u001b[37m\u001b[0m \u001b[1m1s\u001b[0m 4ms/step - accuracy: 0.5323 - loss: 1.0363 - val_accuracy: 0.4420 - val_loss: 1.3414\n",
            "Epoch 69/150\n",
            "\u001b[1m197/197\u001b[0m \u001b[32m━━━━━━━━━━━━━━━━━━━━\u001b[0m\u001b[37m\u001b[0m \u001b[1m1s\u001b[0m 4ms/step - accuracy: 0.5435 - loss: 1.0491 - val_accuracy: 0.4382 - val_loss: 1.4165\n",
            "Epoch 70/150\n",
            "\u001b[1m197/197\u001b[0m \u001b[32m━━━━━━━━━━━━━━━━━━━━\u001b[0m\u001b[37m\u001b[0m \u001b[1m1s\u001b[0m 4ms/step - accuracy: 0.5502 - loss: 1.0208 - val_accuracy: 0.4586 - val_loss: 1.3671\n",
            "Epoch 71/150\n",
            "\u001b[1m197/197\u001b[0m \u001b[32m━━━━━━━━━━━━━━━━━━━━\u001b[0m\u001b[37m\u001b[0m \u001b[1m1s\u001b[0m 4ms/step - accuracy: 0.5679 - loss: 0.9866 - val_accuracy: 0.4433 - val_loss: 1.4036\n",
            "Epoch 72/150\n",
            "\u001b[1m197/197\u001b[0m \u001b[32m━━━━━━━━━━━━━━━━━━━━\u001b[0m\u001b[37m\u001b[0m \u001b[1m1s\u001b[0m 4ms/step - accuracy: 0.5562 - loss: 1.0399 - val_accuracy: 0.4395 - val_loss: 1.3992\n",
            "Epoch 73/150\n",
            "\u001b[1m197/197\u001b[0m \u001b[32m━━━━━━━━━━━━━━━━━━━━\u001b[0m\u001b[37m\u001b[0m \u001b[1m1s\u001b[0m 4ms/step - accuracy: 0.4693 - loss: 1.1699 - val_accuracy: 0.4561 - val_loss: 1.4223\n",
            "Epoch 74/150\n",
            "\u001b[1m197/197\u001b[0m \u001b[32m━━━━━━━━━━━━━━━━━━━━\u001b[0m\u001b[37m\u001b[0m \u001b[1m1s\u001b[0m 4ms/step - accuracy: 0.5623 - loss: 1.0143 - val_accuracy: 0.4586 - val_loss: 1.3652\n",
            "Epoch 75/150\n",
            "\u001b[1m197/197\u001b[0m \u001b[32m━━━━━━━━━━━━━━━━━━━━\u001b[0m\u001b[37m\u001b[0m \u001b[1m1s\u001b[0m 4ms/step - accuracy: 0.5347 - loss: 1.0221 - val_accuracy: 0.3975 - val_loss: 1.4221\n",
            "Epoch 76/150\n",
            "\u001b[1m197/197\u001b[0m \u001b[32m━━━━━━━━━━━━━━━━━━━━\u001b[0m\u001b[37m\u001b[0m \u001b[1m2s\u001b[0m 6ms/step - accuracy: 0.5099 - loss: 1.0581 - val_accuracy: 0.4280 - val_loss: 1.3995\n",
            "Epoch 77/150\n",
            "\u001b[1m197/197\u001b[0m \u001b[32m━━━━━━━━━━━━━━━━━━━━\u001b[0m\u001b[37m\u001b[0m \u001b[1m1s\u001b[0m 6ms/step - accuracy: 0.5529 - loss: 1.0314 - val_accuracy: 0.4446 - val_loss: 1.6072\n",
            "Epoch 78/150\n",
            "\u001b[1m197/197\u001b[0m \u001b[32m━━━━━━━━━━━━━━━━━━━━\u001b[0m\u001b[37m\u001b[0m \u001b[1m1s\u001b[0m 5ms/step - accuracy: 0.5567 - loss: 1.0215 - val_accuracy: 0.4115 - val_loss: 1.3939\n",
            "Epoch 79/150\n",
            "\u001b[1m197/197\u001b[0m \u001b[32m━━━━━━━━━━━━━━━━━━━━\u001b[0m\u001b[37m\u001b[0m \u001b[1m1s\u001b[0m 4ms/step - accuracy: 0.4739 - loss: 1.1354 - val_accuracy: 0.4459 - val_loss: 1.4195\n",
            "Epoch 80/150\n",
            "\u001b[1m197/197\u001b[0m \u001b[32m━━━━━━━━━━━━━━━━━━━━\u001b[0m\u001b[37m\u001b[0m \u001b[1m1s\u001b[0m 4ms/step - accuracy: 0.5409 - loss: 0.9936 - val_accuracy: 0.4280 - val_loss: 1.4614\n",
            "Epoch 81/150\n",
            "\u001b[1m197/197\u001b[0m \u001b[32m━━━━━━━━━━━━━━━━━━━━\u001b[0m\u001b[37m\u001b[0m \u001b[1m1s\u001b[0m 4ms/step - accuracy: 0.5440 - loss: 0.9947 - val_accuracy: 0.4127 - val_loss: 1.4886\n",
            "Epoch 82/150\n",
            "\u001b[1m197/197\u001b[0m \u001b[32m━━━━━━━━━━━━━━━━━━━━\u001b[0m\u001b[37m\u001b[0m \u001b[1m1s\u001b[0m 4ms/step - accuracy: 0.5298 - loss: 1.0801 - val_accuracy: 0.4535 - val_loss: 1.4516\n",
            "Epoch 83/150\n",
            "\u001b[1m197/197\u001b[0m \u001b[32m━━━━━━━━━━━━━━━━━━━━\u001b[0m\u001b[37m\u001b[0m \u001b[1m1s\u001b[0m 4ms/step - accuracy: 0.5156 - loss: 1.0748 - val_accuracy: 0.4611 - val_loss: 1.5463\n",
            "Epoch 84/150\n",
            "\u001b[1m197/197\u001b[0m \u001b[32m━━━━━━━━━━━━━━━━━━━━\u001b[0m\u001b[37m\u001b[0m \u001b[1m1s\u001b[0m 4ms/step - accuracy: 0.5823 - loss: 0.9568 - val_accuracy: 0.4382 - val_loss: 1.4723\n",
            "Epoch 85/150\n",
            "\u001b[1m197/197\u001b[0m \u001b[32m━━━━━━━━━━━━━━━━━━━━\u001b[0m\u001b[37m\u001b[0m \u001b[1m1s\u001b[0m 4ms/step - accuracy: 0.5458 - loss: 1.0100 - val_accuracy: 0.4013 - val_loss: 1.3726\n",
            "Epoch 86/150\n",
            "\u001b[1m197/197\u001b[0m \u001b[32m━━━━━━━━━━━━━━━━━━━━\u001b[0m\u001b[37m\u001b[0m \u001b[1m1s\u001b[0m 4ms/step - accuracy: 0.5179 - loss: 1.0645 - val_accuracy: 0.4459 - val_loss: 1.3867\n",
            "Epoch 87/150\n",
            "\u001b[1m197/197\u001b[0m \u001b[32m━━━━━━━━━━━━━━━━━━━━\u001b[0m\u001b[37m\u001b[0m \u001b[1m1s\u001b[0m 4ms/step - accuracy: 0.5678 - loss: 0.9442 - val_accuracy: 0.4331 - val_loss: 1.3720\n",
            "Epoch 88/150\n",
            "\u001b[1m197/197\u001b[0m \u001b[32m━━━━━━━━━━━━━━━━━━━━\u001b[0m\u001b[37m\u001b[0m \u001b[1m2s\u001b[0m 6ms/step - accuracy: 0.5733 - loss: 0.9048 - val_accuracy: 0.4586 - val_loss: 1.6535\n",
            "Epoch 89/150\n",
            "\u001b[1m197/197\u001b[0m \u001b[32m━━━━━━━━━━━━━━━━━━━━\u001b[0m\u001b[37m\u001b[0m \u001b[1m1s\u001b[0m 6ms/step - accuracy: 0.5863 - loss: 0.9138 - val_accuracy: 0.4471 - val_loss: 1.5274\n",
            "Epoch 90/150\n",
            "\u001b[1m197/197\u001b[0m \u001b[32m━━━━━━━━━━━━━━━━━━━━\u001b[0m\u001b[37m\u001b[0m \u001b[1m2s\u001b[0m 4ms/step - accuracy: 0.5769 - loss: 0.9488 - val_accuracy: 0.4535 - val_loss: 1.4369\n",
            "Epoch 91/150\n",
            "\u001b[1m197/197\u001b[0m \u001b[32m━━━━━━━━━━━━━━━━━━━━\u001b[0m\u001b[37m\u001b[0m \u001b[1m1s\u001b[0m 4ms/step - accuracy: 0.5306 - loss: 1.0250 - val_accuracy: 0.4510 - val_loss: 1.5191\n",
            "Epoch 92/150\n",
            "\u001b[1m197/197\u001b[0m \u001b[32m━━━━━━━━━━━━━━━━━━━━\u001b[0m\u001b[37m\u001b[0m \u001b[1m1s\u001b[0m 4ms/step - accuracy: 0.5803 - loss: 0.9543 - val_accuracy: 0.4357 - val_loss: 1.4111\n",
            "Epoch 93/150\n",
            "\u001b[1m197/197\u001b[0m \u001b[32m━━━━━━━━━━━━━━━━━━━━\u001b[0m\u001b[37m\u001b[0m \u001b[1m1s\u001b[0m 4ms/step - accuracy: 0.5913 - loss: 0.8786 - val_accuracy: 0.4701 - val_loss: 1.4449\n",
            "Epoch 94/150\n",
            "\u001b[1m197/197\u001b[0m \u001b[32m━━━━━━━━━━━━━━━━━━━━\u001b[0m\u001b[37m\u001b[0m \u001b[1m1s\u001b[0m 5ms/step - accuracy: 0.5924 - loss: 0.8831 - val_accuracy: 0.4229 - val_loss: 1.6191\n",
            "Epoch 95/150\n",
            "\u001b[1m197/197\u001b[0m \u001b[32m━━━━━━━━━━━━━━━━━━━━\u001b[0m\u001b[37m\u001b[0m \u001b[1m1s\u001b[0m 4ms/step - accuracy: 0.5555 - loss: 0.9639 - val_accuracy: 0.4369 - val_loss: 1.6544\n",
            "Epoch 96/150\n",
            "\u001b[1m197/197\u001b[0m \u001b[32m━━━━━━━━━━━━━━━━━━━━\u001b[0m\u001b[37m\u001b[0m \u001b[1m1s\u001b[0m 5ms/step - accuracy: 0.6167 - loss: 0.8636 - val_accuracy: 0.4166 - val_loss: 1.4855\n",
            "Epoch 97/150\n",
            "\u001b[1m197/197\u001b[0m \u001b[32m━━━━━━━━━━━━━━━━━━━━\u001b[0m\u001b[37m\u001b[0m \u001b[1m1s\u001b[0m 4ms/step - accuracy: 0.5587 - loss: 0.9768 - val_accuracy: 0.4280 - val_loss: 1.4277\n",
            "Epoch 98/150\n",
            "\u001b[1m197/197\u001b[0m \u001b[32m━━━━━━━━━━━━━━━━━━━━\u001b[0m\u001b[37m\u001b[0m \u001b[1m1s\u001b[0m 6ms/step - accuracy: 0.5390 - loss: 0.9986 - val_accuracy: 0.4153 - val_loss: 1.5145\n",
            "Epoch 99/150\n",
            "\u001b[1m197/197\u001b[0m \u001b[32m━━━━━━━━━━━━━━━━━━━━\u001b[0m\u001b[37m\u001b[0m \u001b[1m1s\u001b[0m 6ms/step - accuracy: 0.5162 - loss: 1.0683 - val_accuracy: 0.4306 - val_loss: 1.5899\n",
            "Epoch 100/150\n",
            "\u001b[1m197/197\u001b[0m \u001b[32m━━━━━━━━━━━━━━━━━━━━\u001b[0m\u001b[37m\u001b[0m \u001b[1m1s\u001b[0m 5ms/step - accuracy: 0.5417 - loss: 1.0137 - val_accuracy: 0.3987 - val_loss: 1.4065\n",
            "Epoch 101/150\n",
            "\u001b[1m197/197\u001b[0m \u001b[32m━━━━━━━━━━━━━━━━━━━━\u001b[0m\u001b[37m\u001b[0m \u001b[1m1s\u001b[0m 4ms/step - accuracy: 0.5262 - loss: 0.9728 - val_accuracy: 0.4510 - val_loss: 1.5140\n",
            "Epoch 102/150\n",
            "\u001b[1m197/197\u001b[0m \u001b[32m━━━━━━━━━━━━━━━━━━━━\u001b[0m\u001b[37m\u001b[0m \u001b[1m1s\u001b[0m 4ms/step - accuracy: 0.5615 - loss: 0.9825 - val_accuracy: 0.4089 - val_loss: 1.6527\n",
            "Epoch 103/150\n",
            "\u001b[1m197/197\u001b[0m \u001b[32m━━━━━━━━━━━━━━━━━━━━\u001b[0m\u001b[37m\u001b[0m \u001b[1m1s\u001b[0m 4ms/step - accuracy: 0.5419 - loss: 0.9652 - val_accuracy: 0.4471 - val_loss: 1.7007\n",
            "Epoch 104/150\n",
            "\u001b[1m197/197\u001b[0m \u001b[32m━━━━━━━━━━━━━━━━━━━━\u001b[0m\u001b[37m\u001b[0m \u001b[1m1s\u001b[0m 4ms/step - accuracy: 0.5955 - loss: 0.8781 - val_accuracy: 0.4204 - val_loss: 1.4330\n",
            "Epoch 105/150\n",
            "\u001b[1m197/197\u001b[0m \u001b[32m━━━━━━━━━━━━━━━━━━━━\u001b[0m\u001b[37m\u001b[0m \u001b[1m1s\u001b[0m 4ms/step - accuracy: 0.5848 - loss: 0.9035 - val_accuracy: 0.4293 - val_loss: 1.5250\n",
            "Epoch 106/150\n",
            "\u001b[1m197/197\u001b[0m \u001b[32m━━━━━━━━━━━━━━━━━━━━\u001b[0m\u001b[37m\u001b[0m \u001b[1m1s\u001b[0m 4ms/step - accuracy: 0.5966 - loss: 0.8755 - val_accuracy: 0.4089 - val_loss: 1.6226\n",
            "Epoch 107/150\n",
            "\u001b[1m197/197\u001b[0m \u001b[32m━━━━━━━━━━━━━━━━━━━━\u001b[0m\u001b[37m\u001b[0m \u001b[1m1s\u001b[0m 4ms/step - accuracy: 0.5680 - loss: 0.9443 - val_accuracy: 0.4382 - val_loss: 1.4745\n",
            "Epoch 108/150\n",
            "\u001b[1m197/197\u001b[0m \u001b[32m━━━━━━━━━━━━━━━━━━━━\u001b[0m\u001b[37m\u001b[0m \u001b[1m1s\u001b[0m 4ms/step - accuracy: 0.5941 - loss: 0.9081 - val_accuracy: 0.4369 - val_loss: 1.5421\n",
            "Epoch 109/150\n",
            "\u001b[1m197/197\u001b[0m \u001b[32m━━━━━━━━━━━━━━━━━━━━\u001b[0m\u001b[37m\u001b[0m \u001b[1m1s\u001b[0m 4ms/step - accuracy: 0.5810 - loss: 0.9485 - val_accuracy: 0.4140 - val_loss: 1.5896\n",
            "Epoch 110/150\n",
            "\u001b[1m197/197\u001b[0m \u001b[32m━━━━━━━━━━━━━━━━━━━━\u001b[0m\u001b[37m\u001b[0m \u001b[1m1s\u001b[0m 5ms/step - accuracy: 0.5535 - loss: 1.0468 - val_accuracy: 0.4433 - val_loss: 1.6601\n",
            "Epoch 111/150\n",
            "\u001b[1m197/197\u001b[0m \u001b[32m━━━━━━━━━━━━━━━━━━━━\u001b[0m\u001b[37m\u001b[0m \u001b[1m1s\u001b[0m 6ms/step - accuracy: 0.6027 - loss: 0.9052 - val_accuracy: 0.4471 - val_loss: 1.7061\n",
            "Epoch 112/150\n",
            "\u001b[1m197/197\u001b[0m \u001b[32m━━━━━━━━━━━━━━━━━━━━\u001b[0m\u001b[37m\u001b[0m \u001b[1m1s\u001b[0m 6ms/step - accuracy: 0.6359 - loss: 0.7991 - val_accuracy: 0.3962 - val_loss: 1.6012\n",
            "Epoch 113/150\n",
            "\u001b[1m197/197\u001b[0m \u001b[32m━━━━━━━━━━━━━━━━━━━━\u001b[0m\u001b[37m\u001b[0m \u001b[1m2s\u001b[0m 4ms/step - accuracy: 0.5187 - loss: 1.0085 - val_accuracy: 0.4318 - val_loss: 1.6094\n",
            "Epoch 114/150\n",
            "\u001b[1m197/197\u001b[0m \u001b[32m━━━━━━━━━━━━━━━━━━━━\u001b[0m\u001b[37m\u001b[0m \u001b[1m1s\u001b[0m 4ms/step - accuracy: 0.6058 - loss: 0.8617 - val_accuracy: 0.3898 - val_loss: 1.4708\n",
            "Epoch 115/150\n",
            "\u001b[1m197/197\u001b[0m \u001b[32m━━━━━━━━━━━━━━━━━━━━\u001b[0m\u001b[37m\u001b[0m \u001b[1m1s\u001b[0m 4ms/step - accuracy: 0.5726 - loss: 0.9329 - val_accuracy: 0.4051 - val_loss: 1.4690\n",
            "Epoch 116/150\n",
            "\u001b[1m197/197\u001b[0m \u001b[32m━━━━━━━━━━━━━━━━━━━━\u001b[0m\u001b[37m\u001b[0m \u001b[1m1s\u001b[0m 4ms/step - accuracy: 0.5785 - loss: 0.9048 - val_accuracy: 0.4153 - val_loss: 1.4801\n",
            "Epoch 117/150\n",
            "\u001b[1m197/197\u001b[0m \u001b[32m━━━━━━━━━━━━━━━━━━━━\u001b[0m\u001b[37m\u001b[0m \u001b[1m1s\u001b[0m 4ms/step - accuracy: 0.6054 - loss: 0.8748 - val_accuracy: 0.4127 - val_loss: 1.5501\n",
            "Epoch 118/150\n",
            "\u001b[1m197/197\u001b[0m \u001b[32m━━━━━━━━━━━━━━━━━━━━\u001b[0m\u001b[37m\u001b[0m \u001b[1m1s\u001b[0m 4ms/step - accuracy: 0.5790 - loss: 0.9347 - val_accuracy: 0.4344 - val_loss: 1.7095\n",
            "Epoch 119/150\n",
            "\u001b[1m197/197\u001b[0m \u001b[32m━━━━━━━━━━━━━━━━━━━━\u001b[0m\u001b[37m\u001b[0m \u001b[1m1s\u001b[0m 4ms/step - accuracy: 0.6291 - loss: 0.7975 - val_accuracy: 0.4331 - val_loss: 1.5913\n",
            "Epoch 120/150\n",
            "\u001b[1m197/197\u001b[0m \u001b[32m━━━━━━━━━━━━━━━━━━━━\u001b[0m\u001b[37m\u001b[0m \u001b[1m1s\u001b[0m 4ms/step - accuracy: 0.6418 - loss: 0.8090 - val_accuracy: 0.4484 - val_loss: 1.7667\n",
            "Epoch 121/150\n",
            "\u001b[1m197/197\u001b[0m \u001b[32m━━━━━━━━━━━━━━━━━━━━\u001b[0m\u001b[37m\u001b[0m \u001b[1m1s\u001b[0m 6ms/step - accuracy: 0.6075 - loss: 0.9245 - val_accuracy: 0.4204 - val_loss: 1.5725\n",
            "Epoch 122/150\n",
            "\u001b[1m197/197\u001b[0m \u001b[32m━━━━━━━━━━━━━━━━━━━━\u001b[0m\u001b[37m\u001b[0m \u001b[1m1s\u001b[0m 6ms/step - accuracy: 0.5947 - loss: 0.9477 - val_accuracy: 0.4535 - val_loss: 1.4832\n",
            "Epoch 123/150\n",
            "\u001b[1m197/197\u001b[0m \u001b[32m━━━━━━━━━━━━━━━━━━━━\u001b[0m\u001b[37m\u001b[0m \u001b[1m1s\u001b[0m 5ms/step - accuracy: 0.6272 - loss: 0.8597 - val_accuracy: 0.3911 - val_loss: 1.8377\n",
            "Epoch 124/150\n",
            "\u001b[1m197/197\u001b[0m \u001b[32m━━━━━━━━━━━━━━━━━━━━\u001b[0m\u001b[37m\u001b[0m \u001b[1m1s\u001b[0m 4ms/step - accuracy: 0.5908 - loss: 0.9892 - val_accuracy: 0.4025 - val_loss: 1.6703\n",
            "Epoch 125/150\n",
            "\u001b[1m197/197\u001b[0m \u001b[32m━━━━━━━━━━━━━━━━━━━━\u001b[0m\u001b[37m\u001b[0m \u001b[1m1s\u001b[0m 4ms/step - accuracy: 0.5932 - loss: 0.9672 - val_accuracy: 0.4280 - val_loss: 1.4732\n",
            "Epoch 126/150\n",
            "\u001b[1m197/197\u001b[0m \u001b[32m━━━━━━━━━━━━━━━━━━━━\u001b[0m\u001b[37m\u001b[0m \u001b[1m1s\u001b[0m 4ms/step - accuracy: 0.5723 - loss: 1.0089 - val_accuracy: 0.4318 - val_loss: 1.4726\n",
            "Epoch 127/150\n",
            "\u001b[1m197/197\u001b[0m \u001b[32m━━━━━━━━━━━━━━━━━━━━\u001b[0m\u001b[37m\u001b[0m \u001b[1m1s\u001b[0m 4ms/step - accuracy: 0.6194 - loss: 0.9489 - val_accuracy: 0.3503 - val_loss: 1.8275\n",
            "Epoch 128/150\n",
            "\u001b[1m197/197\u001b[0m \u001b[32m━━━━━━━━━━━━━━━━━━━━\u001b[0m\u001b[37m\u001b[0m \u001b[1m1s\u001b[0m 4ms/step - accuracy: 0.4107 - loss: 1.5831 - val_accuracy: 0.4115 - val_loss: 1.3865\n",
            "Epoch 129/150\n",
            "\u001b[1m197/197\u001b[0m \u001b[32m━━━━━━━━━━━━━━━━━━━━\u001b[0m\u001b[37m\u001b[0m \u001b[1m1s\u001b[0m 4ms/step - accuracy: 0.4787 - loss: 1.2165 - val_accuracy: 0.3924 - val_loss: 1.4677\n",
            "Epoch 130/150\n",
            "\u001b[1m197/197\u001b[0m \u001b[32m━━━━━━━━━━━━━━━━━━━━\u001b[0m\u001b[37m\u001b[0m \u001b[1m1s\u001b[0m 4ms/step - accuracy: 0.5075 - loss: 1.1676 - val_accuracy: 0.3987 - val_loss: 1.4735\n",
            "Epoch 131/150\n",
            "\u001b[1m197/197\u001b[0m \u001b[32m━━━━━━━━━━━━━━━━━━━━\u001b[0m\u001b[37m\u001b[0m \u001b[1m1s\u001b[0m 4ms/step - accuracy: 0.4794 - loss: 1.2299 - val_accuracy: 0.4038 - val_loss: 1.4997\n",
            "Epoch 132/150\n",
            "\u001b[1m197/197\u001b[0m \u001b[32m━━━━━━━━━━━━━━━━━━━━\u001b[0m\u001b[37m\u001b[0m \u001b[1m1s\u001b[0m 4ms/step - accuracy: 0.4924 - loss: 1.1762 - val_accuracy: 0.3898 - val_loss: 1.4175\n",
            "Epoch 133/150\n",
            "\u001b[1m197/197\u001b[0m \u001b[32m━━━━━━━━━━━━━━━━━━━━\u001b[0m\u001b[37m\u001b[0m \u001b[1m1s\u001b[0m 6ms/step - accuracy: 0.5433 - loss: 1.0072 - val_accuracy: 0.4025 - val_loss: 1.7317\n",
            "Epoch 134/150\n",
            "\u001b[1m197/197\u001b[0m \u001b[32m━━━━━━━━━━━━━━━━━━━━\u001b[0m\u001b[37m\u001b[0m \u001b[1m1s\u001b[0m 6ms/step - accuracy: 0.5526 - loss: 0.9758 - val_accuracy: 0.4025 - val_loss: 1.4712\n",
            "Epoch 135/150\n",
            "\u001b[1m197/197\u001b[0m \u001b[32m━━━━━━━━━━━━━━━━━━━━\u001b[0m\u001b[37m\u001b[0m \u001b[1m2s\u001b[0m 10ms/step - accuracy: 0.5919 - loss: 0.9351 - val_accuracy: 0.3822 - val_loss: 1.5084\n",
            "Epoch 136/150\n",
            "\u001b[1m197/197\u001b[0m \u001b[32m━━━━━━━━━━━━━━━━━━━━\u001b[0m\u001b[37m\u001b[0m \u001b[1m1s\u001b[0m 5ms/step - accuracy: 0.5750 - loss: 0.9703 - val_accuracy: 0.4064 - val_loss: 1.5761\n",
            "Epoch 137/150\n",
            "\u001b[1m197/197\u001b[0m \u001b[32m━━━━━━━━━━━━━━━━━━━━\u001b[0m\u001b[37m\u001b[0m \u001b[1m1s\u001b[0m 4ms/step - accuracy: 0.6094 - loss: 0.8935 - val_accuracy: 0.3822 - val_loss: 1.6698\n",
            "Epoch 138/150\n",
            "\u001b[1m197/197\u001b[0m \u001b[32m━━━━━━━━━━━━━━━━━━━━\u001b[0m\u001b[37m\u001b[0m \u001b[1m1s\u001b[0m 4ms/step - accuracy: 0.6195 - loss: 0.8963 - val_accuracy: 0.4025 - val_loss: 1.6619\n",
            "Epoch 139/150\n",
            "\u001b[1m197/197\u001b[0m \u001b[32m━━━━━━━━━━━━━━━━━━━━\u001b[0m\u001b[37m\u001b[0m \u001b[1m1s\u001b[0m 4ms/step - accuracy: 0.5874 - loss: 0.9787 - val_accuracy: 0.3580 - val_loss: 1.4931\n",
            "Epoch 140/150\n",
            "\u001b[1m197/197\u001b[0m \u001b[32m━━━━━━━━━━━━━━━━━━━━\u001b[0m\u001b[37m\u001b[0m \u001b[1m1s\u001b[0m 4ms/step - accuracy: 0.5738 - loss: 0.9685 - val_accuracy: 0.4242 - val_loss: 1.8322\n",
            "Epoch 141/150\n",
            "\u001b[1m197/197\u001b[0m \u001b[32m━━━━━━━━━━━━━━━━━━━━\u001b[0m\u001b[37m\u001b[0m \u001b[1m1s\u001b[0m 4ms/step - accuracy: 0.5674 - loss: 0.9923 - val_accuracy: 0.4140 - val_loss: 1.5610\n",
            "Epoch 142/150\n",
            "\u001b[1m197/197\u001b[0m \u001b[32m━━━━━━━━━━━━━━━━━━━━\u001b[0m\u001b[37m\u001b[0m \u001b[1m1s\u001b[0m 4ms/step - accuracy: 0.5434 - loss: 1.0049 - val_accuracy: 0.4140 - val_loss: 1.4995\n",
            "Epoch 143/150\n",
            "\u001b[1m197/197\u001b[0m \u001b[32m━━━━━━━━━━━━━━━━━━━━\u001b[0m\u001b[37m\u001b[0m \u001b[1m1s\u001b[0m 4ms/step - accuracy: 0.5539 - loss: 1.0144 - val_accuracy: 0.3656 - val_loss: 1.5805\n",
            "Epoch 144/150\n",
            "\u001b[1m197/197\u001b[0m \u001b[32m━━━━━━━━━━━━━━━━━━━━\u001b[0m\u001b[37m\u001b[0m \u001b[1m2s\u001b[0m 6ms/step - accuracy: 0.5660 - loss: 0.9954 - val_accuracy: 0.3783 - val_loss: 1.6537\n",
            "Epoch 145/150\n",
            "\u001b[1m197/197\u001b[0m \u001b[32m━━━━━━━━━━━━━━━━━━━━\u001b[0m\u001b[37m\u001b[0m \u001b[1m2s\u001b[0m 4ms/step - accuracy: 0.5873 - loss: 0.9452 - val_accuracy: 0.4217 - val_loss: 1.6795\n",
            "Epoch 146/150\n",
            "\u001b[1m197/197\u001b[0m \u001b[32m━━━━━━━━━━━━━━━━━━━━\u001b[0m\u001b[37m\u001b[0m \u001b[1m1s\u001b[0m 5ms/step - accuracy: 0.6216 - loss: 0.8523 - val_accuracy: 0.4127 - val_loss: 1.7159\n",
            "Epoch 147/150\n",
            "\u001b[1m197/197\u001b[0m \u001b[32m━━━━━━━━━━━━━━━━━━━━\u001b[0m\u001b[37m\u001b[0m \u001b[1m1s\u001b[0m 4ms/step - accuracy: 0.5979 - loss: 0.9162 - val_accuracy: 0.3669 - val_loss: 1.7379\n",
            "Epoch 148/150\n",
            "\u001b[1m197/197\u001b[0m \u001b[32m━━━━━━━━━━━━━━━━━━━━\u001b[0m\u001b[37m\u001b[0m \u001b[1m1s\u001b[0m 4ms/step - accuracy: 0.5740 - loss: 0.9600 - val_accuracy: 0.4102 - val_loss: 1.7304\n",
            "Epoch 149/150\n",
            "\u001b[1m197/197\u001b[0m \u001b[32m━━━━━━━━━━━━━━━━━━━━\u001b[0m\u001b[37m\u001b[0m \u001b[1m1s\u001b[0m 5ms/step - accuracy: 0.5635 - loss: 0.9955 - val_accuracy: 0.4115 - val_loss: 1.5369\n",
            "Epoch 150/150\n",
            "\u001b[1m197/197\u001b[0m \u001b[32m━━━━━━━━━━━━━━━━━━━━\u001b[0m\u001b[37m\u001b[0m \u001b[1m1s\u001b[0m 5ms/step - accuracy: 0.5659 - loss: 0.9905 - val_accuracy: 0.4357 - val_loss: 1.5684\n"
          ]
        }
      ]
    },
    {
      "cell_type": "code",
      "source": [
        "import matplotlib.pyplot as plt\n",
        "\n",
        "def plot_history(history, title=\"Model Accuracy\"):\n",
        "    plt.plot(history.history['accuracy'], label='train_accuracy')\n",
        "    plt.plot(history.history['val_accuracy'], label='val_accuracy')\n",
        "    plt.title(title)\n",
        "    plt.xlabel('Epochs')\n",
        "    plt.ylabel('Accuracy')\n",
        "    plt.legend()\n",
        "    plt.show()\n",
        "\n",
        "plot_history(history_ann, \"ANN Accuracy\")"
      ],
      "metadata": {
        "colab": {
          "base_uri": "https://localhost:8080/",
          "height": 472
        },
        "id": "jaGYME9oqjO4",
        "outputId": "e679423b-7636-4ab9-af75-b20b6155785c"
      },
      "execution_count": 12,
      "outputs": [
        {
          "output_type": "display_data",
          "data": {
            "text/plain": [
              "<Figure size 640x480 with 1 Axes>"
            ],
            "image/png": "[encoded data removed]"
          },
          "metadata": {}
        }
      ]
    },
    {
      "cell_type": "code",
      "source": [
        "loss, acc = ann_model.evaluate(X_test_ann, y_test)\n",
        "print(f\"Test Accuracy (ANN): {acc:.4f}\")"
      ],
      "metadata": {
        "id": "iR7hNB2MrqX6",
        "outputId": "1efa1fca-8cd0-4ca8-9879-4a5cd6126687",
        "colab": {
          "base_uri": "https://localhost:8080/"
        }
      },
      "execution_count": 13,
      "outputs": [
        {
          "output_type": "stream",
          "name": "stdout",
          "text": [
            "\u001b[1m25/25\u001b[0m \u001b[32m━━━━━━━━━━━━━━━━━━━━\u001b[0m\u001b[37m\u001b[0m \u001b[1m1s\u001b[0m 24ms/step - accuracy: 0.4456 - loss: 1.5709\n",
            "Test Accuracy (ANN): 0.4357\n"
          ]
        }
      ]
    },
    {
      "cell_type": "code",
      "source": [
        "#folder_path = \"flowers\"  # Path to your dataset folder\n",
        "IMG_SIZE = (64, 64)\n",
        "\n",
        "images = []\n",
        "labels = []\n",
        "\n",
        "for label in os.listdir(folder_path):\n",
        "    dir_path = os.path.join(folder_path, label)\n",
        "\n",
        "    if os.path.isdir(dir_path):\n",
        "        for file in os.listdir(dir_path):\n",
        "            file_path = os.path.join(dir_path, file)\n",
        "            try:\n",
        "                img = cv2.imread(file_path)\n",
        "                img = cv2.resize(img, IMG_SIZE)\n",
        "                img = cv2.cvtColor(img, cv2.COLOR_BGR2RGB)  # Convert to RGB\n",
        "                images.append(img)\n",
        "                labels.append(label)\n",
        "            except:\n",
        "                pass  # skip unreadable files\n",
        "\n",
        "images = np.array(images, dtype=np.float32) / 255.0  # Normalize\n",
        "labels = np.array(labels)\n",
        "\n",
        "# Encode string labels\n",
        "le = LabelEncoder()\n",
        "labels_encoded = le.fit_transform(labels)\n",
        "\n",
        "print(\"Class Labels:\", le.classes_)"
      ],
      "metadata": {
        "id": "5U9-tntDrtoh",
        "colab": {
          "base_uri": "https://localhost:8080/"
        },
        "outputId": "a7780706-677a-435e-85d2-f21b7187120a"
      },
      "execution_count": 18,
      "outputs": [
        {
          "output_type": "stream",
          "name": "stdout",
          "text": [
            "Class Labels: ['daisy' 'dandelion' 'rose' 'sunflower' 'tulip']\n"
          ]
        }
      ]
    },
    {
      "cell_type": "code",
      "source": [
        "X_train, X_test, y_train, y_test = train_test_split(\n",
        "    images, labels_encoded,\n",
        "    test_size=0.2,\n",
        "    stratify=labels_encoded,\n",
        "    random_state=42\n",
        ")\n",
        "\n",
        "print(\"Train shape:\", X_train.shape)  # Should now be (num_samples, 64, 64, 3)"
      ],
      "metadata": {
        "colab": {
          "base_uri": "https://localhost:8080/"
        },
        "id": "ykMgMAIQ24aR",
        "outputId": "c6a16b42-5697-468c-8f17-939d8bfba3a3"
      },
      "execution_count": 19,
      "outputs": [
        {
          "output_type": "stream",
          "name": "stdout",
          "text": [
            "Train shape: (3139, 64, 64, 3)\n"
          ]
        }
      ]
    },
    {
      "cell_type": "code",
      "source": [
        "from tensorflow.keras import layers, models\n",
        "\n",
        "cnn_model = models.Sequential([\n",
        "    layers.Conv2D(32, (3, 3), activation='relu', padding='same', input_shape=(64, 64, 3)),\n",
        "    layers.BatchNormalization(),\n",
        "    layers.MaxPooling2D(2, 2),\n",
        "\n",
        "    layers.Conv2D(64, (3, 3), activation='relu', padding='same'),\n",
        "    layers.BatchNormalization(),\n",
        "    layers.MaxPooling2D(2, 2),\n",
        "\n",
        "    layers.Conv2D(128, (3, 3), activation='relu', padding='same'),\n",
        "    layers.BatchNormalization(),\n",
        "    layers.MaxPooling2D(2, 2),\n",
        "\n",
        "    layers.Conv2D(256, (3, 3), activation='relu', padding='same'),\n",
        "    layers.BatchNormalization(),\n",
        "    layers.MaxPooling2D(2, 2),\n",
        "\n",
        "    layers.GlobalAveragePooling2D(),\n",
        "\n",
        "    layers.Dense(256, activation='relu'),\n",
        "    layers.Dropout(0.5),\n",
        "\n",
        "    layers.Dense(5, activation='softmax')  # 5 flower classes\n",
        "])"
      ],
      "metadata": {
        "id": "h0iUcv1-3W91"
      },
      "execution_count": 24,
      "outputs": []
    },
    {
      "cell_type": "code",
      "source": [
        "cnn_model.compile(\n",
        "    optimizer='adam',\n",
        "    loss='sparse_categorical_crossentropy',\n",
        "    metrics=['accuracy']\n",
        ")"
      ],
      "metadata": {
        "id": "UBSvAx883eyu"
      },
      "execution_count": 25,
      "outputs": []
    },
    {
      "cell_type": "code",
      "source": [
        "history = cnn_model.fit(\n",
        "    X_train, y_train,\n",
        "    validation_data=(X_test, y_test),\n",
        "    epochs=20,\n",
        "    batch_size=32\n",
        ")"
      ],
      "metadata": {
        "colab": {
          "base_uri": "https://localhost:8080/"
        },
        "id": "5DHWVnpf3arm",
        "outputId": "c7686c5c-a0c7-4f9a-a1e2-ab73619ad733"
      },
      "execution_count": 26,
      "outputs": [
        {
          "output_type": "stream",
          "name": "stdout",
          "text": [
            "Epoch 1/20\n",
            "\u001b[1m99/99\u001b[0m \u001b[32m━━━━━━━━━━━━━━━━━━━━\u001b[0m\u001b[37m\u001b[0m \u001b[1m14s\u001b[0m 75ms/step - accuracy: 0.4265 - loss: 1.5691 - val_accuracy: 0.1631 - val_loss: 2.8066\n",
            "Epoch 2/20\n",
            "\u001b[1m99/99\u001b[0m \u001b[32m━━━━━━━━━━━━━━━━━━━━\u001b[0m\u001b[37m\u001b[0m \u001b[1m10s\u001b[0m 11ms/step - accuracy: 0.5386 - loss: 1.1982 - val_accuracy: 0.1631 - val_loss: 2.3847\n",
            "Epoch 3/20\n",
            "\u001b[1m99/99\u001b[0m \u001b[32m━━━━━━━━━━━━━━━━━━━━\u001b[0m\u001b[37m\u001b[0m \u001b[1m1s\u001b[0m 9ms/step - accuracy: 0.6315 - loss: 0.9600 - val_accuracy: 0.2038 - val_loss: 2.8031\n",
            "Epoch 4/20\n",
            "\u001b[1m99/99\u001b[0m \u001b[32m━━━━━━━━━━━━━━━━━━━━\u001b[0m\u001b[37m\u001b[0m \u001b[1m1s\u001b[0m 9ms/step - accuracy: 0.6599 - loss: 0.8810 - val_accuracy: 0.2204 - val_loss: 2.4606\n",
            "Epoch 5/20\n",
            "\u001b[1m99/99\u001b[0m \u001b[32m━━━━━━━━━━━━━━━━━━━━\u001b[0m\u001b[37m\u001b[0m \u001b[1m1s\u001b[0m 9ms/step - accuracy: 0.6746 - loss: 0.8502 - val_accuracy: 0.4000 - val_loss: 1.5907\n",
            "Epoch 6/20\n",
            "\u001b[1m99/99\u001b[0m \u001b[32m━━━━━━━━━━━━━━━━━━━━\u001b[0m\u001b[37m\u001b[0m \u001b[1m1s\u001b[0m 9ms/step - accuracy: 0.7107 - loss: 0.7932 - val_accuracy: 0.6459 - val_loss: 0.9546\n",
            "Epoch 7/20\n",
            "\u001b[1m99/99\u001b[0m \u001b[32m━━━━━━━━━━━━━━━━━━━━\u001b[0m\u001b[37m\u001b[0m \u001b[1m1s\u001b[0m 9ms/step - accuracy: 0.7337 - loss: 0.7098 - val_accuracy: 0.6624 - val_loss: 0.8727\n",
            "Epoch 8/20\n",
            "\u001b[1m99/99\u001b[0m \u001b[32m━━━━━━━━━━━━━━━━━━━━\u001b[0m\u001b[37m\u001b[0m \u001b[1m1s\u001b[0m 9ms/step - accuracy: 0.7535 - loss: 0.6880 - val_accuracy: 0.7656 - val_loss: 0.6715\n",
            "Epoch 9/20\n",
            "\u001b[1m99/99\u001b[0m \u001b[32m━━━━━━━━━━━━━━━━━━━━\u001b[0m\u001b[37m\u001b[0m \u001b[1m1s\u001b[0m 9ms/step - accuracy: 0.7685 - loss: 0.6207 - val_accuracy: 0.6662 - val_loss: 0.8646\n",
            "Epoch 10/20\n",
            "\u001b[1m99/99\u001b[0m \u001b[32m━━━━━━━━━━━━━━━━━━━━\u001b[0m\u001b[37m\u001b[0m \u001b[1m1s\u001b[0m 9ms/step - accuracy: 0.7490 - loss: 0.6327 - val_accuracy: 0.7338 - val_loss: 0.7583\n",
            "Epoch 11/20\n",
            "\u001b[1m99/99\u001b[0m \u001b[32m━━━━━━━━━━━━━━━━━━━━\u001b[0m\u001b[37m\u001b[0m \u001b[1m1s\u001b[0m 9ms/step - accuracy: 0.8156 - loss: 0.5119 - val_accuracy: 0.6369 - val_loss: 0.9922\n",
            "Epoch 12/20\n",
            "\u001b[1m99/99\u001b[0m \u001b[32m━━━━━━━━━━━━━━━━━━━━\u001b[0m\u001b[37m\u001b[0m \u001b[1m1s\u001b[0m 11ms/step - accuracy: 0.8176 - loss: 0.5076 - val_accuracy: 0.7070 - val_loss: 0.8163\n",
            "Epoch 13/20\n",
            "\u001b[1m99/99\u001b[0m \u001b[32m━━━━━━━━━━━━━━━━━━━━\u001b[0m\u001b[37m\u001b[0m \u001b[1m1s\u001b[0m 11ms/step - accuracy: 0.8166 - loss: 0.4907 - val_accuracy: 0.5987 - val_loss: 1.4269\n",
            "Epoch 14/20\n",
            "\u001b[1m99/99\u001b[0m \u001b[32m━━━━━━━━━━━━━━━━━━━━\u001b[0m\u001b[37m\u001b[0m \u001b[1m1s\u001b[0m 10ms/step - accuracy: 0.8517 - loss: 0.4126 - val_accuracy: 0.5860 - val_loss: 1.2151\n",
            "Epoch 15/20\n",
            "\u001b[1m99/99\u001b[0m \u001b[32m━━━━━━━━━━━━━━━━━━━━\u001b[0m\u001b[37m\u001b[0m \u001b[1m1s\u001b[0m 9ms/step - accuracy: 0.8842 - loss: 0.3375 - val_accuracy: 0.7389 - val_loss: 0.7803\n",
            "Epoch 16/20\n",
            "\u001b[1m99/99\u001b[0m \u001b[32m━━━━━━━━━━━━━━━━━━━━\u001b[0m\u001b[37m\u001b[0m \u001b[1m1s\u001b[0m 10ms/step - accuracy: 0.8791 - loss: 0.3468 - val_accuracy: 0.7669 - val_loss: 0.6642\n",
            "Epoch 17/20\n",
            "\u001b[1m99/99\u001b[0m \u001b[32m━━━━━━━━━━━━━━━━━━━━\u001b[0m\u001b[37m\u001b[0m \u001b[1m1s\u001b[0m 10ms/step - accuracy: 0.9150 - loss: 0.2332 - val_accuracy: 0.7083 - val_loss: 0.9661\n",
            "Epoch 18/20\n",
            "\u001b[1m99/99\u001b[0m \u001b[32m━━━━━━━━━━━━━━━━━━━━\u001b[0m\u001b[37m\u001b[0m \u001b[1m1s\u001b[0m 11ms/step - accuracy: 0.8698 - loss: 0.3433 - val_accuracy: 0.7236 - val_loss: 0.8400\n",
            "Epoch 19/20\n",
            "\u001b[1m99/99\u001b[0m \u001b[32m━━━━━━━━━━━━━━━━━━━━\u001b[0m\u001b[37m\u001b[0m \u001b[1m1s\u001b[0m 9ms/step - accuracy: 0.9436 - loss: 0.1666 - val_accuracy: 0.7580 - val_loss: 0.8225\n",
            "Epoch 20/20\n",
            "\u001b[1m99/99\u001b[0m \u001b[32m━━━━━━━━━━━━━━━━━━━━\u001b[0m\u001b[37m\u001b[0m \u001b[1m1s\u001b[0m 9ms/step - accuracy: 0.9350 - loss: 0.1845 - val_accuracy: 0.7032 - val_loss: 1.2351\n"
          ]
        }
      ]
    },
    {
      "cell_type": "code",
      "source": [
        "loss, acc = cnn_model.evaluate(X_test, y_test)\n",
        "print(f\"Test Accuracy (CNN): {acc:.4f}\")"
      ],
      "metadata": {
        "colab": {
          "base_uri": "https://localhost:8080/"
        },
        "id": "mWDvreD03g-O",
        "outputId": "70cda2c6-7d9c-4056-b4e5-5f592cef40ec"
      },
      "execution_count": 27,
      "outputs": [
        {
          "output_type": "stream",
          "name": "stdout",
          "text": [
            "\u001b[1m25/25\u001b[0m \u001b[32m━━━━━━━━━━━━━━━━━━━━\u001b[0m\u001b[37m\u001b[0m \u001b[1m0s\u001b[0m 4ms/step - accuracy: 0.6674 - loss: 1.3975\n",
            "Test Accuracy (CNN): 0.7032\n"
          ]
        }
      ]
    },
    {
      "cell_type": "code",
      "source": [
        "def plot_history(history):\n",
        "    plt.plot(history.history['accuracy'], label='train_accuracy')\n",
        "    plt.plot(history.history['val_accuracy'], label='val_accuracy')\n",
        "    plt.title('CNN Model Accuracy')\n",
        "    plt.xlabel('Epoch')\n",
        "    plt.ylabel('Accuracy')\n",
        "    plt.legend()\n",
        "    plt.show()\n",
        "\n",
        "plot_history(history)"
      ],
      "metadata": {
        "colab": {
          "base_uri": "https://localhost:8080/",
          "height": 472
        },
        "id": "pNMfpdhb3rhZ",
        "outputId": "740043d2-d729-4ce3-e3e8-fc828c8ff1f6"
      },
      "execution_count": 28,
      "outputs": [
        {
          "output_type": "display_data",
          "data": {
            "text/plain": [
              "<Figure size 640x480 with 1 Axes>"
            ],
            "image/png": "[encoded data removed]"
          },
          "metadata": {}
        }
      ]
    },
    {
      "cell_type": "code",
      "source": [],
      "metadata": {
        "id": "G8nzla-DAKlO"
      },
      "execution_count": null,
      "outputs": []
    }
  ]
}