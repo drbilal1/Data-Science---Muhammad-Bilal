{
  "nbformat": 4,
  "nbformat_minor": 0,
  "metadata": {
    "colab": {
      "provenance": []
    },
    "kernelspec": {
      "name": "python3",
      "display_name": "Python 3"
    },
    "language_info": {
      "name": "python"
    }
  },
  "cells": [
    {
      "cell_type": "code",
      "execution_count": 19,
      "metadata": {
        "id": "_f3byeRXP5jn"
      },
      "outputs": [],
      "source": [
        "import numpy as np"
      ]
    },
    {
      "cell_type": "code",
      "source": [
        "def sigmoid(z):\n",
        "    return 1 / (1 + np.exp(-z))"
      ],
      "metadata": {
        "id": "pel2eQvVQIsb"
      },
      "execution_count": 20,
      "outputs": []
    },
    {
      "cell_type": "code",
      "source": [
        "# Initialize parameters\n",
        "def initialize_weights(n_features):\n",
        "    weights = np.zeros((n_features, 1))\n",
        "    bias = 0\n",
        "    return weights, bias"
      ],
      "metadata": {
        "id": "0nxTNNUkQWD1"
      },
      "execution_count": 21,
      "outputs": []
    },
    {
      "cell_type": "code",
      "source": [
        "# Propagation\n",
        "def propagate(weights, bias, X, Y):\n",
        "    m = X.shape[1]\n",
        "\n",
        "    # Forward\n",
        "    Z = np.dot(weights.T, X) + bias\n",
        "    A = sigmoid(Z)\n",
        "    cost = -(1/m) * np.sum(Y * np.log(A) + (1 - Y) * np.log(1 - A))\n",
        "\n",
        "    # Backward\n",
        "    dw = (1/m) * np.dot(X, (A - Y).T) #A is used for Y_hat\n",
        "    db = (1/m) * np.sum(A - Y)\n",
        "\n",
        "    grads = {\"dw\": dw, \"db\": db}\n",
        "    return grads, cost"
      ],
      "metadata": {
        "id": "OaejHVq5RIVW"
      },
      "execution_count": 22,
      "outputs": []
    },
    {
      "cell_type": "code",
      "source": [
        "# Optimization (Gradient Descent)\n",
        "def optimize(weights, bias, X, Y, learning_rate, iterations):\n",
        "    costs = []\n",
        "\n",
        "    for i in range(iterations):\n",
        "        grads, cost = propagate(weights, bias, X, Y)\n",
        "\n",
        "        dw = grads[\"dw\"]\n",
        "        db = grads[\"db\"]\n",
        "\n",
        "        weights -= learning_rate * dw\n",
        "        bias -= learning_rate * db\n",
        "\n",
        "        if i % 100 == 0:\n",
        "            costs.append(cost)\n",
        "            print(f\"Cost after iteration {i}: {cost:.4f}\")\n",
        "\n",
        "    return weights, bias, costs"
      ],
      "metadata": {
        "id": "Wa93NYTyRqhK"
      },
      "execution_count": 23,
      "outputs": []
    },
    {
      "cell_type": "code",
      "source": [
        "# Prediction\n",
        "def predict(weights, bias, X):\n",
        "    A = sigmoid(np.dot(weights.T, X) + bias)\n",
        "    return A > 0.5"
      ],
      "metadata": {
        "id": "dmysyyr5SC4e"
      },
      "execution_count": 24,
      "outputs": []
    },
    {
      "cell_type": "code",
      "source": [
        "# Model function\n",
        "def logistic_regression_model(X_train, Y_train, learning_rate=0.01, iterations=1000):\n",
        "    n_features = X_train.shape[0]\n",
        "    weights, bias = initialize_weights(n_features)\n",
        "\n",
        "    weights, bias, costs = optimize(weights, bias, X_train, Y_train, learning_rate, iterations)\n",
        "\n",
        "    return weights, bias, costs"
      ],
      "metadata": {
        "id": "bpy2CJniP9t7"
      },
      "execution_count": 25,
      "outputs": []
    },
    {
      "cell_type": "code",
      "source": [
        "# Sample binary classification dataset\n",
        "X_train = np.array([[0, 0, 1, 1],    # feature 1\n",
        "                    [0, 1, 0, 1]])   # feature 2\n",
        "Y_train = np.array([[0, 0, 0, 1]])   # output (AND gate)\n",
        "\n",
        "# Train the model\n",
        "weights, bias, costs = logistic_regression_model(X_train, Y_train, learning_rate=0.1, iterations=1000)\n",
        "\n",
        "# Predict on training data\n",
        "predictions = predict(weights, bias, X_train)\n",
        "print(\"Predictions:\", predictions.astype(int))\n",
        "print(\"Actual:\", Y_train)"
      ],
      "metadata": {
        "colab": {
          "base_uri": "https://localhost:8080/"
        },
        "id": "q7omzMZ5UqFB",
        "outputId": "f8fc66c3-6a0f-4ec6-97f9-1bc610d12344"
      },
      "execution_count": 32,
      "outputs": [
        {
          "output_type": "stream",
          "name": "stdout",
          "text": [
            "Cost after iteration 0: 0.6931\n",
            "Cost after iteration 100: 0.4624\n",
            "Cost after iteration 200: 0.3633\n",
            "Cost after iteration 300: 0.3019\n",
            "Cost after iteration 400: 0.2596\n",
            "Cost after iteration 500: 0.2283\n",
            "Cost after iteration 600: 0.2040\n",
            "Cost after iteration 700: 0.1845\n",
            "Cost after iteration 800: 0.1684\n",
            "Cost after iteration 900: 0.1549\n",
            "Predictions: [[0 0 0 1]]\n",
            "Actual: [[0 0 0 1]]\n"
          ]
        }
      ]
    }
  ]
}