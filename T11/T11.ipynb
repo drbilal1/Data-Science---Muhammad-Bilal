{
  "nbformat": 4,
  "nbformat_minor": 0,
  "metadata": {
    "colab": {
      "provenance": []
    },
    "kernelspec": {
      "name": "python3",
      "display_name": "Python 3"
    },
    "language_info": {
      "name": "python"
    }
  },
  "cells": [
    {
      "cell_type": "markdown",
      "source": [
        "Indexing and Slicing"
      ],
      "metadata": {
        "id": "ahCJvnphiT9B"
      }
    },
    {
      "cell_type": "markdown",
      "source": [
        " Task 1: Extract a 3x3 sub-array from a (5,5) array starting at (1,1)"
      ],
      "metadata": {
        "id": "iktpzp0OigqP"
      }
    },
    {
      "cell_type": "code",
      "source": [
        "import numpy as np"
      ],
      "metadata": {
        "id": "JVVhjWdziwHz"
      },
      "execution_count": 2,
      "outputs": []
    },
    {
      "cell_type": "code",
      "execution_count": 8,
      "metadata": {
        "colab": {
          "base_uri": "https://localhost:8080/"
        },
        "id": "0HTNwpqdiRU3",
        "outputId": "fb3cbda7-98c9-448a-ce21-c1c235ef9be5"
      },
      "outputs": [
        {
          "output_type": "stream",
          "name": "stdout",
          "text": [
            "3x3 Sub-array:\n",
            " [[ 0  1  2]\n",
            " [ 5  6  7]\n",
            " [10 11 12]]\n"
          ]
        }
      ],
      "source": [
        "array_2d = np.arange(25).reshape(5, 5)\n",
        "sub_array = array_2d[:3, :3]  # Extracting a 3x3 sub-array\n",
        "print(\"3x3 Sub-array:\\n\", sub_array)"
      ]
    },
    {
      "cell_type": "markdown",
      "source": [
        "Task 2: Extract first two rows and all columns from the second slice of a (4,3,2) array"
      ],
      "metadata": {
        "id": "x4XEkCGdjFg9"
      }
    },
    {
      "cell_type": "code",
      "source": [
        "array_3d = np.arange(24).reshape(4, 3, 2)\n",
        "sub_array_3d = array_3d[:2, :, 1]  # Selecting first two rows, all columns, second slice\n",
        "print(\"\\nExtracted elements from 3D array:\\n\",sub_array_3d)"
      ],
      "metadata": {
        "colab": {
          "base_uri": "https://localhost:8080/"
        },
        "id": "iinMMKMWiqaO",
        "outputId": "8da0c0fb-a9a4-441d-af62-819af0441d93"
      },
      "execution_count": 17,
      "outputs": [
        {
          "output_type": "stream",
          "name": "stdout",
          "text": [
            "\n",
            "Extracted elements from 3D array:\n",
            " [[ 1  3  5]\n",
            " [ 7  9 11]]\n"
          ]
        }
      ]
    },
    {
      "cell_type": "markdown",
      "source": [
        "Task 3: Fancy indexing to extract elements at positions [1, 3, 4, 7] from a 1D array"
      ],
      "metadata": {
        "id": "TOY14yPRkvud"
      }
    },
    {
      "cell_type": "code",
      "source": [
        "array_1d = np.arange(11,20)  # Example 1D array\n",
        "indices = [1, 3, 4, 7]\n",
        "fancy_selected = array_1d[indices]\n",
        "print(\"\\nFancy Indexed Elements:\\n\", fancy_selected)"
      ],
      "metadata": {
        "colab": {
          "base_uri": "https://localhost:8080/"
        },
        "id": "hB_1Xb05jE-O",
        "outputId": "63d7d37d-e3a4-4062-b4b7-60dac929e4d6"
      },
      "execution_count": 19,
      "outputs": [
        {
          "output_type": "stream",
          "name": "stdout",
          "text": [
            "\n",
            "Fancy Indexed Elements:\n",
            " [12 14 15 18]\n"
          ]
        }
      ]
    },
    {
      "cell_type": "markdown",
      "source": [
        "Task 4: Fancy indexing to select rows [0, 2, 3] and columns [1, 3] from a 2D array"
      ],
      "metadata": {
        "id": "aoj4f-RUlKN2"
      }
    },
    {
      "cell_type": "code",
      "source": [
        "array_2d_fancy = np.arange(25).reshape(5, 5)\n",
        "rows = [0, 2, 3]\n",
        "cols = [1, 3]\n",
        "fancy_selected_2d = array_2d_fancy[np.ix_(rows, cols)]\n",
        "print(\"\\nFancy Indexed 2D Array:\\n\", fancy_selected_2d)"
      ],
      "metadata": {
        "colab": {
          "base_uri": "https://localhost:8080/"
        },
        "id": "cgqCv_xfkvMU",
        "outputId": "72bcb09c-1855-4c50-a3c9-5375d55b06fc"
      },
      "execution_count": 24,
      "outputs": [
        {
          "output_type": "stream",
          "name": "stdout",
          "text": [
            "\n",
            "Fancy Indexed 2D Array:\n",
            " [[ 1  3]\n",
            " [11 13]\n",
            " [16 18]]\n"
          ]
        }
      ]
    },
    {
      "cell_type": "markdown",
      "source": [
        "Task 5: Extract all elements greater than 10 from a random 1D array"
      ],
      "metadata": {
        "id": "Na1bqmHWl-ZV"
      }
    },
    {
      "cell_type": "code",
      "source": [
        "random_array = np.random.randint(1, 20, size=15)\n",
        "greater_than_10 = random_array[random_array > 10]\n",
        "print(\"\\nElements greater than 10:\\n\", greater_than_10)"
      ],
      "metadata": {
        "colab": {
          "base_uri": "https://localhost:8080/"
        },
        "id": "LBRFV0X_lW0O",
        "outputId": "92a5d051-a597-4f85-d718-900d4e95a4df"
      },
      "execution_count": 26,
      "outputs": [
        {
          "output_type": "stream",
          "name": "stdout",
          "text": [
            "\n",
            "Elements greater than 10:\n",
            " [17 15 18 15 15 19 18]\n"
          ]
        }
      ]
    },
    {
      "cell_type": "markdown",
      "source": [
        "Task 6: Replace all elements greater than 15 with 0 in a (5,5) array"
      ],
      "metadata": {
        "id": "q3QEHG4GmdcP"
      }
    },
    {
      "cell_type": "code",
      "source": [
        "array = np.random.randint(1, 30, size=10)\n",
        "print(array)\n",
        "array[array>15] = 0\n",
        "print(array)"
      ],
      "metadata": {
        "colab": {
          "base_uri": "https://localhost:8080/"
        },
        "id": "uXUf1r_xmUEn",
        "outputId": "9e675cdc-bf18-42e5-c64d-b35c2348f71f"
      },
      "execution_count": 32,
      "outputs": [
        {
          "output_type": "stream",
          "name": "stdout",
          "text": [
            "[23  8 13  5 13 21  6 12 24 20]\n",
            "[ 0  8 13  5 13  0  6 12  0  0]\n"
          ]
        }
      ]
    },
    {
      "cell_type": "markdown",
      "source": [
        "Broadcasting\n"
      ],
      "metadata": {
        "id": "edr4L3D-noPA"
      }
    },
    {
      "cell_type": "markdown",
      "source": [
        "Task 1: Add a 1D array of shape (3,) to each row of a 2D array of shape (4, 3)"
      ],
      "metadata": {
        "id": "B__VxxpQoAlL"
      }
    },
    {
      "cell_type": "code",
      "source": [
        "array_2d = np.array([[1, 2, 3],\n",
        "                      [4, 5, 6],\n",
        "                      [7, 8, 9],\n",
        "                      [10, 11, 12]])\n",
        "array_1d = np.array([10, 20, 30])  # Shape (3,)\n",
        "\n",
        "result1 = array_2d + array_1d  # Broadcasting occurs\n",
        "print(\"Result 1 (Adding 1D array to each row of 2D array):\\n\", result1)"
      ],
      "metadata": {
        "colab": {
          "base_uri": "https://localhost:8080/"
        },
        "id": "GUkCvddgm_b8",
        "outputId": "dd7369c3-2da8-4af3-b9f2-5d7ef6c52db8"
      },
      "execution_count": 33,
      "outputs": [
        {
          "output_type": "stream",
          "name": "stdout",
          "text": [
            "Result 1 (Adding 1D array to each row of 2D array):\n",
            " [[11 22 33]\n",
            " [14 25 36]\n",
            " [17 28 39]\n",
            " [20 31 42]]\n"
          ]
        }
      ]
    },
    {
      "cell_type": "markdown",
      "source": [
        "\n",
        "Task 2: Multiply a 2D array of shape (3, 3) by a 1D array of shape (3,)"
      ],
      "metadata": {
        "id": "gtXIhXFwpJ4Q"
      }
    },
    {
      "cell_type": "code",
      "source": [
        "array_2d_mul = np.array([[1, 2, 3],\n",
        "                          [4, 5, 6],\n",
        "                          [7, 8, 9]])\n",
        "array_1d_mul = np.array([1, 2, 3])  # Shape (3,)\n",
        "\n",
        "result2 = array_2d_mul * array_1d_mul  # Broadcasting occurs\n",
        "print(\"\\nResult 2 (Multiplying 2D array by 1D array):\\n\", result2)"
      ],
      "metadata": {
        "colab": {
          "base_uri": "https://localhost:8080/"
        },
        "id": "0lOT-ji4nZr3",
        "outputId": "063b688b-0990-4fdb-f098-a492814451bc"
      },
      "execution_count": 34,
      "outputs": [
        {
          "output_type": "stream",
          "name": "stdout",
          "text": [
            "\n",
            "Result 2 (Multiplying 2D array by 1D array):\n",
            " [[ 1  4  9]\n",
            " [ 4 10 18]\n",
            " [ 7 16 27]]\n"
          ]
        }
      ]
    },
    {
      "cell_type": "markdown",
      "source": [
        "Task 3: Create two 2D arrays of shapes (3, 1) and (1, 4) and perform element-wise addition"
      ],
      "metadata": {
        "id": "nVRnfaXrpajF"
      }
    },
    {
      "cell_type": "code",
      "source": [
        "array_2d_3x1 = np.array([[1], [2], [3]])  # Shape (3,1)\n",
        "array_2d_1x4 = np.array([[10, 20, 30, 40]])  # Shape (1,4)\n",
        "\n",
        "result3 = array_2d_3x1 + array_2d_1x4  # Broadcasting occurs\n",
        "print(\"\\nResult 3 (Element-wise addition of (3,1) and (1,4)):\\n\", result3)"
      ],
      "metadata": {
        "colab": {
          "base_uri": "https://localhost:8080/"
        },
        "id": "pfzoPv91o883",
        "outputId": "110abcf1-df4f-4b84-9705-726dcfda1c7b"
      },
      "execution_count": 35,
      "outputs": [
        {
          "output_type": "stream",
          "name": "stdout",
          "text": [
            "\n",
            "Result 3 (Element-wise addition of (3,1) and (1,4)):\n",
            " [[11 21 31 41]\n",
            " [12 22 32 42]\n",
            " [13 23 33 43]]\n"
          ]
        }
      ]
    },
    {
      "cell_type": "markdown",
      "source": [
        "Task 4: Given a 3D array of shape (2, 3, 4), add a 2D array of shape (3, 4) to each 2D slice along axis 0"
      ],
      "metadata": {
        "id": "sGd5BuhJqBso"
      }
    },
    {
      "cell_type": "code",
      "source": [
        "array_3d = np.arange(24).reshape(2, 3, 4)  # Shape (2, 3, 4)\n",
        "array_2d_add = np.array([[1, 1, 1, 1],\n",
        "                          [2, 2, 2, 2],\n",
        "                          [3, 3, 3, 3]])  # Shape (3, 4)\n",
        "\n",
        "result4 = array_3d + array_2d_add  # Broadcasting occurs\n",
        "print(\"\\nResult 4 (Adding 2D array to each slice of 3D array):\\n\", result4)"
      ],
      "metadata": {
        "colab": {
          "base_uri": "https://localhost:8080/"
        },
        "id": "MBUYvrSJprXf",
        "outputId": "fe2341ed-18cd-4f6a-c809-4dcc0c6ba561"
      },
      "execution_count": 36,
      "outputs": [
        {
          "output_type": "stream",
          "name": "stdout",
          "text": [
            "\n",
            "Result 4 (Adding 2D array to each slice of 3D array):\n",
            " [[[ 1  2  3  4]\n",
            "  [ 6  7  8  9]\n",
            "  [11 12 13 14]]\n",
            "\n",
            " [[13 14 15 16]\n",
            "  [18 19 20 21]\n",
            "  [23 24 25 26]]]\n"
          ]
        }
      ]
    },
    {
      "cell_type": "markdown",
      "source": [
        "Some More"
      ],
      "metadata": {
        "id": "oaSeoEukq_RG"
      }
    },
    {
      "cell_type": "markdown",
      "source": [
        "Task 1: Extract every second row and column, then add a 1D array to each row"
      ],
      "metadata": {
        "id": "iaBc0-RBrG6K"
      }
    },
    {
      "cell_type": "code",
      "source": [
        "array_2d = np.arange(25).reshape(5, 5)  # Creating a (5,5) array\n",
        "sliced_array = array_2d[::2, ::2]  # Extract every second row and column\n",
        "array_1d = np.array([10, 20, 30])  # Shape (3,)\n",
        "result1 = sliced_array + array_1d  # Broadcasting\n",
        "print(array_2d)\n",
        "print(sliced_array)\n",
        "print(\"Result 1 (Sliced and Added 1D array to each row):\\n\", result1)"
      ],
      "metadata": {
        "colab": {
          "base_uri": "https://localhost:8080/"
        },
        "id": "3xHEahQsqb2x",
        "outputId": "3ae92f46-3b64-41b1-be54-9b7531e7c292"
      },
      "execution_count": 39,
      "outputs": [
        {
          "output_type": "stream",
          "name": "stdout",
          "text": [
            "[[ 0  1  2  3  4]\n",
            " [ 5  6  7  8  9]\n",
            " [10 11 12 13 14]\n",
            " [15 16 17 18 19]\n",
            " [20 21 22 23 24]]\n",
            "[[ 0  2  4]\n",
            " [10 12 14]\n",
            " [20 22 24]]\n",
            "Result 1 (Sliced and Added 1D array to each row):\n",
            " [[10 22 34]\n",
            " [20 32 44]\n",
            " [30 42 54]]\n"
          ]
        }
      ]
    },
    {
      "cell_type": "markdown",
      "source": [
        "Task 2: Extract a sub-array from a 3D array and subtract a 2D array from each slice along the third axis"
      ],
      "metadata": {
        "id": "MgMvGQ-Xr0vB"
      }
    },
    {
      "cell_type": "code",
      "source": [
        "array_3d = np.arange(24).reshape(4, 3, 2)  # Shape (4,3,2)\n",
        "sub_array_3d = array_3d[:2, :, :]  # Extract first two blocks (shape: 2,3,2)\n",
        "array_2d = np.array([[1, 2], [3, 4], [5, 6]])  # Shape (3,2)\n",
        "result2 = sub_array_3d - array_2d  # Broadcasting\n",
        "print(\"\\nResult 2 (Subtracted 2D array from each slice):\\n\", result2)"
      ],
      "metadata": {
        "colab": {
          "base_uri": "https://localhost:8080/"
        },
        "id": "cdFk9Aj-q0RM",
        "outputId": "1730f80a-9086-49f2-9a25-c7199eb88d84"
      },
      "execution_count": 40,
      "outputs": [
        {
          "output_type": "stream",
          "name": "stdout",
          "text": [
            "\n",
            "Result 2 (Subtracted 2D array from each slice):\n",
            " [[[-1 -1]\n",
            "  [-1 -1]\n",
            "  [-1 -1]]\n",
            "\n",
            " [[ 5  5]\n",
            "  [ 5  5]\n",
            "  [ 5  5]]]\n"
          ]
        }
      ]
    },
    {
      "cell_type": "markdown",
      "source": [
        "Task 3: Extract diagonal elements and create a 1D array"
      ],
      "metadata": {
        "id": "zA-Ju56rsZXk"
      }
    },
    {
      "cell_type": "code",
      "source": [
        "array_diag = np.arange(16).reshape(4, 4)  # Creating a (4,4) matrix\n",
        "diagonal_elements = np.diag(array_diag)  # Extract diagonal\n",
        "print(\"\\nResult 3 (Diagonal Elements as 1D array):\\n\", diagonal_elements)"
      ],
      "metadata": {
        "colab": {
          "base_uri": "https://localhost:8080/"
        },
        "id": "vQVBI5sAsKkE",
        "outputId": "9e232d1f-95ec-4061-bfa1-f95f1c6803fe"
      },
      "execution_count": 41,
      "outputs": [
        {
          "output_type": "stream",
          "name": "stdout",
          "text": [
            "\n",
            "Result 3 (Diagonal Elements as 1D array):\n",
            " [ 0  5 10 15]\n"
          ]
        }
      ]
    },
    {
      "cell_type": "markdown",
      "source": [
        "Task 4: Reverse the order of elements in each row of a 2D array"
      ],
      "metadata": {
        "id": "hW0d8uNzsoQd"
      }
    },
    {
      "cell_type": "code",
      "source": [
        "array_reverse = np.arange(20).reshape(4, 5)  # Creating a (4,5) matrix\n",
        "reversed_rows = array_reverse[:, ::-1]  # Reverse elements in each row\n",
        "print(array_reverse)\n",
        "print(\"\\nResult 4 (Rows Reversed):\\n\", reversed_rows)"
      ],
      "metadata": {
        "colab": {
          "base_uri": "https://localhost:8080/"
        },
        "id": "WlP4A9jPsiXh",
        "outputId": "bc87fede-eab9-4d3e-ad01-6712d129fa95"
      },
      "execution_count": 42,
      "outputs": [
        {
          "output_type": "stream",
          "name": "stdout",
          "text": [
            "[[ 0  1  2  3  4]\n",
            " [ 5  6  7  8  9]\n",
            " [10 11 12 13 14]\n",
            " [15 16 17 18 19]]\n",
            "\n",
            "Result 4 (Rows Reversed):\n",
            " [[ 4  3  2  1  0]\n",
            " [ 9  8  7  6  5]\n",
            " [14 13 12 11 10]\n",
            " [19 18 17 16 15]]\n"
          ]
        }
      ]
    },
    {
      "cell_type": "markdown",
      "source": [
        "Task 5: Extract a sub-array from a 3D array and add a 1D array to each row along the third axis"
      ],
      "metadata": {
        "id": "lRratB6xtCDT"
      }
    },
    {
      "cell_type": "code",
      "source": [
        "array_3d_large = np.arange(4*5*6).reshape(4, 5, 6)  # Shape (4,5,6)\n",
        "sub_array_3d_large = array_3d_large[:2, :3, :4]  # Extract shape (2,3,4)\n",
        "array_1d_broadcast = np.array([10, 20, 30, 40])  # Shape (4,)\n",
        "result5 = sub_array_3d_large + array_1d_broadcast  # Broadcasting\n",
        "print(\"\\nResult 5 (Sub-array with 1D array added along third axis):\\n\", result5)"
      ],
      "metadata": {
        "colab": {
          "base_uri": "https://localhost:8080/"
        },
        "id": "o0jeHybLsx12",
        "outputId": "df66e033-4d19-41fd-985a-0689b0e5c885"
      },
      "execution_count": 43,
      "outputs": [
        {
          "output_type": "stream",
          "name": "stdout",
          "text": [
            "\n",
            "Result 5 (Sub-array with 1D array added along third axis):\n",
            " [[[10 21 32 43]\n",
            "  [16 27 38 49]\n",
            "  [22 33 44 55]]\n",
            "\n",
            " [[40 51 62 73]\n",
            "  [46 57 68 79]\n",
            "  [52 63 74 85]]]\n"
          ]
        }
      ]
    },
    {
      "cell_type": "markdown",
      "source": [
        "Task 6: Set last column to the sum of the first two columns for each row"
      ],
      "metadata": {
        "id": "j79pq7Fdtn3H"
      }
    },
    {
      "cell_type": "code",
      "source": [
        "array_2d_sum = np.random.randint(1, 10, size=(4, 4))  # Random (4,4) array\n",
        "print(array_2d_sum)\n",
        "array_2d_sum[:, -1] = array_2d_sum[:, 0] + array_2d_sum[:, 1]  # Last column = sum of first two columns\n",
        "print(\"\\nResult 6 (Last column set to sum of first two columns):\\n\", array_2d_sum)"
      ],
      "metadata": {
        "colab": {
          "base_uri": "https://localhost:8080/"
        },
        "id": "vBOAmMulthQG",
        "outputId": "35cdcf7f-6e51-4c02-d205-1e0e01e8dfd6"
      },
      "execution_count": 46,
      "outputs": [
        {
          "output_type": "stream",
          "name": "stdout",
          "text": [
            "[[2 4 9 4]\n",
            " [3 3 6 7]\n",
            " [5 9 7 7]\n",
            " [1 7 6 8]]\n",
            "\n",
            "Result 6 (Last column set to sum of first two columns):\n",
            " [[ 2  4  9  6]\n",
            " [ 3  3  6  6]\n",
            " [ 5  9  7 14]\n",
            " [ 1  7  6  8]]\n"
          ]
        }
      ]
    },
    {
      "cell_type": "markdown",
      "source": [
        "For serial 16 to last:\n",
        "\n",
        "\n",
        "Indexing and Slicing\n"
      ],
      "metadata": {
        "id": "0q12R8p3uItR"
      }
    },
    {
      "cell_type": "markdown",
      "source": [
        "Task 7: Given a 2D array of shape (6, 6), extract a 2x2 sub-array starting from the element at position (1, 1)."
      ],
      "metadata": {
        "id": "yj-QGQMAuL0v"
      }
    },
    {
      "cell_type": "code",
      "source": [
        "array_2d = np.arange(36).reshape(6, 6)  # Creating a (6,6) array\n",
        "sub_array_2d = array_2d[1:3, 1:3]  # Extracting a 2x2 sub-array from (1,1)\n",
        "print(\"Result 1 (Extracted 2x2 sub-array):\\n\", sub_array_2d)"
      ],
      "metadata": {
        "colab": {
          "base_uri": "https://localhost:8080/"
        },
        "id": "_RHxdK6ft2eZ",
        "outputId": "69a87490-09dd-404f-e19e-c0ec13ab94b8"
      },
      "execution_count": 3,
      "outputs": [
        {
          "output_type": "stream",
          "name": "stdout",
          "text": [
            "Result 1 (Extracted 2x2 sub-array):\n",
            " [[ 7  8]\n",
            " [13 14]]\n"
          ]
        }
      ]
    },
    {
      "cell_type": "markdown",
      "source": [
        "Task 8: Extract all elements in the first two rows and all columns of the second slice (third axis) from (3,2,1) array"
      ],
      "metadata": {
        "id": "hh2zo5sb0z3x"
      }
    },
    {
      "cell_type": "code",
      "source": [
        "array_3d = np.arange(6).reshape(3, 2, 1)  # Creating a (3,2,1) array\n",
        "sub_array_3d = array_3d[:2, :, 0]  # Extract first two rows, all columns of the second slice\n",
        "print(array_3d)\n",
        "print(\"\\nResult 2 (Extracted elements from 3D array):\\n\", sub_array_3d)"
      ],
      "metadata": {
        "colab": {
          "base_uri": "https://localhost:8080/"
        },
        "id": "2MsuyNrC0mzz",
        "outputId": "25a794b9-bdbb-4a54-acfe-8094e4df84f4"
      },
      "execution_count": 7,
      "outputs": [
        {
          "output_type": "stream",
          "name": "stdout",
          "text": [
            "[[[0]\n",
            "  [1]]\n",
            "\n",
            " [[2]\n",
            "  [3]]\n",
            "\n",
            " [[4]\n",
            "  [5]]]\n",
            "\n",
            "Result 2 (Extracted elements from 3D array):\n",
            " [[0 1]\n",
            " [2 3]]\n"
          ]
        }
      ]
    },
    {
      "cell_type": "markdown",
      "source": [
        "Task 9: Use fancy indexing to extract elements at positions [1, 3, 4, 6] from a 1D array"
      ],
      "metadata": {
        "id": "iGSbdIf61Zl_"
      }
    },
    {
      "cell_type": "code",
      "source": [
        "array_1d = np.array([10, 20, 30, 40, 50, 60, 70, 80])  # Example 1D array\n",
        "indices = [1, 3, 4, 6]\n",
        "extracted_elements = array_1d[indices]  # Fancy indexing\n",
        "print(\"\\nResult 3 (Extracted elements using fancy indexing):\\n\", extracted_elements)"
      ],
      "metadata": {
        "colab": {
          "base_uri": "https://localhost:8080/"
        },
        "id": "tSmsd7BL028C",
        "outputId": "0fe6c969-29d0-402e-8c95-8db58e348ac2"
      },
      "execution_count": 8,
      "outputs": [
        {
          "output_type": "stream",
          "name": "stdout",
          "text": [
            "\n",
            "Result 3 (Extracted elements using fancy indexing):\n",
            " [20 40 50 70]\n"
          ]
        }
      ]
    },
    {
      "cell_type": "markdown",
      "source": [
        "Task 10: Use fancy indexing to select rows [0, 2, 2] and columns [1, 3] in a 2D array"
      ],
      "metadata": {
        "id": "6B5KJLTr2El8"
      }
    },
    {
      "cell_type": "code",
      "source": [
        "array_2d_fancy = np.arange(36).reshape(6, 6)  # Creating a (6,6) array\n",
        "rows = [0, 2, 2]\n",
        "cols = [1, 3, 4]\n",
        "selected_elements = array_2d_fancy[rows, cols]  # Fancy indexing\n",
        "print(\"\\nResult 4 (Selected elements using fancy indexing):\\n\", selected_elements)"
      ],
      "metadata": {
        "colab": {
          "base_uri": "https://localhost:8080/"
        },
        "id": "j15PFjRd1Y6r",
        "outputId": "176a1589-638a-42db-9440-d4d11544f228"
      },
      "execution_count": 11,
      "outputs": [
        {
          "output_type": "stream",
          "name": "stdout",
          "text": [
            "\n",
            "Result 4 (Selected elements using fancy indexing):\n",
            " [ 1 15 16]\n"
          ]
        }
      ]
    },
    {
      "cell_type": "markdown",
      "source": [
        "Task 11: Extract all elements greater than 8 from a 1D array"
      ],
      "metadata": {
        "id": "8xrYFWzF2w95"
      }
    },
    {
      "cell_type": "code",
      "source": [
        "array_random = np.random.randint(1, 15, size=10)  # Random array of integers\n",
        "filtered_elements = array_random[array_random > 8]  # Boolean indexing\n",
        "print(array_random)\n",
        "print(\"\\nResult 5 (Elements greater than 8):\\n\", filtered_elements)"
      ],
      "metadata": {
        "colab": {
          "base_uri": "https://localhost:8080/"
        },
        "id": "-0lqcL_k2RKq",
        "outputId": "0a33637e-ae9a-4ba8-af7f-dcf3f2ef3889"
      },
      "execution_count": 14,
      "outputs": [
        {
          "output_type": "stream",
          "name": "stdout",
          "text": [
            "[ 4  3  1  8  6  5  5  1  5 14]\n",
            "\n",
            "Result 5 (Elements greater than 8):\n",
            " [14]\n"
          ]
        }
      ]
    },
    {
      "cell_type": "markdown",
      "source": [
        "Task 12: Replace all elements greater than 13 with 0 in a (6,6) array"
      ],
      "metadata": {
        "id": "UbQSZlk33FVE"
      }
    },
    {
      "cell_type": "code",
      "source": [
        "array_2d_replace = np.random.randint(5, 20, size=(6, 6))  # Creating a (6,6) random array\n",
        "array_2d_replace[array_2d_replace > 13] = 0  # Replacing elements greater than 13 with 0\n",
        "print(\"\\nResult 6 (Replaced elements > 13 with 0):\\n\", array_2d_replace)"
      ],
      "metadata": {
        "colab": {
          "base_uri": "https://localhost:8080/"
        },
        "id": "e6s9fLkL24Jq",
        "outputId": "7f6460f8-f0bd-40f0-e424-a0821c81fde5"
      },
      "execution_count": 16,
      "outputs": [
        {
          "output_type": "stream",
          "name": "stdout",
          "text": [
            "\n",
            "Result 6 (Replaced elements > 13 with 0):\n",
            " [[ 9  5 11  0 13  0]\n",
            " [10 13  9  0  0  7]\n",
            " [ 0  6  0 11  0  7]\n",
            " [ 0  0  0  8  9  8]\n",
            " [11 12  0  0  0  0]\n",
            " [12  0  6  0  0  0]]\n"
          ]
        }
      ]
    },
    {
      "cell_type": "code",
      "source": [],
      "metadata": {
        "id": "7SXMwmcS35hY"
      },
      "execution_count": null,
      "outputs": []
    }
  ]
}