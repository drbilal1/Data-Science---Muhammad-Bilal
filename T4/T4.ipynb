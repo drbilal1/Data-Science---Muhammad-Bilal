{
  "nbformat": 4,
  "nbformat_minor": 0,
  "metadata": {
    "colab": {
      "provenance": []
    },
    "kernelspec": {
      "name": "python3",
      "display_name": "Python 3"
    },
    "language_info": {
      "name": "python"
    }
  },
  "cells": [
    {
      "cell_type": "code",
      "source": [
        "print(\"Well Come\")\n",
        "a = int(input(\"Enter 1st Number\"))\n",
        "b = int(input(\"Enter 2nd Number\"))\n",
        "\n",
        "print(\"Select an operation:\")\n",
        "print(\"1. Addition\")\n",
        "print(\"2. Subtraction\")\n",
        "print(\"3. Multiplication\")\n",
        "print(\"4. Division\")\n",
        "choice = int(input(\"Enter your choice (1-4): \"))\n",
        "\n",
        "match choice:\n",
        "  case 1:\n",
        "    res = add(a,b)\n",
        "  case 2:\n",
        "    res = diff(a,b)\n",
        "  case 3:\n",
        "    res = mul(a,b)\n",
        "  case 4:\n",
        "    res = div(a,b)\n",
        "  case _:\n",
        "    res = \"Invalid Choice\"\n",
        "print(\"Results \", res)\n",
        "\n",
        "def add(a,b):\n",
        "  return a+b\n",
        "def diff(a,b):\n",
        "  return a-b\n",
        "def mul(a,b):\n",
        "  return a*b\n",
        "def div(a,b):\n",
        "  return a/b"
      ],
      "metadata": {
        "colab": {
          "base_uri": "https://localhost:8080/"
        },
        "id": "kkTuW01zQUA4",
        "outputId": "eb7f12a2-2170-4c2b-dc9f-ddc26dbe4042"
      },
      "execution_count": 35,
      "outputs": [
        {
          "output_type": "stream",
          "name": "stdout",
          "text": [
            "Well Come\n",
            "Enter 1st Number4\n",
            "Enter 2nd Number3\n",
            "Select an operation:\n",
            "1. Addition\n",
            "2. Subtraction\n",
            "3. Multiplication\n",
            "4. Division\n",
            "Enter your choice (1-4): 4\n",
            "Results  1.3333333333333333\n"
          ]
        }
      ]
    }
  ]
}