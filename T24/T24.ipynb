{
  "nbformat": 4,
  "nbformat_minor": 0,
  "metadata": {
    "colab": {
      "provenance": []
    },
    "kernelspec": {
      "name": "python3",
      "display_name": "Python 3"
    },
    "language_info": {
      "name": "python"
    }
  },
  "cells": [
    {
      "cell_type": "code",
      "source": [
        "import numpy as np\n",
        "from sklearn.datasets import fetch_california_housing\n",
        "from sklearn.model_selection import train_test_split\n",
        "from sklearn.preprocessing import StandardScaler\n",
        "from sklearn.linear_model import LinearRegression\n",
        "\n",
        "from sklearn.metrics import mean_absolute_error\n",
        "from sklearn.metrics import mean_squared_error\n",
        "from sklearn.metrics import r2_score\n",
        "from sklearn.metrics import median_absolute_error\n",
        "from sklearn.metrics import mean_absolute_percentage_error"
      ],
      "metadata": {
        "id": "koGngEkTZ08U"
      },
      "execution_count": 24,
      "outputs": []
    },
    {
      "cell_type": "markdown",
      "source": [
        "Let's assume we already have the true and predicted values"
      ],
      "metadata": {
        "id": "V157KZF2gLmO"
      }
    },
    {
      "cell_type": "code",
      "source": [
        "y_test = np.array([3.0, -0.5, 2.0, 7.0])\n",
        "y_pred = np.array([2.5, 0.0, 2.1, 7.8])"
      ],
      "metadata": {
        "id": "4svSjBVkba_e"
      },
      "execution_count": 35,
      "outputs": []
    },
    {
      "cell_type": "markdown",
      "source": [
        "Orignal Dataset with Linear Regression Model"
      ],
      "metadata": {
        "id": "Gs8pHOJzgObQ"
      }
    },
    {
      "cell_type": "code",
      "source": [
        "# Load dataset\n",
        "data = fetch_california_housing()\n",
        "X = data.data\n",
        "y = data.target\n",
        "\n",
        "# Split into train and test\n",
        "X_train, X_test, y_train, y_test = train_test_split(X, y, test_size=0.2, random_state=42)\n",
        "\n",
        "# Standardize data\n",
        "scaler = StandardScaler()\n",
        "X_train_scaled = scaler.fit_transform(X_train)\n",
        "X_test_scaled = scaler.transform(X_test)"
      ],
      "metadata": {
        "id": "IKzGe5oDdW0N"
      },
      "execution_count": 25,
      "outputs": []
    },
    {
      "cell_type": "markdown",
      "source": [
        "Linear Regression"
      ],
      "metadata": {
        "id": "3rdeGtaYd6ex"
      }
    },
    {
      "cell_type": "code",
      "source": [
        "lr = LinearRegression()\n",
        "lr.fit(X_train, y_train)\n",
        "y_pred = lr.predict(X_test)"
      ],
      "metadata": {
        "id": "l8GQta2UdrPk"
      },
      "execution_count": 27,
      "outputs": []
    },
    {
      "cell_type": "markdown",
      "source": [
        "1. Mean Absolute Error (MAE)"
      ],
      "metadata": {
        "id": "NXZGV_7Ebk70"
      }
    },
    {
      "cell_type": "code",
      "source": [
        "mae = mean_absolute_error(y_test, y_pred)\n",
        "mae"
      ],
      "metadata": {
        "colab": {
          "base_uri": "https://localhost:8080/"
        },
        "id": "vBBnlMegbgi6",
        "outputId": "c98d261d-b09b-4057-895e-d2d7a52685a2"
      },
      "execution_count": 36,
      "outputs": [
        {
          "output_type": "execute_result",
          "data": {
            "text/plain": [
              "0.475"
            ]
          },
          "metadata": {},
          "execution_count": 36
        }
      ]
    },
    {
      "cell_type": "markdown",
      "source": [
        "2. Mean Squared Error (MSE)"
      ],
      "metadata": {
        "id": "PP3fIS95bopq"
      }
    },
    {
      "cell_type": "code",
      "source": [
        "mse = mean_squared_error(y_test, y_pred)\n",
        "mse"
      ],
      "metadata": {
        "colab": {
          "base_uri": "https://localhost:8080/"
        },
        "id": "X0mOFOnxbrfW",
        "outputId": "0d819111-08c8-4686-ea0f-a6ef699ab66d"
      },
      "execution_count": 37,
      "outputs": [
        {
          "output_type": "execute_result",
          "data": {
            "text/plain": [
              "0.2874999999999999"
            ]
          },
          "metadata": {},
          "execution_count": 37
        }
      ]
    },
    {
      "cell_type": "markdown",
      "source": [
        "3. Root Mean Squared Error (RMSE)"
      ],
      "metadata": {
        "id": "abNEupNib0qo"
      }
    },
    {
      "cell_type": "code",
      "source": [
        "rmse = np.sqrt(mse)\n",
        "print(rmse)"
      ],
      "metadata": {
        "colab": {
          "base_uri": "https://localhost:8080/"
        },
        "id": "Fgsj_YD_b3yX",
        "outputId": "a2de7297-e005-46bb-cc3a-028b1f902166"
      },
      "execution_count": 38,
      "outputs": [
        {
          "output_type": "stream",
          "name": "stdout",
          "text": [
            "0.5361902647381803\n"
          ]
        }
      ]
    },
    {
      "cell_type": "markdown",
      "source": [
        "4. R-squared (R²)"
      ],
      "metadata": {
        "id": "M0MrA5Wab_qv"
      }
    },
    {
      "cell_type": "code",
      "source": [
        "r2 = r2_score(y_test, y_pred)\n",
        "r2"
      ],
      "metadata": {
        "colab": {
          "base_uri": "https://localhost:8080/"
        },
        "id": "jgW5LTRwcB2z",
        "outputId": "91b220a2-7cf7-4e4c-ed01-eb859e2ae542"
      },
      "execution_count": 39,
      "outputs": [
        {
          "output_type": "execute_result",
          "data": {
            "text/plain": [
              "0.9605995717344754"
            ]
          },
          "metadata": {},
          "execution_count": 39
        }
      ]
    },
    {
      "cell_type": "markdown",
      "source": [
        "5. Adjusted R-squared"
      ],
      "metadata": {
        "id": "pW-MN6GtcFFt"
      }
    },
    {
      "cell_type": "code",
      "source": [
        "n = len(y_test)              # number of observations\n",
        "k = 2                        # number of features uses\n",
        "adjusted_r2 = 1 - ((1 - r2) * (n - 1) / (n - k - 1))\n",
        "adjusted_r2"
      ],
      "metadata": {
        "colab": {
          "base_uri": "https://localhost:8080/"
        },
        "id": "mp_amgFtcSC6",
        "outputId": "f8c9107c-1367-45c3-a3df-7a74d208f4b9"
      },
      "execution_count": 41,
      "outputs": [
        {
          "output_type": "execute_result",
          "data": {
            "text/plain": [
              "0.8817987152034262"
            ]
          },
          "metadata": {},
          "execution_count": 41
        }
      ]
    },
    {
      "cell_type": "markdown",
      "source": [
        "6. Mean Absolute Percentage Error (MAPE)"
      ],
      "metadata": {
        "id": "3aYmsgrxcb4H"
      }
    },
    {
      "cell_type": "code",
      "source": [
        "mape = mean_absolute_percentage_error(y_test, y_pred) * 100\n",
        "mape"
      ],
      "metadata": {
        "colab": {
          "base_uri": "https://localhost:8080/"
        },
        "id": "wI_kAS5xceLQ",
        "outputId": "51f8ce3a-c233-4387-b1d0-166815d3586a"
      },
      "execution_count": 42,
      "outputs": [
        {
          "output_type": "execute_result",
          "data": {
            "text/plain": [
              "33.273809523809526"
            ]
          },
          "metadata": {},
          "execution_count": 42
        }
      ]
    },
    {
      "cell_type": "markdown",
      "source": [
        "7. Median Absolute Error"
      ],
      "metadata": {
        "id": "mh2jQrYfcj5c"
      }
    },
    {
      "cell_type": "code",
      "source": [
        "medae = median_absolute_error(y_test, y_pred)\n",
        "print(medae)"
      ],
      "metadata": {
        "colab": {
          "base_uri": "https://localhost:8080/"
        },
        "id": "JLkb4vw0cmKq",
        "outputId": "54d38db3-0496-4a46-a8a4-c0d08a40c446"
      },
      "execution_count": 43,
      "outputs": [
        {
          "output_type": "stream",
          "name": "stdout",
          "text": [
            "0.5\n"
          ]
        }
      ]
    },
    {
      "cell_type": "code",
      "source": [],
      "metadata": {
        "id": "Zgkd3vZfgGrS"
      },
      "execution_count": null,
      "outputs": []
    }
  ]
}