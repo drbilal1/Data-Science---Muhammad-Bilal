{
  "nbformat": 4,
  "nbformat_minor": 0,
  "metadata": {
    "colab": {
      "provenance": []
    },
    "kernelspec": {
      "name": "python3",
      "display_name": "Python 3"
    },
    "language_info": {
      "name": "python"
    }
  },
  "cells": [
    {
      "cell_type": "code",
      "execution_count": 8,
      "metadata": {
        "colab": {
          "base_uri": "https://localhost:8080/"
        },
        "id": "eaCDGUEkI82v",
        "outputId": "2325d1bb-7717-4abb-9aea-892d6d7ccc96"
      },
      "outputs": [
        {
          "name": "stdout",
          "output_type": "stream",
          "text": [
            "\n",
            "1. Add Student\n",
            "2. Search Student\n",
            "3. Delete Student\n",
            "4. Display All Students\n",
            "5. Exit\n",
            "Enter your choice: 1\n",
            "Enter Student ID: 1\n",
            "Enter Student Name: Umer\n",
            "Enter Student Age: 21\n",
            "Enter Student Grade: C\n",
            "Student added successfully!\n",
            "\n",
            "1. Add Student\n",
            "2. Search Student\n",
            "3. Delete Student\n",
            "4. Display All Students\n",
            "5. Exit\n",
            "Enter your choice: 4\n",
            "Available Students:\n",
            "ID: 1, Name: Umer, Age: 21, Grade: C\n",
            "\n",
            "1. Add Student\n",
            "2. Search Student\n",
            "3. Delete Student\n",
            "4. Display All Students\n",
            "5. Exit\n",
            "Enter your choice: 1\n",
            "Enter Student ID: 1\n",
            "Student ID already exists!\n",
            "\n",
            "1. Add Student\n",
            "2. Search Student\n",
            "3. Delete Student\n",
            "4. Display All Students\n",
            "5. Exit\n",
            "Enter your choice: 5\n"
          ]
        }
      ],
      "source": [
        "FILE_NAME = \"students.txt\"\n",
        "\n",
        "# Load student data from file\n",
        "def load_students():\n",
        "    students = {}\n",
        "    try:\n",
        "        with open(FILE_NAME, \"r\") as file:\n",
        "            for line in file:\n",
        "                student_id, name, age, grade = line.strip().split(\",\")\n",
        "                students[student_id] = {\"name\": name, \"age\": age, \"grade\": grade}\n",
        "    except FileNotFoundError:\n",
        "        pass\n",
        "    return students\n",
        "\n",
        "# Save student data to file\n",
        "def save_students(students):\n",
        "    with open(FILE_NAME, \"w\") as file:\n",
        "        for student_id, details in students.items():\n",
        "            file.write(f\"{student_id},{details['name']},{details['age']},{details['grade']}\\n\")\n",
        "\n",
        "# Add a new student\n",
        "def add_student(students):\n",
        "    student_id = input(\"Enter Student ID: \")\n",
        "    if student_id in students:\n",
        "        print(\"Student ID already exists!\")\n",
        "        return\n",
        "    student_name = input(\"Enter Student Name: \")\n",
        "    student_age = input(\"Enter Student Age: \")\n",
        "    student_grade = input(\"Enter Student Grade: \")\n",
        "    students[student_id] = {\"name\": student_name, \"age\": student_age, \"grade\": student_grade}\n",
        "    save_students(students)\n",
        "    print(\"Student added successfully!\")\n",
        "\n",
        "# Search for a student\n",
        "def search_student(students):\n",
        "    student_id = input(\"Enter Student ID to search: \")\n",
        "    if student_id in students:\n",
        "        print(\"Student Found:\", students[student_id])\n",
        "    else:\n",
        "        print(\"Student not found!\")\n",
        "\n",
        "# Delete a student\n",
        "def delete_student(students):\n",
        "    student_id = input(\"Enter Student ID to delete: \")\n",
        "    if student_id in students:\n",
        "        del students[student_id]\n",
        "        save_students(students)\n",
        "        print(\"Student deleted successfully!\")\n",
        "    else:\n",
        "        print(\"Student not found!\")\n",
        "\n",
        "# Display all students\n",
        "def display_students(students):\n",
        "    if students:\n",
        "        print(\"Available Students:\")\n",
        "        for student_id, details in students.items():\n",
        "            print(f\"ID: {student_id}, Name: {details['name']}, Age: {details['age']}, Grade: {details['grade']}\")\n",
        "    else:\n",
        "        print(\"No students available!\")\n",
        "\n",
        "# Main function\n",
        "def main():\n",
        "    students = load_students()\n",
        "    while True:\n",
        "        print(\"\\n1. Add Student\")\n",
        "        print(\"2. Search Student\")\n",
        "        print(\"3. Delete Student\")\n",
        "        print(\"4. Display All Students\")\n",
        "        print(\"5. Exit\")\n",
        "        choice = input(\"Enter your choice: \")\n",
        "        if choice == \"1\":\n",
        "            add_student(students)\n",
        "        elif choice == \"2\":\n",
        "            search_student(students)\n",
        "        elif choice == \"3\":\n",
        "            delete_student(students)\n",
        "        elif choice == \"4\":\n",
        "            display_students(students)\n",
        "        elif choice == \"5\":\n",
        "            break\n",
        "        else:\n",
        "            print(\"Invalid choice, please try again!\")\n",
        "\n",
        "if __name__ == \"__main__\":\n",
        "    main()\n"
      ]
    },
    {
      "cell_type": "markdown",
      "source": [
        "Practicing"
      ],
      "metadata": {
        "id": "p0LyFML2fWae"
      }
    },
    {
      "cell_type": "code",
      "source": [
        "with open(\"abc.txt\", \"w\") as f:\n",
        "  f.write(\"Hello Word\")\n",
        "  f.write(\"\\nMuhammad Bilal\")\n",
        "  pass\n",
        "print(f.closed)"
      ],
      "metadata": {
        "id": "GXGZYK8tI-AU",
        "colab": {
          "base_uri": "https://localhost:8080/"
        },
        "outputId": "632efc0f-f723-4858-948e-a36a4e9788ca"
      },
      "execution_count": 10,
      "outputs": [
        {
          "output_type": "stream",
          "name": "stdout",
          "text": [
            "True\n"
          ]
        }
      ]
    },
    {
      "cell_type": "code",
      "source": [
        "with open(\"abc.txt\", \"r\") as f:\n",
        "  for line in f:\n",
        "    print(line, end=\"\")"
      ],
      "metadata": {
        "id": "QNtQgCJDKMmd",
        "colab": {
          "base_uri": "https://localhost:8080/"
        },
        "outputId": "37a4cc2d-970e-4b7c-86f5-841bdd7cee4f"
      },
      "execution_count": 11,
      "outputs": [
        {
          "output_type": "stream",
          "name": "stdout",
          "text": [
            "Hello Word\n",
            "Muhammad Bilal"
          ]
        }
      ]
    },
    {
      "cell_type": "code",
      "source": [
        "with open(\"students.csv\", \"w\") as file:\n",
        "  pass"
      ],
      "metadata": {
        "id": "Gq3rVrhqXQFz"
      },
      "execution_count": 1,
      "outputs": []
    },
    {
      "cell_type": "code",
      "source": [
        "student_id = int(input(\"Enter Student ID: \"))\n",
        "name = input(\"Enter Student Name: \")\n",
        "age = int(input(\"Enter Student Age: \"))\n",
        "grade = input(\"Enter Student Grade: \")\n",
        "\n",
        "with open(\"students.csv\", \"a\") as file:\n",
        "    file.write(f\"{student_id},{name},{age},{grade}\\n\")\n",
        "print(\"Student data saved successfully.\")\n",
        "\n",
        "with open(\"students.csv\", \"r\") as file:\n",
        "  for line in file:\n",
        "    print(line)\n"
      ],
      "metadata": {
        "id": "KmIhBtkMfArd",
        "colab": {
          "base_uri": "https://localhost:8080/"
        },
        "outputId": "674e5f88-08c7-4a92-d1e8-a34c99701a9d"
      },
      "execution_count": 3,
      "outputs": [
        {
          "output_type": "stream",
          "name": "stdout",
          "text": [
            "Enter Student ID: 2\n",
            "Enter Student Name: Umer\n",
            "Enter Student Age: 21\n",
            "Enter Student Grade: B\n",
            "Student data saved successfully.\n",
            "1,Bilal,28,A\n",
            "\n",
            "2,Umer,21,B\n",
            "\n"
          ]
        }
      ]
    },
    {
      "cell_type": "markdown",
      "source": [
        "Exception Handling"
      ],
      "metadata": {
        "id": "XUjx4_Gje2G_"
      }
    },
    {
      "cell_type": "code",
      "source": [
        "try:\n",
        "    num = int(input(\"Enter a number: \"))\n",
        "    result = 10 / num\n",
        "    print(\"Result:\", result)\n",
        "except ZeroDivisionError:\n",
        "    print(\"Error: Cannot divide by zero!\")\n",
        "except ValueError:\n",
        "    print(\"Error: Please enter a valid integer.\")\n"
      ],
      "metadata": {
        "colab": {
          "base_uri": "https://localhost:8080/"
        },
        "id": "d2Sfv-y4UBHP",
        "outputId": "4a27a819-1d0c-4547-eed0-833e8274efe8"
      },
      "execution_count": 7,
      "outputs": [
        {
          "output_type": "stream",
          "name": "stdout",
          "text": [
            "Enter a number: 5\n",
            "Result: 2.0\n"
          ]
        }
      ]
    },
    {
      "cell_type": "code",
      "source": [],
      "metadata": {
        "id": "p6R_FpYjUDWp"
      },
      "execution_count": null,
      "outputs": []
    }
  ]
}