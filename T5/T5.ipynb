{
  "nbformat": 4,
  "nbformat_minor": 0,
  "metadata": {
    "colab": {
      "provenance": []
    },
    "kernelspec": {
      "name": "python3",
      "display_name": "Python 3"
    },
    "language_info": {
      "name": "python"
    }
  },
  "cells": [
    {
      "cell_type": "markdown",
      "source": [
        "If else"
      ],
      "metadata": {
        "id": "LWVOdq04c32c"
      }
    },
    {
      "cell_type": "code",
      "execution_count": 5,
      "metadata": {
        "colab": {
          "base_uri": "https://localhost:8080/"
        },
        "id": "A9-JRl5dc0V0",
        "outputId": "06d0477f-9d52-4792-888c-285d054f85b0"
      },
      "outputs": [
        {
          "output_type": "stream",
          "name": "stdout",
          "text": [
            "Enter a Number 1\n",
            "1 is Odd\n"
          ]
        }
      ],
      "source": [
        "n = int(input(\"Enter a Number \"))\n",
        "if n%2 == 0:\n",
        "  print(f\"{n} is Even\")\n",
        "else:\n",
        "  print(f\"{n} is Odd\")"
      ]
    },
    {
      "cell_type": "markdown",
      "source": [
        "For Loop"
      ],
      "metadata": {
        "id": "YO-TdjwRdoYc"
      }
    },
    {
      "cell_type": "code",
      "source": [
        "n = int(input(\"Enter No: \"))\n",
        "for i in range(1,11):\n",
        "  print(f\"{n} * {i} = {n*i}\")"
      ],
      "metadata": {
        "colab": {
          "base_uri": "https://localhost:8080/"
        },
        "id": "I2cf8c2BdTix",
        "outputId": "475dbf63-24ab-498b-fb4d-3c9dea61bbc3"
      },
      "execution_count": 6,
      "outputs": [
        {
          "output_type": "stream",
          "name": "stdout",
          "text": [
            "Enter No: 2\n",
            "2 * 1 = 2\n",
            "2 * 2 = 4\n",
            "2 * 3 = 6\n",
            "2 * 4 = 8\n",
            "2 * 5 = 10\n",
            "2 * 6 = 12\n",
            "2 * 7 = 14\n",
            "2 * 8 = 16\n",
            "2 * 9 = 18\n",
            "2 * 10 = 20\n"
          ]
        }
      ]
    },
    {
      "cell_type": "code",
      "source": [
        "for i in range(1,6):\n",
        "  for j in range (0,i):\n",
        "    print(\"*\" , end = \" \")\n",
        "  print()"
      ],
      "metadata": {
        "colab": {
          "base_uri": "https://localhost:8080/"
        },
        "id": "0h0_SA_MeJuh",
        "outputId": "ac405669-51bd-4a9d-d5df-8891a56f9b76"
      },
      "execution_count": 30,
      "outputs": [
        {
          "output_type": "stream",
          "name": "stdout",
          "text": [
            "* \n",
            "* * \n",
            "* * * \n",
            "* * * * \n",
            "* * * * * \n"
          ]
        }
      ]
    },
    {
      "cell_type": "code",
      "source": [
        "for i in range(5,0,-1):\n",
        "  for j in range (0,i):\n",
        "    print(\"*\" , end = \" \")\n",
        "  print()"
      ],
      "metadata": {
        "colab": {
          "base_uri": "https://localhost:8080/"
        },
        "id": "7WM2tJQseYpi",
        "outputId": "438ec4ed-2351-4608-8e99-e144ef1123be"
      },
      "execution_count": 31,
      "outputs": [
        {
          "output_type": "stream",
          "name": "stdout",
          "text": [
            "* * * * * \n",
            "* * * * \n",
            "* * * \n",
            "* * \n",
            "* \n"
          ]
        }
      ]
    },
    {
      "cell_type": "code",
      "source": [
        "for i in range (6,0,-1):\n",
        "  for j in range(0,i):\n",
        "    print(\" \", end= \"\")\n",
        "  for k in range(0,6-j):\n",
        "    print(\"*\", end= \"\")\n",
        "  print()"
      ],
      "metadata": {
        "colab": {
          "base_uri": "https://localhost:8080/"
        },
        "id": "Wz61pwQAgvhC",
        "outputId": "f4f7129b-55a7-47ab-dbe1-e17f6f536c2b"
      },
      "execution_count": 34,
      "outputs": [
        {
          "output_type": "stream",
          "name": "stdout",
          "text": [
            "      *\n",
            "     **\n",
            "    ***\n",
            "   ****\n",
            "  *****\n",
            " ******\n"
          ]
        }
      ]
    },
    {
      "cell_type": "code",
      "source": [
        "for i in range (6,0,-1):\n",
        "  for j in range(0,6-i):\n",
        "    print(\" \", end = \"\")\n",
        "  for k in range (i,0,-1):\n",
        "    print(\"*\", end= \"\")\n",
        "  print()"
      ],
      "metadata": {
        "colab": {
          "base_uri": "https://localhost:8080/"
        },
        "id": "EFn5FMzRhh6m",
        "outputId": "c84d6d56-2754-4b7d-a5bb-cc86a1ea5a99"
      },
      "execution_count": 36,
      "outputs": [
        {
          "output_type": "stream",
          "name": "stdout",
          "text": [
            "******\n",
            " *****\n",
            "  ****\n",
            "   ***\n",
            "    **\n",
            "     *\n"
          ]
        }
      ]
    },
    {
      "cell_type": "markdown",
      "source": [
        "Even Numbers"
      ],
      "metadata": {
        "id": "25j7jQwgvTb-"
      }
    },
    {
      "cell_type": "code",
      "source": [
        "for i in range (0,50):\n",
        "  if(i%2 == 0):\n",
        "    print(i,end= \" \")\n"
      ],
      "metadata": {
        "colab": {
          "base_uri": "https://localhost:8080/"
        },
        "id": "7Inzu8pjjb4N",
        "outputId": "c539216f-54c6-4200-abf5-6be7bfc5f147"
      },
      "execution_count": 53,
      "outputs": [
        {
          "output_type": "stream",
          "name": "stdout",
          "text": [
            "0 2 4 6 8 10 12 14 16 18 20 22 24 26 28 30 32 34 36 38 40 42 44 46 48 "
          ]
        }
      ]
    },
    {
      "cell_type": "markdown",
      "source": [
        "Reverse a Number"
      ],
      "metadata": {
        "id": "JCf76zORvQLh"
      }
    },
    {
      "cell_type": "code",
      "source": [
        "n = int(input(\"Enter a Number\"))\n",
        "st = \"\"\n",
        "while(n%10 !=0):\n",
        "  st = st + str(n%10)\n",
        "  n//=10\n",
        "print(st)\n"
      ],
      "metadata": {
        "colab": {
          "base_uri": "https://localhost:8080/"
        },
        "id": "3MsHNkcRrwcu",
        "outputId": "16b11ec5-49e0-475c-cfea-0926d16bfc14"
      },
      "execution_count": 54,
      "outputs": [
        {
          "output_type": "stream",
          "name": "stdout",
          "text": [
            "Enter a Number1234\n",
            "4321\n"
          ]
        }
      ]
    },
    {
      "cell_type": "markdown",
      "source": [
        "Factorial"
      ],
      "metadata": {
        "id": "XFaXEEUXvzj2"
      }
    },
    {
      "cell_type": "code",
      "source": [
        "n = int(input(\"Enter a Number \"))\n",
        "n1 = n\n",
        "fact = 1\n",
        "while n!=1:\n",
        "  fact=fact*n\n",
        "  n=n-1\n",
        "print(f\"Factorial of {n1} is {fact}\")\n"
      ],
      "metadata": {
        "colab": {
          "base_uri": "https://localhost:8080/"
        },
        "id": "MwStptKqsish",
        "outputId": "6925c272-4ac5-4339-abf0-7d5fe60cb636"
      },
      "execution_count": 59,
      "outputs": [
        {
          "output_type": "stream",
          "name": "stdout",
          "text": [
            "Enter a Number 4\n",
            "Factorial of 4 is 24\n"
          ]
        }
      ]
    },
    {
      "cell_type": "markdown",
      "source": [
        "Function"
      ],
      "metadata": {
        "id": "J6qpvlhLyEeC"
      }
    },
    {
      "cell_type": "code",
      "source": [
        "def greet(name = \"Bilal\"):\n",
        "  print(f\"Hello, {name}\")\n",
        "greet()\n",
        "greet(\"Umer\")\n"
      ],
      "metadata": {
        "colab": {
          "base_uri": "https://localhost:8080/"
        },
        "id": "QWU3ecgHuXuR",
        "outputId": "f18729c6-b3c3-4cbc-bcea-c51560c2d1b3"
      },
      "execution_count": 61,
      "outputs": [
        {
          "output_type": "stream",
          "name": "stdout",
          "text": [
            "Hello, Bilal\n",
            "Hello, Umer\n"
          ]
        }
      ]
    },
    {
      "cell_type": "code",
      "source": [],
      "metadata": {
        "id": "fG5psvelyBqA"
      },
      "execution_count": null,
      "outputs": []
    }
  ]
}